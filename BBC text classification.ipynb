{
 "cells": [
  {
   "cell_type": "markdown",
   "id": "2bf7a154",
   "metadata": {},
   "source": [
    "# This will be my first deliverable for the BBC text classifcation project"
   ]
  },
  {
   "cell_type": "markdown",
   "id": "99b237ca",
   "metadata": {},
   "source": [
    "Let's start by importing libraries:"
   ]
  },
  {
   "cell_type": "code",
   "execution_count": 3,
   "id": "cc23d611",
   "metadata": {},
   "outputs": [],
   "source": [
    "import pandas as pd\n",
    "import numpy as np\n",
    "import matplotlib.pylab as plt "
   ]
  },
  {
   "cell_type": "code",
   "execution_count": 4,
   "id": "0aa25c4b",
   "metadata": {},
   "outputs": [
    {
     "name": "stdout",
     "output_type": "stream",
     "text": [
      "Requirement already satisfied: altair[all] in c:\\users\\johns\\appdata\\local\\anaconda3\\lib\\site-packages (5.0.1)\n",
      "Requirement already satisfied: jinja2 in c:\\users\\johns\\appdata\\local\\anaconda3\\lib\\site-packages (from altair[all]) (3.1.3)\n",
      "Requirement already satisfied: jsonschema>=3.0 in c:\\users\\johns\\appdata\\local\\anaconda3\\lib\\site-packages (from altair[all]) (4.19.2)\n",
      "Requirement already satisfied: numpy in c:\\users\\johns\\appdata\\local\\anaconda3\\lib\\site-packages (from altair[all]) (1.26.4)\n",
      "Requirement already satisfied: pandas>=0.18 in c:\\users\\johns\\appdata\\local\\anaconda3\\lib\\site-packages (from altair[all]) (2.1.4)\n",
      "Requirement already satisfied: toolz in c:\\users\\johns\\appdata\\local\\anaconda3\\lib\\site-packages (from altair[all]) (0.12.0)\n",
      "Requirement already satisfied: attrs>=22.2.0 in c:\\users\\johns\\appdata\\local\\anaconda3\\lib\\site-packages (from jsonschema>=3.0->altair[all]) (23.1.0)\n",
      "Requirement already satisfied: jsonschema-specifications>=2023.03.6 in c:\\users\\johns\\appdata\\local\\anaconda3\\lib\\site-packages (from jsonschema>=3.0->altair[all]) (2023.7.1)\n",
      "Requirement already satisfied: referencing>=0.28.4 in c:\\users\\johns\\appdata\\local\\anaconda3\\lib\\site-packages (from jsonschema>=3.0->altair[all]) (0.30.2)\n",
      "Requirement already satisfied: rpds-py>=0.7.1 in c:\\users\\johns\\appdata\\local\\anaconda3\\lib\\site-packages (from jsonschema>=3.0->altair[all]) (0.10.6)\n",
      "Requirement already satisfied: python-dateutil>=2.8.2 in c:\\users\\johns\\appdata\\local\\anaconda3\\lib\\site-packages (from pandas>=0.18->altair[all]) (2.8.2)\n",
      "Requirement already satisfied: pytz>=2020.1 in c:\\users\\johns\\appdata\\local\\anaconda3\\lib\\site-packages (from pandas>=0.18->altair[all]) (2023.3.post1)\n",
      "Requirement already satisfied: tzdata>=2022.1 in c:\\users\\johns\\appdata\\local\\anaconda3\\lib\\site-packages (from pandas>=0.18->altair[all]) (2023.3)\n",
      "Requirement already satisfied: MarkupSafe>=2.0 in c:\\users\\johns\\appdata\\local\\anaconda3\\lib\\site-packages (from jinja2->altair[all]) (2.1.3)\n",
      "Requirement already satisfied: six>=1.5 in c:\\users\\johns\\appdata\\local\\anaconda3\\lib\\site-packages (from python-dateutil>=2.8.2->pandas>=0.18->altair[all]) (1.16.0)\n",
      "Note: you may need to restart the kernel to use updated packages.\n"
     ]
    },
    {
     "name": "stderr",
     "output_type": "stream",
     "text": [
      "WARNING: altair 5.0.1 does not provide the extra 'all'\n"
     ]
    }
   ],
   "source": [
    "pip install \"altair[all]\""
   ]
  },
  {
   "cell_type": "markdown",
   "id": "3a9e034a",
   "metadata": {},
   "source": [
    "And load in the training and testing data:"
   ]
  },
  {
   "cell_type": "code",
   "execution_count": 6,
   "id": "08a8abdf",
   "metadata": {},
   "outputs": [],
   "source": [
    "train_raw = pd.read_csv(\"BBC News Train.csv\")\n",
    "test_raw = pd.read_csv(\"BBC News Test.csv\")\n",
    "#train_raw = pd.merge(train_raw, test_raw, how=\"outer\")"
   ]
  },
  {
   "cell_type": "code",
   "execution_count": 7,
   "id": "52fef67b",
   "metadata": {},
   "outputs": [
    {
     "data": {
      "text/html": [
       "<div>\n",
       "<style scoped>\n",
       "    .dataframe tbody tr th:only-of-type {\n",
       "        vertical-align: middle;\n",
       "    }\n",
       "\n",
       "    .dataframe tbody tr th {\n",
       "        vertical-align: top;\n",
       "    }\n",
       "\n",
       "    .dataframe thead th {\n",
       "        text-align: right;\n",
       "    }\n",
       "</style>\n",
       "<table border=\"1\" class=\"dataframe\">\n",
       "  <thead>\n",
       "    <tr style=\"text-align: right;\">\n",
       "      <th></th>\n",
       "      <th>ArticleId</th>\n",
       "      <th>Text</th>\n",
       "    </tr>\n",
       "  </thead>\n",
       "  <tbody>\n",
       "    <tr>\n",
       "      <th>0</th>\n",
       "      <td>1018</td>\n",
       "      <td>qpr keeper day heads for preston queens park r...</td>\n",
       "    </tr>\n",
       "    <tr>\n",
       "      <th>1</th>\n",
       "      <td>1319</td>\n",
       "      <td>software watching while you work software that...</td>\n",
       "    </tr>\n",
       "    <tr>\n",
       "      <th>2</th>\n",
       "      <td>1138</td>\n",
       "      <td>d arcy injury adds to ireland woe gordon d arc...</td>\n",
       "    </tr>\n",
       "    <tr>\n",
       "      <th>3</th>\n",
       "      <td>459</td>\n",
       "      <td>india s reliance family feud heats up the ongo...</td>\n",
       "    </tr>\n",
       "    <tr>\n",
       "      <th>4</th>\n",
       "      <td>1020</td>\n",
       "      <td>boro suffer morrison injury blow middlesbrough...</td>\n",
       "    </tr>\n",
       "  </tbody>\n",
       "</table>\n",
       "</div>"
      ],
      "text/plain": [
       "   ArticleId                                               Text\n",
       "0       1018  qpr keeper day heads for preston queens park r...\n",
       "1       1319  software watching while you work software that...\n",
       "2       1138  d arcy injury adds to ireland woe gordon d arc...\n",
       "3        459  india s reliance family feud heats up the ongo...\n",
       "4       1020  boro suffer morrison injury blow middlesbrough..."
      ]
     },
     "execution_count": 7,
     "metadata": {},
     "output_type": "execute_result"
    }
   ],
   "source": [
    "test_raw.head()"
   ]
  },
  {
   "cell_type": "markdown",
   "id": "64eb517e",
   "metadata": {},
   "source": [
    "## EDA"
   ]
  },
  {
   "cell_type": "markdown",
   "id": "0917d89c",
   "metadata": {},
   "source": [
    "Let's first see what our data is about:"
   ]
  },
  {
   "cell_type": "code",
   "execution_count": 10,
   "id": "2ddb09fe",
   "metadata": {},
   "outputs": [
    {
     "data": {
      "text/plain": [
       "<bound method DataFrame.info of       ArticleId                                               Text  \\\n",
       "0          1833  worldcom ex-boss launches defence lawyers defe...   \n",
       "1           154  german business confidence slides german busin...   \n",
       "2          1101  bbc poll indicates economic gloom citizens in ...   \n",
       "3          1976  lifestyle  governs mobile choice  faster  bett...   \n",
       "4           917  enron bosses in $168m payout eighteen former e...   \n",
       "...         ...                                                ...   \n",
       "1485        857  double eviction from big brother model caprice...   \n",
       "1486        325  dj double act revamp chart show dj duo jk and ...   \n",
       "1487       1590  weak dollar hits reuters revenues at media gro...   \n",
       "1488       1587  apple ipod family expands market apple has exp...   \n",
       "1489        538  santy worm makes unwelcome visit thousands of ...   \n",
       "\n",
       "           Category  \n",
       "0          business  \n",
       "1          business  \n",
       "2          business  \n",
       "3              tech  \n",
       "4          business  \n",
       "...             ...  \n",
       "1485  entertainment  \n",
       "1486  entertainment  \n",
       "1487       business  \n",
       "1488           tech  \n",
       "1489           tech  \n",
       "\n",
       "[1490 rows x 3 columns]>"
      ]
     },
     "execution_count": 10,
     "metadata": {},
     "output_type": "execute_result"
    }
   ],
   "source": [
    "train_raw.info"
   ]
  },
  {
   "cell_type": "code",
   "execution_count": 11,
   "id": "80c60a42",
   "metadata": {},
   "outputs": [
    {
     "data": {
      "text/plain": [
       "<bound method DataFrame.info of      ArticleId                                               Text\n",
       "0         1018  qpr keeper day heads for preston queens park r...\n",
       "1         1319  software watching while you work software that...\n",
       "2         1138  d arcy injury adds to ireland woe gordon d arc...\n",
       "3          459  india s reliance family feud heats up the ongo...\n",
       "4         1020  boro suffer morrison injury blow middlesbrough...\n",
       "..         ...                                                ...\n",
       "730       1923  eu to probe alitalia  state aid  the european ...\n",
       "731        373  u2 to play at grammy awards show irish rock ba...\n",
       "732       1704  sport betting rules in spotlight a group of mp...\n",
       "733        206  alfa romeos  to get gm engines  fiat is to sto...\n",
       "734        471  citizenship event for 18s touted citizenship c...\n",
       "\n",
       "[735 rows x 2 columns]>"
      ]
     },
     "execution_count": 11,
     "metadata": {},
     "output_type": "execute_result"
    }
   ],
   "source": [
    "test_raw.info"
   ]
  },
  {
   "cell_type": "markdown",
   "id": "737412d6",
   "metadata": {},
   "source": [
    "We can see that the test dataset does not have the labels, so I will have to use the data in them differently. "
   ]
  },
  {
   "cell_type": "code",
   "execution_count": 13,
   "id": "9cd8f098",
   "metadata": {},
   "outputs": [
    {
     "data": {
      "text/html": [
       "<div>\n",
       "<style scoped>\n",
       "    .dataframe tbody tr th:only-of-type {\n",
       "        vertical-align: middle;\n",
       "    }\n",
       "\n",
       "    .dataframe tbody tr th {\n",
       "        vertical-align: top;\n",
       "    }\n",
       "\n",
       "    .dataframe thead th {\n",
       "        text-align: right;\n",
       "    }\n",
       "</style>\n",
       "<table border=\"1\" class=\"dataframe\">\n",
       "  <thead>\n",
       "    <tr style=\"text-align: right;\">\n",
       "      <th></th>\n",
       "      <th>ArticleId</th>\n",
       "      <th>Text</th>\n",
       "      <th>Category</th>\n",
       "    </tr>\n",
       "  </thead>\n",
       "  <tbody>\n",
       "    <tr>\n",
       "      <th>0</th>\n",
       "      <td>1833</td>\n",
       "      <td>worldcom ex-boss launches defence lawyers defe...</td>\n",
       "      <td>business</td>\n",
       "    </tr>\n",
       "    <tr>\n",
       "      <th>1</th>\n",
       "      <td>154</td>\n",
       "      <td>german business confidence slides german busin...</td>\n",
       "      <td>business</td>\n",
       "    </tr>\n",
       "    <tr>\n",
       "      <th>2</th>\n",
       "      <td>1101</td>\n",
       "      <td>bbc poll indicates economic gloom citizens in ...</td>\n",
       "      <td>business</td>\n",
       "    </tr>\n",
       "    <tr>\n",
       "      <th>3</th>\n",
       "      <td>1976</td>\n",
       "      <td>lifestyle  governs mobile choice  faster  bett...</td>\n",
       "      <td>tech</td>\n",
       "    </tr>\n",
       "    <tr>\n",
       "      <th>4</th>\n",
       "      <td>917</td>\n",
       "      <td>enron bosses in $168m payout eighteen former e...</td>\n",
       "      <td>business</td>\n",
       "    </tr>\n",
       "  </tbody>\n",
       "</table>\n",
       "</div>"
      ],
      "text/plain": [
       "   ArticleId                                               Text  Category\n",
       "0       1833  worldcom ex-boss launches defence lawyers defe...  business\n",
       "1        154  german business confidence slides german busin...  business\n",
       "2       1101  bbc poll indicates economic gloom citizens in ...  business\n",
       "3       1976  lifestyle  governs mobile choice  faster  bett...      tech\n",
       "4        917  enron bosses in $168m payout eighteen former e...  business"
      ]
     },
     "execution_count": 13,
     "metadata": {},
     "output_type": "execute_result"
    }
   ],
   "source": [
    "train_raw.head()"
   ]
  },
  {
   "cell_type": "code",
   "execution_count": 14,
   "id": "79ed21b9",
   "metadata": {},
   "outputs": [
    {
     "data": {
      "text/html": [
       "<div>\n",
       "<style scoped>\n",
       "    .dataframe tbody tr th:only-of-type {\n",
       "        vertical-align: middle;\n",
       "    }\n",
       "\n",
       "    .dataframe tbody tr th {\n",
       "        vertical-align: top;\n",
       "    }\n",
       "\n",
       "    .dataframe thead th {\n",
       "        text-align: right;\n",
       "    }\n",
       "</style>\n",
       "<table border=\"1\" class=\"dataframe\">\n",
       "  <thead>\n",
       "    <tr style=\"text-align: right;\">\n",
       "      <th></th>\n",
       "      <th>ArticleId</th>\n",
       "      <th>Text</th>\n",
       "    </tr>\n",
       "  </thead>\n",
       "  <tbody>\n",
       "    <tr>\n",
       "      <th>0</th>\n",
       "      <td>1018</td>\n",
       "      <td>qpr keeper day heads for preston queens park r...</td>\n",
       "    </tr>\n",
       "    <tr>\n",
       "      <th>1</th>\n",
       "      <td>1319</td>\n",
       "      <td>software watching while you work software that...</td>\n",
       "    </tr>\n",
       "    <tr>\n",
       "      <th>2</th>\n",
       "      <td>1138</td>\n",
       "      <td>d arcy injury adds to ireland woe gordon d arc...</td>\n",
       "    </tr>\n",
       "    <tr>\n",
       "      <th>3</th>\n",
       "      <td>459</td>\n",
       "      <td>india s reliance family feud heats up the ongo...</td>\n",
       "    </tr>\n",
       "    <tr>\n",
       "      <th>4</th>\n",
       "      <td>1020</td>\n",
       "      <td>boro suffer morrison injury blow middlesbrough...</td>\n",
       "    </tr>\n",
       "  </tbody>\n",
       "</table>\n",
       "</div>"
      ],
      "text/plain": [
       "   ArticleId                                               Text\n",
       "0       1018  qpr keeper day heads for preston queens park r...\n",
       "1       1319  software watching while you work software that...\n",
       "2       1138  d arcy injury adds to ireland woe gordon d arc...\n",
       "3        459  india s reliance family feud heats up the ongo...\n",
       "4       1020  boro suffer morrison injury blow middlesbrough..."
      ]
     },
     "execution_count": 14,
     "metadata": {},
     "output_type": "execute_result"
    }
   ],
   "source": [
    "test_raw.head()"
   ]
  },
  {
   "cell_type": "markdown",
   "id": "c827efbf",
   "metadata": {},
   "source": [
    "Let's check the categories in the train set to make sure all is valid:"
   ]
  },
  {
   "cell_type": "code",
   "execution_count": 16,
   "id": "3dd40991",
   "metadata": {},
   "outputs": [
    {
     "data": {
      "text/plain": [
       "array(['business', 'tech', 'politics', 'sport', 'entertainment'],\n",
       "      dtype=object)"
      ]
     },
     "execution_count": 16,
     "metadata": {},
     "output_type": "execute_result"
    }
   ],
   "source": [
    "train_raw.Category.unique()"
   ]
  },
  {
   "cell_type": "markdown",
   "id": "94d56690",
   "metadata": {},
   "source": [
    "Looks good, all the categories are valid"
   ]
  },
  {
   "cell_type": "markdown",
   "id": "73c8facc",
   "metadata": {},
   "source": [
    "Let's check for missing values in the text field"
   ]
  },
  {
   "cell_type": "code",
   "execution_count": 19,
   "id": "e02f64c7",
   "metadata": {},
   "outputs": [
    {
     "name": "stdout",
     "output_type": "stream",
     "text": [
      "Empty DataFrame\n",
      "Columns: [ArticleId, Text, Category]\n",
      "Index: []\n"
     ]
    }
   ],
   "source": [
    "nullLocSeries = pd.isnull(train_raw[\"Text\"])\n",
    "print(train_raw[nullLocSeries])"
   ]
  },
  {
   "cell_type": "code",
   "execution_count": 20,
   "id": "9008f4b8",
   "metadata": {},
   "outputs": [
    {
     "name": "stdout",
     "output_type": "stream",
     "text": [
      "Empty DataFrame\n",
      "Columns: [ArticleId, Text]\n",
      "Index: []\n"
     ]
    }
   ],
   "source": [
    "nullLocSeries = pd.isnull(test_raw[\"Text\"])\n",
    "print(test_raw[nullLocSeries])"
   ]
  },
  {
   "cell_type": "markdown",
   "id": "f7bcd345",
   "metadata": {},
   "source": [
    "Looks like we don't have any, excellent"
   ]
  },
  {
   "cell_type": "markdown",
   "id": "62720bd9",
   "metadata": {},
   "source": [
    "We have a training label column and a raw text column. Let's first record the label column:"
   ]
  },
  {
   "cell_type": "code",
   "execution_count": 23,
   "id": "3a5dfebb",
   "metadata": {},
   "outputs": [],
   "source": [
    "train_label = train_raw.Category"
   ]
  },
  {
   "cell_type": "markdown",
   "id": "78d58c6e",
   "metadata": {},
   "source": [
    "#### Feature Extraction from text (2 versions for different purposes)"
   ]
  },
  {
   "cell_type": "markdown",
   "id": "663db773",
   "metadata": {},
   "source": [
    "Let's then extract some features from the texts in each column"
   ]
  },
  {
   "cell_type": "code",
   "execution_count": 26,
   "id": "1debe014",
   "metadata": {},
   "outputs": [],
   "source": [
    "from sklearn.feature_extraction.text import TfidfVectorizer"
   ]
  },
  {
   "cell_type": "markdown",
   "id": "cd699e59",
   "metadata": {},
   "source": [
    "For this i will use TF-IDF, it is implemented in sklearn:"
   ]
  },
  {
   "cell_type": "markdown",
   "id": "da18d370",
   "metadata": {},
   "source": [
    "##### The first version will be used for a visualization:"
   ]
  },
  {
   "cell_type": "code",
   "execution_count": 29,
   "id": "4f689dbc",
   "metadata": {},
   "outputs": [],
   "source": [
    "vectorizer = TfidfVectorizer()"
   ]
  },
  {
   "cell_type": "code",
   "execution_count": 30,
   "id": "5d483537",
   "metadata": {},
   "outputs": [],
   "source": [
    "train_data1 = vectorizer.fit_transform(train_raw.Text)"
   ]
  },
  {
   "cell_type": "markdown",
   "id": "a3126a4e",
   "metadata": {},
   "source": [
    "That gave us a sparse matrix, let's see what it has:"
   ]
  },
  {
   "cell_type": "code",
   "execution_count": 32,
   "id": "d2fe850b",
   "metadata": {},
   "outputs": [
    {
     "name": "stdout",
     "output_type": "stream",
     "text": [
      "  (0, 1009)\t0.05643509689668293\n",
      "  (0, 23572)\t0.05171683198420305\n",
      "  (0, 6472)\t0.02902507640882694\n",
      "  (0, 5342)\t0.044434208471766566\n",
      "  (0, 23661)\t0.05875637443991937\n",
      "  (0, 4150)\t0.0601801944482067\n",
      "  (0, 1652)\t0.034102087269467486\n",
      "  (0, 24104)\t0.02383356638673293\n",
      "  (0, 13075)\t0.017706106467856114\n",
      "  (0, 14251)\t0.10916318514966579\n",
      "  (0, 12865)\t0.03184197913561059\n",
      "  (0, 407)\t0.025019777226527817\n",
      "  (0, 17579)\t0.039549514785291666\n",
      "  (0, 2875)\t0.04289120555750058\n",
      "  (0, 9615)\t0.012344388705610583\n",
      "  (0, 8036)\t0.043630523793597796\n",
      "  (0, 8748)\t0.038172940645020706\n",
      "  (0, 12224)\t0.021277420879685587\n",
      "  (0, 1792)\t0.017252502375521908\n",
      "  (0, 5810)\t0.049059642984184255\n",
      "  (0, 11448)\t0.018347791308608738\n",
      "  (0, 24617)\t0.02055116391848126\n",
      "  (0, 1076)\t0.048608990336853036\n",
      "  (0, 19913)\t0.049533415911568075\n",
      "  (0, 12316)\t0.04415847017280601\n",
      "  :\t:\n",
      "  (1489, 11033)\t0.08625548429839593\n",
      "  (1489, 15792)\t0.020993536539211335\n",
      "  (1489, 16046)\t0.017799215951455238\n",
      "  (1489, 17416)\t0.03244209969602519\n",
      "  (1489, 4156)\t0.07275128184524933\n",
      "  (1489, 23499)\t0.08217323575020663\n",
      "  (1489, 17420)\t0.057758102195817854\n",
      "  (1489, 19389)\t0.022384922212533638\n",
      "  (1489, 10506)\t0.030646580533812535\n",
      "  (1489, 15777)\t0.03189506635943616\n",
      "  (1489, 15313)\t0.03465549786303456\n",
      "  (1489, 15546)\t0.03931849073930841\n",
      "  (1489, 22278)\t0.03424608962685311\n",
      "  (1489, 1998)\t0.0291486251801776\n",
      "  (1489, 15497)\t0.0430417823480323\n",
      "  (1489, 10702)\t0.011509131115391957\n",
      "  (1489, 9167)\t0.02691202781223377\n",
      "  (1489, 11619)\t0.03878671010933062\n",
      "  (1489, 22285)\t0.24047370574433408\n",
      "  (1489, 22511)\t0.08691960927507664\n",
      "  (1489, 9171)\t0.038599233268436596\n",
      "  (1489, 22294)\t0.016037927102274776\n",
      "  (1489, 2378)\t0.024793810877961175\n",
      "  (1489, 10734)\t0.012414143702070527\n",
      "  (1489, 15683)\t0.04845088020646398\n"
     ]
    }
   ],
   "source": [
    "print(train_data1)"
   ]
  },
  {
   "cell_type": "markdown",
   "id": "14989c84",
   "metadata": {},
   "source": [
    "and let's check the features and their names:"
   ]
  },
  {
   "cell_type": "code",
   "execution_count": 34,
   "id": "eaa8d9a1",
   "metadata": {},
   "outputs": [],
   "source": [
    "feature_names = vectorizer.get_feature_names_out()"
   ]
  },
  {
   "cell_type": "code",
   "execution_count": 35,
   "id": "a63bee1a",
   "metadata": {},
   "outputs": [
    {
     "name": "stdout",
     "output_type": "stream",
     "text": [
      "24746\n"
     ]
    }
   ],
   "source": [
    "print(len(feature_names))"
   ]
  },
  {
   "cell_type": "code",
   "execution_count": 36,
   "id": "1cb2f991",
   "metadata": {},
   "outputs": [
    {
     "name": "stdout",
     "output_type": "stream",
     "text": [
      "['00' '000' '0001' ... 'zurich' 'zutons' 'zvonareva']\n"
     ]
    }
   ],
   "source": [
    "print(feature_names) "
   ]
  },
  {
   "cell_type": "markdown",
   "id": "df3bdb57",
   "metadata": {},
   "source": [
    "##### Version 2 for model fitting"
   ]
  },
  {
   "cell_type": "markdown",
   "id": "fd138971",
   "metadata": {},
   "source": [
    "For this version i will combine the datasets before feture extraction so that we have the same list of dimensions so that model fitting is easier. \n",
    "\n",
    "We can separate these later as needed as the concatemation did not shuffle their orders"
   ]
  },
  {
   "cell_type": "code",
   "execution_count": 39,
   "id": "71313ab5",
   "metadata": {},
   "outputs": [],
   "source": [
    "combineTestTrain = pd.concat([train_raw.Text,test_raw.Text], ignore_index=True)"
   ]
  },
  {
   "cell_type": "code",
   "execution_count": 40,
   "id": "28bf8384",
   "metadata": {},
   "outputs": [
    {
     "name": "stdout",
     "output_type": "stream",
     "text": [
      "0       worldcom ex-boss launches defence lawyers defe...\n",
      "1       german business confidence slides german busin...\n",
      "2       bbc poll indicates economic gloom citizens in ...\n",
      "3       lifestyle  governs mobile choice  faster  bett...\n",
      "4       enron bosses in $168m payout eighteen former e...\n",
      "                              ...                        \n",
      "2220    eu to probe alitalia  state aid  the european ...\n",
      "2221    u2 to play at grammy awards show irish rock ba...\n",
      "2222    sport betting rules in spotlight a group of mp...\n",
      "2223    alfa romeos  to get gm engines  fiat is to sto...\n",
      "2224    citizenship event for 18s touted citizenship c...\n",
      "Name: Text, Length: 2225, dtype: object\n"
     ]
    }
   ],
   "source": [
    "print(combineTestTrain)"
   ]
  },
  {
   "cell_type": "code",
   "execution_count": 41,
   "id": "f7d028b5",
   "metadata": {},
   "outputs": [],
   "source": [
    "vectorizer2 = TfidfVectorizer()"
   ]
  },
  {
   "cell_type": "code",
   "execution_count": 42,
   "id": "ef2ff443",
   "metadata": {},
   "outputs": [],
   "source": [
    "combineTestTrain_data = vectorizer2.fit_transform(combineTestTrain)"
   ]
  },
  {
   "cell_type": "code",
   "execution_count": 43,
   "id": "6b2d6a25",
   "metadata": {},
   "outputs": [],
   "source": [
    "trainData = combineTestTrain_data[0:1490]"
   ]
  },
  {
   "cell_type": "code",
   "execution_count": 44,
   "id": "da65cfdc",
   "metadata": {},
   "outputs": [],
   "source": [
    "testData = combineTestTrain_data[1490:]"
   ]
  },
  {
   "cell_type": "markdown",
   "id": "b55bc898",
   "metadata": {},
   "source": [
    "### Plot the sparsity pattern of the sparse matrix"
   ]
  },
  {
   "cell_type": "markdown",
   "id": "f748c891",
   "metadata": {},
   "source": [
    "Let's get an idea how sparse the data is:"
   ]
  },
  {
   "cell_type": "markdown",
   "id": "f7a4b9f8",
   "metadata": {},
   "source": [
    "I will alter our data in order to do visualization:"
   ]
  },
  {
   "cell_type": "code",
   "execution_count": 48,
   "id": "93a9b9a4",
   "metadata": {},
   "outputs": [],
   "source": [
    "matrix = combineTestTrain_data.todense()"
   ]
  },
  {
   "cell_type": "code",
   "execution_count": 49,
   "id": "ca91d662",
   "metadata": {},
   "outputs": [
    {
     "name": "stdout",
     "output_type": "stream",
     "text": [
      "[[0.         0.         0.         ... 0.         0.         0.        ]\n",
      " [0.         0.         0.         ... 0.         0.         0.        ]\n",
      " [0.         0.02037496 0.         ... 0.         0.         0.        ]\n",
      " ...\n",
      " [0.         0.         0.         ... 0.         0.         0.        ]\n",
      " [0.         0.         0.         ... 0.         0.         0.        ]\n",
      " [0.         0.         0.         ... 0.         0.         0.        ]]\n"
     ]
    }
   ],
   "source": [
    "print(matrix)"
   ]
  },
  {
   "cell_type": "markdown",
   "id": "d89e9875",
   "metadata": {},
   "source": [
    "Matloptlib.pyplot.spy() visualizes all non zero entires in the matrix, so it would not show how far from 0 but will show that it is not 0. \n",
    "\n",
    "for more here is the documentation: \n",
    "\n",
    "https://matplotlib.org/stable/api/_as_gen/matplotlib.pyplot.spy.html"
   ]
  },
  {
   "cell_type": "code",
   "execution_count": 51,
   "id": "e69c7b00",
   "metadata": {},
   "outputs": [
    {
     "data": {
      "image/png": "[encoded data removed]",
      "text/plain": [
       "<Figure size 640x480 with 1 Axes>"
      ]
     },
     "metadata": {},
     "output_type": "display_data"
    }
   ],
   "source": [
    "#plt.figure().set_figheight(250)\n",
    "plt.spy(matrix, aspect = 'auto') \n",
    "\n",
    "plt.show()"
   ]
  },
  {
   "cell_type": "markdown",
   "id": "f8be15d2",
   "metadata": {},
   "source": [
    "Yeah, our matrix looks quite sparse. This informs us of what matrix factorization loss function we should use. we probably should avoid L1 and L2 loss functions. Perhaps KL loss would work better."
   ]
  },
  {
   "cell_type": "code",
   "execution_count": 53,
   "id": "a671b7d4",
   "metadata": {},
   "outputs": [
    {
     "data": {
      "text/plain": [
       "(2225, 29421)"
      ]
     },
     "execution_count": 53,
     "metadata": {},
     "output_type": "execute_result"
    }
   ],
   "source": [
    "matrix.shape"
   ]
  },
  {
   "cell_type": "markdown",
   "id": "8f318f0d",
   "metadata": {
    "jp-MarkdownHeadingCollapsed": true
   },
   "source": [
    "### Average proportion of each word in the documents"
   ]
  },
  {
   "cell_type": "code",
   "execution_count": 55,
   "id": "c25f6266",
   "metadata": {},
   "outputs": [],
   "source": [
    "averageProportion = np.transpose(np.average(matrix.copy(), axis = 0))"
   ]
  },
  {
   "cell_type": "code",
   "execution_count": 56,
   "id": "409f1f08",
   "metadata": {},
   "outputs": [
    {
     "data": {
      "text/plain": [
       "29421"
      ]
     },
     "execution_count": 56,
     "metadata": {},
     "output_type": "execute_result"
    }
   ],
   "source": [
    "len(averageProportion)"
   ]
  },
  {
   "cell_type": "code",
   "execution_count": 57,
   "id": "4dd46fc7",
   "metadata": {},
   "outputs": [
    {
     "name": "stdout",
     "output_type": "stream",
     "text": [
      "[[1.18556843e-04]\n",
      " [8.34099201e-03]\n",
      " [2.61486336e-05]\n",
      " ...\n",
      " [5.00713556e-05]\n",
      " [1.17236905e-04]\n",
      " [9.91553570e-05]]\n"
     ]
    }
   ],
   "source": [
    "print(averageProportion)"
   ]
  },
  {
   "cell_type": "code",
   "execution_count": 58,
   "id": "033e8598",
   "metadata": {},
   "outputs": [
    {
     "data": {
      "text/plain": [
       "Text(0.5, 1.0, 'Average Proportions of words')"
      ]
     },
     "execution_count": 58,
     "metadata": {},
     "output_type": "execute_result"
    },
    {
     "data": {
      "image/png": "[encoded data removed]",
      "text/plain": [
       "<Figure size 640x480 with 1 Axes>"
      ]
     },
     "metadata": {},
     "output_type": "display_data"
    }
   ],
   "source": [
    "fig, ax = plt.subplots()\n",
    "ax.hist(averageProportion, bins = 200, log = True)\n",
    "ax.set_ylabel('log counts')\n",
    "ax.set_xlabel('Average Proportions')\n",
    "ax.set_title('Average Proportions of words')"
   ]
  },
  {
   "cell_type": "markdown",
   "id": "ff5fee95",
   "metadata": {},
   "source": [
    "### Dimensionality reduction and scatterplot (training set only)"
   ]
  },
  {
   "cell_type": "markdown",
   "id": "85c081a4",
   "metadata": {},
   "source": [
    "##### Okay, let's do a LSA to see if we can visualize our data into 2d clusters:"
   ]
  },
  {
   "cell_type": "markdown",
   "id": "bd776495",
   "metadata": {},
   "source": [
    "For those who don't know, LSA is short for latent semantic analysis. It's similar to PCA in that it is a dimensionality reduction technique. LSA works the same as SVD. \n",
    "\n",
    "Our matrix is obviously very sparse, and is very high dimensional. To visualize the documents in 2d space we have to reduce the matrix down and preserve as much information as we can. \n",
    "\n",
    "Once we reduce our matrix down the dimensions remaining are known as latent/hidden features, hence the name. \n",
    "\n",
    "For more here is a good read:\n",
    "\n",
    "https://towardsdatascience.com/latent-semantic-analysis-intuition-math-implementation-a194aff870f8"
   ]
  },
  {
   "cell_type": "code",
   "execution_count": 62,
   "id": "c43bc63c",
   "metadata": {},
   "outputs": [],
   "source": [
    "from sklearn.decomposition import TruncatedSVD"
   ]
  },
  {
   "cell_type": "markdown",
   "id": "80552477",
   "metadata": {},
   "source": [
    "I will be using TruncatedSVD because, unlike PCA, it does not center the data. So this will be more efficient with the sparse matrix we have. \n",
    "\n",
    "for more this is the documentation:\n",
    "\n",
    "https://scikit-learn.org/stable/modules/generated/sklearn.decomposition.TruncatedSVD.html#sklearn.decomposition.TruncatedSVD"
   ]
  },
  {
   "cell_type": "code",
   "execution_count": 64,
   "id": "f7dc05e7",
   "metadata": {},
   "outputs": [],
   "source": [
    "reducedTD = TruncatedSVD(n_components = 2).fit_transform(train_data1)"
   ]
  },
  {
   "cell_type": "code",
   "execution_count": 65,
   "id": "a84b355f",
   "metadata": {},
   "outputs": [
    {
     "name": "stdout",
     "output_type": "stream",
     "text": [
      "[[ 0.21705829  0.04926566]\n",
      " [ 0.35138049 -0.00298322]\n",
      " [ 0.43405367  0.00184274]\n",
      " ...\n",
      " [ 0.354803   -0.04031567]\n",
      " [ 0.47948676 -0.04376264]\n",
      " [ 0.29749496 -0.00731551]]\n"
     ]
    }
   ],
   "source": [
    "print(reducedTD)"
   ]
  },
  {
   "cell_type": "markdown",
   "id": "398ba7a8",
   "metadata": {},
   "source": [
    "So we have our transformed data. \n",
    "\n",
    "Let's see what are the explained variance ratio of these latent features:"
   ]
  },
  {
   "cell_type": "code",
   "execution_count": 67,
   "id": "d9b68034",
   "metadata": {},
   "outputs": [
    {
     "name": "stdout",
     "output_type": "stream",
     "text": [
      "[0.00796477 0.01072843]\n"
     ]
    }
   ],
   "source": [
    "print(TruncatedSVD(n_components = 2).fit(train_data1).explained_variance_ratio_)"
   ]
  },
  {
   "cell_type": "markdown",
   "id": "9b988af7",
   "metadata": {},
   "source": [
    "Not great, that is to be expected because we are reducing our data of over 20k dismensions to 2 dimensions, a drastic reduction. But having 2 dimensions makes it so that we can easily plot the documents. "
   ]
  },
  {
   "cell_type": "code",
   "execution_count": 69,
   "id": "569c8e2e",
   "metadata": {},
   "outputs": [],
   "source": [
    "train_labelVis = train_label"
   ]
  },
  {
   "cell_type": "markdown",
   "id": "76a8672c",
   "metadata": {},
   "source": [
    "I will create a dataframe to make plotting easier. "
   ]
  },
  {
   "cell_type": "code",
   "execution_count": 71,
   "id": "b8a1a0c4",
   "metadata": {},
   "outputs": [],
   "source": [
    "vis = pd.DataFrame(reducedTD, columns = ['LF2','LF1'])\n",
    "vis.insert(2, \"labels\", train_labelVis, True)"
   ]
  },
  {
   "cell_type": "code",
   "execution_count": 72,
   "id": "a58128b1",
   "metadata": {},
   "outputs": [
    {
     "data": {
      "text/html": [
       "<div>\n",
       "<style scoped>\n",
       "    .dataframe tbody tr th:only-of-type {\n",
       "        vertical-align: middle;\n",
       "    }\n",
       "\n",
       "    .dataframe tbody tr th {\n",
       "        vertical-align: top;\n",
       "    }\n",
       "\n",
       "    .dataframe thead th {\n",
       "        text-align: right;\n",
       "    }\n",
       "</style>\n",
       "<table border=\"1\" class=\"dataframe\">\n",
       "  <thead>\n",
       "    <tr style=\"text-align: right;\">\n",
       "      <th></th>\n",
       "      <th>LF2</th>\n",
       "      <th>LF1</th>\n",
       "      <th>labels</th>\n",
       "    </tr>\n",
       "  </thead>\n",
       "  <tbody>\n",
       "    <tr>\n",
       "      <th>0</th>\n",
       "      <td>0.217058</td>\n",
       "      <td>0.049266</td>\n",
       "      <td>business</td>\n",
       "    </tr>\n",
       "    <tr>\n",
       "      <th>1</th>\n",
       "      <td>0.351380</td>\n",
       "      <td>-0.002983</td>\n",
       "      <td>business</td>\n",
       "    </tr>\n",
       "    <tr>\n",
       "      <th>2</th>\n",
       "      <td>0.434054</td>\n",
       "      <td>0.001843</td>\n",
       "      <td>business</td>\n",
       "    </tr>\n",
       "    <tr>\n",
       "      <th>3</th>\n",
       "      <td>0.399941</td>\n",
       "      <td>-0.006065</td>\n",
       "      <td>tech</td>\n",
       "    </tr>\n",
       "    <tr>\n",
       "      <th>4</th>\n",
       "      <td>0.356941</td>\n",
       "      <td>-0.018531</td>\n",
       "      <td>business</td>\n",
       "    </tr>\n",
       "  </tbody>\n",
       "</table>\n",
       "</div>"
      ],
      "text/plain": [
       "        LF2       LF1    labels\n",
       "0  0.217058  0.049266  business\n",
       "1  0.351380 -0.002983  business\n",
       "2  0.434054  0.001843  business\n",
       "3  0.399941 -0.006065      tech\n",
       "4  0.356941 -0.018531  business"
      ]
     },
     "execution_count": 72,
     "metadata": {},
     "output_type": "execute_result"
    }
   ],
   "source": [
    "vis.head()"
   ]
  },
  {
   "cell_type": "code",
   "execution_count": 73,
   "id": "e5281231",
   "metadata": {},
   "outputs": [
    {
     "name": "stdout",
     "output_type": "stream",
     "text": [
      "(array([0, 0, 0, ..., 0, 1, 1], dtype=int64), Index(['business', 'tech', 'politics', 'sport', 'entertainment'], dtype='object'))\n"
     ]
    }
   ],
   "source": [
    "print(pd.factorize(vis.labels))"
   ]
  },
  {
   "cell_type": "code",
   "execution_count": 74,
   "id": "d25b3a96",
   "metadata": {},
   "outputs": [
    {
     "name": "stderr",
     "output_type": "stream",
     "text": [
      "C:\\Users\\Johns\\AppData\\Local\\anaconda3\\Lib\\site-packages\\altair\\utils\\core.py:395: FutureWarning: the convert_dtype parameter is deprecated and will be removed in a future version.  Do ``ser.astype(object).apply()`` instead if you want ``convert_dtype=False``.\n",
      "  col = df[col_name].apply(to_list_if_array, convert_dtype=False)\n"
     ]
    },
    {
     "data": {
      "text/html": [
       "\n",
       "<style>\n",
       "  #altair-viz-13b283c4e9a443d08bc1f5630ad6b833.vega-embed {\n",
       "    width: 100%;\n",
       "    display: flex;\n",
       "  }\n",
       "\n",
       "  #altair-viz-13b283c4e9a443d08bc1f5630ad6b833.vega-embed details,\n",
       "  #altair-viz-13b283c4e9a443d08bc1f5630ad6b833.vega-embed details summary {\n",
       "    position: relative;\n",
       "  }\n",
       "</style>\n",
       "<div id=\"altair-viz-13b283c4e9a443d08bc1f5630ad6b833\"></div>\n",
       "<script type=\"text/javascript\">\n",
       "  var VEGA_DEBUG = (typeof VEGA_DEBUG == \"undefined\") ? {} : VEGA_DEBUG;\n",
       "  (function(spec, embedOpt){\n",
       "    let outputDiv = document.currentScript.previousElementSibling;\n",
       "    if (outputDiv.id !== \"altair-viz-13b283c4e9a443d08bc1f5630ad6b833\") {\n",
       "      outputDiv = document.getElementById(\"altair-viz-13b283c4e9a443d08bc1f5630ad6b833\");\n",
       "    }\n",
       "    const paths = {\n",
       "      \"vega\": \"https://cdn.jsdelivr.net/npm/vega@5?noext\",\n",
       "      \"vega-lib\": \"https://cdn.jsdelivr.net/npm/vega-lib?noext\",\n",
       "      \"vega-lite\": \"https://cdn.jsdelivr.net/npm/vega-lite@5.8.0?noext\",\n",
       "      \"vega-embed\": \"https://cdn.jsdelivr.net/npm/vega-embed@6?noext\",\n",
       "    };\n",
       "\n",
       "    function maybeLoadScript(lib, version) {\n",
       "      var key = `${lib.replace(\"-\", \"\")}_version`;\n",
       "      return (VEGA_DEBUG[key] == version) ?\n",
       "        Promise.resolve(paths[lib]) :\n",
       "        new Promise(function(resolve, reject) {\n",
       "          var s = document.createElement('script');\n",
       "          document.getElementsByTagName(\"head\")[0].appendChild(s);\n",
       "          s.async = true;\n",
       "          s.onload = () => {\n",
       "            VEGA_DEBUG[key] = version;\n",
       "            return resolve(paths[lib]);\n",
       "          };\n",
       "          s.onerror = () => reject(`Error loading script: ${paths[lib]}`);\n",
       "          s.src = paths[lib];\n",
       "        });\n",
       "    }\n",
       "\n",
       "    function showError(err) {\n",
       "      outputDiv.innerHTML = `<div class=\"error\" style=\"color:red;\">${err}</div>`;\n",
       "      throw err;\n",
       "    }\n",
       "\n",
       "    function displayChart(vegaEmbed) {\n",
       "      vegaEmbed(outputDiv, spec, embedOpt)\n",
       "        .catch(err => showError(`Javascript Error: ${err.message}<br>This usually means there's a typo in your chart specification. See the javascript console for the full traceback.`));\n",
       "    }\n",
       "\n",
       "    if(typeof define === \"function\" && define.amd) {\n",
       "      requirejs.config({paths});\n",
       "      require([\"vega-embed\"], displayChart, err => showError(`Error loading script: ${err.message}`));\n",
       "    } else {\n",
       "      maybeLoadScript(\"vega\", \"5\")\n",
       "        .then(() => maybeLoadScript(\"vega-lite\", \"5.8.0\"))\n",
       "        .then(() => maybeLoadScript(\"vega-embed\", \"6\"))\n",
       "        .catch(showError)\n",
       "        .then(() => displayChart(vegaEmbed));\n",
       "    }\n",
       "  })({\"config\": {\"view\": {\"continuousWidth\": 300, \"continuousHeight\": 300}}, \"data\": {\"name\": \"data-7b536236a900748eea8f881bac31acdf\"}, \"mark\": {\"type\": \"point\"}, \"encoding\": {\"color\": {\"field\": \"labels\", \"type\": \"nominal\"}, \"x\": {\"field\": \"LF1\", \"type\": \"quantitative\"}, \"y\": {\"field\": \"LF2\", \"type\": \"quantitative\"}}, \"$schema\": \"https://vega.github.io/schema/vega-lite/v5.8.0.json\", \"datasets\": {\"data-7b536236a900748eea8f881bac31acdf\": [{\"LF2\": 0.21705829388397516, \"LF1\": 0.0492656645915964, \"labels\": \"business\"}, {\"LF2\": 0.3513804933108603, \"LF1\": -0.002983222900962085, \"labels\": \"business\"}, {\"LF2\": 0.4340536675346252, \"LF1\": 0.001842739147697834, \"labels\": \"business\"}, {\"LF2\": 0.39994106730589235, \"LF1\": -0.006065305332032123, \"labels\": \"tech\"}, {\"LF2\": 0.3569407955105236, \"LF1\": -0.018530813038166206, \"labels\": \"business\"}, {\"LF2\": 0.25643342732021424, \"LF1\": 0.04214290237265769, \"labels\": \"politics\"}, {\"LF2\": 0.40424447944562003, \"LF1\": -0.11823015261564612, \"labels\": \"sport\"}, {\"LF2\": 0.325279678147386, \"LF1\": -0.06157773981881859, \"labels\": \"entertainment\"}, {\"LF2\": 0.22975922958463885, \"LF1\": -0.05045364317779788, \"labels\": \"business\"}, {\"LF2\": 0.2457713633174009, \"LF1\": -0.10527194304295981, \"labels\": \"entertainment\"}, {\"LF2\": 0.43612094143838087, \"LF1\": 0.16624740895363074, \"labels\": \"politics\"}, {\"LF2\": 0.289802853556768, \"LF1\": -0.083500852590793, \"labels\": \"entertainment\"}, {\"LF2\": 0.23837441391660152, \"LF1\": -0.009812578172529434, \"labels\": \"business\"}, {\"LF2\": 0.29083063906314854, \"LF1\": -0.002066441776056756, \"labels\": \"business\"}, {\"LF2\": 0.3046277757864073, \"LF1\": -0.09834126940322725, \"labels\": \"sport\"}, {\"LF2\": 0.3212549839887068, \"LF1\": -0.058270757276623446, \"labels\": \"sport\"}, {\"LF2\": 0.541251223067325, \"LF1\": -0.07409929393947232, \"labels\": \"entertainment\"}, {\"LF2\": 0.23267055513156024, \"LF1\": -0.136116256964958, \"labels\": \"sport\"}, {\"LF2\": 0.23094058180680377, \"LF1\": -0.0679527779308597, \"labels\": \"sport\"}, {\"LF2\": 0.28590211514803304, \"LF1\": -0.024972746693415353, \"labels\": \"tech\"}, {\"LF2\": 0.3933016957483576, \"LF1\": -0.12369627582777165, \"labels\": \"sport\"}, {\"LF2\": 0.2594383182693449, \"LF1\": -0.14086729081787186, \"labels\": \"entertainment\"}, {\"LF2\": 0.30302282020312904, \"LF1\": -0.1678625904240395, \"labels\": \"sport\"}, {\"LF2\": 0.31012416311831514, \"LF1\": -0.04614275670140792, \"labels\": \"sport\"}, {\"LF2\": 0.27966726340835674, \"LF1\": 0.027285222122255166, \"labels\": \"tech\"}, {\"LF2\": 0.3240840929317738, \"LF1\": 0.022657915453546305, \"labels\": \"business\"}, {\"LF2\": 0.34096147361034024, \"LF1\": -0.013847350969742662, \"labels\": \"tech\"}, {\"LF2\": 0.33200845522144584, \"LF1\": -0.16513553308715972, \"labels\": \"sport\"}, {\"LF2\": 0.3738886691357989, \"LF1\": 0.09944162615240094, \"labels\": \"politics\"}, {\"LF2\": 0.3091911951388567, \"LF1\": 0.07740190549602123, \"labels\": \"business\"}, {\"LF2\": 0.37093606919037114, \"LF1\": -0.008087302875540527, \"labels\": \"tech\"}, {\"LF2\": 0.3068224389861709, \"LF1\": -0.044199878129232706, \"labels\": \"entertainment\"}, {\"LF2\": 0.4285122277583716, \"LF1\": -0.03215700921215878, \"labels\": \"business\"}, {\"LF2\": 0.35649929905776906, \"LF1\": 0.05007403650544002, \"labels\": \"politics\"}, {\"LF2\": 0.34568497893314915, \"LF1\": -0.07121026437939279, \"labels\": \"sport\"}, {\"LF2\": 0.27850665398581176, \"LF1\": -0.018429844211572562, \"labels\": \"entertainment\"}, {\"LF2\": 0.47449160085860664, \"LF1\": -0.09108809548043585, \"labels\": \"sport\"}, {\"LF2\": 0.2600783648339429, \"LF1\": -0.11934074743281836, \"labels\": \"sport\"}, {\"LF2\": 0.4294569095067037, \"LF1\": -0.09013406738972375, \"labels\": \"sport\"}, {\"LF2\": 0.3208855606575566, \"LF1\": -0.00522985963469648, \"labels\": \"tech\"}, {\"LF2\": 0.3862784114304168, \"LF1\": -0.02782029894274973, \"labels\": \"tech\"}, {\"LF2\": 0.31922676225609636, \"LF1\": -0.06557476805513171, \"labels\": \"sport\"}, {\"LF2\": 0.3230301492869521, \"LF1\": -0.023886784340049785, \"labels\": \"sport\"}, {\"LF2\": 0.45091940271526443, \"LF1\": -0.015366239294792628, \"labels\": \"tech\"}, {\"LF2\": 0.2600700875421225, \"LF1\": -0.11864152445387463, \"labels\": \"entertainment\"}, {\"LF2\": 0.3065743433799263, \"LF1\": -0.02911843975763691, \"labels\": \"entertainment\"}, {\"LF2\": 0.3655063248222229, \"LF1\": -0.027991745157386432, \"labels\": \"tech\"}, {\"LF2\": 0.383076897712141, \"LF1\": -0.0022354908945882187, \"labels\": \"tech\"}, {\"LF2\": 0.39834303583271913, \"LF1\": -0.09680390976888756, \"labels\": \"tech\"}, {\"LF2\": 0.34763543432461286, \"LF1\": -0.006186548512776493, \"labels\": \"business\"}, {\"LF2\": 0.23547241627960952, \"LF1\": -0.04121248096208284, \"labels\": \"tech\"}, {\"LF2\": 0.3412369138134708, \"LF1\": -0.09934305139419171, \"labels\": \"sport\"}, {\"LF2\": 0.23806292600260054, \"LF1\": 0.016890839753384915, \"labels\": \"politics\"}, {\"LF2\": 0.39910685796630274, \"LF1\": -0.10899153798449703, \"labels\": \"sport\"}, {\"LF2\": 0.3288701876395495, \"LF1\": -0.01179592733017309, \"labels\": \"sport\"}, {\"LF2\": 0.4592973919633868, \"LF1\": -0.05449053316927187, \"labels\": \"entertainment\"}, {\"LF2\": 0.24725783238327526, \"LF1\": -0.01328038848737086, \"labels\": \"business\"}, {\"LF2\": 0.398003059261051, \"LF1\": -0.026507563685093542, \"labels\": \"business\"}, {\"LF2\": 0.4324952263190815, \"LF1\": 0.19407894441540618, \"labels\": \"politics\"}, {\"LF2\": 0.37581804841494476, \"LF1\": -0.09151815393100354, \"labels\": \"sport\"}, {\"LF2\": 0.36626406877895046, \"LF1\": -0.006351427179146573, \"labels\": \"tech\"}, {\"LF2\": 0.4309585550723896, \"LF1\": -0.03402563197467991, \"labels\": \"business\"}, {\"LF2\": 0.25358937743681387, \"LF1\": -0.11863155424400233, \"labels\": \"entertainment\"}, {\"LF2\": 0.44416137169932013, \"LF1\": -0.030397245425437248, \"labels\": \"tech\"}, {\"LF2\": 0.18802265041237376, \"LF1\": -0.004939031232324663, \"labels\": \"business\"}, {\"LF2\": 0.18531563254290911, \"LF1\": -0.06356035896716103, \"labels\": \"sport\"}, {\"LF2\": 0.3240891144881134, \"LF1\": 0.13837431589535015, \"labels\": \"politics\"}, {\"LF2\": 0.40282629420889576, \"LF1\": 0.17985028264734623, \"labels\": \"politics\"}, {\"LF2\": 0.3249751939224113, \"LF1\": 0.018888356051670455, \"labels\": \"tech\"}, {\"LF2\": 0.5027137396212484, \"LF1\": -0.017979619358283332, \"labels\": \"tech\"}, {\"LF2\": 0.2679463899735633, \"LF1\": -0.022810907514917534, \"labels\": \"sport\"}, {\"LF2\": 0.3205747054925939, \"LF1\": -0.036044783741042426, \"labels\": \"tech\"}, {\"LF2\": 0.3086966121792323, \"LF1\": -0.03765519785239766, \"labels\": \"sport\"}, {\"LF2\": 0.27638414163308384, \"LF1\": -0.03542146111991629, \"labels\": \"sport\"}, {\"LF2\": 0.22998077161812303, \"LF1\": -0.0711200441632952, \"labels\": \"sport\"}, {\"LF2\": 0.25574555808585486, \"LF1\": -0.0021156736777184705, \"labels\": \"business\"}, {\"LF2\": 0.21610138036223367, \"LF1\": -0.06452140987042775, \"labels\": \"sport\"}, {\"LF2\": 0.2174954699332828, \"LF1\": -0.011777871646605811, \"labels\": \"business\"}, {\"LF2\": 0.3073004030410833, \"LF1\": -0.0809007811521775, \"labels\": \"entertainment\"}, {\"LF2\": 0.22914338777620308, \"LF1\": 0.004879900262732875, \"labels\": \"business\"}, {\"LF2\": 0.47937833411097625, \"LF1\": 0.023000408478238227, \"labels\": \"tech\"}, {\"LF2\": 0.2449221656511744, \"LF1\": -0.04964518978908098, \"labels\": \"business\"}, {\"LF2\": 0.3908260895985519, \"LF1\": 0.19350666809327496, \"labels\": \"politics\"}, {\"LF2\": 0.4419539125772878, \"LF1\": 0.1809715654303197, \"labels\": \"politics\"}, {\"LF2\": 0.2837791495683733, \"LF1\": -0.14153681121357117, \"labels\": \"sport\"}, {\"LF2\": 0.2414652750648585, \"LF1\": 0.006666692040110606, \"labels\": \"sport\"}, {\"LF2\": 0.34230708593247383, \"LF1\": 0.14955308316457785, \"labels\": \"politics\"}, {\"LF2\": 0.32632988612625796, \"LF1\": -0.007660996436372875, \"labels\": \"entertainment\"}, {\"LF2\": 0.42734210121760025, \"LF1\": -0.16709144711371013, \"labels\": \"sport\"}, {\"LF2\": 0.42226484942195736, \"LF1\": -0.0008939175070114027, \"labels\": \"sport\"}, {\"LF2\": 0.5462648460322278, \"LF1\": 0.20881858227453032, \"labels\": \"politics\"}, {\"LF2\": 0.28867361965037347, \"LF1\": -0.04023922430644881, \"labels\": \"tech\"}, {\"LF2\": 0.3971931275374698, \"LF1\": 0.08076146106301535, \"labels\": \"politics\"}, {\"LF2\": 0.38213761859738693, \"LF1\": 0.0039988187539747085, \"labels\": \"sport\"}, {\"LF2\": 0.43782750670743154, \"LF1\": 0.15259751764777676, \"labels\": \"politics\"}, {\"LF2\": 0.14676937875671908, \"LF1\": -0.003486587300678768, \"labels\": \"business\"}, {\"LF2\": 0.25021580316990216, \"LF1\": 0.000835772814762161, \"labels\": \"business\"}, {\"LF2\": 0.16393651836465342, \"LF1\": 0.01007752846452719, \"labels\": \"business\"}, {\"LF2\": 0.2585056440368236, \"LF1\": -0.008079231139157704, \"labels\": \"business\"}, {\"LF2\": 0.3507266057903968, \"LF1\": -0.12685192294869743, \"labels\": \"sport\"}, {\"LF2\": 0.3314668739037798, \"LF1\": -0.00030144672472095445, \"labels\": \"business\"}, {\"LF2\": 0.3709616315721748, \"LF1\": 0.13783112372363884, \"labels\": \"politics\"}, {\"LF2\": 0.29055192639146515, \"LF1\": 0.017527779363751276, \"labels\": \"tech\"}, {\"LF2\": 0.48064278073762334, \"LF1\": -0.012172708120050179, \"labels\": \"tech\"}, {\"LF2\": 0.260221697783016, \"LF1\": -0.03778217129583693, \"labels\": \"entertainment\"}, {\"LF2\": 0.32578523633079975, \"LF1\": 0.14428716631307095, \"labels\": \"politics\"}, {\"LF2\": 0.3988485266145495, \"LF1\": -0.02563410769778625, \"labels\": \"tech\"}, {\"LF2\": 0.19640252854615062, \"LF1\": -0.01335346381549469, \"labels\": \"business\"}, {\"LF2\": 0.31790535183736274, \"LF1\": 0.021786101143146698, \"labels\": \"business\"}, {\"LF2\": 0.40795387967549873, \"LF1\": -0.018794106519056084, \"labels\": \"business\"}, {\"LF2\": 0.36378632574539205, \"LF1\": -0.005598725805291225, \"labels\": \"business\"}, {\"LF2\": 0.30714874838268896, \"LF1\": -0.033006711628378906, \"labels\": \"entertainment\"}, {\"LF2\": 0.4263384591874129, \"LF1\": -0.06033754930637621, \"labels\": \"sport\"}, {\"LF2\": 0.23651679959250127, \"LF1\": -0.005259049548324308, \"labels\": \"business\"}, {\"LF2\": 0.3108749133271017, \"LF1\": 0.012083325074897486, \"labels\": \"business\"}, {\"LF2\": 0.2689588267050528, \"LF1\": -1.012181199486137e-05, \"labels\": \"business\"}, {\"LF2\": 0.4816698206161129, \"LF1\": 0.13151914421270994, \"labels\": \"politics\"}, {\"LF2\": 0.22696099215872034, \"LF1\": -0.03133325056406559, \"labels\": \"business\"}, {\"LF2\": 0.402694841538473, \"LF1\": 0.03931276165067962, \"labels\": \"politics\"}, {\"LF2\": 0.30127163580322724, \"LF1\": -0.10257409446912671, \"labels\": \"sport\"}, {\"LF2\": 0.5457852654437713, \"LF1\": -0.06530818875713786, \"labels\": \"tech\"}, {\"LF2\": 0.3986501673045003, \"LF1\": -0.08343369827649319, \"labels\": \"sport\"}, {\"LF2\": 0.33023174662372545, \"LF1\": -0.07744363480244096, \"labels\": \"sport\"}, {\"LF2\": 0.4173038356000168, \"LF1\": 0.11969106463679147, \"labels\": \"politics\"}, {\"LF2\": 0.36777994693217586, \"LF1\": -6.733742638714586e-05, \"labels\": \"tech\"}, {\"LF2\": 0.40868686207909366, \"LF1\": 0.027277681775349526, \"labels\": \"tech\"}, {\"LF2\": 0.22939434837084938, \"LF1\": -0.02220525793254225, \"labels\": \"entertainment\"}, {\"LF2\": 0.40751248622524133, \"LF1\": -0.09953629859683, \"labels\": \"sport\"}, {\"LF2\": 0.4032583307881422, \"LF1\": 0.39957726588869275, \"labels\": \"politics\"}, {\"LF2\": 0.3460972261658225, \"LF1\": 0.06723217836143289, \"labels\": \"business\"}, {\"LF2\": 0.37318419116705215, \"LF1\": -0.06807700719860857, \"labels\": \"sport\"}, {\"LF2\": 0.3620394877131284, \"LF1\": -0.011769807639450363, \"labels\": \"business\"}, {\"LF2\": 0.4211947556781759, \"LF1\": -0.08095308757503054, \"labels\": \"entertainment\"}, {\"LF2\": 0.3476801435926728, \"LF1\": -0.042146550951320236, \"labels\": \"sport\"}, {\"LF2\": 0.49153898411355385, \"LF1\": -0.07945405632365818, \"labels\": \"tech\"}, {\"LF2\": 0.23840893116014228, \"LF1\": -0.038434145983358044, \"labels\": \"entertainment\"}, {\"LF2\": 0.425855617476226, \"LF1\": 0.1934898574731112, \"labels\": \"politics\"}, {\"LF2\": 0.26843147164530495, \"LF1\": 0.0269203068238728, \"labels\": \"business\"}, {\"LF2\": 0.2486052863118531, \"LF1\": -0.02789284348062495, \"labels\": \"sport\"}, {\"LF2\": 0.3039152623178642, \"LF1\": -0.17512094070120804, \"labels\": \"entertainment\"}, {\"LF2\": 0.27260453989963257, \"LF1\": -0.01829130496256292, \"labels\": \"entertainment\"}, {\"LF2\": 0.28248422656749195, \"LF1\": -0.012642223695946189, \"labels\": \"business\"}, {\"LF2\": 0.2881849581067181, \"LF1\": -0.04369231510180451, \"labels\": \"business\"}, {\"LF2\": 0.3068545637431071, \"LF1\": -0.040479122863831214, \"labels\": \"sport\"}, {\"LF2\": 0.3823437571265935, \"LF1\": -0.002983143493120281, \"labels\": \"tech\"}, {\"LF2\": 0.25328407235184003, \"LF1\": 0.052786846410206374, \"labels\": \"politics\"}, {\"LF2\": 0.39641357890120904, \"LF1\": 0.08634013866271963, \"labels\": \"business\"}, {\"LF2\": 0.16786196436888567, \"LF1\": -0.004167691802093175, \"labels\": \"business\"}, {\"LF2\": 0.3109293699606631, \"LF1\": -0.12551824236754788, \"labels\": \"sport\"}, {\"LF2\": 0.3673434818900426, \"LF1\": -0.05394382238421728, \"labels\": \"entertainment\"}, {\"LF2\": 0.22681643103006693, \"LF1\": -0.015824936181677473, \"labels\": \"sport\"}, {\"LF2\": 0.3812878817680155, \"LF1\": -0.024143535693058375, \"labels\": \"sport\"}, {\"LF2\": 0.4770484199802407, \"LF1\": 0.24330937374047087, \"labels\": \"politics\"}, {\"LF2\": 0.550396769321673, \"LF1\": 0.2400476640866633, \"labels\": \"politics\"}, {\"LF2\": 0.42802261081932835, \"LF1\": -0.009990219454726378, \"labels\": \"tech\"}, {\"LF2\": 0.204689212922186, \"LF1\": -0.012508997951565574, \"labels\": \"business\"}, {\"LF2\": 0.4481152960623864, \"LF1\": 0.053223684270308574, \"labels\": \"business\"}, {\"LF2\": 0.25358937743681387, \"LF1\": -0.11863155424400233, \"labels\": \"entertainment\"}, {\"LF2\": 0.34814755756884913, \"LF1\": -0.025680549772674515, \"labels\": \"tech\"}, {\"LF2\": 0.27653687200228794, \"LF1\": -0.019257519313233898, \"labels\": \"entertainment\"}, {\"LF2\": 0.4034777554949802, \"LF1\": 0.18991100456159166, \"labels\": \"politics\"}, {\"LF2\": 0.44891345165224805, \"LF1\": 0.015090686890406057, \"labels\": \"tech\"}, {\"LF2\": 0.3242550145371934, \"LF1\": -0.03364459337178491, \"labels\": \"entertainment\"}, {\"LF2\": 0.22723597776296453, \"LF1\": -0.021556396710209196, \"labels\": \"sport\"}, {\"LF2\": 0.25934689112849946, \"LF1\": -0.009505364345528778, \"labels\": \"business\"}, {\"LF2\": 0.3637507536533784, \"LF1\": 0.20740267704150445, \"labels\": \"politics\"}, {\"LF2\": 0.3171130556943896, \"LF1\": -0.13076531397639685, \"labels\": \"entertainment\"}, {\"LF2\": 0.31373344376018103, \"LF1\": -0.03019455036432733, \"labels\": \"sport\"}, {\"LF2\": 0.4154652429330626, \"LF1\": 0.28537011415963853, \"labels\": \"politics\"}, {\"LF2\": 0.2785172601748561, \"LF1\": -0.02169160402575404, \"labels\": \"sport\"}, {\"LF2\": 0.34627674588337576, \"LF1\": 0.026750717633889382, \"labels\": \"tech\"}, {\"LF2\": 0.2986943097182613, \"LF1\": -0.24003962034304813, \"labels\": \"entertainment\"}, {\"LF2\": 0.40320593195469134, \"LF1\": -0.1296953842510196, \"labels\": \"sport\"}, {\"LF2\": 0.34181224763667617, \"LF1\": -0.17517130129543068, \"labels\": \"entertainment\"}, {\"LF2\": 0.27681191602156446, \"LF1\": -0.02573028098233386, \"labels\": \"business\"}, {\"LF2\": 0.3295330601608896, \"LF1\": 0.03402706892144975, \"labels\": \"business\"}, {\"LF2\": 0.3180718985747183, \"LF1\": -0.04435745253022743, \"labels\": \"entertainment\"}, {\"LF2\": 0.4179302270588883, \"LF1\": 0.11004486211278405, \"labels\": \"politics\"}, {\"LF2\": 0.28364486584768006, \"LF1\": 0.02794914326293447, \"labels\": \"business\"}, {\"LF2\": 0.1163363839130756, \"LF1\": -0.04742685130384408, \"labels\": \"sport\"}, {\"LF2\": 0.1640045120821626, \"LF1\": -0.10061930322669883, \"labels\": \"sport\"}, {\"LF2\": 0.24474743229225607, \"LF1\": 0.00651026754794766, \"labels\": \"tech\"}, {\"LF2\": 0.3423902244264123, \"LF1\": -0.05538012290804674, \"labels\": \"sport\"}, {\"LF2\": 0.1972911063449908, \"LF1\": -0.0285813618424902, \"labels\": \"business\"}, {\"LF2\": 0.3179847116655207, \"LF1\": 0.012666293046082492, \"labels\": \"business\"}, {\"LF2\": 0.5052834746452923, \"LF1\": -0.09773864351455426, \"labels\": \"sport\"}, {\"LF2\": 0.3853382489036598, \"LF1\": 0.015168153190912088, \"labels\": \"business\"}, {\"LF2\": 0.475860165618144, \"LF1\": -0.144912882078505, \"labels\": \"entertainment\"}, {\"LF2\": 0.20070401050370132, \"LF1\": 0.08625185484509904, \"labels\": \"politics\"}, {\"LF2\": 0.2483383770103723, \"LF1\": -0.04952701705917085, \"labels\": \"entertainment\"}, {\"LF2\": 0.3048843822335388, \"LF1\": -0.1765086532220817, \"labels\": \"entertainment\"}, {\"LF2\": 0.4388695045643238, \"LF1\": -0.043635839059009536, \"labels\": \"tech\"}, {\"LF2\": 0.10403322004452502, \"LF1\": -0.04593105416253674, \"labels\": \"sport\"}, {\"LF2\": 0.4449063448616022, \"LF1\": 0.38369077559841136, \"labels\": \"politics\"}, {\"LF2\": 0.21248290041809714, \"LF1\": -0.05828211753233825, \"labels\": \"sport\"}, {\"LF2\": 0.30018324084139586, \"LF1\": 0.015985987331617848, \"labels\": \"tech\"}, {\"LF2\": 0.40461031412711923, \"LF1\": 0.09089447100597929, \"labels\": \"politics\"}, {\"LF2\": 0.33250971487315356, \"LF1\": -0.13305568668628634, \"labels\": \"sport\"}, {\"LF2\": 0.2792608776447907, \"LF1\": -0.10977720136647248, \"labels\": \"sport\"}, {\"LF2\": 0.2594593621458839, \"LF1\": -0.08383745625795552, \"labels\": \"sport\"}, {\"LF2\": 0.3057048302964935, \"LF1\": -0.07803673492058613, \"labels\": \"sport\"}, {\"LF2\": 0.23202621644291604, \"LF1\": -0.1412397084531389, \"labels\": \"entertainment\"}, {\"LF2\": 0.3063141186984934, \"LF1\": -0.061059347322454306, \"labels\": \"sport\"}, {\"LF2\": 0.23023620472400874, \"LF1\": -0.028323502209281842, \"labels\": \"business\"}, {\"LF2\": 0.33564268997373453, \"LF1\": 0.025520278179434426, \"labels\": \"tech\"}, {\"LF2\": 0.42146810314204214, \"LF1\": 0.09138622428761865, \"labels\": \"business\"}, {\"LF2\": 0.33683166335812537, \"LF1\": 0.16487822172743805, \"labels\": \"politics\"}, {\"LF2\": 0.2035547516170055, \"LF1\": -0.08909179967984378, \"labels\": \"sport\"}, {\"LF2\": 0.44891345165224805, \"LF1\": 0.015090686890406057, \"labels\": \"tech\"}, {\"LF2\": 0.23534071909504348, \"LF1\": -0.009717013481951513, \"labels\": \"business\"}, {\"LF2\": 0.28543538587219663, \"LF1\": -0.03727980422459314, \"labels\": \"business\"}, {\"LF2\": 0.25780683470415666, \"LF1\": -0.0882151811957005, \"labels\": \"sport\"}, {\"LF2\": 0.21012416230607575, \"LF1\": -0.026902953551646312, \"labels\": \"entertainment\"}, {\"LF2\": 0.19974088609281668, \"LF1\": -0.0032473389598588445, \"labels\": \"entertainment\"}, {\"LF2\": 0.313214069313374, \"LF1\": 0.010938737330792408, \"labels\": \"politics\"}, {\"LF2\": 0.3751115660041621, \"LF1\": 0.0952109010969578, \"labels\": \"politics\"}, {\"LF2\": 0.5573076988112766, \"LF1\": -0.10978136906961573, \"labels\": \"sport\"}, {\"LF2\": 0.49678383982295476, \"LF1\": 0.3570492769202515, \"labels\": \"politics\"}, {\"LF2\": 0.43219522182883346, \"LF1\": 0.2092699842770208, \"labels\": \"politics\"}, {\"LF2\": 0.21745940221012858, \"LF1\": -0.08508218646530726, \"labels\": \"sport\"}, {\"LF2\": 0.27261531711245546, \"LF1\": -0.16909101925731887, \"labels\": \"entertainment\"}, {\"LF2\": 0.33770257204440096, \"LF1\": -0.02910851868013454, \"labels\": \"entertainment\"}, {\"LF2\": 0.28881231791224404, \"LF1\": -0.0712964861393343, \"labels\": \"sport\"}, {\"LF2\": 0.2526847518711595, \"LF1\": -0.10832427344878914, \"labels\": \"entertainment\"}, {\"LF2\": 0.3895985580150832, \"LF1\": -0.2531260216086023, \"labels\": \"entertainment\"}, {\"LF2\": 0.344935666617285, \"LF1\": -0.06276843712039328, \"labels\": \"sport\"}, {\"LF2\": 0.32539156583635864, \"LF1\": -0.11299204825329923, \"labels\": \"sport\"}, {\"LF2\": 0.34841521274873977, \"LF1\": -0.006376146416771358, \"labels\": \"business\"}, {\"LF2\": 0.29748554259557675, \"LF1\": 0.02740672155642495, \"labels\": \"tech\"}, {\"LF2\": 0.4988764198463329, \"LF1\": -0.05530471210132101, \"labels\": \"entertainment\"}, {\"LF2\": 0.3568619099336901, \"LF1\": 0.09635604112341656, \"labels\": \"politics\"}, {\"LF2\": 0.3233630313748992, \"LF1\": 0.08145646738758136, \"labels\": \"business\"}, {\"LF2\": 0.28300821300637613, \"LF1\": -0.03732655018778219, \"labels\": \"sport\"}, {\"LF2\": 0.2230860698005159, \"LF1\": 0.08519674600057542, \"labels\": \"business\"}, {\"LF2\": 0.256393114578168, \"LF1\": -0.03272873538443196, \"labels\": \"entertainment\"}, {\"LF2\": 0.3571285418315393, \"LF1\": 0.02489079946175184, \"labels\": \"business\"}, {\"LF2\": 0.2997795272428324, \"LF1\": -0.028708910098839337, \"labels\": \"tech\"}, {\"LF2\": 0.3081836704332095, \"LF1\": 0.002165217533095418, \"labels\": \"sport\"}, {\"LF2\": 0.31445271477994075, \"LF1\": -0.0711011606281581, \"labels\": \"sport\"}, {\"LF2\": 0.2434791347313354, \"LF1\": -0.08515031416575587, \"labels\": \"sport\"}, {\"LF2\": 0.2219260389197051, \"LF1\": -0.05202917576809719, \"labels\": \"sport\"}, {\"LF2\": 0.3739992687988816, \"LF1\": -0.09854262522831513, \"labels\": \"sport\"}, {\"LF2\": 0.5133521484170875, \"LF1\": -0.013414147450435867, \"labels\": \"business\"}, {\"LF2\": 0.28643996190425386, \"LF1\": -0.08819488847807545, \"labels\": \"sport\"}, {\"LF2\": 0.2538388251512434, \"LF1\": 0.016441630007366505, \"labels\": \"entertainment\"}, {\"LF2\": 0.3659845203687272, \"LF1\": 0.018867898311936544, \"labels\": \"business\"}, {\"LF2\": 0.4258954398976415, \"LF1\": 0.24054782995543492, \"labels\": \"politics\"}, {\"LF2\": 0.3031302181511457, \"LF1\": -0.0856290330459954, \"labels\": \"sport\"}, {\"LF2\": 0.2737659203969172, \"LF1\": -0.021393111794959712, \"labels\": \"business\"}, {\"LF2\": 0.34349133506100743, \"LF1\": 0.04143039815989719, \"labels\": \"politics\"}, {\"LF2\": 0.36288535423849916, \"LF1\": 0.0793195311401753, \"labels\": \"business\"}, {\"LF2\": 0.3271844382061677, \"LF1\": -0.05658050934204889, \"labels\": \"entertainment\"}, {\"LF2\": 0.23358734670641415, \"LF1\": -0.030380983110533086, \"labels\": \"sport\"}, {\"LF2\": 0.21031084392950078, \"LF1\": -0.007748204867857597, \"labels\": \"sport\"}, {\"LF2\": 0.352015451936995, \"LF1\": -0.015387451400303911, \"labels\": \"business\"}, {\"LF2\": 0.31762775201318066, \"LF1\": -0.029503854615243075, \"labels\": \"tech\"}, {\"LF2\": 0.21682639399209014, \"LF1\": 0.0015258939973229596, \"labels\": \"business\"}, {\"LF2\": 0.3925526508531341, \"LF1\": -0.0505032431178074, \"labels\": \"tech\"}, {\"LF2\": 0.3166378768312992, \"LF1\": 0.0016477768663656996, \"labels\": \"politics\"}, {\"LF2\": 0.4267191097774167, \"LF1\": 0.02951332020261099, \"labels\": \"tech\"}, {\"LF2\": 0.3763275668943104, \"LF1\": -0.0004905190965607293, \"labels\": \"tech\"}, {\"LF2\": 0.18196573517071368, \"LF1\": -0.03223322230621314, \"labels\": \"business\"}, {\"LF2\": 0.32819168189955616, \"LF1\": 0.21802212886442293, \"labels\": \"politics\"}, {\"LF2\": 0.27079778893769446, \"LF1\": -0.030343811479991115, \"labels\": \"sport\"}, {\"LF2\": 0.5211790274733812, \"LF1\": 0.04074819429504869, \"labels\": \"entertainment\"}, {\"LF2\": 0.3015532376532623, \"LF1\": -0.19410860803094937, \"labels\": \"entertainment\"}, {\"LF2\": 0.4611777614304306, \"LF1\": -0.0647192524812602, \"labels\": \"business\"}, {\"LF2\": 0.2542872534563342, \"LF1\": -0.08568081829006069, \"labels\": \"entertainment\"}, {\"LF2\": 0.3508205453857797, \"LF1\": -0.022000239216300215, \"labels\": \"tech\"}, {\"LF2\": 0.29359620015084387, \"LF1\": -0.04773359702083455, \"labels\": \"entertainment\"}, {\"LF2\": 0.1857758617652377, \"LF1\": -0.12307719526311843, \"labels\": \"entertainment\"}, {\"LF2\": 0.49678383982295476, \"LF1\": 0.3570492769202515, \"labels\": \"politics\"}, {\"LF2\": 0.49412720504153373, \"LF1\": -0.033289913515467506, \"labels\": \"tech\"}, {\"LF2\": 0.3394591762184405, \"LF1\": -0.05012504903182452, \"labels\": \"sport\"}, {\"LF2\": 0.37100055448642577, \"LF1\": -0.05954079785556757, \"labels\": \"sport\"}, {\"LF2\": 0.44973312801600884, \"LF1\": 0.10768072711359657, \"labels\": \"politics\"}, {\"LF2\": 0.3174815865917409, \"LF1\": -0.09628814497033898, \"labels\": \"sport\"}, {\"LF2\": 0.27325135400202066, \"LF1\": 0.002723824831967523, \"labels\": \"tech\"}, {\"LF2\": 0.28402643338327843, \"LF1\": -0.06500858857890665, \"labels\": \"business\"}, {\"LF2\": 0.4488911418949367, \"LF1\": -0.029828283447817665, \"labels\": \"tech\"}, {\"LF2\": 0.27831825028611895, \"LF1\": 0.0003182210983746928, \"labels\": \"business\"}, {\"LF2\": 0.4505504906179705, \"LF1\": 0.02735723500382718, \"labels\": \"tech\"}, {\"LF2\": 0.18119115479538045, \"LF1\": -0.0371376328655767, \"labels\": \"entertainment\"}, {\"LF2\": 0.2836995713393828, \"LF1\": -0.035287607894980616, \"labels\": \"sport\"}, {\"LF2\": 0.2351332802059119, \"LF1\": -0.09071520741652905, \"labels\": \"sport\"}, {\"LF2\": 0.4274417581820857, \"LF1\": -0.06906726520096056, \"labels\": \"sport\"}, {\"LF2\": 0.48632764095980524, \"LF1\": 0.11884648505725647, \"labels\": \"politics\"}, {\"LF2\": 0.47385009378669685, \"LF1\": 0.38825000609161875, \"labels\": \"politics\"}, {\"LF2\": 0.25762073073075287, \"LF1\": -0.040886464764094736, \"labels\": \"sport\"}, {\"LF2\": 0.13086743187259964, \"LF1\": -0.04362305568477959, \"labels\": \"sport\"}, {\"LF2\": 0.3195129104152996, \"LF1\": -0.06862394330387994, \"labels\": \"entertainment\"}, {\"LF2\": 0.33328709548304697, \"LF1\": -0.007614432415684151, \"labels\": \"business\"}, {\"LF2\": 0.501047814823588, \"LF1\": -0.05184027248765754, \"labels\": \"tech\"}, {\"LF2\": 0.46733535484019534, \"LF1\": -0.1810651018361158, \"labels\": \"sport\"}, {\"LF2\": 0.25791604705013166, \"LF1\": 0.04651793624028742, \"labels\": \"politics\"}, {\"LF2\": 0.4656513889281889, \"LF1\": -0.03564993136552317, \"labels\": \"tech\"}, {\"LF2\": 0.34655959135513154, \"LF1\": 0.042352217799301595, \"labels\": \"politics\"}, {\"LF2\": 0.4480706931294078, \"LF1\": 0.4122499835426774, \"labels\": \"politics\"}, {\"LF2\": 0.38817252051912543, \"LF1\": -0.03430361462358779, \"labels\": \"tech\"}, {\"LF2\": 0.3443384866487633, \"LF1\": 0.014572055661855567, \"labels\": \"tech\"}, {\"LF2\": 0.3467384342152262, \"LF1\": -0.018189589233289886, \"labels\": \"business\"}, {\"LF2\": 0.221233875558944, \"LF1\": -0.006724494827918546, \"labels\": \"tech\"}, {\"LF2\": 0.20994158897196372, \"LF1\": 0.012739439013834024, \"labels\": \"business\"}, {\"LF2\": 0.28281783343001177, \"LF1\": -0.054558551450201366, \"labels\": \"sport\"}, {\"LF2\": 0.4319073321133371, \"LF1\": -0.017904933255801555, \"labels\": \"entertainment\"}, {\"LF2\": 0.29912976666436114, \"LF1\": -0.026431301801480414, \"labels\": \"business\"}, {\"LF2\": 0.31031439222596546, \"LF1\": -0.054514933798180065, \"labels\": \"sport\"}, {\"LF2\": 0.47950735894641106, \"LF1\": 0.21450460745072486, \"labels\": \"politics\"}, {\"LF2\": 0.42384669750157133, \"LF1\": -0.08454103570242567, \"labels\": \"entertainment\"}, {\"LF2\": 0.3443384866487633, \"LF1\": 0.014572055661855567, \"labels\": \"tech\"}, {\"LF2\": 0.5199765875935012, \"LF1\": 0.13296333260065793, \"labels\": \"politics\"}, {\"LF2\": 0.26443705025672487, \"LF1\": -0.034340028285399574, \"labels\": \"business\"}, {\"LF2\": 0.4709863048037733, \"LF1\": -0.17788945049804225, \"labels\": \"entertainment\"}, {\"LF2\": 0.1921184629561525, \"LF1\": -0.01341567046390398, \"labels\": \"business\"}, {\"LF2\": 0.2771687766780776, \"LF1\": -0.004744989666288819, \"labels\": \"tech\"}, {\"LF2\": 0.3361158672570382, \"LF1\": -0.04744311151940418, \"labels\": \"sport\"}, {\"LF2\": 0.30676188500185947, \"LF1\": -0.0179388192499221, \"labels\": \"tech\"}, {\"LF2\": 0.23066265118119358, \"LF1\": -0.09900216105201286, \"labels\": \"sport\"}, {\"LF2\": 0.31438572886593386, \"LF1\": -0.09692276681600455, \"labels\": \"sport\"}, {\"LF2\": 0.4118936934151124, \"LF1\": -0.1023753380168014, \"labels\": \"sport\"}, {\"LF2\": 0.3221116203717631, \"LF1\": 0.07558552527037204, \"labels\": \"politics\"}, {\"LF2\": 0.3056318636064883, \"LF1\": -0.01412758950859349, \"labels\": \"business\"}, {\"LF2\": 0.48524608126458074, \"LF1\": 0.4356049722699503, \"labels\": \"politics\"}, {\"LF2\": 0.23584579383845247, \"LF1\": -0.06325626965428527, \"labels\": \"entertainment\"}, {\"LF2\": 0.2840783881877718, \"LF1\": -0.0756408149017402, \"labels\": \"sport\"}, {\"LF2\": 0.24815449836150164, \"LF1\": 0.049948916395594956, \"labels\": \"entertainment\"}, {\"LF2\": 0.25303865726154245, \"LF1\": -0.011751547784831413, \"labels\": \"business\"}, {\"LF2\": 0.4352020928454266, \"LF1\": 0.16267067009846825, \"labels\": \"politics\"}, {\"LF2\": 0.19179463907437488, \"LF1\": 0.009492184902249455, \"labels\": \"business\"}, {\"LF2\": 0.28973441719422566, \"LF1\": -0.06448816529601575, \"labels\": \"sport\"}, {\"LF2\": 0.4237468805737115, \"LF1\": -0.02161744739745427, \"labels\": \"entertainment\"}, {\"LF2\": 0.21675459979529357, \"LF1\": -0.015592334517992757, \"labels\": \"sport\"}, {\"LF2\": 0.4661830975139419, \"LF1\": -0.025206239036155924, \"labels\": \"business\"}, {\"LF2\": 0.29289336404088, \"LF1\": -0.09101346212153592, \"labels\": \"entertainment\"}, {\"LF2\": 0.3156189085322785, \"LF1\": -0.07583221619779532, \"labels\": \"entertainment\"}, {\"LF2\": 0.19397065195858848, \"LF1\": -0.05162601317721608, \"labels\": \"sport\"}, {\"LF2\": 0.460009099838243, \"LF1\": 0.018944869814197105, \"labels\": \"politics\"}, {\"LF2\": 0.3934045790230258, \"LF1\": -0.03126323312561411, \"labels\": \"business\"}, {\"LF2\": 0.4669838575344691, \"LF1\": 0.09459125833291165, \"labels\": \"politics\"}, {\"LF2\": 0.24317407989807843, \"LF1\": 0.0044021527609543875, \"labels\": \"tech\"}, {\"LF2\": 0.29042419415086845, \"LF1\": -0.10084070249200865, \"labels\": \"entertainment\"}, {\"LF2\": 0.2243649219964032, \"LF1\": -0.04853819709323005, \"labels\": \"entertainment\"}, {\"LF2\": 0.4124647627701226, \"LF1\": -0.13505095683476057, \"labels\": \"entertainment\"}, {\"LF2\": 0.38062122450804176, \"LF1\": -0.02385107441965411, \"labels\": \"tech\"}, {\"LF2\": 0.26189626822176426, \"LF1\": -0.08977200820345374, \"labels\": \"sport\"}, {\"LF2\": 0.3230886877210085, \"LF1\": -0.03212338581609172, \"labels\": \"business\"}, {\"LF2\": 0.20030372076306485, \"LF1\": -0.12926557199382935, \"labels\": \"entertainment\"}, {\"LF2\": 0.329224208484703, \"LF1\": -0.04596620099699284, \"labels\": \"entertainment\"}, {\"LF2\": 0.3785349008681004, \"LF1\": -0.09220615872255604, \"labels\": \"entertainment\"}, {\"LF2\": 0.4055056136111339, \"LF1\": 0.17822038687186556, \"labels\": \"politics\"}, {\"LF2\": 0.30621309183192313, \"LF1\": -0.04353386324926814, \"labels\": \"sport\"}, {\"LF2\": 0.3578121711734187, \"LF1\": 0.19264877260701124, \"labels\": \"politics\"}, {\"LF2\": 0.33549019252983314, \"LF1\": 0.14589256749780563, \"labels\": \"politics\"}, {\"LF2\": 0.4104293822626991, \"LF1\": -0.04222148325945671, \"labels\": \"tech\"}, {\"LF2\": 0.38936142681896624, \"LF1\": 0.2069958631959721, \"labels\": \"politics\"}, {\"LF2\": 0.2218894192095592, \"LF1\": -0.016990072062227916, \"labels\": \"business\"}, {\"LF2\": 0.4378933073222724, \"LF1\": 0.03179528611940318, \"labels\": \"politics\"}, {\"LF2\": 0.44158970569245926, \"LF1\": -0.024342988961184118, \"labels\": \"business\"}, {\"LF2\": 0.30220210295585254, \"LF1\": -0.15401109206335395, \"labels\": \"sport\"}, {\"LF2\": 0.35421007893406875, \"LF1\": -0.07239375663382945, \"labels\": \"entertainment\"}, {\"LF2\": 0.42096321343210547, \"LF1\": -0.033239642708587945, \"labels\": \"business\"}, {\"LF2\": 0.21847991203008213, \"LF1\": -0.0077649169659236815, \"labels\": \"business\"}, {\"LF2\": 0.3560503499181528, \"LF1\": -0.0016297121502535337, \"labels\": \"business\"}, {\"LF2\": 0.30697380944064206, \"LF1\": -0.025698953912263067, \"labels\": \"sport\"}, {\"LF2\": 0.5127830840213249, \"LF1\": -0.1206350141611266, \"labels\": \"sport\"}, {\"LF2\": 0.247804834012355, \"LF1\": 0.013211081357819648, \"labels\": \"politics\"}, {\"LF2\": 0.47454133012054756, \"LF1\": 0.31554046596012314, \"labels\": \"politics\"}, {\"LF2\": 0.3384270279712373, \"LF1\": -0.0373264417177628, \"labels\": \"sport\"}, {\"LF2\": 0.30844729791428227, \"LF1\": 0.00732077666564292, \"labels\": \"tech\"}, {\"LF2\": 0.3567752615026038, \"LF1\": -0.175856497791556, \"labels\": \"tech\"}, {\"LF2\": 0.4122965090568538, \"LF1\": -0.12136184420890035, \"labels\": \"sport\"}, {\"LF2\": 0.42093227973044384, \"LF1\": -0.024782973032200197, \"labels\": \"tech\"}, {\"LF2\": 0.5703632461485343, \"LF1\": -0.13513571243401465, \"labels\": \"entertainment\"}, {\"LF2\": 0.2910522408511175, \"LF1\": 0.029870158833411656, \"labels\": \"politics\"}, {\"LF2\": 0.4283103223174861, \"LF1\": 0.04266510406198357, \"labels\": \"tech\"}, {\"LF2\": 0.3284720140170844, \"LF1\": 0.23036478513455894, \"labels\": \"politics\"}, {\"LF2\": 0.30855954504132643, \"LF1\": -0.18535035709786823, \"labels\": \"entertainment\"}, {\"LF2\": 0.4114143884553267, \"LF1\": -0.15637007418882942, \"labels\": \"sport\"}, {\"LF2\": 0.35690791270891836, \"LF1\": 0.009580939555255939, \"labels\": \"business\"}, {\"LF2\": 0.33901697998922126, \"LF1\": 0.010475689895851856, \"labels\": \"tech\"}, {\"LF2\": 0.26406283505364175, \"LF1\": -0.06557834628835177, \"labels\": \"sport\"}, {\"LF2\": 0.3861547729502682, \"LF1\": 0.0009483923795289726, \"labels\": \"business\"}, {\"LF2\": 0.33997255067579074, \"LF1\": 0.1626290682918872, \"labels\": \"politics\"}, {\"LF2\": 0.2751902801592932, \"LF1\": -0.03439190604484856, \"labels\": \"entertainment\"}, {\"LF2\": 0.3235153764847443, \"LF1\": 0.00675761035976615, \"labels\": \"politics\"}, {\"LF2\": 0.3795149545606136, \"LF1\": -0.12999751767253045, \"labels\": \"sport\"}, {\"LF2\": 0.2372199160131774, \"LF1\": -0.005561022757841786, \"labels\": \"tech\"}, {\"LF2\": 0.3006240899580367, \"LF1\": -0.04734259292649648, \"labels\": \"sport\"}, {\"LF2\": 0.3260914936002196, \"LF1\": -0.024887543993736494, \"labels\": \"business\"}, {\"LF2\": 0.370245430432456, \"LF1\": -0.08892348383200002, \"labels\": \"sport\"}, {\"LF2\": 0.4276862060904183, \"LF1\": -0.015618398768150426, \"labels\": \"tech\"}, {\"LF2\": 0.46036805821043975, \"LF1\": 0.06122464647180456, \"labels\": \"business\"}, {\"LF2\": 0.4806240780460262, \"LF1\": 0.16629010226891178, \"labels\": \"politics\"}, {\"LF2\": 0.2814617562235157, \"LF1\": -0.027872864512837343, \"labels\": \"business\"}, {\"LF2\": 0.314919301685046, \"LF1\": -0.015718819686103773, \"labels\": \"sport\"}, {\"LF2\": 0.2971323946997021, \"LF1\": -0.11310764641066814, \"labels\": \"sport\"}, {\"LF2\": 0.5418323189915774, \"LF1\": 0.023337995117048645, \"labels\": \"tech\"}, {\"LF2\": 0.36476904604879434, \"LF1\": -0.032965050503807734, \"labels\": \"tech\"}, {\"LF2\": 0.242469625476856, \"LF1\": -0.03713962249873485, \"labels\": \"business\"}, {\"LF2\": 0.22037757707349012, \"LF1\": -0.020907940804094208, \"labels\": \"business\"}, {\"LF2\": 0.5036101974291646, \"LF1\": 0.18883917326992616, \"labels\": \"politics\"}, {\"LF2\": 0.5270232585890857, \"LF1\": 0.17970793177414068, \"labels\": \"politics\"}, {\"LF2\": 0.4385586237221825, \"LF1\": -0.027134517019687217, \"labels\": \"business\"}, {\"LF2\": 0.32717242768283633, \"LF1\": -0.19944338761243838, \"labels\": \"entertainment\"}, {\"LF2\": 0.42761193423643246, \"LF1\": 0.08623935033866569, \"labels\": \"business\"}, {\"LF2\": 0.3397846854423533, \"LF1\": -0.06616327727653214, \"labels\": \"entertainment\"}, {\"LF2\": 0.29187587627845585, \"LF1\": -0.11307962613380253, \"labels\": \"sport\"}, {\"LF2\": 0.30027911830417847, \"LF1\": -0.11676151354036898, \"labels\": \"sport\"}, {\"LF2\": 0.2627905021110544, \"LF1\": -0.0889739151975166, \"labels\": \"entertainment\"}, {\"LF2\": 0.3233886825530619, \"LF1\": -0.07999727809991486, \"labels\": \"entertainment\"}, {\"LF2\": 0.30911155262086587, \"LF1\": 0.01256927575189112, \"labels\": \"business\"}, {\"LF2\": 0.3673955444564996, \"LF1\": 0.1172608839613454, \"labels\": \"politics\"}, {\"LF2\": 0.24974795695223412, \"LF1\": -0.005126727019521966, \"labels\": \"business\"}, {\"LF2\": 0.23304113776662588, \"LF1\": -0.045639896494915705, \"labels\": \"entertainment\"}, {\"LF2\": 0.2963619237521665, \"LF1\": -0.09087290460857732, \"labels\": \"sport\"}, {\"LF2\": 0.46551675860212494, \"LF1\": -0.0044543065315079105, \"labels\": \"tech\"}, {\"LF2\": 0.4346375009279835, \"LF1\": -0.07905462101879028, \"labels\": \"entertainment\"}, {\"LF2\": 0.42267279198158025, \"LF1\": -0.06418559579782512, \"labels\": \"tech\"}, {\"LF2\": 0.2725942079413967, \"LF1\": -0.05042738039751012, \"labels\": \"entertainment\"}, {\"LF2\": 0.2453703570629559, \"LF1\": 0.01212552304880443, \"labels\": \"business\"}, {\"LF2\": 0.416899314528473, \"LF1\": -0.04439498603482623, \"labels\": \"tech\"}, {\"LF2\": 0.30222700764454274, \"LF1\": 0.013853855882978114, \"labels\": \"entertainment\"}, {\"LF2\": 0.3581998187131175, \"LF1\": 0.009409507065259079, \"labels\": \"business\"}, {\"LF2\": 0.45556482597014564, \"LF1\": -0.06149141343867675, \"labels\": \"business\"}, {\"LF2\": 0.30745536921838795, \"LF1\": 0.026274166920094433, \"labels\": \"business\"}, {\"LF2\": 0.22848721469746672, \"LF1\": -0.0013195128998481625, \"labels\": \"business\"}, {\"LF2\": 0.2505671730920732, \"LF1\": -0.05845919573350107, \"labels\": \"entertainment\"}, {\"LF2\": 0.35474837558509414, \"LF1\": -0.034057300645115314, \"labels\": \"tech\"}, {\"LF2\": 0.2678761827261413, \"LF1\": -0.012031016070804524, \"labels\": \"tech\"}, {\"LF2\": 0.41846158181027127, \"LF1\": -0.05068370619690151, \"labels\": \"tech\"}, {\"LF2\": 0.3378801123928485, \"LF1\": -0.08585629586399163, \"labels\": \"entertainment\"}, {\"LF2\": 0.4809711015131778, \"LF1\": 0.028773690151064825, \"labels\": \"tech\"}, {\"LF2\": 0.4196978243854478, \"LF1\": -0.10492446583766463, \"labels\": \"sport\"}, {\"LF2\": 0.29828417505621074, \"LF1\": -0.0538700456567594, \"labels\": \"entertainment\"}, {\"LF2\": 0.3281417502385696, \"LF1\": 0.04108461463269146, \"labels\": \"politics\"}, {\"LF2\": 0.40080960370742447, \"LF1\": -0.005964745189593243, \"labels\": \"tech\"}, {\"LF2\": 0.3057906817792034, \"LF1\": -0.026897757905239655, \"labels\": \"business\"}, {\"LF2\": 0.30725304975122897, \"LF1\": -0.0522858425511541, \"labels\": \"sport\"}, {\"LF2\": 0.3625064567599146, \"LF1\": -0.019622529356199205, \"labels\": \"entertainment\"}, {\"LF2\": 0.30065226520849225, \"LF1\": -0.0677778710600222, \"labels\": \"sport\"}, {\"LF2\": 0.38908768202803834, \"LF1\": -0.012113554451901484, \"labels\": \"tech\"}, {\"LF2\": 0.355332161342681, \"LF1\": 0.0016105459083033146, \"labels\": \"tech\"}, {\"LF2\": 0.4754422317500849, \"LF1\": 0.033901408334318935, \"labels\": \"business\"}, {\"LF2\": 0.34779622520929443, \"LF1\": 0.029121600301917874, \"labels\": \"tech\"}, {\"LF2\": 0.44243762232438777, \"LF1\": -0.04854768520406019, \"labels\": \"sport\"}, {\"LF2\": 0.2526709787267549, \"LF1\": -0.06371505507126805, \"labels\": \"sport\"}, {\"LF2\": 0.2956329769134456, \"LF1\": -0.09124638068982657, \"labels\": \"sport\"}, {\"LF2\": 0.22888076717734937, \"LF1\": -0.15909372481701692, \"labels\": \"entertainment\"}, {\"LF2\": 0.20512037021901156, \"LF1\": -0.14288796930559494, \"labels\": \"entertainment\"}, {\"LF2\": 0.38984214443576576, \"LF1\": -0.06332237195047204, \"labels\": \"business\"}, {\"LF2\": 0.3844883901421108, \"LF1\": -0.010193867417549213, \"labels\": \"entertainment\"}, {\"LF2\": 0.47091545188243394, \"LF1\": -0.07380316509208501, \"labels\": \"tech\"}, {\"LF2\": 0.34829697887621014, \"LF1\": 0.03541235716369365, \"labels\": \"tech\"}, {\"LF2\": 0.3945936868157385, \"LF1\": -0.04479594146279512, \"labels\": \"sport\"}, {\"LF2\": 0.6310444103927139, \"LF1\": -0.07235884358021105, \"labels\": \"entertainment\"}, {\"LF2\": 0.42639908271032745, \"LF1\": 0.010116063558978972, \"labels\": \"tech\"}, {\"LF2\": 0.22943327187022206, \"LF1\": -0.024108387636497537, \"labels\": \"business\"}, {\"LF2\": 0.29608777838494377, \"LF1\": 0.12351302643265845, \"labels\": \"politics\"}, {\"LF2\": 0.3469570567598613, \"LF1\": -0.1015407136827666, \"labels\": \"entertainment\"}, {\"LF2\": 0.36511178768535035, \"LF1\": -0.04216074891885732, \"labels\": \"tech\"}, {\"LF2\": 0.4600774437423404, \"LF1\": 0.3737188389761581, \"labels\": \"politics\"}, {\"LF2\": 0.2551612122854169, \"LF1\": -0.05192407100914698, \"labels\": \"sport\"}, {\"LF2\": 0.3920769310210116, \"LF1\": -0.08415255665985871, \"labels\": \"sport\"}, {\"LF2\": 0.4843400576846206, \"LF1\": 0.15023625788621725, \"labels\": \"politics\"}, {\"LF2\": 0.3484683977551525, \"LF1\": 0.0379675774245019, \"labels\": \"politics\"}, {\"LF2\": 0.42663088976701086, \"LF1\": 0.054885224336241, \"labels\": \"business\"}, {\"LF2\": 0.2817266566156658, \"LF1\": -0.10630675937486515, \"labels\": \"sport\"}, {\"LF2\": 0.3336861610916765, \"LF1\": -0.10636136924758195, \"labels\": \"sport\"}, {\"LF2\": 0.44175085068207137, \"LF1\": -0.007101176371450875, \"labels\": \"business\"}, {\"LF2\": 0.2636909386504215, \"LF1\": -0.046060655450052314, \"labels\": \"entertainment\"}, {\"LF2\": 0.3172394852962812, \"LF1\": -0.12963074920275355, \"labels\": \"entertainment\"}, {\"LF2\": 0.3030128285512509, \"LF1\": 0.13558700691620285, \"labels\": \"politics\"}, {\"LF2\": 0.30445884292549247, \"LF1\": -0.0010471798300849423, \"labels\": \"business\"}, {\"LF2\": 0.1975604392337366, \"LF1\": -0.033425692019181705, \"labels\": \"business\"}, {\"LF2\": 0.3792993988081695, \"LF1\": 0.05180916085369096, \"labels\": \"business\"}, {\"LF2\": 0.20865986680997684, \"LF1\": -0.02140015214271477, \"labels\": \"business\"}, {\"LF2\": 0.4637173430248669, \"LF1\": -0.19513387776770152, \"labels\": \"sport\"}, {\"LF2\": 0.2745770524043354, \"LF1\": 0.005207583304824282, \"labels\": \"business\"}, {\"LF2\": 0.3484344647252117, \"LF1\": 0.006265987296187721, \"labels\": \"business\"}, {\"LF2\": 0.4062786960033142, \"LF1\": 0.27717976332656286, \"labels\": \"politics\"}, {\"LF2\": 0.45924993264276504, \"LF1\": 0.09490656409193277, \"labels\": \"politics\"}, {\"LF2\": 0.35735760703712904, \"LF1\": 0.009735374178916541, \"labels\": \"tech\"}, {\"LF2\": 0.1453826068219186, \"LF1\": -0.02200824955614736, \"labels\": \"entertainment\"}, {\"LF2\": 0.40988385061159766, \"LF1\": 0.0016116566246658615, \"labels\": \"politics\"}, {\"LF2\": 0.3239518835957732, \"LF1\": -0.007731483986720097, \"labels\": \"business\"}, {\"LF2\": 0.3675955337759755, \"LF1\": -0.020843646889068472, \"labels\": \"tech\"}, {\"LF2\": 0.3317437474903606, \"LF1\": -0.047252862821689855, \"labels\": \"business\"}, {\"LF2\": 0.32362704631154215, \"LF1\": 0.016692711238362242, \"labels\": \"business\"}, {\"LF2\": 0.43549620386936444, \"LF1\": -0.09401680239070163, \"labels\": \"sport\"}, {\"LF2\": 0.3297284137780706, \"LF1\": -0.0328021282044844, \"labels\": \"tech\"}, {\"LF2\": 0.35193015929559035, \"LF1\": -0.002273708805205093, \"labels\": \"tech\"}, {\"LF2\": 0.4164390863880246, \"LF1\": -0.12843055669866665, \"labels\": \"sport\"}, {\"LF2\": 0.3278405435829007, \"LF1\": 0.014219143139501426, \"labels\": \"entertainment\"}, {\"LF2\": 0.2654939496605566, \"LF1\": -0.0013736483959541686, \"labels\": \"tech\"}, {\"LF2\": 0.29748554259557675, \"LF1\": 0.02740672155642495, \"labels\": \"tech\"}, {\"LF2\": 0.28703788705758043, \"LF1\": -0.015162764382486043, \"labels\": \"tech\"}, {\"LF2\": 0.33195647913236537, \"LF1\": 0.06025151554531181, \"labels\": \"politics\"}, {\"LF2\": 0.28769389473056056, \"LF1\": 0.005719045134976435, \"labels\": \"tech\"}, {\"LF2\": 0.4591412105399946, \"LF1\": -0.06271267949244806, \"labels\": \"tech\"}, {\"LF2\": 0.2679197281002148, \"LF1\": 0.0025381229891022353, \"labels\": \"tech\"}, {\"LF2\": 0.26193163857287927, \"LF1\": 0.005220716831395542, \"labels\": \"business\"}, {\"LF2\": 0.41359765112487057, \"LF1\": 0.024315808139440655, \"labels\": \"business\"}, {\"LF2\": 0.34827396572314684, \"LF1\": 0.05393423034593509, \"labels\": \"business\"}, {\"LF2\": 0.2678761827261413, \"LF1\": -0.012031016070804524, \"labels\": \"tech\"}, {\"LF2\": 0.1901719151874152, \"LF1\": -0.06524906761975217, \"labels\": \"sport\"}, {\"LF2\": 0.4295125059282556, \"LF1\": 0.1164662278562618, \"labels\": \"business\"}, {\"LF2\": 0.47910913490728313, \"LF1\": 0.2036358824765111, \"labels\": \"politics\"}, {\"LF2\": 0.4924482806080721, \"LF1\": -0.012980734066092509, \"labels\": \"politics\"}, {\"LF2\": 0.16186322945581566, \"LF1\": -0.09392413069401158, \"labels\": \"entertainment\"}, {\"LF2\": 0.3064526020935465, \"LF1\": -0.015591838046140618, \"labels\": \"tech\"}, {\"LF2\": 0.4201537869104295, \"LF1\": 0.02291695933708717, \"labels\": \"politics\"}, {\"LF2\": 0.363121688340092, \"LF1\": -0.026074559631025476, \"labels\": \"entertainment\"}, {\"LF2\": 0.40722869101508286, \"LF1\": -0.19359545934662606, \"labels\": \"entertainment\"}, {\"LF2\": 0.33972723077730627, \"LF1\": -0.032374238391775334, \"labels\": \"business\"}, {\"LF2\": 0.4547316882546364, \"LF1\": 0.045867800887857565, \"labels\": \"politics\"}, {\"LF2\": 0.3302694690534886, \"LF1\": -0.029210562277672186, \"labels\": \"sport\"}, {\"LF2\": 0.3698095856423383, \"LF1\": -0.09945354920704405, \"labels\": \"sport\"}, {\"LF2\": 0.40360362825809765, \"LF1\": -0.10620937761387586, \"labels\": \"sport\"}, {\"LF2\": 0.32079597510134067, \"LF1\": -0.0325471462960031, \"labels\": \"sport\"}, {\"LF2\": 0.40026854664733946, \"LF1\": 0.08841482177270545, \"labels\": \"politics\"}, {\"LF2\": 0.41660495908947937, \"LF1\": -0.07908258520835784, \"labels\": \"entertainment\"}, {\"LF2\": 0.5639971147341812, \"LF1\": 0.0037832404438163597, \"labels\": \"business\"}, {\"LF2\": 0.16117520310976882, \"LF1\": -0.013237497855130653, \"labels\": \"business\"}, {\"LF2\": 0.41103736520502293, \"LF1\": 0.04861551094333205, \"labels\": \"politics\"}, {\"LF2\": 0.3428197242865182, \"LF1\": -0.10065140250005147, \"labels\": \"sport\"}, {\"LF2\": 0.3861373483610838, \"LF1\": -0.09243745398994323, \"labels\": \"entertainment\"}, {\"LF2\": 0.2793492170959084, \"LF1\": -0.047205219013428106, \"labels\": \"entertainment\"}, {\"LF2\": 0.23242831864727045, \"LF1\": -0.12320208134245268, \"labels\": \"sport\"}, {\"LF2\": 0.2817463371721432, \"LF1\": 0.016800523219497612, \"labels\": \"business\"}, {\"LF2\": 0.32578523633079975, \"LF1\": 0.14428716631307095, \"labels\": \"politics\"}, {\"LF2\": 0.29170872450407503, \"LF1\": -0.03694423522749737, \"labels\": \"entertainment\"}, {\"LF2\": 0.34583228517351783, \"LF1\": 0.026123897459883163, \"labels\": \"business\"}, {\"LF2\": 0.2742005230217394, \"LF1\": -0.12468648339414382, \"labels\": \"sport\"}, {\"LF2\": 0.24047067303709313, \"LF1\": -0.03466839142709256, \"labels\": \"tech\"}, {\"LF2\": 0.2273687993419151, \"LF1\": -0.0891329703893965, \"labels\": \"sport\"}, {\"LF2\": 0.39500097350387586, \"LF1\": -0.12011545273962251, \"labels\": \"sport\"}, {\"LF2\": 0.18982971408270577, \"LF1\": 0.024874779733255165, \"labels\": \"business\"}, {\"LF2\": 0.4101438431748225, \"LF1\": -0.030461845292698207, \"labels\": \"tech\"}, {\"LF2\": 0.44524900320254507, \"LF1\": 0.16781512181420907, \"labels\": \"politics\"}, {\"LF2\": 0.3780582364140179, \"LF1\": 0.047155959923578704, \"labels\": \"business\"}, {\"LF2\": 0.4461650347738692, \"LF1\": -0.05512670789446351, \"labels\": \"tech\"}, {\"LF2\": 0.379330220201484, \"LF1\": 0.19873580793766407, \"labels\": \"politics\"}, {\"LF2\": 0.37999464982363357, \"LF1\": -0.006709751448568732, \"labels\": \"politics\"}, {\"LF2\": 0.3184896844930869, \"LF1\": 0.1353494846845635, \"labels\": \"politics\"}, {\"LF2\": 0.2323705492353907, \"LF1\": -0.06162438132299267, \"labels\": \"sport\"}, {\"LF2\": 0.4009783942115963, \"LF1\": 0.03933014485547587, \"labels\": \"business\"}, {\"LF2\": 0.3486981658659773, \"LF1\": -0.028602308827241074, \"labels\": \"sport\"}, {\"LF2\": 0.2764246828128129, \"LF1\": -0.1533140883717768, \"labels\": \"entertainment\"}, {\"LF2\": 0.29463527899642833, \"LF1\": 0.20808366831594594, \"labels\": \"politics\"}, {\"LF2\": 0.27668080756094776, \"LF1\": 0.03800391599650547, \"labels\": \"tech\"}, {\"LF2\": 0.29369547102746146, \"LF1\": -0.006052415601731824, \"labels\": \"tech\"}, {\"LF2\": 0.3953333767822758, \"LF1\": -0.014840542435833541, \"labels\": \"business\"}, {\"LF2\": 0.5161416368980307, \"LF1\": -0.004328367552340907, \"labels\": \"tech\"}, {\"LF2\": 0.3328714165172375, \"LF1\": 0.02927254850079647, \"labels\": \"business\"}, {\"LF2\": 0.32023852096952404, \"LF1\": -0.08964511371381242, \"labels\": \"entertainment\"}, {\"LF2\": 0.2381406989658921, \"LF1\": 0.0025584307199920577, \"labels\": \"entertainment\"}, {\"LF2\": 0.414771011300398, \"LF1\": 0.08584954325653214, \"labels\": \"politics\"}, {\"LF2\": 0.31384778038296374, \"LF1\": -0.021440586451363843, \"labels\": \"business\"}, {\"LF2\": 0.4361712844687151, \"LF1\": 0.205634618058364, \"labels\": \"politics\"}, {\"LF2\": 0.42210165434145897, \"LF1\": 0.13675744830616263, \"labels\": \"business\"}, {\"LF2\": 0.36650104537141215, \"LF1\": -0.05494199687011526, \"labels\": \"entertainment\"}, {\"LF2\": 0.22924158020056049, \"LF1\": -0.03906736174706368, \"labels\": \"entertainment\"}, {\"LF2\": 0.29139422645375757, \"LF1\": 0.01575996312094589, \"labels\": \"business\"}, {\"LF2\": 0.4413339622645096, \"LF1\": 0.1557480790691947, \"labels\": \"politics\"}, {\"LF2\": 0.32055756113188777, \"LF1\": 0.009240735859995935, \"labels\": \"business\"}, {\"LF2\": 0.5298904962408101, \"LF1\": -0.06169114523094102, \"labels\": \"tech\"}, {\"LF2\": 0.1696949931735152, \"LF1\": -0.015402894206479001, \"labels\": \"business\"}, {\"LF2\": 0.2564634393008317, \"LF1\": 0.0022893984483253857, \"labels\": \"business\"}, {\"LF2\": 0.43837066470642283, \"LF1\": -0.05969963284164553, \"labels\": \"tech\"}, {\"LF2\": 0.3422840353450909, \"LF1\": 0.060729682379230765, \"labels\": \"politics\"}, {\"LF2\": 0.26950822203885244, \"LF1\": -0.03838435230528329, \"labels\": \"business\"}, {\"LF2\": 0.2972537812161942, \"LF1\": -0.01611760168743032, \"labels\": \"tech\"}, {\"LF2\": 0.23245114711838274, \"LF1\": 0.006956042174738067, \"labels\": \"business\"}, {\"LF2\": 0.21786022896794854, \"LF1\": 0.14417553474787217, \"labels\": \"politics\"}, {\"LF2\": 0.23267245952171373, \"LF1\": -0.15682039919610097, \"labels\": \"entertainment\"}, {\"LF2\": 0.33092939969437535, \"LF1\": -0.08668066327884622, \"labels\": \"sport\"}, {\"LF2\": 0.27524778330265587, \"LF1\": -0.09528767929347959, \"labels\": \"entertainment\"}, {\"LF2\": 0.42736571682979896, \"LF1\": -0.08953841559373059, \"labels\": \"sport\"}, {\"LF2\": 0.4022773707642782, \"LF1\": -0.04248768865320293, \"labels\": \"entertainment\"}, {\"LF2\": 0.339139673729211, \"LF1\": -0.025317230164949727, \"labels\": \"sport\"}, {\"LF2\": 0.3507654755327729, \"LF1\": 0.01628826645857429, \"labels\": \"business\"}, {\"LF2\": 0.3193783451012874, \"LF1\": -0.06802623982047303, \"labels\": \"tech\"}, {\"LF2\": 0.33513035633432176, \"LF1\": 0.015614177590498827, \"labels\": \"tech\"}, {\"LF2\": 0.22613525947121157, \"LF1\": -0.11908689525081033, \"labels\": \"sport\"}, {\"LF2\": 0.43651819915754325, \"LF1\": -0.043173183939592304, \"labels\": \"sport\"}, {\"LF2\": 0.25977832600591005, \"LF1\": -0.018783695998903335, \"labels\": \"business\"}, {\"LF2\": 0.2442107247742672, \"LF1\": 0.06091076847077991, \"labels\": \"politics\"}, {\"LF2\": 0.40327979934133595, \"LF1\": -0.004239872207598515, \"labels\": \"tech\"}, {\"LF2\": 0.35396571123022247, \"LF1\": -0.03666516080656754, \"labels\": \"tech\"}, {\"LF2\": 0.25722116054127014, \"LF1\": -0.002391287288592531, \"labels\": \"tech\"}, {\"LF2\": 0.3023358302519172, \"LF1\": 0.00031104420774879306, \"labels\": \"business\"}, {\"LF2\": 0.1840317392481866, \"LF1\": -0.08833528937515275, \"labels\": \"sport\"}, {\"LF2\": 0.2814101675170705, \"LF1\": -0.04464203858340271, \"labels\": \"business\"}, {\"LF2\": 0.2575741820303886, \"LF1\": 0.006604622087633335, \"labels\": \"business\"}, {\"LF2\": 0.23002744704626055, \"LF1\": 0.035511652247386935, \"labels\": \"business\"}, {\"LF2\": 0.2852137770397913, \"LF1\": -0.012337086413216545, \"labels\": \"business\"}, {\"LF2\": 0.43736792863275725, \"LF1\": -0.010409670948873163, \"labels\": \"business\"}, {\"LF2\": 0.3223177830537017, \"LF1\": -0.09005565386596867, \"labels\": \"entertainment\"}, {\"LF2\": 0.4303205844092009, \"LF1\": -0.05350288632020096, \"labels\": \"tech\"}, {\"LF2\": 0.5045661381303483, \"LF1\": -0.13031479291891934, \"labels\": \"sport\"}, {\"LF2\": 0.2860455497050779, \"LF1\": -0.026750873839252783, \"labels\": \"sport\"}, {\"LF2\": 0.4975397501924784, \"LF1\": 0.30417827985664503, \"labels\": \"politics\"}, {\"LF2\": 0.3705911169567344, \"LF1\": -0.003642811584156745, \"labels\": \"tech\"}, {\"LF2\": 0.3721336011830807, \"LF1\": -0.0021237672621795697, \"labels\": \"tech\"}, {\"LF2\": 0.2672427094399492, \"LF1\": -0.005198550290133157, \"labels\": \"business\"}, {\"LF2\": 0.3745144509951152, \"LF1\": 0.00435221931291377, \"labels\": \"tech\"}, {\"LF2\": 0.2600898557236509, \"LF1\": 0.0036551534313948664, \"labels\": \"business\"}, {\"LF2\": 0.49414980777129935, \"LF1\": 0.35659549612553004, \"labels\": \"politics\"}, {\"LF2\": 0.30423261936405177, \"LF1\": -0.0604095577258035, \"labels\": \"entertainment\"}, {\"LF2\": 0.29173678594485636, \"LF1\": 0.017054742323025254, \"labels\": \"tech\"}, {\"LF2\": 0.44794758262345874, \"LF1\": -0.035457376630433475, \"labels\": \"business\"}, {\"LF2\": 0.3804750449600595, \"LF1\": 0.04263873982452102, \"labels\": \"business\"}, {\"LF2\": 0.36747867090829844, \"LF1\": 0.08307450043995997, \"labels\": \"politics\"}, {\"LF2\": 0.34926344223601236, \"LF1\": 0.035457105257074566, \"labels\": \"tech\"}, {\"LF2\": 0.31245869749247945, \"LF1\": -0.11314924611975458, \"labels\": \"entertainment\"}, {\"LF2\": 0.27082983600444444, \"LF1\": -0.02126128390553664, \"labels\": \"business\"}, {\"LF2\": 0.33285968090431456, \"LF1\": -0.0402880542977395, \"labels\": \"tech\"}, {\"LF2\": 0.26752575866598416, \"LF1\": 0.05036536936145819, \"labels\": \"entertainment\"}, {\"LF2\": 0.23590763917600885, \"LF1\": -0.02262740531244321, \"labels\": \"entertainment\"}, {\"LF2\": 0.23070493279325469, \"LF1\": -0.06605965197668329, \"labels\": \"sport\"}, {\"LF2\": 0.30984298561874934, \"LF1\": 0.20997097873306186, \"labels\": \"politics\"}, {\"LF2\": 0.3854001202762191, \"LF1\": -0.1265508597601875, \"labels\": \"sport\"}, {\"LF2\": 0.3038694721902916, \"LF1\": 0.012641193322549746, \"labels\": \"business\"}, {\"LF2\": 0.3043482164307587, \"LF1\": -0.08321232085561761, \"labels\": \"entertainment\"}, {\"LF2\": 0.19526418200102152, \"LF1\": -0.015151469806159999, \"labels\": \"entertainment\"}, {\"LF2\": 0.3954060149877255, \"LF1\": 0.014023990107111849, \"labels\": \"business\"}, {\"LF2\": 0.3664791962750118, \"LF1\": 0.14867442784611898, \"labels\": \"politics\"}, {\"LF2\": 0.24934525262325768, \"LF1\": -0.015284990066107758, \"labels\": \"business\"}, {\"LF2\": 0.4540137653409735, \"LF1\": -0.00875916975527308, \"labels\": \"tech\"}, {\"LF2\": 0.4505504906179705, \"LF1\": 0.02735723500382718, \"labels\": \"tech\"}, {\"LF2\": 0.39600805076894974, \"LF1\": 0.021270390553104014, \"labels\": \"business\"}, {\"LF2\": 0.2967323134809295, \"LF1\": -0.09649232205934676, \"labels\": \"entertainment\"}, {\"LF2\": 0.4196390743491363, \"LF1\": -0.05108447216581644, \"labels\": \"tech\"}, {\"LF2\": 0.44471764251365353, \"LF1\": -0.00716134991080481, \"labels\": \"tech\"}, {\"LF2\": 0.29691418045105206, \"LF1\": -0.1287170869270125, \"labels\": \"sport\"}, {\"LF2\": 0.424445163909469, \"LF1\": -0.0662899316082952, \"labels\": \"sport\"}, {\"LF2\": 0.30855954504132643, \"LF1\": -0.18535035709786823, \"labels\": \"entertainment\"}, {\"LF2\": 0.29187587627845585, \"LF1\": -0.11307962613380253, \"labels\": \"sport\"}, {\"LF2\": 0.3771369329096577, \"LF1\": -0.02660201353053358, \"labels\": \"entertainment\"}, {\"LF2\": 0.3481493999224706, \"LF1\": 0.12521091275113336, \"labels\": \"politics\"}, {\"LF2\": 0.21488628175972727, \"LF1\": -0.0173570400311772, \"labels\": \"entertainment\"}, {\"LF2\": 0.2805192304608671, \"LF1\": -0.009605862593773547, \"labels\": \"tech\"}, {\"LF2\": 0.16552886498903416, \"LF1\": -0.03384394785567032, \"labels\": \"entertainment\"}, {\"LF2\": 0.27680188224291824, \"LF1\": 0.032722062051282474, \"labels\": \"politics\"}, {\"LF2\": 0.3652255008755696, \"LF1\": 0.024957120698225494, \"labels\": \"politics\"}, {\"LF2\": 0.3027869424073983, \"LF1\": 0.1001636620280149, \"labels\": \"business\"}, {\"LF2\": 0.22884312775940457, \"LF1\": 0.007667619007371445, \"labels\": \"business\"}, {\"LF2\": 0.35963193202224025, \"LF1\": 0.004902382156488934, \"labels\": \"tech\"}, {\"LF2\": 0.24015220381782665, \"LF1\": -0.06436522123412275, \"labels\": \"sport\"}, {\"LF2\": 0.2889823628602904, \"LF1\": -0.03279274505319049, \"labels\": \"sport\"}, {\"LF2\": 0.35873795326589036, \"LF1\": -0.022436980302128946, \"labels\": \"business\"}, {\"LF2\": 0.2094410269044059, \"LF1\": 0.00666570106951346, \"labels\": \"tech\"}, {\"LF2\": 0.5162073062579111, \"LF1\": 0.19784374809575653, \"labels\": \"politics\"}, {\"LF2\": 0.3421221162608356, \"LF1\": 0.06514867612277453, \"labels\": \"politics\"}, {\"LF2\": 0.40311937581480317, \"LF1\": -0.001399997391686786, \"labels\": \"business\"}, {\"LF2\": 0.36372783199804937, \"LF1\": -0.040479878467367676, \"labels\": \"entertainment\"}, {\"LF2\": 0.2081632364525132, \"LF1\": -0.0902000506784711, \"labels\": \"sport\"}, {\"LF2\": 0.08908172392162553, \"LF1\": -0.02667114485062829, \"labels\": \"sport\"}, {\"LF2\": 0.43268334985775037, \"LF1\": 0.3204625772766983, \"labels\": \"politics\"}, {\"LF2\": 0.35392076037343956, \"LF1\": -0.05855069439476965, \"labels\": \"tech\"}, {\"LF2\": 0.3279957382678766, \"LF1\": -0.10368367381526997, \"labels\": \"sport\"}, {\"LF2\": 0.3488452856696545, \"LF1\": -0.1740751328648948, \"labels\": \"sport\"}, {\"LF2\": 0.3285808721776214, \"LF1\": -0.038379925290556456, \"labels\": \"business\"}, {\"LF2\": 0.3836627495551755, \"LF1\": 0.1304626910885167, \"labels\": \"politics\"}, {\"LF2\": 0.2765828463691154, \"LF1\": 0.005945387489530755, \"labels\": \"business\"}, {\"LF2\": 0.23689402195839473, \"LF1\": -0.0499689112789216, \"labels\": \"entertainment\"}, {\"LF2\": 0.40035625323681506, \"LF1\": 0.004096373762768849, \"labels\": \"tech\"}, {\"LF2\": 0.2932363436530779, \"LF1\": -0.005052407613913099, \"labels\": \"politics\"}, {\"LF2\": 0.14776186005642936, \"LF1\": -0.07485702099490207, \"labels\": \"sport\"}, {\"LF2\": 0.11590724123717508, \"LF1\": -0.02634224091141822, \"labels\": \"sport\"}, {\"LF2\": 0.42107113258476575, \"LF1\": 0.028623071479891547, \"labels\": \"tech\"}, {\"LF2\": 0.32500267172547065, \"LF1\": 0.03972506366588386, \"labels\": \"politics\"}, {\"LF2\": 0.273249062930287, \"LF1\": 0.011706779407037229, \"labels\": \"business\"}, {\"LF2\": 0.3653263316731188, \"LF1\": -0.0865802589369124, \"labels\": \"sport\"}, {\"LF2\": 0.3082998274875437, \"LF1\": 0.031050358126674983, \"labels\": \"politics\"}, {\"LF2\": 0.3237479537505706, \"LF1\": 0.07421800583142227, \"labels\": \"politics\"}, {\"LF2\": 0.2301708619937974, \"LF1\": -0.04532562869710919, \"labels\": \"sport\"}, {\"LF2\": 0.21642509341343552, \"LF1\": -0.03725879424899224, \"labels\": \"business\"}, {\"LF2\": 0.35552161408241456, \"LF1\": -0.021792966932508977, \"labels\": \"tech\"}, {\"LF2\": 0.44609206877885665, \"LF1\": 0.20529058165463754, \"labels\": \"politics\"}, {\"LF2\": 0.37356257910870844, \"LF1\": -0.00783098210720363, \"labels\": \"business\"}, {\"LF2\": 0.2462476074807667, \"LF1\": 0.0065880176461258185, \"labels\": \"tech\"}, {\"LF2\": 0.3552713699652648, \"LF1\": -0.06871603394962326, \"labels\": \"entertainment\"}, {\"LF2\": 0.2863314916639949, \"LF1\": 0.022212925696268766, \"labels\": \"business\"}, {\"LF2\": 0.2879793471149916, \"LF1\": 0.02055580546714916, \"labels\": \"tech\"}, {\"LF2\": 0.2765581748599493, \"LF1\": 0.08166097031805439, \"labels\": \"politics\"}, {\"LF2\": 0.281170993398417, \"LF1\": -0.050850799802655285, \"labels\": \"tech\"}, {\"LF2\": 0.403347115371036, \"LF1\": 0.19686270279658868, \"labels\": \"politics\"}, {\"LF2\": 0.4356624133109104, \"LF1\": -0.10458988712619179, \"labels\": \"entertainment\"}, {\"LF2\": 0.39052161960333304, \"LF1\": -0.06738871984154496, \"labels\": \"sport\"}, {\"LF2\": 0.448126418900948, \"LF1\": -0.03829741202778019, \"labels\": \"sport\"}, {\"LF2\": 0.3210253839073149, \"LF1\": 0.05406537889499592, \"labels\": \"business\"}, {\"LF2\": 0.2577486352088793, \"LF1\": -0.009158695772052302, \"labels\": \"business\"}, {\"LF2\": 0.3585543268911716, \"LF1\": -0.012278309545861524, \"labels\": \"tech\"}, {\"LF2\": 0.4801416262421623, \"LF1\": -0.06215907191773266, \"labels\": \"sport\"}, {\"LF2\": 0.3934777161605817, \"LF1\": -0.12429881793837501, \"labels\": \"entertainment\"}, {\"LF2\": 0.32023852096952404, \"LF1\": -0.08964511371381242, \"labels\": \"entertainment\"}, {\"LF2\": 0.3419370251656271, \"LF1\": -0.011155258327758577, \"labels\": \"tech\"}, {\"LF2\": 0.44827087331880006, \"LF1\": 0.23870865560039786, \"labels\": \"politics\"}, {\"LF2\": 0.3611128999408687, \"LF1\": -0.03461975118543049, \"labels\": \"entertainment\"}, {\"LF2\": 0.22540653749285622, \"LF1\": -0.007457515139681722, \"labels\": \"business\"}, {\"LF2\": 0.31374345052475405, \"LF1\": -0.023956627163433712, \"labels\": \"entertainment\"}, {\"LF2\": 0.3933329449644972, \"LF1\": -0.020011814800596082, \"labels\": \"tech\"}, {\"LF2\": 0.4046562344778445, \"LF1\": 0.05683942330958042, \"labels\": \"business\"}, {\"LF2\": 0.3321481689553521, \"LF1\": -0.05679972325024434, \"labels\": \"sport\"}, {\"LF2\": 0.25016855365697216, \"LF1\": -0.013659464092644309, \"labels\": \"business\"}, {\"LF2\": 0.444629448488726, \"LF1\": 0.05328664067682331, \"labels\": \"business\"}, {\"LF2\": 0.25480246351076985, \"LF1\": 0.06994270275958357, \"labels\": \"business\"}, {\"LF2\": 0.45146010465888503, \"LF1\": -0.02232539405908598, \"labels\": \"sport\"}, {\"LF2\": 0.41331251021586, \"LF1\": -0.15550536112018487, \"labels\": \"sport\"}, {\"LF2\": 0.3489831908307393, \"LF1\": 0.014446384081876833, \"labels\": \"tech\"}, {\"LF2\": 0.34916124460554937, \"LF1\": 0.003994522966592655, \"labels\": \"business\"}, {\"LF2\": 0.4067421026851851, \"LF1\": -0.0941443806347843, \"labels\": \"sport\"}, {\"LF2\": 0.3634316020692729, \"LF1\": 0.03602197452429063, \"labels\": \"politics\"}, {\"LF2\": 0.19185470540838684, \"LF1\": -0.05911622915563277, \"labels\": \"sport\"}, {\"LF2\": 0.28526968019114923, \"LF1\": -0.10502934799138271, \"labels\": \"entertainment\"}, {\"LF2\": 0.2661922176227844, \"LF1\": -0.029612363843450472, \"labels\": \"business\"}, {\"LF2\": 0.4312727243996019, \"LF1\": -0.2106110166303746, \"labels\": \"entertainment\"}, {\"LF2\": 0.2639156866182992, \"LF1\": -0.08552360537874727, \"labels\": \"entertainment\"}, {\"LF2\": 0.3293121808898073, \"LF1\": 0.17294942368260796, \"labels\": \"politics\"}, {\"LF2\": 0.3984844920342122, \"LF1\": 0.034441661311953156, \"labels\": \"tech\"}, {\"LF2\": 0.45669337905589197, \"LF1\": -0.014603580958342842, \"labels\": \"tech\"}, {\"LF2\": 0.1842279684229708, \"LF1\": -0.032590260366952624, \"labels\": \"sport\"}, {\"LF2\": 0.1908854349876342, \"LF1\": -0.00036822032008517695, \"labels\": \"business\"}, {\"LF2\": 0.22391670057736263, \"LF1\": -0.12941275685661194, \"labels\": \"sport\"}, {\"LF2\": 0.35205163628090574, \"LF1\": -0.048157850377356405, \"labels\": \"sport\"}, {\"LF2\": 0.3176409074398549, \"LF1\": -0.005522820629751755, \"labels\": \"tech\"}, {\"LF2\": 0.3806784166900678, \"LF1\": -0.04723862999022316, \"labels\": \"entertainment\"}, {\"LF2\": 0.3840350074941027, \"LF1\": -0.048184986282231175, \"labels\": \"business\"}, {\"LF2\": 0.21237579632964587, \"LF1\": -0.018893746503610084, \"labels\": \"business\"}, {\"LF2\": 0.33458045034066697, \"LF1\": 0.013616488149777693, \"labels\": \"business\"}, {\"LF2\": 0.45453608398752116, \"LF1\": 0.19857693023903286, \"labels\": \"politics\"}, {\"LF2\": 0.23891772168170586, \"LF1\": -0.08117587217849709, \"labels\": \"sport\"}, {\"LF2\": 0.29369547102746146, \"LF1\": -0.006052415601731824, \"labels\": \"tech\"}, {\"LF2\": 0.4112201606423982, \"LF1\": 0.106713437853404, \"labels\": \"politics\"}, {\"LF2\": 0.3191158807699909, \"LF1\": 5.4618415488245356e-05, \"labels\": \"business\"}, {\"LF2\": 0.36914899757848596, \"LF1\": -0.027935675699018888, \"labels\": \"tech\"}, {\"LF2\": 0.3205747054925939, \"LF1\": -0.036044783741042426, \"labels\": \"tech\"}, {\"LF2\": 0.2638606474188386, \"LF1\": -0.08141389302560349, \"labels\": \"sport\"}, {\"LF2\": 0.25108517332418484, \"LF1\": -0.028447922510376367, \"labels\": \"business\"}, {\"LF2\": 0.5392465845006778, \"LF1\": -0.08003837150093268, \"labels\": \"sport\"}, {\"LF2\": 0.44491209276072713, \"LF1\": -0.02347990061541941, \"labels\": \"entertainment\"}, {\"LF2\": 0.36712755258662605, \"LF1\": 0.016895741741445633, \"labels\": \"business\"}, {\"LF2\": 0.3235022762886041, \"LF1\": -0.09946008900614567, \"labels\": \"sport\"}, {\"LF2\": 0.501047814823588, \"LF1\": -0.05184027248765754, \"labels\": \"tech\"}, {\"LF2\": 0.36293340563710597, \"LF1\": 0.010459704744806463, \"labels\": \"tech\"}, {\"LF2\": 0.25523984270983197, \"LF1\": -0.11837633462749589, \"labels\": \"entertainment\"}, {\"LF2\": 0.3321692961113404, \"LF1\": -0.022799858901768992, \"labels\": \"business\"}, {\"LF2\": 0.17272990965100413, \"LF1\": -0.08677907004330576, \"labels\": \"sport\"}, {\"LF2\": 0.30017892693683645, \"LF1\": 0.10035363302149099, \"labels\": \"politics\"}, {\"LF2\": 0.3837729367371755, \"LF1\": 0.023419944902803202, \"labels\": \"tech\"}, {\"LF2\": 0.2985681306464439, \"LF1\": -0.044847110031523425, \"labels\": \"sport\"}, {\"LF2\": 0.2855833646673792, \"LF1\": 0.022939175378575188, \"labels\": \"business\"}, {\"LF2\": 0.3562828338251409, \"LF1\": 0.012118571696708757, \"labels\": \"business\"}, {\"LF2\": 0.2788788688939139, \"LF1\": 0.004134226904186783, \"labels\": \"business\"}, {\"LF2\": 0.4214914498441465, \"LF1\": 0.07717795858576706, \"labels\": \"politics\"}, {\"LF2\": 0.2889145078370351, \"LF1\": -0.11048132907421558, \"labels\": \"sport\"}, {\"LF2\": 0.3178732928346065, \"LF1\": 0.011696433783107195, \"labels\": \"tech\"}, {\"LF2\": 0.32094941534921206, \"LF1\": -0.06615113922827144, \"labels\": \"entertainment\"}, {\"LF2\": 0.4079626371301764, \"LF1\": -0.03147655016651521, \"labels\": \"tech\"}, {\"LF2\": 0.4820313167022273, \"LF1\": -0.026844014551352557, \"labels\": \"tech\"}, {\"LF2\": 0.27397592242551055, \"LF1\": 0.0146952506248916, \"labels\": \"business\"}, {\"LF2\": 0.34376513546692716, \"LF1\": 0.16587196496381648, \"labels\": \"politics\"}, {\"LF2\": 0.29601439078022723, \"LF1\": -0.0011890974283584647, \"labels\": \"business\"}, {\"LF2\": 0.3849908030791318, \"LF1\": -0.08121521869392975, \"labels\": \"entertainment\"}, {\"LF2\": 0.2233184523934305, \"LF1\": -0.09323244415788066, \"labels\": \"entertainment\"}, {\"LF2\": 0.38480080179805837, \"LF1\": 0.044473441648835654, \"labels\": \"politics\"}, {\"LF2\": 0.4889035304214887, \"LF1\": -0.165912833004427, \"labels\": \"sport\"}, {\"LF2\": 0.45133451207435765, \"LF1\": 0.13989244178815247, \"labels\": \"politics\"}, {\"LF2\": 0.3101515641958285, \"LF1\": 0.052533944384737366, \"labels\": \"business\"}, {\"LF2\": 0.3445013119058238, \"LF1\": -0.10856818904148938, \"labels\": \"sport\"}, {\"LF2\": 0.37064236592800887, \"LF1\": 0.006264401034683327, \"labels\": \"business\"}, {\"LF2\": 0.525604987071731, \"LF1\": 0.06863154791783399, \"labels\": \"politics\"}, {\"LF2\": 0.2919295073084531, \"LF1\": -0.12597182369853743, \"labels\": \"sport\"}, {\"LF2\": 0.3482299173678634, \"LF1\": 0.08206221800047299, \"labels\": \"tech\"}, {\"LF2\": 0.19895223219510022, \"LF1\": -0.038300143512042806, \"labels\": \"sport\"}, {\"LF2\": 0.4283103223174861, \"LF1\": 0.04266510406198357, \"labels\": \"tech\"}, {\"LF2\": 0.3465249626756695, \"LF1\": 0.16115754738626603, \"labels\": \"politics\"}, {\"LF2\": 0.5263070659415588, \"LF1\": -0.14149641734959825, \"labels\": \"sport\"}, {\"LF2\": 0.36481163755142576, \"LF1\": -0.07907765392812387, \"labels\": \"sport\"}, {\"LF2\": 0.21901922294732776, \"LF1\": -0.003761443910753864, \"labels\": \"tech\"}, {\"LF2\": 0.19216285292804453, \"LF1\": -0.05197676619758398, \"labels\": \"entertainment\"}, {\"LF2\": 0.29886610125826335, \"LF1\": -0.2402078473031377, \"labels\": \"entertainment\"}, {\"LF2\": 0.3690929681537095, \"LF1\": 0.03410523609782066, \"labels\": \"tech\"}, {\"LF2\": 0.30415877567835004, \"LF1\": -0.04778843035783345, \"labels\": \"entertainment\"}, {\"LF2\": 0.3213692711016494, \"LF1\": -0.10836588751722662, \"labels\": \"sport\"}, {\"LF2\": 0.33082375584138307, \"LF1\": -0.04421532206402406, \"labels\": \"sport\"}, {\"LF2\": 0.36720941917961186, \"LF1\": -0.05612165539429158, \"labels\": \"tech\"}, {\"LF2\": 0.30698697018951643, \"LF1\": -0.07603433743979407, \"labels\": \"entertainment\"}, {\"LF2\": 0.3196201829339411, \"LF1\": -0.00252532500090137, \"labels\": \"tech\"}, {\"LF2\": 0.26221600075642904, \"LF1\": -0.11654093704753929, \"labels\": \"entertainment\"}, {\"LF2\": 0.36565071750724687, \"LF1\": -0.08426321401540388, \"labels\": \"entertainment\"}, {\"LF2\": 0.2862590760312048, \"LF1\": -0.06724327955026067, \"labels\": \"sport\"}, {\"LF2\": 0.3165503400390962, \"LF1\": -0.06029620762966603, \"labels\": \"sport\"}, {\"LF2\": 0.2440458091760581, \"LF1\": -0.053143039434981075, \"labels\": \"sport\"}, {\"LF2\": 0.3530327438054192, \"LF1\": -0.07393995158029312, \"labels\": \"entertainment\"}, {\"LF2\": 0.31039503858963996, \"LF1\": -0.0446000136711157, \"labels\": \"entertainment\"}, {\"LF2\": 0.3006748530043416, \"LF1\": 0.025608461313297477, \"labels\": \"tech\"}, {\"LF2\": 0.3619131113646103, \"LF1\": -0.08216681782630188, \"labels\": \"sport\"}, {\"LF2\": 0.4183290108389621, \"LF1\": 0.06513054270927153, \"labels\": \"politics\"}, {\"LF2\": 0.24314407944768177, \"LF1\": -0.15286842167646095, \"labels\": \"entertainment\"}, {\"LF2\": 0.256622410216753, \"LF1\": -0.048541106488959915, \"labels\": \"business\"}, {\"LF2\": 0.312885087263761, \"LF1\": -0.045618353860384285, \"labels\": \"sport\"}, {\"LF2\": 0.3583346153809147, \"LF1\": 0.07685615231806407, \"labels\": \"business\"}, {\"LF2\": 0.42092961181730715, \"LF1\": 0.04346528208662584, \"labels\": \"business\"}, {\"LF2\": 0.3605721087107142, \"LF1\": 0.1279719381848889, \"labels\": \"politics\"}, {\"LF2\": 0.3984087147995703, \"LF1\": 0.06058696594760921, \"labels\": \"politics\"}, {\"LF2\": 0.3712991118064467, \"LF1\": 0.04171261135784759, \"labels\": \"business\"}, {\"LF2\": 0.5455313323605775, \"LF1\": 0.23249325900350992, \"labels\": \"politics\"}, {\"LF2\": 0.5282598017892237, \"LF1\": 0.33662287891758846, \"labels\": \"politics\"}, {\"LF2\": 0.3664330432323285, \"LF1\": -0.06367639742251492, \"labels\": \"sport\"}, {\"LF2\": 0.4345483708971088, \"LF1\": 0.07930104891568841, \"labels\": \"politics\"}, {\"LF2\": 0.41163927568519426, \"LF1\": -0.09364464070095552, \"labels\": \"sport\"}, {\"LF2\": 0.27860712233239476, \"LF1\": -0.09086461154522103, \"labels\": \"sport\"}, {\"LF2\": 0.22472734036499442, \"LF1\": -0.044528413995283365, \"labels\": \"business\"}, {\"LF2\": 0.3222658242144423, \"LF1\": -0.05263511704931918, \"labels\": \"entertainment\"}, {\"LF2\": 0.3812276868448794, \"LF1\": -0.11945066177936803, \"labels\": \"sport\"}, {\"LF2\": 0.27365251369889093, \"LF1\": 0.014282908112934619, \"labels\": \"tech\"}, {\"LF2\": 0.2585481731342737, \"LF1\": -0.06687351896544796, \"labels\": \"sport\"}, {\"LF2\": 0.4494818088781908, \"LF1\": 0.03735134129316887, \"labels\": \"politics\"}, {\"LF2\": 0.3560940322127145, \"LF1\": -0.08806246261383277, \"labels\": \"entertainment\"}, {\"LF2\": 0.3178732928346065, \"LF1\": 0.011696433783107195, \"labels\": \"tech\"}, {\"LF2\": 0.3066098444270563, \"LF1\": -0.0660766534249656, \"labels\": \"sport\"}, {\"LF2\": 0.30428992916773245, \"LF1\": -0.09041656202586436, \"labels\": \"sport\"}, {\"LF2\": 0.29310493250183817, \"LF1\": 0.039394605196237956, \"labels\": \"business\"}, {\"LF2\": 0.4079626371301764, \"LF1\": -0.03147655016651521, \"labels\": \"tech\"}, {\"LF2\": 0.5076518233237796, \"LF1\": -0.08216781773483835, \"labels\": \"tech\"}, {\"LF2\": 0.23382893327634707, \"LF1\": -0.04112849096365586, \"labels\": \"entertainment\"}, {\"LF2\": 0.30510951073576215, \"LF1\": -0.19710276627134993, \"labels\": \"entertainment\"}, {\"LF2\": 0.45737740940570637, \"LF1\": 0.03666146745287809, \"labels\": \"tech\"}, {\"LF2\": 0.29270102495625905, \"LF1\": -0.07951921865954771, \"labels\": \"entertainment\"}, {\"LF2\": 0.23823306558699964, \"LF1\": 0.013904329260053723, \"labels\": \"politics\"}, {\"LF2\": 0.39679183132024265, \"LF1\": 0.21867984094595747, \"labels\": \"politics\"}, {\"LF2\": 0.26289648003683574, \"LF1\": -0.03703075700552165, \"labels\": \"sport\"}, {\"LF2\": 0.35131619384304313, \"LF1\": -0.04566783259073194, \"labels\": \"business\"}, {\"LF2\": 0.3760690868841916, \"LF1\": 0.011880301393555712, \"labels\": \"politics\"}, {\"LF2\": 0.4822189781568088, \"LF1\": 0.2734236907543998, \"labels\": \"politics\"}, {\"LF2\": 0.3378801123928485, \"LF1\": -0.08585629586399163, \"labels\": \"entertainment\"}, {\"LF2\": 0.5503850400532564, \"LF1\": 0.2405044907514947, \"labels\": \"politics\"}, {\"LF2\": 0.2414223685973778, \"LF1\": -0.14965639398003847, \"labels\": \"entertainment\"}, {\"LF2\": 0.43818569417755693, \"LF1\": -0.043541586976846354, \"labels\": \"tech\"}, {\"LF2\": 0.41939534845421794, \"LF1\": 0.018185644706789423, \"labels\": \"politics\"}, {\"LF2\": 0.2809586606224085, \"LF1\": -0.009785660750496564, \"labels\": \"entertainment\"}, {\"LF2\": 0.4864472044352021, \"LF1\": 0.0945350488199272, \"labels\": \"politics\"}, {\"LF2\": 0.3036667191175844, \"LF1\": -0.022245493715884065, \"labels\": \"sport\"}, {\"LF2\": 0.40793457238785896, \"LF1\": -0.06642725736054447, \"labels\": \"sport\"}, {\"LF2\": 0.6234999878479807, \"LF1\": 0.19929894200186116, \"labels\": \"politics\"}, {\"LF2\": 0.2986208856016344, \"LF1\": -0.0047582113791863005, \"labels\": \"business\"}, {\"LF2\": 0.5230374353221329, \"LF1\": 0.2987325412473857, \"labels\": \"politics\"}, {\"LF2\": 0.3853425535762465, \"LF1\": -0.06379461136379017, \"labels\": \"tech\"}, {\"LF2\": 0.30105353450311284, \"LF1\": 0.018378226629512995, \"labels\": \"business\"}, {\"LF2\": 0.35973968170364873, \"LF1\": -0.014431971946856323, \"labels\": \"business\"}, {\"LF2\": 0.10585637382441003, \"LF1\": -0.026067757058650623, \"labels\": \"sport\"}, {\"LF2\": 0.32404596956854154, \"LF1\": -0.0855698938216889, \"labels\": \"sport\"}, {\"LF2\": 0.2816073126537661, \"LF1\": -0.021487833923163474, \"labels\": \"tech\"}, {\"LF2\": 0.35608868484382306, \"LF1\": 0.09506112873053321, \"labels\": \"politics\"}, {\"LF2\": 0.21784129275552838, \"LF1\": -0.0454685408785134, \"labels\": \"sport\"}, {\"LF2\": 0.3557270110710456, \"LF1\": -0.06004422746883944, \"labels\": \"sport\"}, {\"LF2\": 0.29654890752795865, \"LF1\": 0.003238983238990893, \"labels\": \"tech\"}, {\"LF2\": 0.3005695124607376, \"LF1\": -0.07258878768253327, \"labels\": \"sport\"}, {\"LF2\": 0.35786320217936274, \"LF1\": 0.08237919536457647, \"labels\": \"politics\"}, {\"LF2\": 0.3344499073644419, \"LF1\": -0.01999185838147428, \"labels\": \"tech\"}, {\"LF2\": 0.4085314922916414, \"LF1\": -0.2350130265374456, \"labels\": \"entertainment\"}, {\"LF2\": 0.45516569687860575, \"LF1\": -0.047575886657620504, \"labels\": \"tech\"}, {\"LF2\": 0.3261292002782876, \"LF1\": -0.041457290325306206, \"labels\": \"entertainment\"}, {\"LF2\": 0.34236028089676507, \"LF1\": -0.022612121704256846, \"labels\": \"sport\"}, {\"LF2\": 0.37860116142204053, \"LF1\": 0.08567962616477456, \"labels\": \"politics\"}, {\"LF2\": 0.3914979762019553, \"LF1\": -0.03324108489225803, \"labels\": \"sport\"}, {\"LF2\": 0.32997522423968056, \"LF1\": -0.06169673955591012, \"labels\": \"entertainment\"}, {\"LF2\": 0.36228403542696935, \"LF1\": 0.029749051615801308, \"labels\": \"tech\"}, {\"LF2\": 0.31453067778851673, \"LF1\": -0.10911807229289366, \"labels\": \"entertainment\"}, {\"LF2\": 0.3826256491664047, \"LF1\": 0.008696952140799463, \"labels\": \"business\"}, {\"LF2\": 0.43943977166624376, \"LF1\": -0.08896046300656313, \"labels\": \"entertainment\"}, {\"LF2\": 0.38153201672817544, \"LF1\": 0.0326099318707764, \"labels\": \"tech\"}, {\"LF2\": 0.37542133608734085, \"LF1\": 0.05690609549106926, \"labels\": \"politics\"}, {\"LF2\": 0.3182762733809683, \"LF1\": -0.10175995967277005, \"labels\": \"sport\"}, {\"LF2\": 0.32362083771494937, \"LF1\": -0.004579664250436861, \"labels\": \"business\"}, {\"LF2\": 0.3362105368019254, \"LF1\": -0.1272202621722868, \"labels\": \"entertainment\"}, {\"LF2\": 0.2723981129956894, \"LF1\": 0.07689532517618726, \"labels\": \"business\"}, {\"LF2\": 0.3056318636064883, \"LF1\": -0.01412758950859349, \"labels\": \"business\"}, {\"LF2\": 0.33005715573436656, \"LF1\": -0.07334888963069676, \"labels\": \"entertainment\"}, {\"LF2\": 0.4524077303190882, \"LF1\": -0.07784462206442151, \"labels\": \"sport\"}, {\"LF2\": 0.33997321855543117, \"LF1\": -0.08080888749017696, \"labels\": \"sport\"}, {\"LF2\": 0.3156996633249352, \"LF1\": -0.05539576557642568, \"labels\": \"entertainment\"}, {\"LF2\": 0.24886274708367687, \"LF1\": -0.0013239691464306572, \"labels\": \"politics\"}, {\"LF2\": 0.3513399764434568, \"LF1\": 0.028931591833386273, \"labels\": \"politics\"}, {\"LF2\": 0.22711452348377956, \"LF1\": 0.009313597178892193, \"labels\": \"business\"}, {\"LF2\": 0.31257459530719556, \"LF1\": -0.016709436415760042, \"labels\": \"entertainment\"}, {\"LF2\": 0.3060687159076881, \"LF1\": 0.01405848064956258, \"labels\": \"tech\"}, {\"LF2\": 0.34087840942486536, \"LF1\": -0.044712211003855556, \"labels\": \"business\"}, {\"LF2\": 0.43674629324536335, \"LF1\": 0.13442882804710984, \"labels\": \"politics\"}, {\"LF2\": 0.22551451311180262, \"LF1\": -0.0027266481198796955, \"labels\": \"business\"}, {\"LF2\": 0.2683704347383762, \"LF1\": 0.0026689618025271928, \"labels\": \"business\"}, {\"LF2\": 0.38136050857248677, \"LF1\": -0.1621144080869068, \"labels\": \"sport\"}, {\"LF2\": 0.363894747845676, \"LF1\": 0.01571739856836652, \"labels\": \"politics\"}, {\"LF2\": 0.28325725643841676, \"LF1\": -0.03152294579095829, \"labels\": \"business\"}, {\"LF2\": 0.402601838223997, \"LF1\": -0.08499192482520693, \"labels\": \"sport\"}, {\"LF2\": 0.31626302615129814, \"LF1\": 0.1638502769561297, \"labels\": \"politics\"}, {\"LF2\": 0.38995694460756775, \"LF1\": 0.02356643937470984, \"labels\": \"tech\"}, {\"LF2\": 0.2602740046559122, \"LF1\": -0.004314935709739184, \"labels\": \"tech\"}, {\"LF2\": 0.410077422636473, \"LF1\": -0.12624001263612047, \"labels\": \"entertainment\"}, {\"LF2\": 0.278136999149166, \"LF1\": -0.03572386226353889, \"labels\": \"business\"}, {\"LF2\": 0.22715685209013056, \"LF1\": -0.2129731658993048, \"labels\": \"entertainment\"}, {\"LF2\": 0.40387684051816897, \"LF1\": 0.1743377342792332, \"labels\": \"politics\"}, {\"LF2\": 0.3282823691680252, \"LF1\": -0.16913386636482466, \"labels\": \"sport\"}, {\"LF2\": 0.3063193119684215, \"LF1\": 0.05490424245693152, \"labels\": \"politics\"}, {\"LF2\": 0.26080336975528695, \"LF1\": 0.0231089364097699, \"labels\": \"entertainment\"}, {\"LF2\": 0.5597169036421212, \"LF1\": 0.286598622930271, \"labels\": \"politics\"}, {\"LF2\": 0.274950319871832, \"LF1\": -0.005142363245389637, \"labels\": \"tech\"}, {\"LF2\": 0.2674380555943798, \"LF1\": -0.031233964344848975, \"labels\": \"business\"}, {\"LF2\": 0.24345675773447015, \"LF1\": 0.004826561322143768, \"labels\": \"tech\"}, {\"LF2\": 0.37365826350026576, \"LF1\": -0.02628055242186481, \"labels\": \"business\"}, {\"LF2\": 0.4253307300866081, \"LF1\": 0.032328473349245074, \"labels\": \"politics\"}, {\"LF2\": 0.4677804007925657, \"LF1\": 0.16079514083017993, \"labels\": \"politics\"}, {\"LF2\": 0.28861706295466255, \"LF1\": 0.0033929789737855635, \"labels\": \"tech\"}, {\"LF2\": 0.21967901675648954, \"LF1\": 0.0010279054273544838, \"labels\": \"entertainment\"}, {\"LF2\": 0.33392370108384006, \"LF1\": -0.04491389399680204, \"labels\": \"sport\"}, {\"LF2\": 0.4981696467528201, \"LF1\": 0.1694586389590899, \"labels\": \"politics\"}, {\"LF2\": 0.3272460181525745, \"LF1\": 0.2166118682964662, \"labels\": \"politics\"}, {\"LF2\": 0.3168806944134914, \"LF1\": 0.1818667319407515, \"labels\": \"politics\"}, {\"LF2\": 0.3738064199482077, \"LF1\": 0.021327966874412817, \"labels\": \"politics\"}, {\"LF2\": 0.33315932260413234, \"LF1\": 0.1431977957995542, \"labels\": \"politics\"}, {\"LF2\": 0.16824914616739586, \"LF1\": -0.07119660420354561, \"labels\": \"sport\"}, {\"LF2\": 0.407478379841403, \"LF1\": -0.03509210599736546, \"labels\": \"business\"}, {\"LF2\": 0.2790018222274378, \"LF1\": -0.06436830014663249, \"labels\": \"sport\"}, {\"LF2\": 0.30873603754251366, \"LF1\": -0.014116696843196393, \"labels\": \"entertainment\"}, {\"LF2\": 0.22573707644821905, \"LF1\": -0.015460113962461023, \"labels\": \"business\"}, {\"LF2\": 0.37232395825831716, \"LF1\": -0.018874789277113425, \"labels\": \"tech\"}, {\"LF2\": 0.3008042724269025, \"LF1\": 0.01286118551676352, \"labels\": \"politics\"}, {\"LF2\": 0.31177840089428016, \"LF1\": -0.044861722572151416, \"labels\": \"sport\"}, {\"LF2\": 0.23044893604841954, \"LF1\": 0.0016955230631885967, \"labels\": \"business\"}, {\"LF2\": 0.3886363532080413, \"LF1\": -0.10290017253097943, \"labels\": \"sport\"}, {\"LF2\": 0.28552852310430904, \"LF1\": -0.029388346897647244, \"labels\": \"sport\"}, {\"LF2\": 0.4003359822488662, \"LF1\": 0.08810105026874167, \"labels\": \"politics\"}, {\"LF2\": 0.4608268419996738, \"LF1\": -0.04221877515719818, \"labels\": \"sport\"}, {\"LF2\": 0.2856290494203054, \"LF1\": -0.020189268592465025, \"labels\": \"entertainment\"}, {\"LF2\": 0.2463354754089805, \"LF1\": -0.05821271496007394, \"labels\": \"business\"}, {\"LF2\": 0.266150673204281, \"LF1\": -0.04246908215945117, \"labels\": \"entertainment\"}, {\"LF2\": 0.23002017417031406, \"LF1\": -0.11609114612998038, \"labels\": \"entertainment\"}, {\"LF2\": 0.2652220597864986, \"LF1\": 0.015922255612328167, \"labels\": \"tech\"}, {\"LF2\": 0.4005944555823574, \"LF1\": 0.1269216499357695, \"labels\": \"politics\"}, {\"LF2\": 0.20008958097584947, \"LF1\": 0.008145727612335287, \"labels\": \"entertainment\"}, {\"LF2\": 0.24233239807230525, \"LF1\": 0.014355477902595755, \"labels\": \"tech\"}, {\"LF2\": 0.2976170804587517, \"LF1\": -0.00854080903206204, \"labels\": \"sport\"}, {\"LF2\": 0.30826725368025, \"LF1\": 0.07802310741832467, \"labels\": \"politics\"}, {\"LF2\": 0.43205536131291994, \"LF1\": 0.19168852556293572, \"labels\": \"politics\"}, {\"LF2\": 0.3023774358581318, \"LF1\": 0.00815643837553275, \"labels\": \"business\"}, {\"LF2\": 0.2919405880700106, \"LF1\": -0.1243250278212301, \"labels\": \"sport\"}, {\"LF2\": 0.29572937542765143, \"LF1\": 0.014693912653170839, \"labels\": \"business\"}, {\"LF2\": 0.29654890752795865, \"LF1\": 0.003238983238990893, \"labels\": \"tech\"}, {\"LF2\": 0.3222538052824452, \"LF1\": -0.1254802234340804, \"labels\": \"entertainment\"}, {\"LF2\": 0.35333425188960205, \"LF1\": -0.0349170243209841, \"labels\": \"entertainment\"}, {\"LF2\": 0.39389822893155374, \"LF1\": -0.12355318247368628, \"labels\": \"sport\"}, {\"LF2\": 0.3826667443436389, \"LF1\": 0.1289489198631646, \"labels\": \"politics\"}, {\"LF2\": 0.2863949257673138, \"LF1\": -0.08434302536622137, \"labels\": \"entertainment\"}, {\"LF2\": 0.39371008040102623, \"LF1\": 0.00641851473127142, \"labels\": \"entertainment\"}, {\"LF2\": 0.5699514937801363, \"LF1\": 0.28039993020439824, \"labels\": \"politics\"}, {\"LF2\": 0.42679228520427576, \"LF1\": -0.01659816734825551, \"labels\": \"business\"}, {\"LF2\": 0.34689280085990576, \"LF1\": -0.01430243499477768, \"labels\": \"tech\"}, {\"LF2\": 0.21430039780011914, \"LF1\": -0.07689839949845191, \"labels\": \"entertainment\"}, {\"LF2\": 0.3219721328353632, \"LF1\": 0.008748849661429714, \"labels\": \"business\"}, {\"LF2\": 0.31674895532718716, \"LF1\": -0.014514696217991433, \"labels\": \"business\"}, {\"LF2\": 0.20078880511823635, \"LF1\": -0.02209258023017441, \"labels\": \"politics\"}, {\"LF2\": 0.349868822592198, \"LF1\": 0.11460885557888556, \"labels\": \"politics\"}, {\"LF2\": 0.3536405093629986, \"LF1\": -0.08529016239319648, \"labels\": \"entertainment\"}, {\"LF2\": 0.25020518270425113, \"LF1\": -0.06938025936697163, \"labels\": \"sport\"}, {\"LF2\": 0.36683068609756636, \"LF1\": 0.05156970283744764, \"labels\": \"politics\"}, {\"LF2\": 0.3675955337759755, \"LF1\": -0.020843646889068472, \"labels\": \"tech\"}, {\"LF2\": 0.43347332380050396, \"LF1\": -0.11029492796326149, \"labels\": \"entertainment\"}, {\"LF2\": 0.32864788382080656, \"LF1\": 0.10963606881092748, \"labels\": \"politics\"}, {\"LF2\": 0.1700015754514123, \"LF1\": -0.04532431200184804, \"labels\": \"sport\"}, {\"LF2\": 0.3406201300074239, \"LF1\": 0.05308382724399746, \"labels\": \"business\"}, {\"LF2\": 0.366090906691577, \"LF1\": -0.029361335081362887, \"labels\": \"sport\"}, {\"LF2\": 0.4812785985947199, \"LF1\": 0.2623185505184061, \"labels\": \"politics\"}, {\"LF2\": 0.2272712936451053, \"LF1\": -0.10321467038544774, \"labels\": \"sport\"}, {\"LF2\": 0.2539863265647009, \"LF1\": 0.028559948891791257, \"labels\": \"business\"}, {\"LF2\": 0.22742222380478638, \"LF1\": -0.10834263384604971, \"labels\": \"entertainment\"}, {\"LF2\": 0.38114648099137094, \"LF1\": -0.049544832261369486, \"labels\": \"tech\"}, {\"LF2\": 0.33706283843636703, \"LF1\": 0.004194747596300581, \"labels\": \"tech\"}, {\"LF2\": 0.4197652519005332, \"LF1\": -0.012497729532915294, \"labels\": \"business\"}, {\"LF2\": 0.2631603904826792, \"LF1\": -0.037410090630933465, \"labels\": \"sport\"}, {\"LF2\": 0.38488977205332764, \"LF1\": -0.0011143745171419447, \"labels\": \"tech\"}, {\"LF2\": 0.30468198434545574, \"LF1\": 0.11595042932604555, \"labels\": \"politics\"}, {\"LF2\": 0.33283047304826646, \"LF1\": -0.12449271689112339, \"labels\": \"sport\"}, {\"LF2\": 0.49526426506735505, \"LF1\": 0.174491312568173, \"labels\": \"politics\"}, {\"LF2\": 0.5004073763346394, \"LF1\": -0.1067262513969392, \"labels\": \"sport\"}, {\"LF2\": 0.519445629390908, \"LF1\": -0.07915452578374173, \"labels\": \"sport\"}, {\"LF2\": 0.34106099254466093, \"LF1\": -0.014697665109013316, \"labels\": \"tech\"}, {\"LF2\": 0.4340819784655609, \"LF1\": 0.1901107565269423, \"labels\": \"politics\"}, {\"LF2\": 0.4576321922062699, \"LF1\": 0.003997433829167444, \"labels\": \"business\"}, {\"LF2\": 0.4158604599717232, \"LF1\": -0.0993413321346933, \"labels\": \"tech\"}, {\"LF2\": 0.26787628865916946, \"LF1\": -0.01551615309721728, \"labels\": \"business\"}, {\"LF2\": 0.3271844382061677, \"LF1\": -0.05658050934204889, \"labels\": \"entertainment\"}, {\"LF2\": 0.4688650592355481, \"LF1\": 0.3104140536832632, \"labels\": \"politics\"}, {\"LF2\": 0.3031358863341239, \"LF1\": -0.07461468176986229, \"labels\": \"sport\"}, {\"LF2\": 0.18926486274851193, \"LF1\": -0.07883732371261164, \"labels\": \"sport\"}, {\"LF2\": 0.4719556266136777, \"LF1\": -0.032100041283832946, \"labels\": \"business\"}, {\"LF2\": 0.4015997633576598, \"LF1\": 0.06682181853186599, \"labels\": \"business\"}, {\"LF2\": 0.4356690005496844, \"LF1\": -0.1139290864667218, \"labels\": \"sport\"}, {\"LF2\": 0.26311474881181307, \"LF1\": -0.03229538972504072, \"labels\": \"business\"}, {\"LF2\": 0.3039850206849442, \"LF1\": -0.0593123510272941, \"labels\": \"sport\"}, {\"LF2\": 0.424655800849567, \"LF1\": -0.1224532488513504, \"labels\": \"sport\"}, {\"LF2\": 0.30466198356890406, \"LF1\": -0.0773992233898442, \"labels\": \"entertainment\"}, {\"LF2\": 0.4298133538457196, \"LF1\": -0.080338184482975, \"labels\": \"sport\"}, {\"LF2\": 0.3681413921792415, \"LF1\": -0.08194188038548984, \"labels\": \"sport\"}, {\"LF2\": 0.28668635842076373, \"LF1\": 0.15148995472298193, \"labels\": \"politics\"}, {\"LF2\": 0.44827087331880006, \"LF1\": 0.23870865560039786, \"labels\": \"politics\"}, {\"LF2\": 0.2911465182750107, \"LF1\": 0.0011440429758824873, \"labels\": \"tech\"}, {\"LF2\": 0.26194923921583607, \"LF1\": -0.0008091026451235968, \"labels\": \"business\"}, {\"LF2\": 0.5119140684534004, \"LF1\": 0.3050256163494954, \"labels\": \"politics\"}, {\"LF2\": 0.29055192639146515, \"LF1\": 0.017527779363751276, \"labels\": \"tech\"}, {\"LF2\": 0.355964380802777, \"LF1\": -0.17826341299692255, \"labels\": \"entertainment\"}, {\"LF2\": 0.2592537704364831, \"LF1\": 0.02791085609493297, \"labels\": \"business\"}, {\"LF2\": 0.3331378859392127, \"LF1\": 0.1745906861693161, \"labels\": \"politics\"}, {\"LF2\": 0.26213548482835763, \"LF1\": -0.036739608256633284, \"labels\": \"sport\"}, {\"LF2\": 0.27176772703644936, \"LF1\": -0.052188255202022596, \"labels\": \"sport\"}, {\"LF2\": 0.2883002672004988, \"LF1\": -0.08932017458922503, \"labels\": \"sport\"}, {\"LF2\": 0.3005102143387042, \"LF1\": -0.05400691067934616, \"labels\": \"entertainment\"}, {\"LF2\": 0.27647713731185564, \"LF1\": -0.022078794404800428, \"labels\": \"business\"}, {\"LF2\": 0.1972034976304906, \"LF1\": -0.10820432779478734, \"labels\": \"sport\"}, {\"LF2\": 0.2776102790428861, \"LF1\": -0.03912734198204775, \"labels\": \"sport\"}, {\"LF2\": 0.42447482198433484, \"LF1\": 0.0006979183411039973, \"labels\": \"business\"}, {\"LF2\": 0.3784577051413191, \"LF1\": 0.004723967943921139, \"labels\": \"business\"}, {\"LF2\": 0.39601355455656784, \"LF1\": 0.08678369121130404, \"labels\": \"politics\"}, {\"LF2\": 0.30875639764134405, \"LF1\": 4.7324236722868585e-05, \"labels\": \"business\"}, {\"LF2\": 0.26820628599981433, \"LF1\": -0.014170157471050514, \"labels\": \"sport\"}, {\"LF2\": 0.29366823043233053, \"LF1\": 0.03097314114620603, \"labels\": \"business\"}, {\"LF2\": 0.39665225774908697, \"LF1\": 0.004791186427247037, \"labels\": \"tech\"}, {\"LF2\": 0.508613781003286, \"LF1\": 0.22645590950757344, \"labels\": \"politics\"}, {\"LF2\": 0.41072434791673373, \"LF1\": 0.043096459669424526, \"labels\": \"business\"}, {\"LF2\": 0.42290771845671976, \"LF1\": -0.03664739670874089, \"labels\": \"sport\"}, {\"LF2\": 0.2168489532267464, \"LF1\": -0.016004758784113168, \"labels\": \"business\"}, {\"LF2\": 0.34113052442736896, \"LF1\": -0.12638128719587044, \"labels\": \"entertainment\"}, {\"LF2\": 0.2965010793192074, \"LF1\": -0.0728345532203515, \"labels\": \"sport\"}, {\"LF2\": 0.26389258114473857, \"LF1\": -0.15801174652631908, \"labels\": \"entertainment\"}, {\"LF2\": 0.24522341949259002, \"LF1\": -0.08573633031834096, \"labels\": \"entertainment\"}, {\"LF2\": 0.29793467857736167, \"LF1\": -0.10523369992342536, \"labels\": \"entertainment\"}, {\"LF2\": 0.27751737080719, \"LF1\": 0.02505230876804092, \"labels\": \"business\"}, {\"LF2\": 0.3967116810050984, \"LF1\": 0.21627110942397657, \"labels\": \"politics\"}, {\"LF2\": 0.45680545946250806, \"LF1\": 0.2827068806592184, \"labels\": \"politics\"}, {\"LF2\": 0.29501198966029824, \"LF1\": -0.027843305583963925, \"labels\": \"business\"}, {\"LF2\": 0.31427617396854357, \"LF1\": -0.0041620358509363185, \"labels\": \"tech\"}, {\"LF2\": 0.3005695124607376, \"LF1\": -0.07258878768253327, \"labels\": \"sport\"}, {\"LF2\": 0.24047067303709313, \"LF1\": -0.03466839142709256, \"labels\": \"tech\"}, {\"LF2\": 0.44908371471487596, \"LF1\": 0.16613982483713144, \"labels\": \"politics\"}, {\"LF2\": 0.2610686159979242, \"LF1\": -0.1250291757142924, \"labels\": \"sport\"}, {\"LF2\": 0.3783669362899123, \"LF1\": 0.32177092862440465, \"labels\": \"politics\"}, {\"LF2\": 0.3064526020935465, \"LF1\": -0.015591838046140618, \"labels\": \"tech\"}, {\"LF2\": 0.4258194600629325, \"LF1\": 0.10084214799719164, \"labels\": \"politics\"}, {\"LF2\": 0.23181688121590338, \"LF1\": -0.015296613491952493, \"labels\": \"business\"}, {\"LF2\": 0.34948792808803764, \"LF1\": -0.09824634713133233, \"labels\": \"entertainment\"}, {\"LF2\": 0.24224158144173308, \"LF1\": -0.07597710461559992, \"labels\": \"entertainment\"}, {\"LF2\": 0.36687078836830556, \"LF1\": -0.05498006703649286, \"labels\": \"entertainment\"}, {\"LF2\": 0.38436817878753876, \"LF1\": 0.18059741700080478, \"labels\": \"politics\"}, {\"LF2\": 0.19839096935641376, \"LF1\": -0.12875825479618425, \"labels\": \"entertainment\"}, {\"LF2\": 0.29115510056426197, \"LF1\": -0.034609793502918124, \"labels\": \"sport\"}, {\"LF2\": 0.2534609522411103, \"LF1\": -0.02677633080523355, \"labels\": \"entertainment\"}, {\"LF2\": 0.5320740944766672, \"LF1\": 0.056165493863594936, \"labels\": \"politics\"}, {\"LF2\": 0.36775799300171097, \"LF1\": -0.06492197015809993, \"labels\": \"tech\"}, {\"LF2\": 0.423571937935907, \"LF1\": 0.012561739060834607, \"labels\": \"tech\"}, {\"LF2\": 0.3513542307452254, \"LF1\": 0.04870616227641186, \"labels\": \"politics\"}, {\"LF2\": 0.4057449805695844, \"LF1\": 0.013969118279131856, \"labels\": \"business\"}, {\"LF2\": 0.3375860610144274, \"LF1\": 0.0004312411811444317, \"labels\": \"tech\"}, {\"LF2\": 0.2842779386520546, \"LF1\": 0.023998291207666937, \"labels\": \"business\"}, {\"LF2\": 0.30456379785428106, \"LF1\": -0.012853567542052167, \"labels\": \"tech\"}, {\"LF2\": 0.3623958658535292, \"LF1\": -1.7503623100121398e-05, \"labels\": \"business\"}, {\"LF2\": 0.3490076572910891, \"LF1\": -0.020130308218330104, \"labels\": \"entertainment\"}, {\"LF2\": 0.3290838067213934, \"LF1\": -0.12235694399021073, \"labels\": \"entertainment\"}, {\"LF2\": 0.5018315324144057, \"LF1\": 0.2155148996855155, \"labels\": \"politics\"}, {\"LF2\": 0.26761216894338624, \"LF1\": -0.06933572010660341, \"labels\": \"sport\"}, {\"LF2\": 0.3222658242144423, \"LF1\": -0.05263511704931918, \"labels\": \"entertainment\"}, {\"LF2\": 0.4654955170915239, \"LF1\": 0.03077248540745569, \"labels\": \"entertainment\"}, {\"LF2\": 0.3667808894341348, \"LF1\": -0.020651747772793206, \"labels\": \"tech\"}, {\"LF2\": 0.28985608162656157, \"LF1\": 0.01073337061038822, \"labels\": \"tech\"}, {\"LF2\": 0.38419898155261334, \"LF1\": 0.053527340206804275, \"labels\": \"tech\"}, {\"LF2\": 0.40783593203757007, \"LF1\": -0.020553089581441756, \"labels\": \"business\"}, {\"LF2\": 0.28479146003942796, \"LF1\": -0.01029499177570296, \"labels\": \"tech\"}, {\"LF2\": 0.40069790930399884, \"LF1\": 0.03264735241182264, \"labels\": \"tech\"}, {\"LF2\": 0.22985590665049307, \"LF1\": -0.033307985569666784, \"labels\": \"business\"}, {\"LF2\": 0.3917380251179483, \"LF1\": -0.10346850831626335, \"labels\": \"sport\"}, {\"LF2\": 0.29921702018103646, \"LF1\": -0.009798094857838328, \"labels\": \"tech\"}, {\"LF2\": 0.2846843515784047, \"LF1\": 0.023018028520448524, \"labels\": \"politics\"}, {\"LF2\": 0.27850665398581176, \"LF1\": -0.018429844211572562, \"labels\": \"entertainment\"}, {\"LF2\": 0.4406117934070626, \"LF1\": 0.03781868249119275, \"labels\": \"business\"}, {\"LF2\": 0.33697025086037213, \"LF1\": -0.04154448607434, \"labels\": \"sport\"}, {\"LF2\": 0.23949530603679883, \"LF1\": -0.011640203415744729, \"labels\": \"business\"}, {\"LF2\": 0.23686674321997114, \"LF1\": -0.03485164035004729, \"labels\": \"entertainment\"}, {\"LF2\": 0.3535385120989405, \"LF1\": -0.027009883149074283, \"labels\": \"sport\"}, {\"LF2\": 0.25560655433761215, \"LF1\": -0.055598982055688806, \"labels\": \"sport\"}, {\"LF2\": 0.34311859767061803, \"LF1\": -0.1136446107300706, \"labels\": \"sport\"}, {\"LF2\": 0.39402117316282503, \"LF1\": -0.06710715833848122, \"labels\": \"business\"}, {\"LF2\": 0.4190749858206684, \"LF1\": -0.14760040256999135, \"labels\": \"tech\"}, {\"LF2\": 0.5356960120708535, \"LF1\": 0.26794322579872704, \"labels\": \"politics\"}, {\"LF2\": 0.33095904044118946, \"LF1\": 0.04170733186501537, \"labels\": \"business\"}, {\"LF2\": 0.4646568519012517, \"LF1\": 0.1647469281442008, \"labels\": \"politics\"}, {\"LF2\": 0.4141204985962076, \"LF1\": 0.14544113644134596, \"labels\": \"politics\"}, {\"LF2\": 0.30509066970976056, \"LF1\": 0.03082506630137162, \"labels\": \"politics\"}, {\"LF2\": 0.37648365247701016, \"LF1\": -0.03579773729992592, \"labels\": \"entertainment\"}, {\"LF2\": 0.2921207841518986, \"LF1\": -0.011486740544931422, \"labels\": \"sport\"}, {\"LF2\": 0.35217719466242325, \"LF1\": 0.22748973562564656, \"labels\": \"politics\"}, {\"LF2\": 0.34079373320010486, \"LF1\": 0.014920768134019349, \"labels\": \"business\"}, {\"LF2\": 0.2717927110663313, \"LF1\": -0.0823153396591725, \"labels\": \"entertainment\"}, {\"LF2\": 0.40226863666157586, \"LF1\": -0.09239014549511385, \"labels\": \"entertainment\"}, {\"LF2\": 0.4316749948846464, \"LF1\": 0.38230314407062255, \"labels\": \"politics\"}, {\"LF2\": 0.39222938984439326, \"LF1\": 0.03415052083424028, \"labels\": \"tech\"}, {\"LF2\": 0.4627935981818993, \"LF1\": 0.05544999462299919, \"labels\": \"tech\"}, {\"LF2\": 0.2506182743052657, \"LF1\": -0.014016448551631887, \"labels\": \"business\"}, {\"LF2\": 0.4630453863225223, \"LF1\": 0.02927016367442548, \"labels\": \"tech\"}, {\"LF2\": 0.23305401302646359, \"LF1\": -0.08942552501159977, \"labels\": \"sport\"}, {\"LF2\": 0.23721307857596763, \"LF1\": -0.02929437991883963, \"labels\": \"sport\"}, {\"LF2\": 0.33122227532377263, \"LF1\": -0.07019907722117039, \"labels\": \"entertainment\"}, {\"LF2\": 0.4218561580526014, \"LF1\": -0.09078107485411838, \"labels\": \"sport\"}, {\"LF2\": 0.40290524006509154, \"LF1\": -0.10385122566346144, \"labels\": \"sport\"}, {\"LF2\": 0.38568989428968836, \"LF1\": -0.08809387210225939, \"labels\": \"sport\"}, {\"LF2\": 0.42539946790771177, \"LF1\": 0.13282508191164527, \"labels\": \"politics\"}, {\"LF2\": 0.4190749858206684, \"LF1\": -0.14760040256999135, \"labels\": \"tech\"}, {\"LF2\": 0.3339699566244208, \"LF1\": -0.038041940056429316, \"labels\": \"tech\"}, {\"LF2\": 0.41670002466280603, \"LF1\": 0.12324338180698319, \"labels\": \"politics\"}, {\"LF2\": 0.4546227350537016, \"LF1\": 0.13798153956675938, \"labels\": \"politics\"}, {\"LF2\": 0.43503644304572997, \"LF1\": 0.0478465450136195, \"labels\": \"business\"}, {\"LF2\": 0.23630173688010242, \"LF1\": -0.003000136790285107, \"labels\": \"business\"}, {\"LF2\": 0.30408115515416345, \"LF1\": -0.10161376731642766, \"labels\": \"sport\"}, {\"LF2\": 0.46842034425529444, \"LF1\": -0.0014134015360502447, \"labels\": \"tech\"}, {\"LF2\": 0.35210212879816155, \"LF1\": 0.010340735745893233, \"labels\": \"tech\"}, {\"LF2\": 0.31125553771361825, \"LF1\": -0.0952474670113112, \"labels\": \"sport\"}, {\"LF2\": 0.34644333291111956, \"LF1\": -0.048642860623003055, \"labels\": \"entertainment\"}, {\"LF2\": 0.425277542798171, \"LF1\": -0.04878543094402173, \"labels\": \"sport\"}, {\"LF2\": 0.3850305696614654, \"LF1\": -0.08338529058553873, \"labels\": \"entertainment\"}, {\"LF2\": 0.3130174829334939, \"LF1\": 0.07635613984731164, \"labels\": \"business\"}, {\"LF2\": 0.39811143822272743, \"LF1\": 0.014402718992066169, \"labels\": \"tech\"}, {\"LF2\": 0.5257129200068225, \"LF1\": 0.27290263668789433, \"labels\": \"politics\"}, {\"LF2\": 0.4820313167022273, \"LF1\": -0.026844014551352557, \"labels\": \"tech\"}, {\"LF2\": 0.32824570445779666, \"LF1\": -0.12677012463736867, \"labels\": \"sport\"}, {\"LF2\": 0.4875471450204289, \"LF1\": 0.04072163518207525, \"labels\": \"business\"}, {\"LF2\": 0.34965121570269614, \"LF1\": -0.03690603930759623, \"labels\": \"sport\"}, {\"LF2\": 0.21454973520609918, \"LF1\": -0.007105635962463704, \"labels\": \"business\"}, {\"LF2\": 0.26696862771799323, \"LF1\": -0.11580505808759585, \"labels\": \"entertainment\"}, {\"LF2\": 0.30676188500185947, \"LF1\": -0.0179388192499221, \"labels\": \"tech\"}, {\"LF2\": 0.39374142704442827, \"LF1\": -0.032292156495809375, \"labels\": \"business\"}, {\"LF2\": 0.26466942787853887, \"LF1\": -0.11594425873271688, \"labels\": \"sport\"}, {\"LF2\": 0.3637629129542882, \"LF1\": -0.026720555188370753, \"labels\": \"business\"}, {\"LF2\": 0.36044455115066554, \"LF1\": -0.08447048718560725, \"labels\": \"sport\"}, {\"LF2\": 0.3219717893251426, \"LF1\": 0.00898194746471261, \"labels\": \"tech\"}, {\"LF2\": 0.29851035860355996, \"LF1\": -0.0006728715701708233, \"labels\": \"business\"}, {\"LF2\": 0.28698247016074463, \"LF1\": -0.028955905115388363, \"labels\": \"business\"}, {\"LF2\": 0.2543388559378843, \"LF1\": -0.004410992153169651, \"labels\": \"business\"}, {\"LF2\": 0.3157319904163563, \"LF1\": -0.08540075167985571, \"labels\": \"sport\"}, {\"LF2\": 0.24043045233103982, \"LF1\": 0.01659499782395862, \"labels\": \"business\"}, {\"LF2\": 0.2799234404382015, \"LF1\": -0.10602790179112512, \"labels\": \"sport\"}, {\"LF2\": 0.3278373709762549, \"LF1\": 0.2182097513545884, \"labels\": \"politics\"}, {\"LF2\": 0.3372931427225312, \"LF1\": -0.04859448201854736, \"labels\": \"business\"}, {\"LF2\": 0.3120041956541326, \"LF1\": -0.020937721650074157, \"labels\": \"sport\"}, {\"LF2\": 0.2918818599008877, \"LF1\": 0.02491289706777968, \"labels\": \"politics\"}, {\"LF2\": 0.3002338664483951, \"LF1\": -0.17476559623544513, \"labels\": \"entertainment\"}, {\"LF2\": 0.3985032436204113, \"LF1\": -0.00611140861955589, \"labels\": \"business\"}, {\"LF2\": 0.37465651323620736, \"LF1\": 0.015987506882446836, \"labels\": \"business\"}, {\"LF2\": 0.4173038356000168, \"LF1\": 0.11969106463679147, \"labels\": \"politics\"}, {\"LF2\": 0.299685070445044, \"LF1\": -0.005614651783523772, \"labels\": \"business\"}, {\"LF2\": 0.44155319508778923, \"LF1\": 0.005327012469032172, \"labels\": \"tech\"}, {\"LF2\": 0.4532509640973814, \"LF1\": -0.07808665967842658, \"labels\": \"sport\"}, {\"LF2\": 0.32229247354333335, \"LF1\": -0.06901704130662455, \"labels\": \"entertainment\"}, {\"LF2\": 0.3517824838323167, \"LF1\": -0.09346175068564212, \"labels\": \"sport\"}, {\"LF2\": 0.209622070846646, \"LF1\": -0.06756236125115846, \"labels\": \"entertainment\"}, {\"LF2\": 0.32497225000903485, \"LF1\": -0.00917563994161336, \"labels\": \"tech\"}, {\"LF2\": 0.294205961121625, \"LF1\": -0.05753808072042507, \"labels\": \"sport\"}, {\"LF2\": 0.3282365940309369, \"LF1\": -0.1045327296427769, \"labels\": \"sport\"}, {\"LF2\": 0.39511185083956063, \"LF1\": -0.12357055125486932, \"labels\": \"sport\"}, {\"LF2\": 0.24379957413707287, \"LF1\": -0.16985472415997785, \"labels\": \"entertainment\"}, {\"LF2\": 0.4194449313781603, \"LF1\": 0.15291196975266, \"labels\": \"politics\"}, {\"LF2\": 0.272548760554308, \"LF1\": -0.02344595861446054, \"labels\": \"business\"}, {\"LF2\": 0.47927360817842285, \"LF1\": 0.34174848800870566, \"labels\": \"politics\"}, {\"LF2\": 0.45851603283623604, \"LF1\": 0.11221714903860446, \"labels\": \"politics\"}, {\"LF2\": 0.29962088295850675, \"LF1\": -0.12002951243962515, \"labels\": \"sport\"}, {\"LF2\": 0.34183224710600496, \"LF1\": -0.02431334971393511, \"labels\": \"entertainment\"}, {\"LF2\": 0.29148272577759177, \"LF1\": -0.12476707283156359, \"labels\": \"sport\"}, {\"LF2\": 0.30237655923679807, \"LF1\": -0.034747615021100305, \"labels\": \"business\"}, {\"LF2\": 0.32471785398487946, \"LF1\": -0.12413579353902421, \"labels\": \"sport\"}, {\"LF2\": 0.3315220288281726, \"LF1\": 0.1141517584590767, \"labels\": \"politics\"}, {\"LF2\": 0.4351120875885826, \"LF1\": -0.04900655207743637, \"labels\": \"entertainment\"}, {\"LF2\": 0.26637224835950774, \"LF1\": 0.008410169385502217, \"labels\": \"tech\"}, {\"LF2\": 0.4223998753195476, \"LF1\": 0.00604441054424369, \"labels\": \"business\"}, {\"LF2\": 0.2551684965267773, \"LF1\": -0.0001413183470088073, \"labels\": \"business\"}, {\"LF2\": 0.26164128922088997, \"LF1\": -0.060757179492517466, \"labels\": \"sport\"}, {\"LF2\": 0.30807146506299105, \"LF1\": -0.025768584095037878, \"labels\": \"sport\"}, {\"LF2\": 0.38674827496320036, \"LF1\": -0.033015790343006585, \"labels\": \"sport\"}, {\"LF2\": 0.26199484678433343, \"LF1\": -0.05434642297884721, \"labels\": \"entertainment\"}, {\"LF2\": 0.37875822066144105, \"LF1\": -0.012390798238949249, \"labels\": \"sport\"}, {\"LF2\": 0.37534459544615834, \"LF1\": 0.10929858872968144, \"labels\": \"politics\"}, {\"LF2\": 0.38811850297871053, \"LF1\": 0.10562982986626838, \"labels\": \"politics\"}, {\"LF2\": 0.33189571513673793, \"LF1\": -0.06598900972952701, \"labels\": \"sport\"}, {\"LF2\": 0.39469286987790964, \"LF1\": 0.029800597909876075, \"labels\": \"tech\"}, {\"LF2\": 0.22039150473889585, \"LF1\": -0.07176463103734905, \"labels\": \"entertainment\"}, {\"LF2\": 0.20934219155224493, \"LF1\": -0.02118862335868935, \"labels\": \"entertainment\"}, {\"LF2\": 0.2796324802270992, \"LF1\": -0.24892318490596096, \"labels\": \"entertainment\"}, {\"LF2\": 0.34647357631467895, \"LF1\": 0.036368052705130306, \"labels\": \"politics\"}, {\"LF2\": 0.29915326298131806, \"LF1\": -0.0020179258776492387, \"labels\": \"business\"}, {\"LF2\": 0.3519513136159856, \"LF1\": -0.015166507769869934, \"labels\": \"tech\"}, {\"LF2\": 0.38573242110443057, \"LF1\": 0.01871357463338622, \"labels\": \"business\"}, {\"LF2\": 0.4322254945543524, \"LF1\": -0.14941006673611648, \"labels\": \"entertainment\"}, {\"LF2\": 0.3990468221544192, \"LF1\": -0.18764261887329095, \"labels\": \"sport\"}, {\"LF2\": 0.4279779040067183, \"LF1\": -0.1156089516738184, \"labels\": \"sport\"}, {\"LF2\": 0.19736120754472608, \"LF1\": -0.06206079121696359, \"labels\": \"sport\"}, {\"LF2\": 0.3387207150019731, \"LF1\": -0.06217241284664695, \"labels\": \"business\"}, {\"LF2\": 0.34190254852136537, \"LF1\": -0.006338799168281976, \"labels\": \"tech\"}, {\"LF2\": 0.22307336499596475, \"LF1\": -0.00466430703984021, \"labels\": \"business\"}, {\"LF2\": 0.3107412248636586, \"LF1\": -0.038101799666592294, \"labels\": \"entertainment\"}, {\"LF2\": 0.27153946364256953, \"LF1\": 0.005086810963320093, \"labels\": \"tech\"}, {\"LF2\": 0.31626302615129814, \"LF1\": 0.1638502769561297, \"labels\": \"politics\"}, {\"LF2\": 0.2679606676467839, \"LF1\": -0.12648104062980914, \"labels\": \"sport\"}, {\"LF2\": 0.4126370466373828, \"LF1\": 0.027031959621199152, \"labels\": \"politics\"}, {\"LF2\": 0.43257573075222167, \"LF1\": 0.060287363495590496, \"labels\": \"politics\"}, {\"LF2\": 0.4640621094833825, \"LF1\": -0.04668056037374917, \"labels\": \"tech\"}, {\"LF2\": 0.30303300338771766, \"LF1\": -0.20613468082399766, \"labels\": \"entertainment\"}, {\"LF2\": 0.22476842664254257, \"LF1\": -0.05620069067627587, \"labels\": \"sport\"}, {\"LF2\": 0.4360030040915269, \"LF1\": 0.3600137970648649, \"labels\": \"politics\"}, {\"LF2\": 0.5470575037121916, \"LF1\": 0.13949046364041104, \"labels\": \"politics\"}, {\"LF2\": 0.3081276441591263, \"LF1\": -0.17688487684021437, \"labels\": \"entertainment\"}, {\"LF2\": 0.2659233220348044, \"LF1\": -0.10306007769985984, \"labels\": \"sport\"}, {\"LF2\": 0.2719652647663265, \"LF1\": 0.1575964198615865, \"labels\": \"politics\"}, {\"LF2\": 0.30091708254913574, \"LF1\": -0.07688966980404914, \"labels\": \"entertainment\"}, {\"LF2\": 0.25864082500258145, \"LF1\": -0.06580682893789634, \"labels\": \"entertainment\"}, {\"LF2\": 0.27079778893769446, \"LF1\": -0.030343811479991115, \"labels\": \"sport\"}, {\"LF2\": 0.2386958391699307, \"LF1\": -0.012738648326142774, \"labels\": \"tech\"}, {\"LF2\": 0.41150580156965316, \"LF1\": -0.056749249936836915, \"labels\": \"sport\"}, {\"LF2\": 0.33823114372680446, \"LF1\": 0.04930098185716802, \"labels\": \"business\"}, {\"LF2\": 0.37394703225683973, \"LF1\": -0.016954885569859596, \"labels\": \"business\"}, {\"LF2\": 0.34115327877642676, \"LF1\": -0.026944109174845594, \"labels\": \"business\"}, {\"LF2\": 0.2760032235875323, \"LF1\": -0.017658175937811674, \"labels\": \"sport\"}, {\"LF2\": 0.34790033109230983, \"LF1\": -0.11318819170054309, \"labels\": \"entertainment\"}, {\"LF2\": 0.3459242933916292, \"LF1\": -0.11999034248964015, \"labels\": \"entertainment\"}, {\"LF2\": 0.3065856318102823, \"LF1\": -0.16618599620541832, \"labels\": \"entertainment\"}, {\"LF2\": 0.4547596057262501, \"LF1\": -0.05090182223277595, \"labels\": \"sport\"}, {\"LF2\": 0.2828944631472078, \"LF1\": -0.014643016826295676, \"labels\": \"tech\"}, {\"LF2\": 0.18409061466422277, \"LF1\": 0.03005525522206345, \"labels\": \"politics\"}, {\"LF2\": 0.2581450472082348, \"LF1\": -0.08123149069749264, \"labels\": \"entertainment\"}, {\"LF2\": 0.320728952645041, \"LF1\": 0.13275846437212077, \"labels\": \"politics\"}, {\"LF2\": 0.3556624495422136, \"LF1\": -0.16613026646523965, \"labels\": \"entertainment\"}, {\"LF2\": 0.348470732540107, \"LF1\": -0.15804570306234417, \"labels\": \"entertainment\"}, {\"LF2\": 0.43362187335952856, \"LF1\": -0.08100529121355396, \"labels\": \"sport\"}, {\"LF2\": 0.5293895651579683, \"LF1\": -0.14897181927901357, \"labels\": \"sport\"}, {\"LF2\": 0.3417597164491978, \"LF1\": -0.09721281434866912, \"labels\": \"sport\"}, {\"LF2\": 0.2500419365101319, \"LF1\": -0.10756038490333802, \"labels\": \"entertainment\"}, {\"LF2\": 0.5626282052420113, \"LF1\": 0.2840220693100879, \"labels\": \"politics\"}, {\"LF2\": 0.25738247448579576, \"LF1\": -0.0033102006627466953, \"labels\": \"business\"}, {\"LF2\": 0.21533431520084104, \"LF1\": -0.0567049534968145, \"labels\": \"sport\"}, {\"LF2\": 0.4221456044027607, \"LF1\": 0.016144883370737138, \"labels\": \"business\"}, {\"LF2\": 0.3364958882828118, \"LF1\": -0.011395014398870862, \"labels\": \"sport\"}, {\"LF2\": 0.4449063448616022, \"LF1\": 0.38369077559841136, \"labels\": \"politics\"}, {\"LF2\": 0.36281938559560456, \"LF1\": 0.02505921273478522, \"labels\": \"business\"}, {\"LF2\": 0.3445527716587149, \"LF1\": -0.011082896005547094, \"labels\": \"business\"}, {\"LF2\": 0.3350461121207887, \"LF1\": -0.008579442738956467, \"labels\": \"business\"}, {\"LF2\": 0.2729588485075894, \"LF1\": -0.08311963315929669, \"labels\": \"sport\"}, {\"LF2\": 0.3073069122327042, \"LF1\": -0.11225911253743007, \"labels\": \"sport\"}, {\"LF2\": 0.31744161529940546, \"LF1\": 0.2079330037028007, \"labels\": \"politics\"}, {\"LF2\": 0.18968027320030564, \"LF1\": -0.006810750953197682, \"labels\": \"business\"}, {\"LF2\": 0.2436352766180704, \"LF1\": -0.06148663641765178, \"labels\": \"entertainment\"}, {\"LF2\": 0.38034587193462743, \"LF1\": -0.013333309550212386, \"labels\": \"business\"}, {\"LF2\": 0.4546388391599912, \"LF1\": -0.013035940236960496, \"labels\": \"business\"}, {\"LF2\": 0.46422072422154614, \"LF1\": 0.12202162397099611, \"labels\": \"politics\"}, {\"LF2\": 0.3484616319025187, \"LF1\": -0.0410665164355443, \"labels\": \"politics\"}, {\"LF2\": 0.3245728623779461, \"LF1\": -0.016558087340954018, \"labels\": \"business\"}, {\"LF2\": 0.3342984059027249, \"LF1\": -0.08155008511481536, \"labels\": \"entertainment\"}, {\"LF2\": 0.3589687248522552, \"LF1\": 0.08417783941184134, \"labels\": \"politics\"}, {\"LF2\": 0.3518174315518865, \"LF1\": -0.019566343958818018, \"labels\": \"sport\"}, {\"LF2\": 0.29671338631153615, \"LF1\": 0.025459539625293525, \"labels\": \"business\"}, {\"LF2\": 0.35378772851857127, \"LF1\": -0.026625544188890668, \"labels\": \"tech\"}, {\"LF2\": 0.2760530895355063, \"LF1\": -0.06617515536203467, \"labels\": \"sport\"}, {\"LF2\": 0.25865965972467486, \"LF1\": -0.07512256958432391, \"labels\": \"sport\"}, {\"LF2\": 0.46682645172100096, \"LF1\": -0.01094730455948931, \"labels\": \"tech\"}, {\"LF2\": 0.3094718220283635, \"LF1\": 0.014128014550292266, \"labels\": \"business\"}, {\"LF2\": 0.28735816616945853, \"LF1\": -0.14536387417490715, \"labels\": \"entertainment\"}, {\"LF2\": 0.22715685209013056, \"LF1\": -0.2129731658993048, \"labels\": \"entertainment\"}, {\"LF2\": 0.35168862396640177, \"LF1\": -0.017848487808337317, \"labels\": \"business\"}, {\"LF2\": 0.4285467140849566, \"LF1\": 0.06552685512249488, \"labels\": \"politics\"}, {\"LF2\": 0.3493917111308636, \"LF1\": 0.007176752328799139, \"labels\": \"business\"}, {\"LF2\": 0.3664612364132951, \"LF1\": 0.05914007406290923, \"labels\": \"business\"}, {\"LF2\": 0.3944730434387377, \"LF1\": 0.019090230424950262, \"labels\": \"business\"}, {\"LF2\": 0.3811775984034869, \"LF1\": 0.047055818817494786, \"labels\": \"business\"}, {\"LF2\": 0.25408106004498393, \"LF1\": -0.03137605408464243, \"labels\": \"sport\"}, {\"LF2\": 0.2882180357362643, \"LF1\": 0.020730364189955438, \"labels\": \"tech\"}, {\"LF2\": 0.18708139718678474, \"LF1\": -0.08164692577052385, \"labels\": \"sport\"}, {\"LF2\": 0.4070518806636466, \"LF1\": 0.07123510697669795, \"labels\": \"politics\"}, {\"LF2\": 0.25206845114024207, \"LF1\": -0.006394236360410536, \"labels\": \"business\"}, {\"LF2\": 0.2925212772136027, \"LF1\": 0.05030084474284292, \"labels\": \"business\"}, {\"LF2\": 0.2856232485000984, \"LF1\": -0.05040738190904214, \"labels\": \"entertainment\"}, {\"LF2\": 0.3654197053812043, \"LF1\": 0.038033187510588734, \"labels\": \"politics\"}, {\"LF2\": 0.21767002206002548, \"LF1\": -0.09357614914822461, \"labels\": \"sport\"}, {\"LF2\": 0.33857591260205855, \"LF1\": -0.02309355394045374, \"labels\": \"tech\"}, {\"LF2\": 0.29635259487110127, \"LF1\": 0.005865118054495046, \"labels\": \"business\"}, {\"LF2\": 0.3703613051094025, \"LF1\": -0.0752264334463694, \"labels\": \"entertainment\"}, {\"LF2\": 0.3192142116040403, \"LF1\": -0.010822403545645455, \"labels\": \"business\"}, {\"LF2\": 0.3275774320510667, \"LF1\": -0.03335478166653249, \"labels\": \"tech\"}, {\"LF2\": 0.3558766697305714, \"LF1\": -0.00036076148914064316, \"labels\": \"entertainment\"}, {\"LF2\": 0.3349257498695971, \"LF1\": -0.12549086096923476, \"labels\": \"sport\"}, {\"LF2\": 0.38291695059414443, \"LF1\": -0.03288772527440622, \"labels\": \"business\"}, {\"LF2\": 0.2735365108592485, \"LF1\": -0.12964966404050018, \"labels\": \"entertainment\"}, {\"LF2\": 0.2094410269044059, \"LF1\": 0.00666570106951346, \"labels\": \"tech\"}, {\"LF2\": 0.2865560043844123, \"LF1\": -0.08497715260241819, \"labels\": \"entertainment\"}, {\"LF2\": 0.38597037258610534, \"LF1\": 0.12284165963105137, \"labels\": \"politics\"}, {\"LF2\": 0.21969832167133424, \"LF1\": -0.05555873477378595, \"labels\": \"business\"}, {\"LF2\": 0.312047372815561, \"LF1\": -0.03136311335827636, \"labels\": \"sport\"}, {\"LF2\": 0.47916674168168244, \"LF1\": 0.09242677670281524, \"labels\": \"politics\"}, {\"LF2\": 0.24317407989807843, \"LF1\": 0.0044021527609543875, \"labels\": \"tech\"}, {\"LF2\": 0.47478619792414894, \"LF1\": -0.1171591304037129, \"labels\": \"sport\"}, {\"LF2\": 0.32462898571687954, \"LF1\": 0.05116482150372688, \"labels\": \"politics\"}, {\"LF2\": 0.24535934424105937, \"LF1\": 0.009053414616563692, \"labels\": \"tech\"}, {\"LF2\": 0.38777624364983654, \"LF1\": 0.016632087458873172, \"labels\": \"business\"}, {\"LF2\": 0.45065002040666907, \"LF1\": 0.3375499120625783, \"labels\": \"politics\"}, {\"LF2\": 0.43392853803648646, \"LF1\": 0.0028884316507336934, \"labels\": \"tech\"}, {\"LF2\": 0.20969022067881107, \"LF1\": 0.018145564743665188, \"labels\": \"business\"}, {\"LF2\": 0.2910984254551483, \"LF1\": -0.036779993077885306, \"labels\": \"entertainment\"}, {\"LF2\": 0.3277631219223488, \"LF1\": -0.0335145404791508, \"labels\": \"tech\"}, {\"LF2\": 0.415432789140794, \"LF1\": 0.023675525843741132, \"labels\": \"business\"}, {\"LF2\": 0.27335634950659327, \"LF1\": -0.08009038096804365, \"labels\": \"sport\"}, {\"LF2\": 0.314412901161868, \"LF1\": -0.02970867872985631, \"labels\": \"entertainment\"}, {\"LF2\": 0.3976908830085774, \"LF1\": -0.11534492009931442, \"labels\": \"sport\"}, {\"LF2\": 0.4369816581236826, \"LF1\": 0.010250462636057221, \"labels\": \"tech\"}, {\"LF2\": 0.34779622520929443, \"LF1\": 0.029121600301917874, \"labels\": \"tech\"}, {\"LF2\": 0.27664207146219316, \"LF1\": -0.06821593874008429, \"labels\": \"sport\"}, {\"LF2\": 0.2667295732769116, \"LF1\": -0.020561433438194922, \"labels\": \"tech\"}, {\"LF2\": 0.3909186203312039, \"LF1\": 0.007772474202313603, \"labels\": \"tech\"}, {\"LF2\": 0.4607947246450302, \"LF1\": 0.23936582891072977, \"labels\": \"politics\"}, {\"LF2\": 0.43180762504181924, \"LF1\": 0.4364580316915966, \"labels\": \"politics\"}, {\"LF2\": 0.26813615503253946, \"LF1\": -0.07779872538690374, \"labels\": \"sport\"}, {\"LF2\": 0.49164230351556676, \"LF1\": 0.07000796361099924, \"labels\": \"politics\"}, {\"LF2\": 0.4540847118475247, \"LF1\": -0.07271048304056221, \"labels\": \"entertainment\"}, {\"LF2\": 0.4775363969501341, \"LF1\": -0.010556125512025448, \"labels\": \"business\"}, {\"LF2\": 0.40165244926753424, \"LF1\": -0.19128910789011636, \"labels\": \"entertainment\"}, {\"LF2\": 0.36474632286889913, \"LF1\": 0.051110742143360206, \"labels\": \"politics\"}, {\"LF2\": 0.3404208733285272, \"LF1\": 0.3129557579711232, \"labels\": \"politics\"}, {\"LF2\": 0.2461504191073415, \"LF1\": -0.02165528533819952, \"labels\": \"sport\"}, {\"LF2\": 0.35026254833196707, \"LF1\": -0.028244275558343288, \"labels\": \"tech\"}, {\"LF2\": 0.1890592041237294, \"LF1\": -0.0025129751165383564, \"labels\": \"business\"}, {\"LF2\": 0.2552634080812482, \"LF1\": -0.14244953542581196, \"labels\": \"entertainment\"}, {\"LF2\": 0.2786960248259322, \"LF1\": -0.013944530534846719, \"labels\": \"business\"}, {\"LF2\": 0.4435660002476852, \"LF1\": -0.10832273335150311, \"labels\": \"sport\"}, {\"LF2\": 0.25438962421629396, \"LF1\": -0.1034281712088871, \"labels\": \"entertainment\"}, {\"LF2\": 0.34797421758693353, \"LF1\": 0.003691979123481498, \"labels\": \"entertainment\"}, {\"LF2\": 0.4435768424117014, \"LF1\": 0.20827729787293608, \"labels\": \"politics\"}, {\"LF2\": 0.27201511952928825, \"LF1\": 0.02626771407251473, \"labels\": \"politics\"}, {\"LF2\": 0.31730041702275996, \"LF1\": -0.06722609963768769, \"labels\": \"entertainment\"}, {\"LF2\": 0.20101589755548915, \"LF1\": -0.000984075278923931, \"labels\": \"business\"}, {\"LF2\": 0.33349086234908626, \"LF1\": -0.11539486042399318, \"labels\": \"entertainment\"}, {\"LF2\": 0.3341616163603635, \"LF1\": -0.04399660298226175, \"labels\": \"sport\"}, {\"LF2\": 0.31241669423939816, \"LF1\": -0.0034015913212212044, \"labels\": \"tech\"}, {\"LF2\": 0.3107197546777896, \"LF1\": -0.032095102051582246, \"labels\": \"tech\"}, {\"LF2\": 0.1834009973739757, \"LF1\": 0.022206496084576092, \"labels\": \"business\"}, {\"LF2\": 0.1283408310956684, \"LF1\": -0.042344057260952896, \"labels\": \"sport\"}, {\"LF2\": 0.30427510586931794, \"LF1\": -0.05369752284062084, \"labels\": \"sport\"}, {\"LF2\": 0.30839790798824457, \"LF1\": -0.06912959643717417, \"labels\": \"entertainment\"}, {\"LF2\": 0.2808584252182685, \"LF1\": -0.18642516268152284, \"labels\": \"entertainment\"}, {\"LF2\": 0.41147328005233397, \"LF1\": 0.050706711401850346, \"labels\": \"business\"}, {\"LF2\": 0.40322214829934944, \"LF1\": -0.026468864933903886, \"labels\": \"entertainment\"}, {\"LF2\": 0.2752466474418461, \"LF1\": -0.08475260271807897, \"labels\": \"entertainment\"}, {\"LF2\": 0.38062122450804176, \"LF1\": -0.02385107441965411, \"labels\": \"tech\"}, {\"LF2\": 0.34502121983827944, \"LF1\": -0.13182150491674854, \"labels\": \"sport\"}, {\"LF2\": 0.37222355024233417, \"LF1\": 0.024411859494902086, \"labels\": \"politics\"}, {\"LF2\": 0.398100583968054, \"LF1\": 0.07750162568819283, \"labels\": \"politics\"}, {\"LF2\": 0.24231803561773074, \"LF1\": -0.11043632575082492, \"labels\": \"entertainment\"}, {\"LF2\": 0.2319418250533218, \"LF1\": -0.07704065441430893, \"labels\": \"sport\"}, {\"LF2\": 0.39927239968903616, \"LF1\": 0.128245567331693, \"labels\": \"politics\"}, {\"LF2\": 0.2990906591623459, \"LF1\": -0.03060178453120086, \"labels\": \"sport\"}, {\"LF2\": 0.44735274322164414, \"LF1\": -0.07505091027707605, \"labels\": \"tech\"}, {\"LF2\": 0.4115409840454259, \"LF1\": -0.004726773888884171, \"labels\": \"tech\"}, {\"LF2\": 0.30418815798690174, \"LF1\": 0.03756871488915917, \"labels\": \"politics\"}, {\"LF2\": 0.3800483050083567, \"LF1\": 0.07433688738131193, \"labels\": \"politics\"}, {\"LF2\": 0.5537401197208459, \"LF1\": 0.011222468907845368, \"labels\": \"business\"}, {\"LF2\": 0.21901922294732776, \"LF1\": -0.003761443910753864, \"labels\": \"tech\"}, {\"LF2\": 0.33418371820629406, \"LF1\": 0.043303293331490376, \"labels\": \"business\"}, {\"LF2\": 0.23524025509207522, \"LF1\": -0.05088870040643614, \"labels\": \"business\"}, {\"LF2\": 0.32178735567863154, \"LF1\": 0.03336967280379981, \"labels\": \"tech\"}, {\"LF2\": 0.4755083438079359, \"LF1\": -0.0223837041006047, \"labels\": \"tech\"}, {\"LF2\": 0.36790615879141836, \"LF1\": -0.08977060054250886, \"labels\": \"sport\"}, {\"LF2\": 0.2771300365973558, \"LF1\": -0.03830657498090557, \"labels\": \"business\"}, {\"LF2\": 0.19047758298262105, \"LF1\": -0.01705228337832484, \"labels\": \"business\"}, {\"LF2\": 0.3849465689185787, \"LF1\": 0.0022209888784689574, \"labels\": \"entertainment\"}, {\"LF2\": 0.24796498032876885, \"LF1\": 0.05454258152571768, \"labels\": \"business\"}, {\"LF2\": 0.4945299559247263, \"LF1\": 0.17269023986280246, \"labels\": \"politics\"}, {\"LF2\": 0.2293224599530205, \"LF1\": -0.08109091473592775, \"labels\": \"sport\"}, {\"LF2\": 0.5264688453407116, \"LF1\": 0.32602497847291173, \"labels\": \"politics\"}, {\"LF2\": 0.43296907548991664, \"LF1\": 0.19519737611784685, \"labels\": \"politics\"}, {\"LF2\": 0.31799326179745524, \"LF1\": -0.15988198772774584, \"labels\": \"sport\"}, {\"LF2\": 0.3367246544786175, \"LF1\": 0.01753422362985175, \"labels\": \"business\"}, {\"LF2\": 0.4061597184510014, \"LF1\": -0.04243091013259781, \"labels\": \"business\"}, {\"LF2\": 0.3681117369296454, \"LF1\": -0.00857629492590142, \"labels\": \"business\"}, {\"LF2\": 0.3876558325496851, \"LF1\": -0.02447481069405282, \"labels\": \"business\"}, {\"LF2\": 0.24846258114419778, \"LF1\": -0.0980070936865446, \"labels\": \"sport\"}, {\"LF2\": 0.36747867090829844, \"LF1\": 0.08307450043995997, \"labels\": \"politics\"}, {\"LF2\": 0.35743657491353287, \"LF1\": 0.03009336908078346, \"labels\": \"tech\"}, {\"LF2\": 0.17160723859702423, \"LF1\": -0.00915204481973882, \"labels\": \"business\"}, {\"LF2\": 0.3314752122466229, \"LF1\": -0.0469152336649768, \"labels\": \"entertainment\"}, {\"LF2\": 0.2696057206360596, \"LF1\": -0.096257338333195, \"labels\": \"entertainment\"}, {\"LF2\": 0.4430337577935841, \"LF1\": -0.025632473792333393, \"labels\": \"tech\"}, {\"LF2\": 0.22511428382030463, \"LF1\": -0.05890357389121824, \"labels\": \"entertainment\"}, {\"LF2\": 0.2832226993466797, \"LF1\": -0.0975279446227466, \"labels\": \"entertainment\"}, {\"LF2\": 0.2577862077854689, \"LF1\": 0.11717150972592522, \"labels\": \"business\"}, {\"LF2\": 0.25684822317407796, \"LF1\": -0.11182899373618779, \"labels\": \"sport\"}, {\"LF2\": 0.4640621094833825, \"LF1\": -0.04668056037374917, \"labels\": \"tech\"}, {\"LF2\": 0.29371496782848744, \"LF1\": -0.049313359077505774, \"labels\": \"business\"}, {\"LF2\": 0.21740130736862995, \"LF1\": -0.005592454078771675, \"labels\": \"business\"}, {\"LF2\": 0.27555482431288486, \"LF1\": 0.01975925908786587, \"labels\": \"business\"}, {\"LF2\": 0.25993106148664025, \"LF1\": -0.011607355497132788, \"labels\": \"sport\"}, {\"LF2\": 0.4418978398353555, \"LF1\": -0.08860796170752015, \"labels\": \"entertainment\"}, {\"LF2\": 0.19989858053343226, \"LF1\": -0.07112827242486285, \"labels\": \"sport\"}, {\"LF2\": 0.3750217581650211, \"LF1\": 0.04315279028424243, \"labels\": \"politics\"}, {\"LF2\": 0.3449958991438451, \"LF1\": 0.13264946636069455, \"labels\": \"politics\"}, {\"LF2\": 0.26627252815201174, \"LF1\": 0.0004516324167816175, \"labels\": \"sport\"}, {\"LF2\": 0.31455737598168465, \"LF1\": -0.2615429060516646, \"labels\": \"entertainment\"}, {\"LF2\": 0.44470555040970766, \"LF1\": 0.041834416280483094, \"labels\": \"politics\"}, {\"LF2\": 0.33285968090431456, \"LF1\": -0.0402880542977395, \"labels\": \"tech\"}, {\"LF2\": 0.25720471375694354, \"LF1\": -0.12139668300444267, \"labels\": \"entertainment\"}, {\"LF2\": 0.31413034357784914, \"LF1\": 0.18476683008696027, \"labels\": \"politics\"}, {\"LF2\": 0.2599612275858222, \"LF1\": -0.038926366579463856, \"labels\": \"entertainment\"}, {\"LF2\": 0.3523315161719658, \"LF1\": -0.08613816473393088, \"labels\": \"sport\"}, {\"LF2\": 0.28585227168596555, \"LF1\": -0.04276769722586379, \"labels\": \"entertainment\"}, {\"LF2\": 0.27680188224291824, \"LF1\": 0.032722062051282474, \"labels\": \"politics\"}, {\"LF2\": 0.43399659795153467, \"LF1\": 0.1748248428551027, \"labels\": \"politics\"}, {\"LF2\": 0.5416230751162331, \"LF1\": 0.060909281275674076, \"labels\": \"business\"}, {\"LF2\": 0.31300968352900793, \"LF1\": 0.007584090541552355, \"labels\": \"tech\"}, {\"LF2\": 0.37887455879417986, \"LF1\": -0.07851672453317372, \"labels\": \"entertainment\"}, {\"LF2\": 0.2679606676467839, \"LF1\": -0.12648104062980914, \"labels\": \"sport\"}, {\"LF2\": 0.3651743915085864, \"LF1\": -0.04177052582945297, \"labels\": \"entertainment\"}, {\"LF2\": 0.2911645644967533, \"LF1\": 0.020504695042086494, \"labels\": \"politics\"}, {\"LF2\": 0.4059900599490304, \"LF1\": 0.2294956023920289, \"labels\": \"politics\"}, {\"LF2\": 0.34279196439817167, \"LF1\": 0.0878563632424139, \"labels\": \"business\"}, {\"LF2\": 0.24637487025241872, \"LF1\": -0.2446907558701161, \"labels\": \"entertainment\"}, {\"LF2\": 0.27339819502912516, \"LF1\": 0.054562182125144236, \"labels\": \"politics\"}, {\"LF2\": 0.24713181387699026, \"LF1\": -0.01864646658751882, \"labels\": \"business\"}, {\"LF2\": 0.32048270115845934, \"LF1\": -0.04535502128867612, \"labels\": \"sport\"}, {\"LF2\": 0.44028521541897386, \"LF1\": 0.04804082009669146, \"labels\": \"politics\"}, {\"LF2\": 0.3934777161605817, \"LF1\": -0.12429881793837501, \"labels\": \"entertainment\"}, {\"LF2\": 0.3050271764964494, \"LF1\": 0.02559666863539119, \"labels\": \"business\"}, {\"LF2\": 0.6130116504197382, \"LF1\": 0.26758239843723364, \"labels\": \"politics\"}, {\"LF2\": 0.29042419415086845, \"LF1\": -0.10084070249200865, \"labels\": \"entertainment\"}, {\"LF2\": 0.23705293877332875, \"LF1\": -0.096845849542266, \"labels\": \"sport\"}, {\"LF2\": 0.36662590464027994, \"LF1\": -0.07683729738664428, \"labels\": \"sport\"}, {\"LF2\": 0.4113404915240852, \"LF1\": 0.1062576044245955, \"labels\": \"politics\"}, {\"LF2\": 0.31116828256423884, \"LF1\": -0.03558353872543044, \"labels\": \"tech\"}, {\"LF2\": 0.3149448900772401, \"LF1\": 0.018212824842849425, \"labels\": \"tech\"}, {\"LF2\": 0.44416137169932013, \"LF1\": -0.030397245425437248, \"labels\": \"tech\"}, {\"LF2\": 0.3922127837342286, \"LF1\": -0.030555315287870834, \"labels\": \"sport\"}, {\"LF2\": 0.4450926279502239, \"LF1\": -0.10663326019817305, \"labels\": \"tech\"}, {\"LF2\": 0.35015085775011645, \"LF1\": -0.10834948449534318, \"labels\": \"entertainment\"}, {\"LF2\": 0.22563739329117496, \"LF1\": -0.01638010725003424, \"labels\": \"sport\"}, {\"LF2\": 0.2546672452148654, \"LF1\": -0.04301795154166812, \"labels\": \"entertainment\"}, {\"LF2\": 0.325832195246149, \"LF1\": 0.006236882086048317, \"labels\": \"business\"}, {\"LF2\": 0.43733264353477264, \"LF1\": 0.12460483708042401, \"labels\": \"politics\"}, {\"LF2\": 0.29302424081363576, \"LF1\": -0.03257767038694324, \"labels\": \"business\"}, {\"LF2\": 0.32957940088906484, \"LF1\": -0.049259965642722746, \"labels\": \"sport\"}, {\"LF2\": 0.4497368877500072, \"LF1\": 0.17275702197906628, \"labels\": \"politics\"}, {\"LF2\": 0.251881170985722, \"LF1\": -7.398697785849975e-06, \"labels\": \"business\"}, {\"LF2\": 0.25487243531784576, \"LF1\": -0.0454238882892596, \"labels\": \"sport\"}, {\"LF2\": 0.4078513685381101, \"LF1\": 0.2792734004073882, \"labels\": \"politics\"}, {\"LF2\": 0.27676757555618187, \"LF1\": -0.04304252367231878, \"labels\": \"entertainment\"}, {\"LF2\": 0.4147500227992626, \"LF1\": 0.06000109838365946, \"labels\": \"politics\"}, {\"LF2\": 0.35210212879816155, \"LF1\": 0.010340735745893233, \"labels\": \"tech\"}, {\"LF2\": 0.41726726202544745, \"LF1\": 0.0844401124744438, \"labels\": \"politics\"}, {\"LF2\": 0.1832407504656827, \"LF1\": -0.11159846753710767, \"labels\": \"entertainment\"}, {\"LF2\": 0.3581998187131175, \"LF1\": 0.009409507065259079, \"labels\": \"business\"}, {\"LF2\": 0.4433677246796971, \"LF1\": -0.04522448677323696, \"labels\": \"entertainment\"}, {\"LF2\": 0.5211970790284939, \"LF1\": -0.07809534817506422, \"labels\": \"entertainment\"}, {\"LF2\": 0.40313304319592363, \"LF1\": 0.01245580745301508, \"labels\": \"tech\"}, {\"LF2\": 0.3510648768371761, \"LF1\": -0.014835313271499867, \"labels\": \"entertainment\"}, {\"LF2\": 0.33601059112283255, \"LF1\": 0.09211377212764017, \"labels\": \"politics\"}, {\"LF2\": 0.37255942703160755, \"LF1\": 0.00627444158000085, \"labels\": \"tech\"}, {\"LF2\": 0.2685027836984477, \"LF1\": 0.028608062853964864, \"labels\": \"tech\"}, {\"LF2\": 0.4313768516669847, \"LF1\": -0.03865239283538297, \"labels\": \"business\"}, {\"LF2\": 0.32729851228375684, \"LF1\": -0.06931049054828291, \"labels\": \"sport\"}, {\"LF2\": 0.43105155548918545, \"LF1\": -0.14657729741422285, \"labels\": \"sport\"}, {\"LF2\": 0.22805987756432694, \"LF1\": 0.0005366295146695299, \"labels\": \"tech\"}, {\"LF2\": 0.4200199489078473, \"LF1\": 0.019821949785547407, \"labels\": \"business\"}, {\"LF2\": 0.42148308328248385, \"LF1\": -0.09165333699611909, \"labels\": \"sport\"}, {\"LF2\": 0.34979672393675915, \"LF1\": 0.019134862812273924, \"labels\": \"politics\"}, {\"LF2\": 0.3046012157977259, \"LF1\": -0.057805437061448126, \"labels\": \"sport\"}, {\"LF2\": 0.3512407158043153, \"LF1\": -0.020189013853878293, \"labels\": \"business\"}, {\"LF2\": 0.4290290097085787, \"LF1\": 0.19980358267174764, \"labels\": \"politics\"}, {\"LF2\": 0.3098473471859477, \"LF1\": -0.08973143414988041, \"labels\": \"entertainment\"}, {\"LF2\": 0.3724022734822582, \"LF1\": -0.0011968964360570644, \"labels\": \"tech\"}, {\"LF2\": 0.4158807780522904, \"LF1\": 0.0682367703303136, \"labels\": \"politics\"}, {\"LF2\": 0.28256538125174807, \"LF1\": -0.030755094967014337, \"labels\": \"business\"}, {\"LF2\": 0.29895196892500703, \"LF1\": -0.01907029138272081, \"labels\": \"business\"}, {\"LF2\": 0.39762965974083264, \"LF1\": -0.038014617727566785, \"labels\": \"sport\"}, {\"LF2\": 0.33721151431083224, \"LF1\": 0.03149655182712193, \"labels\": \"tech\"}, {\"LF2\": 0.2271083330202791, \"LF1\": -0.006630423211366031, \"labels\": \"entertainment\"}, {\"LF2\": 0.33882472295041105, \"LF1\": -0.017657178439068576, \"labels\": \"business\"}, {\"LF2\": 0.25286401374014944, \"LF1\": -0.04736368783173454, \"labels\": \"entertainment\"}, {\"LF2\": 0.38396041899196376, \"LF1\": -0.06905772610916631, \"labels\": \"entertainment\"}, {\"LF2\": 0.35480299908043317, \"LF1\": -0.04031566794472457, \"labels\": \"business\"}, {\"LF2\": 0.4794867642801616, \"LF1\": -0.04376264173480152, \"labels\": \"tech\"}, {\"LF2\": 0.29749495839946843, \"LF1\": -0.007315508694659294, \"labels\": \"tech\"}]}}, {\"mode\": \"vega-lite\"});\n",
       "</script>"
      ],
      "text/plain": [
       "alt.Chart(...)"
      ]
     },
     "execution_count": 74,
     "metadata": {},
     "output_type": "execute_result"
    }
   ],
   "source": [
    "import altair as alt\n",
    "alt.Chart(vis).mark_point().encode(x='LF1',y='LF2', color='labels')"
   ]
  },
  {
   "cell_type": "markdown",
   "id": "adf20da8",
   "metadata": {},
   "source": [
    "So here we have the documents plotted along the first 2 latent features on a 2d plane. \n",
    "\n",
    "This plot isn't very interpretable. But we can see the clusters formed by the documents of each type. \n",
    "\n",
    "We can see that business and tech tend to use similar words in similar frequencies, hence their overlap. \n",
    "The fact that entertainment and sport are so close is not really surprising. "
   ]
  },
  {
   "cell_type": "markdown",
   "id": "43df0c9a",
   "metadata": {},
   "source": [
    "## Building and training models"
   ]
  },
  {
   "cell_type": "markdown",
   "id": "81ad98cf",
   "metadata": {},
   "source": [
    "### NMF"
   ]
  },
  {
   "cell_type": "code",
   "execution_count": 78,
   "id": "43053e1f",
   "metadata": {},
   "outputs": [],
   "source": [
    "from sklearn.decomposition import NMF"
   ]
  },
  {
   "cell_type": "markdown",
   "id": "c0dbc973",
   "metadata": {},
   "source": [
    "Based on the EDA earlier, we can say that we need multiplicative noise uisng KL loss because our data has a lot of 0 values. "
   ]
  },
  {
   "cell_type": "code",
   "execution_count": 80,
   "id": "9d18c85a",
   "metadata": {},
   "outputs": [
    {
     "name": "stdout",
     "output_type": "stream",
     "text": [
      "Epoch 10 reached after 0.614 seconds, error: 383.320254\n",
      "Epoch 20 reached after 1.165 seconds, error: 380.840542\n",
      "Epoch 30 reached after 1.750 seconds, error: 380.417688\n",
      "Epoch 40 reached after 2.316 seconds, error: 380.251637\n",
      "Epoch 50 reached after 2.866 seconds, error: 380.172450\n",
      "Epoch 60 reached after 3.417 seconds, error: 380.131149\n",
      "Epoch 70 reached after 3.967 seconds, error: 380.111442\n"
     ]
    }
   ],
   "source": [
    "NMF1 = NMF(n_components = 5, solver = 'mu', beta_loss = 'kullback-leibler', verbose = 1).fit(combineTestTrain_data)"
   ]
  },
  {
   "cell_type": "code",
   "execution_count": 81,
   "id": "85d4375d",
   "metadata": {},
   "outputs": [],
   "source": [
    "H1 = NMF1.components_"
   ]
  },
  {
   "cell_type": "code",
   "execution_count": 82,
   "id": "802d05e5",
   "metadata": {},
   "outputs": [
    {
     "name": "stdout",
     "output_type": "stream",
     "text": [
      "Epoch 10 reached after 0.220 seconds, error: 310.735600\n",
      "Epoch 20 reached after 0.408 seconds, error: 310.634494\n",
      "Epoch 30 reached after 0.615 seconds, error: 310.626284\n"
     ]
    }
   ],
   "source": [
    "transformedData1 = NMF1.transform(trainData)"
   ]
  },
  {
   "cell_type": "markdown",
   "id": "ba3f1a57",
   "metadata": {},
   "source": [
    "Lat's see what our algo says about which belongs to which:"
   ]
  },
  {
   "cell_type": "code",
   "execution_count": 84,
   "id": "34468f2b",
   "metadata": {},
   "outputs": [],
   "source": [
    "WTrain1 = transformedData1"
   ]
  },
  {
   "cell_type": "code",
   "execution_count": 85,
   "id": "65013b0d",
   "metadata": {},
   "outputs": [
    {
     "name": "stdout",
     "output_type": "stream",
     "text": [
      "[[1.24496004e-01 4.63301316e-03 1.48345311e-06 4.71102059e-06\n",
      "  3.02555168e-03]\n",
      " [1.60125183e-01 3.64475168e-08 2.47871742e-11 1.72601462e-10\n",
      "  2.29337226e-14]\n",
      " [1.11805497e-01 4.97288812e-02 1.25475477e-06 3.17446284e-04\n",
      "  1.28921720e-07]\n",
      " ...\n",
      " [1.46961306e-01 1.39049897e-09 4.06678070e-07 4.40722618e-11\n",
      "  5.38494408e-09]\n",
      " [5.58239461e-05 1.69013047e-10 8.00868865e-09 1.41168248e-01\n",
      "  8.95024198e-09]\n",
      " [1.51538242e-04 1.25536015e-10 5.79932319e-11 1.01874517e-01\n",
      "  3.37829997e-09]]\n"
     ]
    }
   ],
   "source": [
    "print(WTrain1)"
   ]
  },
  {
   "cell_type": "code",
   "execution_count": 86,
   "id": "bd2666ba",
   "metadata": {},
   "outputs": [
    {
     "name": "stdout",
     "output_type": "stream",
     "text": [
      "Epoch 10 reached after 0.095 seconds, error: 219.158008\n",
      "Epoch 20 reached after 0.196 seconds, error: 219.084995\n",
      "Epoch 30 reached after 0.296 seconds, error: 219.078849\n"
     ]
    }
   ],
   "source": [
    "WTest1 = NMF1.transform(testData)"
   ]
  },
  {
   "cell_type": "code",
   "execution_count": 87,
   "id": "4f9412b4",
   "metadata": {},
   "outputs": [
    {
     "name": "stdout",
     "output_type": "stream",
     "text": [
      "(735, 5)\n"
     ]
    }
   ],
   "source": [
    "print(WTest1.shape)"
   ]
  },
  {
   "cell_type": "markdown",
   "id": "505b29aa",
   "metadata": {},
   "source": [
    "Here the $W$ matrix tells us which of the 5 latent groups our data point seems to belong. \n",
    "\n",
    "This really resembles Naive bayes model in supervised learning.\n",
    "\n",
    "I'll define a function that gives us the predicted group based on the transformed data:"
   ]
  },
  {
   "cell_type": "code",
   "execution_count": 89,
   "id": "0122ac35",
   "metadata": {},
   "outputs": [],
   "source": [
    "def NMFPrediction(W):\n",
    "    result = []\n",
    "    for i in W:\n",
    "        maxValue = 0\n",
    "        maxIndex = None\n",
    "        for j in range(0,len(i)):\n",
    "            if i[j] > maxValue:\n",
    "                maxValue = i[j]\n",
    "                maxIndex = j\n",
    "        result.append(maxIndex)\n",
    "    return np.array(result)"
   ]
  },
  {
   "cell_type": "code",
   "execution_count": 90,
   "id": "7654cc7c",
   "metadata": {},
   "outputs": [],
   "source": [
    "TrainingSetPrediction1 = NMFPrediction(WTrain1)\n",
    "TestingSetPrediction1 = NMFPrediction(WTest1)"
   ]
  },
  {
   "cell_type": "code",
   "execution_count": 1,
   "id": "091445c1",
   "metadata": {},
   "outputs": [
    {
     "ename": "NameError",
     "evalue": "name 'TrainingSetPrediction1' is not defined",
     "output_type": "error",
     "traceback": [
      "\u001b[1;31m---------------------------------------------------------------------------\u001b[0m",
      "\u001b[1;31mNameError\u001b[0m                                 Traceback (most recent call last)",
      "Cell \u001b[1;32mIn[1], line 1\u001b[0m\n\u001b[1;32m----> 1\u001b[0m \u001b[38;5;28mprint\u001b[39m(TrainingSetPrediction1\u001b[38;5;241m.\u001b[39mshape)\n\u001b[0;32m      2\u001b[0m \u001b[38;5;28mprint\u001b[39m(train_labelVis\u001b[38;5;241m.\u001b[39mshape)\n",
      "\u001b[1;31mNameError\u001b[0m: name 'TrainingSetPrediction1' is not defined"
     ]
    }
   ],
   "source": [
    "print(TrainingSetPrediction1.shape)\n",
    "print(train_labelVis.shape)"
   ]
  },
  {
   "cell_type": "markdown",
   "id": "30a8ae96",
   "metadata": {},
   "source": [
    "Now to match which prediction goes with which label"
   ]
  },
  {
   "cell_type": "code",
   "execution_count": 93,
   "id": "d1dec75b",
   "metadata": {},
   "outputs": [],
   "source": [
    "import itertools\n",
    "\n",
    "def label_permute_compare(ytdf,yp):\n",
    "    \"\"\"\n",
    "    This is taken from what i wrote in the week 2 assignment\n",
    "    Still useful here\n",
    "    \"\"\"\n",
    "    ytdf = ytdf.squeeze()\n",
    "    n = len(ytdf.unique())\n",
    "    listOfLabels = list(ytdf.unique())\n",
    "    possibleComb = itertools.permutations(listOfLabels)\n",
    "    clusteringLabels = list(np.arange(0,n))\n",
    "    maxAccu = 0\n",
    "    mostAccurateLabels = []\n",
    "    for trueLabels in possibleComb:\n",
    "        labelDict = dict(zip(clusteringLabels, trueLabels))\n",
    "        correctPrediction = 0\n",
    "        total = len(yp)\n",
    "        for i in range(len(yp)):\n",
    "            if labelDict[yp[i]] == ytdf[i]:\n",
    "                correctPrediction += 1\n",
    "        accuracy = correctPrediction/total\n",
    "        if accuracy > maxAccu:\n",
    "            mostAccurateLabels = trueLabels\n",
    "            maxAccu = accuracy\n",
    "    return mostAccurateLabels, maxAccu"
   ]
  },
  {
   "cell_type": "markdown",
   "id": "a2cd6cdf",
   "metadata": {},
   "source": [
    "Okay time to say which prediction goes with which now. "
   ]
  },
  {
   "cell_type": "code",
   "execution_count": 95,
   "id": "cf9f971b",
   "metadata": {},
   "outputs": [],
   "source": [
    "Prediction_ruleNMF1, accuracy = label_permute_compare(train_labelVis, TrainingSetPrediction1)"
   ]
  },
  {
   "cell_type": "code",
   "execution_count": 96,
   "id": "1e147d33",
   "metadata": {},
   "outputs": [
    {
     "name": "stdout",
     "output_type": "stream",
     "text": [
      "('business', 'politics', 'sport', 'tech', 'entertainment') 0.9523489932885906\n"
     ]
    }
   ],
   "source": [
    "print(Prediction_ruleNMF1, accuracy)"
   ]
  },
  {
   "cell_type": "code",
   "execution_count": 97,
   "id": "4b020aee",
   "metadata": {},
   "outputs": [],
   "source": [
    "def applyPredictionRule(rule, predicted):\n",
    "    output = [rule[i] for i in predicted]\n",
    "    return output"
   ]
  },
  {
   "cell_type": "code",
   "execution_count": 98,
   "id": "8134ed00",
   "metadata": {},
   "outputs": [],
   "source": [
    "trainsetPredictedLabels1 = applyPredictionRule(Prediction_ruleNMF1, TrainingSetPrediction1)"
   ]
  },
  {
   "cell_type": "code",
   "execution_count": 99,
   "id": "0ed4131b",
   "metadata": {},
   "outputs": [],
   "source": [
    "from sklearn.metrics import accuracy_score, confusion_matrix"
   ]
  },
  {
   "cell_type": "code",
   "execution_count": 100,
   "id": "68c69c87",
   "metadata": {},
   "outputs": [
    {
     "data": {
      "text/plain": [
       "array([[320,   0,   8,   0,   8],\n",
       "       [  6, 261,   2,   1,   3],\n",
       "       [ 17,   3, 252,   0,   2],\n",
       "       [  1,   1,   0, 344,   0],\n",
       "       [  9,   7,   3,   0, 242]], dtype=int64)"
      ]
     },
     "execution_count": 100,
     "metadata": {},
     "output_type": "execute_result"
    }
   ],
   "source": [
    "confusion_matrix(train_labelVis, trainsetPredictedLabels1)"
   ]
  },
  {
   "cell_type": "code",
   "execution_count": 101,
   "id": "860eb827",
   "metadata": {},
   "outputs": [
    {
     "name": "stdout",
     "output_type": "stream",
     "text": [
      "accuracy score:  0.9523489932885906\n"
     ]
    }
   ],
   "source": [
    "print(\"accuracy score: \", accuracy_score(train_labelVis, trainsetPredictedLabels1))"
   ]
  },
  {
   "cell_type": "markdown",
   "id": "361ef2e2",
   "metadata": {},
   "source": [
    "Let's now check for our accuracy in the test set:"
   ]
  },
  {
   "cell_type": "code",
   "execution_count": 103,
   "id": "233c7f8b",
   "metadata": {},
   "outputs": [],
   "source": [
    "testsetPredictedLabels1 = applyPredictionRule(Prediction_ruleNMF1, TestingSetPrediction1)"
   ]
  },
  {
   "cell_type": "code",
   "execution_count": 104,
   "id": "c0a9620d",
   "metadata": {},
   "outputs": [],
   "source": [
    "export = pd.DataFrame(test_raw.ArticleId)\n",
    "export.insert(1, \"Category\", testsetPredictedLabels1, True)"
   ]
  },
  {
   "cell_type": "code",
   "execution_count": 105,
   "id": "efa25fb7",
   "metadata": {},
   "outputs": [
    {
     "data": {
      "text/html": [
       "<div>\n",
       "<style scoped>\n",
       "    .dataframe tbody tr th:only-of-type {\n",
       "        vertical-align: middle;\n",
       "    }\n",
       "\n",
       "    .dataframe tbody tr th {\n",
       "        vertical-align: top;\n",
       "    }\n",
       "\n",
       "    .dataframe thead th {\n",
       "        text-align: right;\n",
       "    }\n",
       "</style>\n",
       "<table border=\"1\" class=\"dataframe\">\n",
       "  <thead>\n",
       "    <tr style=\"text-align: right;\">\n",
       "      <th></th>\n",
       "      <th>ArticleId</th>\n",
       "      <th>Category</th>\n",
       "    </tr>\n",
       "  </thead>\n",
       "  <tbody>\n",
       "    <tr>\n",
       "      <th>0</th>\n",
       "      <td>1018</td>\n",
       "      <td>sport</td>\n",
       "    </tr>\n",
       "    <tr>\n",
       "      <th>1</th>\n",
       "      <td>1319</td>\n",
       "      <td>tech</td>\n",
       "    </tr>\n",
       "    <tr>\n",
       "      <th>2</th>\n",
       "      <td>1138</td>\n",
       "      <td>sport</td>\n",
       "    </tr>\n",
       "    <tr>\n",
       "      <th>3</th>\n",
       "      <td>459</td>\n",
       "      <td>business</td>\n",
       "    </tr>\n",
       "    <tr>\n",
       "      <th>4</th>\n",
       "      <td>1020</td>\n",
       "      <td>sport</td>\n",
       "    </tr>\n",
       "  </tbody>\n",
       "</table>\n",
       "</div>"
      ],
      "text/plain": [
       "   ArticleId  Category\n",
       "0       1018     sport\n",
       "1       1319      tech\n",
       "2       1138     sport\n",
       "3        459  business\n",
       "4       1020     sport"
      ]
     },
     "execution_count": 105,
     "metadata": {},
     "output_type": "execute_result"
    }
   ],
   "source": [
    "export.head()"
   ]
  },
  {
   "cell_type": "code",
   "execution_count": 106,
   "id": "c56e81d3",
   "metadata": {},
   "outputs": [],
   "source": [
    "export.to_csv(\"exportNMF1.csv\", index=False)"
   ]
  },
  {
   "cell_type": "markdown",
   "id": "3d1ff302",
   "metadata": {},
   "source": [
    "here is what i got: Score: 0.96462"
   ]
  },
  {
   "cell_type": "markdown",
   "id": "ace8a812",
   "metadata": {
    "jp-MarkdownHeadingCollapsed": true
   },
   "source": [
    "### changing hyperparameters"
   ]
  },
  {
   "cell_type": "markdown",
   "id": "d495c91d",
   "metadata": {},
   "source": [
    "For this one I will tweak the loss function:\n",
    "\n",
    "This frobenius loss function according to our EDA is not suitable for our data. But let's still use it to see if that changes our prediction accuracy:"
   ]
  },
  {
   "cell_type": "code",
   "execution_count": 110,
   "id": "9b25b93e",
   "metadata": {},
   "outputs": [],
   "source": [
    "NMF2 = NMF(n_components = 5, beta_loss = 'frobenius', verbose = 0).fit(combineTestTrain_data)"
   ]
  },
  {
   "cell_type": "code",
   "execution_count": 111,
   "id": "b7582bc2",
   "metadata": {},
   "outputs": [],
   "source": [
    "WTrain2 = NMF2.transform(trainData)"
   ]
  },
  {
   "cell_type": "code",
   "execution_count": 112,
   "id": "cdbe1d9a",
   "metadata": {},
   "outputs": [],
   "source": [
    "WTest2 = NMF2.transform(testData)"
   ]
  },
  {
   "cell_type": "code",
   "execution_count": 113,
   "id": "02fb196e",
   "metadata": {},
   "outputs": [
    {
     "name": "stdout",
     "output_type": "stream",
     "text": [
      "[[0.03758543 0.04893749 0.00700722 0.00354968 0.        ]\n",
      " [0.14159208 0.         0.         0.         0.        ]\n",
      " [0.1002023  0.02135013 0.01101948 0.03898525 0.01618056]\n",
      " ...\n",
      " [0.13129771 0.         0.00802555 0.         0.        ]\n",
      " [0.03276834 0.         0.         0.18744771 0.01163652]\n",
      " [0.02227496 0.         0.00588215 0.10107326 0.00502556]]\n"
     ]
    }
   ],
   "source": [
    "print(WTrain2)"
   ]
  },
  {
   "cell_type": "code",
   "execution_count": 114,
   "id": "c1b6cf15",
   "metadata": {},
   "outputs": [],
   "source": [
    "TrainingSetPrediction2 = NMFPrediction(WTrain2)\n",
    "TestingSetPrediction2 = NMFPrediction(WTest2)"
   ]
  },
  {
   "cell_type": "code",
   "execution_count": 115,
   "id": "6b65e6d1",
   "metadata": {},
   "outputs": [],
   "source": [
    "Prediction_ruleNMF2, accuracy2 = label_permute_compare(train_labelVis, TrainingSetPrediction2)"
   ]
  },
  {
   "cell_type": "code",
   "execution_count": 116,
   "id": "0bbd1225",
   "metadata": {},
   "outputs": [
    {
     "name": "stdout",
     "output_type": "stream",
     "text": [
      "('business', 'politics', 'sport', 'tech', 'entertainment') 0.8818791946308725\n"
     ]
    }
   ],
   "source": [
    "print(Prediction_ruleNMF2, accuracy2)"
   ]
  },
  {
   "cell_type": "code",
   "execution_count": 117,
   "id": "8c29f1b1",
   "metadata": {},
   "outputs": [],
   "source": [
    "trainsetPredictedLabels2 = applyPredictionRule(Prediction_ruleNMF2, TrainingSetPrediction2)"
   ]
  },
  {
   "cell_type": "code",
   "execution_count": 118,
   "id": "38a5665f",
   "metadata": {},
   "outputs": [
    {
     "data": {
      "text/plain": [
       "array([[297,   1,  16,   3,  19],\n",
       "       [  7, 206,   5,  19,  36],\n",
       "       [ 15,   0, 219,   4,  36],\n",
       "       [  2,   2,   0, 342,   0],\n",
       "       [  5,   3,   1,   2, 250]], dtype=int64)"
      ]
     },
     "execution_count": 118,
     "metadata": {},
     "output_type": "execute_result"
    }
   ],
   "source": [
    "confusion_matrix(train_labelVis, trainsetPredictedLabels2)"
   ]
  },
  {
   "cell_type": "code",
   "execution_count": 119,
   "id": "d6a80c50",
   "metadata": {},
   "outputs": [
    {
     "name": "stdout",
     "output_type": "stream",
     "text": [
      "accuracy score:  0.8818791946308725\n"
     ]
    }
   ],
   "source": [
    "print(\"accuracy score: \", accuracy_score(train_labelVis, trainsetPredictedLabels2))"
   ]
  },
  {
   "cell_type": "code",
   "execution_count": 120,
   "id": "099ba847",
   "metadata": {},
   "outputs": [],
   "source": [
    "testsetPredictedLabels2 = applyPredictionRule(Prediction_ruleNMF2, TestingSetPrediction2)"
   ]
  },
  {
   "cell_type": "code",
   "execution_count": 121,
   "id": "8d69d275",
   "metadata": {},
   "outputs": [],
   "source": [
    "export2 = pd.DataFrame(test_raw.ArticleId)\n",
    "export2.insert(1, \"Category\", testsetPredictedLabels2, True)\n",
    "export2.to_csv(\"exportNMF2.csv\", index=False)"
   ]
  },
  {
   "cell_type": "markdown",
   "id": "7ee3270d",
   "metadata": {},
   "source": [
    "This time our score for the test set: 0.89115"
   ]
  },
  {
   "cell_type": "markdown",
   "id": "e423b2a9",
   "metadata": {},
   "source": [
    "As expected, using the wrong loss function is a problem, our prediction accuracy dropped and we can see that our predictions are a lot less certain. "
   ]
  },
  {
   "cell_type": "code",
   "execution_count": 124,
   "id": "9ee89270",
   "metadata": {},
   "outputs": [
    {
     "data": {
      "text/plain": [
       "Text(0.5, 1.0, 'Accuracy for different loss functions')"
      ]
     },
     "execution_count": 124,
     "metadata": {},
     "output_type": "execute_result"
    },
    {
     "data": {
      "image/png": "[encoded data removed]",
      "text/plain": [
       "<Figure size 640x480 with 1 Axes>"
      ]
     },
     "metadata": {},
     "output_type": "display_data"
    }
   ],
   "source": [
    "fig, ax = plt.subplots()\n",
    "ax.bar([\"KL Loss\", \"L2 Loss\"], [accuracy_score(train_labelVis, trainsetPredictedLabels1), accuracy_score(train_labelVis, trainsetPredictedLabels2)])\n",
    "ax.set_ylabel('Accuracy')\n",
    "ax.set_xlabel('Loss Function')\n",
    "ax.set_title('Accuracy for different loss functions')"
   ]
  },
  {
   "cell_type": "markdown",
   "id": "813ed9b9",
   "metadata": {},
   "source": [
    "We can see that the KL loss performed better than L2 loss. "
   ]
  },
  {
   "cell_type": "markdown",
   "id": "0a1ada4c",
   "metadata": {},
   "source": [
    "### Tweak our text vectorization for (possibly) better model performance"
   ]
  },
  {
   "cell_type": "markdown",
   "id": "ba6788ac",
   "metadata": {},
   "source": [
    "In this version I will not vectorize words that take up more than 15% of the vectors"
   ]
  },
  {
   "cell_type": "code",
   "execution_count": 128,
   "id": "5310eea3",
   "metadata": {},
   "outputs": [],
   "source": [
    "vectorizer3 = TfidfVectorizer(max_df = 0.15)"
   ]
  },
  {
   "cell_type": "code",
   "execution_count": 129,
   "id": "572dd1bc",
   "metadata": {},
   "outputs": [],
   "source": [
    "combineTestTrain_data2 = vectorizer3.fit_transform(combineTestTrain)"
   ]
  },
  {
   "cell_type": "code",
   "execution_count": 130,
   "id": "44baee8b",
   "metadata": {},
   "outputs": [],
   "source": [
    "trainData2 = combineTestTrain_data2[0:1490]\n",
    "testData2 = combineTestTrain_data2[1490:]"
   ]
  },
  {
   "cell_type": "code",
   "execution_count": 131,
   "id": "76311ce5",
   "metadata": {},
   "outputs": [
    {
     "name": "stderr",
     "output_type": "stream",
     "text": [
      "C:\\Users\\Johns\\AppData\\Local\\anaconda3\\Lib\\site-packages\\altair\\utils\\core.py:395: FutureWarning: the convert_dtype parameter is deprecated and will be removed in a future version.  Do ``ser.astype(object).apply()`` instead if you want ``convert_dtype=False``.\n",
      "  col = df[col_name].apply(to_list_if_array, convert_dtype=False)\n"
     ]
    },
    {
     "data": {
      "text/html": [
       "\n",
       "<style>\n",
       "  #altair-viz-fcfa043cbc7246debb19ad5b107fbbe4.vega-embed {\n",
       "    width: 100%;\n",
       "    display: flex;\n",
       "  }\n",
       "\n",
       "  #altair-viz-fcfa043cbc7246debb19ad5b107fbbe4.vega-embed details,\n",
       "  #altair-viz-fcfa043cbc7246debb19ad5b107fbbe4.vega-embed details summary {\n",
       "    position: relative;\n",
       "  }\n",
       "</style>\n",
       "<div id=\"altair-viz-fcfa043cbc7246debb19ad5b107fbbe4\"></div>\n",
       "<script type=\"text/javascript\">\n",
       "  var VEGA_DEBUG = (typeof VEGA_DEBUG == \"undefined\") ? {} : VEGA_DEBUG;\n",
       "  (function(spec, embedOpt){\n",
       "    let outputDiv = document.currentScript.previousElementSibling;\n",
       "    if (outputDiv.id !== \"altair-viz-fcfa043cbc7246debb19ad5b107fbbe4\") {\n",
       "      outputDiv = document.getElementById(\"altair-viz-fcfa043cbc7246debb19ad5b107fbbe4\");\n",
       "    }\n",
       "    const paths = {\n",
       "      \"vega\": \"https://cdn.jsdelivr.net/npm/vega@5?noext\",\n",
       "      \"vega-lib\": \"https://cdn.jsdelivr.net/npm/vega-lib?noext\",\n",
       "      \"vega-lite\": \"https://cdn.jsdelivr.net/npm/vega-lite@5.8.0?noext\",\n",
       "      \"vega-embed\": \"https://cdn.jsdelivr.net/npm/vega-embed@6?noext\",\n",
       "    };\n",
       "\n",
       "    function maybeLoadScript(lib, version) {\n",
       "      var key = `${lib.replace(\"-\", \"\")}_version`;\n",
       "      return (VEGA_DEBUG[key] == version) ?\n",
       "        Promise.resolve(paths[lib]) :\n",
       "        new Promise(function(resolve, reject) {\n",
       "          var s = document.createElement('script');\n",
       "          document.getElementsByTagName(\"head\")[0].appendChild(s);\n",
       "          s.async = true;\n",
       "          s.onload = () => {\n",
       "            VEGA_DEBUG[key] = version;\n",
       "            return resolve(paths[lib]);\n",
       "          };\n",
       "          s.onerror = () => reject(`Error loading script: ${paths[lib]}`);\n",
       "          s.src = paths[lib];\n",
       "        });\n",
       "    }\n",
       "\n",
       "    function showError(err) {\n",
       "      outputDiv.innerHTML = `<div class=\"error\" style=\"color:red;\">${err}</div>`;\n",
       "      throw err;\n",
       "    }\n",
       "\n",
       "    function displayChart(vegaEmbed) {\n",
       "      vegaEmbed(outputDiv, spec, embedOpt)\n",
       "        .catch(err => showError(`Javascript Error: ${err.message}<br>This usually means there's a typo in your chart specification. See the javascript console for the full traceback.`));\n",
       "    }\n",
       "\n",
       "    if(typeof define === \"function\" && define.amd) {\n",
       "      requirejs.config({paths});\n",
       "      require([\"vega-embed\"], displayChart, err => showError(`Error loading script: ${err.message}`));\n",
       "    } else {\n",
       "      maybeLoadScript(\"vega\", \"5\")\n",
       "        .then(() => maybeLoadScript(\"vega-lite\", \"5.8.0\"))\n",
       "        .then(() => maybeLoadScript(\"vega-embed\", \"6\"))\n",
       "        .catch(showError)\n",
       "        .then(() => displayChart(vegaEmbed));\n",
       "    }\n",
       "  })({\"config\": {\"view\": {\"continuousWidth\": 300, \"continuousHeight\": 300}}, \"data\": {\"name\": \"data-60317425c912bcb14b6e76c033986a43\"}, \"mark\": {\"type\": \"point\"}, \"encoding\": {\"color\": {\"field\": \"labels\", \"type\": \"nominal\"}, \"x\": {\"field\": \"LF1\", \"type\": \"quantitative\"}, \"y\": {\"field\": \"LF2\", \"type\": \"quantitative\"}}, \"$schema\": \"https://vega.github.io/schema/vega-lite/v5.8.0.json\", \"datasets\": {\"data-60317425c912bcb14b6e76c033986a43\": [{\"LF2\": 0.07498830111259866, \"LF1\": -0.023628772369045703, \"labels\": \"business\"}, {\"LF2\": 0.16408755179940157, \"LF1\": -0.00018134481787049735, \"labels\": \"business\"}, {\"LF2\": 0.165845758643418, \"LF1\": 0.0014227723689482943, \"labels\": \"business\"}, {\"LF2\": 0.17527783945789083, \"LF1\": -0.11402722184924893, \"labels\": \"tech\"}, {\"LF2\": 0.09685855140183651, \"LF1\": -0.017374099954250037, \"labels\": \"business\"}, {\"LF2\": 0.10096491826079403, \"LF1\": 0.019503678603108286, \"labels\": \"politics\"}, {\"LF2\": 0.17854771734773134, \"LF1\": -0.11543752386926365, \"labels\": \"sport\"}, {\"LF2\": 0.13909781325348108, \"LF1\": -0.0849592257929882, \"labels\": \"entertainment\"}, {\"LF2\": 0.10053340619773175, \"LF1\": -0.03324541414511089, \"labels\": \"business\"}, {\"LF2\": 0.1375502421041464, \"LF1\": -0.09444636154508278, \"labels\": \"entertainment\"}, {\"LF2\": 0.18773947949025246, \"LF1\": 0.15192033706006586, \"labels\": \"politics\"}, {\"LF2\": 0.10629394741576562, \"LF1\": -0.06026393147175631, \"labels\": \"entertainment\"}, {\"LF2\": 0.07223581785188597, \"LF1\": -0.019373026097857866, \"labels\": \"business\"}, {\"LF2\": 0.1067003684403223, \"LF1\": -0.002069849595388477, \"labels\": \"business\"}, {\"LF2\": 0.10755385873503805, \"LF1\": -0.08248357544077074, \"labels\": \"sport\"}, {\"LF2\": 0.11399372521825443, \"LF1\": -0.06919486708178355, \"labels\": \"sport\"}, {\"LF2\": 0.1707158981830741, \"LF1\": -0.09166765313525763, \"labels\": \"entertainment\"}, {\"LF2\": 0.11517146916276061, \"LF1\": -0.09432626173253289, \"labels\": \"sport\"}, {\"LF2\": 0.0721587886815889, \"LF1\": -0.056601250440884605, \"labels\": \"sport\"}, {\"LF2\": 0.11168363996166264, \"LF1\": -0.08945000973941059, \"labels\": \"tech\"}, {\"LF2\": 0.11802525752368612, \"LF1\": -0.08900927995137566, \"labels\": \"sport\"}, {\"LF2\": 0.11868545382197686, \"LF1\": -0.08014275946714892, \"labels\": \"entertainment\"}, {\"LF2\": 0.11863792500904469, \"LF1\": -0.09074978347685561, \"labels\": \"sport\"}, {\"LF2\": 0.08315220153884269, \"LF1\": -0.051011014862165124, \"labels\": \"sport\"}, {\"LF2\": 0.11015446415789959, \"LF1\": -0.04661020043289072, \"labels\": \"tech\"}, {\"LF2\": 0.12956747249621284, \"LF1\": -0.007184163849350545, \"labels\": \"business\"}, {\"LF2\": 0.1360478709594586, \"LF1\": -0.08015736320562354, \"labels\": \"tech\"}, {\"LF2\": 0.15617940843544173, \"LF1\": -0.1231859088143193, \"labels\": \"sport\"}, {\"LF2\": 0.15553198096275475, \"LF1\": 0.05259248943596404, \"labels\": \"politics\"}, {\"LF2\": 0.12297460932207666, \"LF1\": 0.031150214422525854, \"labels\": \"business\"}, {\"LF2\": 0.10792852464017803, \"LF1\": -0.0514056301030707, \"labels\": \"tech\"}, {\"LF2\": 0.07804030052280472, \"LF1\": -0.03379254336459997, \"labels\": \"entertainment\"}, {\"LF2\": 0.16468789136514703, \"LF1\": -0.02431932595591159, \"labels\": \"business\"}, {\"LF2\": 0.11479732268937716, \"LF1\": 0.03242154502974327, \"labels\": \"politics\"}, {\"LF2\": 0.11242298614222099, \"LF1\": -0.07184244774507619, \"labels\": \"sport\"}, {\"LF2\": 0.12218620219240398, \"LF1\": -0.04953121137995013, \"labels\": \"entertainment\"}, {\"LF2\": 0.18125707948246408, \"LF1\": -0.11568046389321547, \"labels\": \"sport\"}, {\"LF2\": 0.1420196192445262, \"LF1\": -0.11750481329575921, \"labels\": \"sport\"}, {\"LF2\": 0.12378657642721912, \"LF1\": -0.07937354310102683, \"labels\": \"sport\"}, {\"LF2\": 0.1211482255177403, \"LF1\": -0.062349013167616596, \"labels\": \"tech\"}, {\"LF2\": 0.10211231764573668, \"LF1\": -0.04409866773901884, \"labels\": \"tech\"}, {\"LF2\": 0.08720193119268901, \"LF1\": -0.05323745681416859, \"labels\": \"sport\"}, {\"LF2\": 0.13232098458330827, \"LF1\": -0.05309767974488289, \"labels\": \"sport\"}, {\"LF2\": 0.13874942990985448, \"LF1\": -0.08120831983592997, \"labels\": \"tech\"}, {\"LF2\": 0.09259502131852727, \"LF1\": -0.05682701581946853, \"labels\": \"entertainment\"}, {\"LF2\": 0.1140392615375428, \"LF1\": -0.03457922711156713, \"labels\": \"entertainment\"}, {\"LF2\": 0.19808608256835922, \"LF1\": -0.07768415144024686, \"labels\": \"tech\"}, {\"LF2\": 0.14886702275353, \"LF1\": -0.06813804421234874, \"labels\": \"tech\"}, {\"LF2\": 0.1485562942604802, \"LF1\": -0.09888276420753514, \"labels\": \"tech\"}, {\"LF2\": 0.16135865740864372, \"LF1\": -0.026787811456151025, \"labels\": \"business\"}, {\"LF2\": 0.09190300525271851, \"LF1\": -0.061481184477444356, \"labels\": \"tech\"}, {\"LF2\": 0.13921179195938108, \"LF1\": -0.09750540056617799, \"labels\": \"sport\"}, {\"LF2\": 0.07814300492395848, \"LF1\": 0.019233846097742067, \"labels\": \"politics\"}, {\"LF2\": 0.12439300435368467, \"LF1\": -0.08263845409412092, \"labels\": \"sport\"}, {\"LF2\": 0.11842550330793986, \"LF1\": -0.020119943989310794, \"labels\": \"sport\"}, {\"LF2\": 0.19463681614607103, \"LF1\": -0.04120898591393588, \"labels\": \"entertainment\"}, {\"LF2\": 0.08987328061451691, \"LF1\": -0.028443527661403026, \"labels\": \"business\"}, {\"LF2\": 0.15912688346869835, \"LF1\": -0.008298391576181037, \"labels\": \"business\"}, {\"LF2\": 0.18721713974992796, \"LF1\": 0.17997893880253196, \"labels\": \"politics\"}, {\"LF2\": 0.1202967328763098, \"LF1\": -0.0782462881450658, \"labels\": \"sport\"}, {\"LF2\": 0.12512320834681573, \"LF1\": -0.0299339628304282, \"labels\": \"tech\"}, {\"LF2\": 0.14768251284311754, \"LF1\": -0.05717841007892432, \"labels\": \"business\"}, {\"LF2\": 0.1268178432764348, \"LF1\": -0.08550673521717579, \"labels\": \"entertainment\"}, {\"LF2\": 0.15460347358511134, \"LF1\": -0.11250641895130349, \"labels\": \"tech\"}, {\"LF2\": 0.09046634343268078, \"LF1\": -0.00011822033131944276, \"labels\": \"business\"}, {\"LF2\": 0.06511347097532817, \"LF1\": -0.043393620072930114, \"labels\": \"sport\"}, {\"LF2\": 0.17730838549511024, \"LF1\": 0.09758480876729991, \"labels\": \"politics\"}, {\"LF2\": 0.17888294879711852, \"LF1\": 0.13880593655613827, \"labels\": \"politics\"}, {\"LF2\": 0.10221413602440287, \"LF1\": -0.01712631407058533, \"labels\": \"tech\"}, {\"LF2\": 0.20126200510357367, \"LF1\": -0.1407915165103241, \"labels\": \"tech\"}, {\"LF2\": 0.08365723756705491, \"LF1\": -0.03831816030758573, \"labels\": \"sport\"}, {\"LF2\": 0.14823462030897738, \"LF1\": -0.10522795108328735, \"labels\": \"tech\"}, {\"LF2\": 0.11545954415190357, \"LF1\": -0.0685551549295126, \"labels\": \"sport\"}, {\"LF2\": 0.09188420428172527, \"LF1\": -0.032308560197089116, \"labels\": \"sport\"}, {\"LF2\": 0.06991307717431311, \"LF1\": -0.0452742187403082, \"labels\": \"sport\"}, {\"LF2\": 0.09065181210252225, \"LF1\": -0.019977270976706943, \"labels\": \"business\"}, {\"LF2\": 0.09443748422071137, \"LF1\": -0.06914200044858197, \"labels\": \"sport\"}, {\"LF2\": 0.09461352851706882, \"LF1\": -0.051961138642770306, \"labels\": \"business\"}, {\"LF2\": 0.10729622436950144, \"LF1\": -0.0731210314212265, \"labels\": \"entertainment\"}, {\"LF2\": 0.06063596825412597, \"LF1\": -0.011504643300349782, \"labels\": \"business\"}, {\"LF2\": 0.16086079199281558, \"LF1\": -0.0642957236472278, \"labels\": \"tech\"}, {\"LF2\": 0.09864801688630875, \"LF1\": -0.041427337762212496, \"labels\": \"business\"}, {\"LF2\": 0.19156097667859523, \"LF1\": 0.19675986322779845, \"labels\": \"politics\"}, {\"LF2\": 0.17636982447573382, \"LF1\": 0.11759013612153456, \"labels\": \"politics\"}, {\"LF2\": 0.10577775113513606, \"LF1\": -0.08170294504276134, \"labels\": \"sport\"}, {\"LF2\": 0.06724319784776825, \"LF1\": -0.027370834204933046, \"labels\": \"sport\"}, {\"LF2\": 0.12279110654159917, \"LF1\": 0.0893995111940686, \"labels\": \"politics\"}, {\"LF2\": 0.1083739515208009, \"LF1\": -0.04056275015222243, \"labels\": \"entertainment\"}, {\"LF2\": 0.17062455552684194, \"LF1\": -0.11657425493115045, \"labels\": \"sport\"}, {\"LF2\": 0.1441687832943259, \"LF1\": 5.508523508317273e-05, \"labels\": \"sport\"}, {\"LF2\": 0.26592364545973185, \"LF1\": 0.27927037861436077, \"labels\": \"politics\"}, {\"LF2\": 0.0711300918870977, \"LF1\": -0.030083670162803156, \"labels\": \"tech\"}, {\"LF2\": 0.12974238372679534, \"LF1\": 0.012210045447339814, \"labels\": \"politics\"}, {\"LF2\": 0.10725410721266941, \"LF1\": -0.033106698156521834, \"labels\": \"sport\"}, {\"LF2\": 0.15961316580171062, \"LF1\": 0.14118589169275517, \"labels\": \"politics\"}, {\"LF2\": 0.056558639726790205, \"LF1\": -0.01806333036954274, \"labels\": \"business\"}, {\"LF2\": 0.054041272829949104, \"LF1\": -0.013982421672879043, \"labels\": \"business\"}, {\"LF2\": 0.06786776629899288, \"LF1\": -0.003391575100687873, \"labels\": \"business\"}, {\"LF2\": 0.08540903391854435, \"LF1\": -0.006559368947830067, \"labels\": \"business\"}, {\"LF2\": 0.14739906816274675, \"LF1\": -0.11308660786274817, \"labels\": \"sport\"}, {\"LF2\": 0.1513674172201427, \"LF1\": -0.021859541733914644, \"labels\": \"business\"}, {\"LF2\": 0.13791795514211422, \"LF1\": 0.12400714883630809, \"labels\": \"politics\"}, {\"LF2\": 0.06902924850944132, \"LF1\": -0.021892071143621416, \"labels\": \"tech\"}, {\"LF2\": 0.14976365768306524, \"LF1\": -0.06204425273042294, \"labels\": \"tech\"}, {\"LF2\": 0.07213363833269319, \"LF1\": -0.032616542393885055, \"labels\": \"entertainment\"}, {\"LF2\": 0.17785134151768967, \"LF1\": 0.09729943905168384, \"labels\": \"politics\"}, {\"LF2\": 0.15646520032624084, \"LF1\": -0.08794882164494794, \"labels\": \"tech\"}, {\"LF2\": 0.07132687927727997, \"LF1\": -0.016048200371667497, \"labels\": \"business\"}, {\"LF2\": 0.07752454285115508, \"LF1\": -0.013116181657855167, \"labels\": \"business\"}, {\"LF2\": 0.17994833672897806, \"LF1\": -0.0051245714920416805, \"labels\": \"business\"}, {\"LF2\": 0.16205704012587696, \"LF1\": -0.015469603169889563, \"labels\": \"business\"}, {\"LF2\": 0.11813862939407156, \"LF1\": -0.03903168479291045, \"labels\": \"entertainment\"}, {\"LF2\": 0.1351663500342978, \"LF1\": -0.09277510743519865, \"labels\": \"sport\"}, {\"LF2\": 0.11707298581643429, \"LF1\": -0.002630161371601472, \"labels\": \"business\"}, {\"LF2\": 0.09301204020214636, \"LF1\": -0.014984446809739144, \"labels\": \"business\"}, {\"LF2\": 0.06857296104700211, \"LF1\": 0.001253457352897452, \"labels\": \"business\"}, {\"LF2\": 0.21827611234640504, \"LF1\": 0.08995966156586531, \"labels\": \"politics\"}, {\"LF2\": 0.0785512993276081, \"LF1\": -0.019437543446324076, \"labels\": \"business\"}, {\"LF2\": 0.1502662204560298, \"LF1\": 0.02530659562288723, \"labels\": \"politics\"}, {\"LF2\": 0.11412515533151804, \"LF1\": -0.0884571990153874, \"labels\": \"sport\"}, {\"LF2\": 0.16845002979558582, \"LF1\": -0.12244021876814405, \"labels\": \"tech\"}, {\"LF2\": 0.12604185354179387, \"LF1\": -0.07361418343796558, \"labels\": \"sport\"}, {\"LF2\": 0.10684379666226287, \"LF1\": -0.06793182035381727, \"labels\": \"sport\"}, {\"LF2\": 0.18565221599042944, \"LF1\": 0.11487760843603691, \"labels\": \"politics\"}, {\"LF2\": 0.10705847910929024, \"LF1\": -0.055460448042393154, \"labels\": \"tech\"}, {\"LF2\": 0.15588484305312592, \"LF1\": -0.061714207522526335, \"labels\": \"tech\"}, {\"LF2\": 0.03954366110912734, \"LF1\": -0.015406628045123496, \"labels\": \"entertainment\"}, {\"LF2\": 0.15172721518264362, \"LF1\": -0.09624439085477678, \"labels\": \"sport\"}, {\"LF2\": 0.3220942512357442, \"LF1\": 0.46311166947653226, \"labels\": \"politics\"}, {\"LF2\": 0.11988106553933116, \"LF1\": -0.03670492931881794, \"labels\": \"business\"}, {\"LF2\": 0.10637034579477343, \"LF1\": -0.06313166473519345, \"labels\": \"sport\"}, {\"LF2\": 0.14456517019933757, \"LF1\": -0.03671230530902261, \"labels\": \"business\"}, {\"LF2\": 0.13117619756220567, \"LF1\": -0.07918538216905667, \"labels\": \"entertainment\"}, {\"LF2\": 0.10772723057291203, \"LF1\": -0.05178824368105044, \"labels\": \"sport\"}, {\"LF2\": 0.2156918844406676, \"LF1\": -0.11854614158161698, \"labels\": \"tech\"}, {\"LF2\": 0.05092353288543784, \"LF1\": -0.029206077244111343, \"labels\": \"entertainment\"}, {\"LF2\": 0.18812435181370404, \"LF1\": 0.18387100887411284, \"labels\": \"politics\"}, {\"LF2\": 0.09163655442673938, \"LF1\": -0.029616647402340393, \"labels\": \"business\"}, {\"LF2\": 0.08923934171663463, \"LF1\": -0.046268544452765466, \"labels\": \"sport\"}, {\"LF2\": 0.13249607755753512, \"LF1\": -0.13522048120381047, \"labels\": \"entertainment\"}, {\"LF2\": 0.11270035125630974, \"LF1\": -0.06584432045444022, \"labels\": \"entertainment\"}, {\"LF2\": 0.11206608197895368, \"LF1\": -0.03610273506076615, \"labels\": \"business\"}, {\"LF2\": 0.1730707160077215, \"LF1\": -0.059129694821566416, \"labels\": \"business\"}, {\"LF2\": 0.09472880556495925, \"LF1\": -0.05133093534872843, \"labels\": \"sport\"}, {\"LF2\": 0.14771145230792204, \"LF1\": -0.06875752156961593, \"labels\": \"tech\"}, {\"LF2\": 0.11111345887633746, \"LF1\": 0.028501229358900693, \"labels\": \"politics\"}, {\"LF2\": 0.16397381466547722, \"LF1\": 0.04631573120256394, \"labels\": \"business\"}, {\"LF2\": 0.058155733936943434, \"LF1\": -0.016671025630329114, \"labels\": \"business\"}, {\"LF2\": 0.09213089276007355, \"LF1\": -0.071261868285851, \"labels\": \"sport\"}, {\"LF2\": 0.10500573916786143, \"LF1\": -0.047842491172081496, \"labels\": \"entertainment\"}, {\"LF2\": 0.0726312167564754, \"LF1\": -0.0377615199741922, \"labels\": \"sport\"}, {\"LF2\": 0.09137800836664291, \"LF1\": -0.04156413391503074, \"labels\": \"sport\"}, {\"LF2\": 0.268165572001478, \"LF1\": 0.23724079009332527, \"labels\": \"politics\"}, {\"LF2\": 0.2664283950116315, \"LF1\": 0.22731151736819513, \"labels\": \"politics\"}, {\"LF2\": 0.1383063149356324, \"LF1\": -0.07876795562429037, \"labels\": \"tech\"}, {\"LF2\": 0.06415258237285384, \"LF1\": -0.01685069440399244, \"labels\": \"business\"}, {\"LF2\": 0.1786062147958838, \"LF1\": 0.05079730710183718, \"labels\": \"business\"}, {\"LF2\": 0.1268178432764348, \"LF1\": -0.08550673521717579, \"labels\": \"entertainment\"}, {\"LF2\": 0.14173892091060689, \"LF1\": -0.07214358145594764, \"labels\": \"tech\"}, {\"LF2\": 0.07938803683951802, \"LF1\": -0.008353823694319452, \"labels\": \"entertainment\"}, {\"LF2\": 0.16392274209186766, \"LF1\": 0.14172763767134255, \"labels\": \"politics\"}, {\"LF2\": 0.18534580483756935, \"LF1\": -0.10148195638032421, \"labels\": \"tech\"}, {\"LF2\": 0.0837832075043643, \"LF1\": -0.03406304385806166, \"labels\": \"entertainment\"}, {\"LF2\": 0.06661044501018265, \"LF1\": -0.03869772428790649, \"labels\": \"sport\"}, {\"LF2\": 0.0643626609556935, \"LF1\": -0.015915572765584918, \"labels\": \"business\"}, {\"LF2\": 0.18973511760698922, \"LF1\": 0.24771464465534168, \"labels\": \"politics\"}, {\"LF2\": 0.14337338216643264, \"LF1\": -0.12087108102037879, \"labels\": \"entertainment\"}, {\"LF2\": 0.10211559665186398, \"LF1\": -0.05198672873422086, \"labels\": \"sport\"}, {\"LF2\": 0.2531743327587121, \"LF1\": 0.34625351017016015, \"labels\": \"politics\"}, {\"LF2\": 0.0835524500686553, \"LF1\": -0.04272032040598896, \"labels\": \"sport\"}, {\"LF2\": 0.13686178474378927, \"LF1\": -0.009207426695329876, \"labels\": \"tech\"}, {\"LF2\": 0.1424266662070725, \"LF1\": -0.1548481381929134, \"labels\": \"entertainment\"}, {\"LF2\": 0.18298207857877574, \"LF1\": -0.1393037757606297, \"labels\": \"sport\"}, {\"LF2\": 0.14758022436081436, \"LF1\": -0.11521011665133635, \"labels\": \"entertainment\"}, {\"LF2\": 0.09310224258938882, \"LF1\": -0.019576254314432922, \"labels\": \"business\"}, {\"LF2\": 0.10495402622468357, \"LF1\": -0.0007327041966602831, \"labels\": \"business\"}, {\"LF2\": 0.11157256855098457, \"LF1\": -0.061818392936106414, \"labels\": \"entertainment\"}, {\"LF2\": 0.16561590794954967, \"LF1\": 0.09804067906777307, \"labels\": \"politics\"}, {\"LF2\": 0.12354783536391953, \"LF1\": 0.020624332533039746, \"labels\": \"business\"}, {\"LF2\": 0.05938957979976142, \"LF1\": -0.04373127072553791, \"labels\": \"sport\"}, {\"LF2\": 0.10356118694907292, \"LF1\": -0.09526443577678821, \"labels\": \"sport\"}, {\"LF2\": 0.08256230592872953, \"LF1\": -0.025262833490049336, \"labels\": \"tech\"}, {\"LF2\": 0.1139656003101407, \"LF1\": -0.06987329982256595, \"labels\": \"sport\"}, {\"LF2\": 0.059514032336876035, \"LF1\": -0.012720377628073274, \"labels\": \"business\"}, {\"LF2\": 0.11592990702997674, \"LF1\": -0.0018229452711669074, \"labels\": \"business\"}, {\"LF2\": 0.1610739144667149, \"LF1\": -0.08021918555485422, \"labels\": \"sport\"}, {\"LF2\": 0.10775606431758149, \"LF1\": 0.00018584287981253018, \"labels\": \"business\"}, {\"LF2\": 0.1718318481188871, \"LF1\": -0.1236086506045281, \"labels\": \"entertainment\"}, {\"LF2\": 0.0711506708840443, \"LF1\": 0.04615476473406724, \"labels\": \"politics\"}, {\"LF2\": 0.11109668645047056, \"LF1\": -0.055335029128006794, \"labels\": \"entertainment\"}, {\"LF2\": 0.10256856924914896, \"LF1\": -0.08904546452807725, \"labels\": \"entertainment\"}, {\"LF2\": 0.21804233488586455, \"LF1\": -0.1777641574479734, \"labels\": \"tech\"}, {\"LF2\": 0.05245664278487913, \"LF1\": -0.03984059108598297, \"labels\": \"sport\"}, {\"LF2\": 0.30824122924308783, \"LF1\": 0.4196685325018632, \"labels\": \"politics\"}, {\"LF2\": 0.07259309879013784, \"LF1\": -0.05037467114455458, \"labels\": \"sport\"}, {\"LF2\": 0.1314705966532461, \"LF1\": -0.05059258462909255, \"labels\": \"tech\"}, {\"LF2\": 0.17111404611332565, \"LF1\": 0.062173961736916535, \"labels\": \"politics\"}, {\"LF2\": 0.1306006645937862, \"LF1\": -0.0919232385812914, \"labels\": \"sport\"}, {\"LF2\": 0.08953846633013422, \"LF1\": -0.07336478837532281, \"labels\": \"sport\"}, {\"LF2\": 0.08629449626235845, \"LF1\": -0.047328704989907204, \"labels\": \"sport\"}, {\"LF2\": 0.06728728912666222, \"LF1\": -0.04438032245664497, \"labels\": \"sport\"}, {\"LF2\": 0.09890251903093542, \"LF1\": -0.08955484769167558, \"labels\": \"entertainment\"}, {\"LF2\": 0.06913865208681426, \"LF1\": -0.04672009483064856, \"labels\": \"sport\"}, {\"LF2\": 0.08373357586781448, \"LF1\": -0.024706601857785768, \"labels\": \"business\"}, {\"LF2\": 0.1363538921725245, \"LF1\": -0.057059178682574804, \"labels\": \"tech\"}, {\"LF2\": 0.18332140680972606, \"LF1\": 0.08225441776625628, \"labels\": \"business\"}, {\"LF2\": 0.17608761337304893, \"LF1\": 0.20563101971317133, \"labels\": \"politics\"}, {\"LF2\": 0.06686772079174291, \"LF1\": -0.046591406866087384, \"labels\": \"sport\"}, {\"LF2\": 0.18534580483756935, \"LF1\": -0.10148195638032421, \"labels\": \"tech\"}, {\"LF2\": 0.08160378311985127, \"LF1\": -0.01982067111042102, \"labels\": \"business\"}, {\"LF2\": 0.13310625770407442, \"LF1\": -0.029958305842431643, \"labels\": \"business\"}, {\"LF2\": 0.11434304956540561, \"LF1\": -0.08243340311350783, \"labels\": \"sport\"}, {\"LF2\": 0.10406431587815423, \"LF1\": 0.009271650398659995, \"labels\": \"entertainment\"}, {\"LF2\": 0.06367106212960384, \"LF1\": -0.019690786521256932, \"labels\": \"entertainment\"}, {\"LF2\": 0.1100521394248594, \"LF1\": 0.017212636832248225, \"labels\": \"politics\"}, {\"LF2\": 0.13359564095797447, \"LF1\": 0.05177650900584676, \"labels\": \"politics\"}, {\"LF2\": 0.18053676034625404, \"LF1\": -0.11965081763924827, \"labels\": \"sport\"}, {\"LF2\": 0.30058023675579193, \"LF1\": 0.39752463691525836, \"labels\": \"politics\"}, {\"LF2\": 0.2345727515049918, \"LF1\": 0.25926076155272276, \"labels\": \"politics\"}, {\"LF2\": 0.05326170548572221, \"LF1\": -0.04575021206559686, \"labels\": \"sport\"}, {\"LF2\": 0.1318104979270909, \"LF1\": -0.13404960298687768, \"labels\": \"entertainment\"}, {\"LF2\": 0.08250514203096514, \"LF1\": -0.03085762524339152, \"labels\": \"entertainment\"}, {\"LF2\": 0.0850335918844406, \"LF1\": -0.058224420016174505, \"labels\": \"sport\"}, {\"LF2\": 0.12433967552561816, \"LF1\": -0.08839819155020115, \"labels\": \"entertainment\"}, {\"LF2\": 0.1888214970923966, \"LF1\": -0.18401044332111233, \"labels\": \"entertainment\"}, {\"LF2\": 0.12107195241491119, \"LF1\": -0.08793128563964735, \"labels\": \"sport\"}, {\"LF2\": 0.12197359299180473, \"LF1\": -0.07594772197011267, \"labels\": \"sport\"}, {\"LF2\": 0.11786432446522098, \"LF1\": -0.007339164110990817, \"labels\": \"business\"}, {\"LF2\": 0.08504083139074865, \"LF1\": -0.044017871866509295, \"labels\": \"tech\"}, {\"LF2\": 0.130967021023848, \"LF1\": -0.06816420234018192, \"labels\": \"entertainment\"}, {\"LF2\": 0.15343874800632656, \"LF1\": 0.07402554571053407, \"labels\": \"politics\"}, {\"LF2\": 0.1276031313391704, \"LF1\": 0.013411447625260104, \"labels\": \"business\"}, {\"LF2\": 0.08771275278582906, \"LF1\": -0.04510540515115485, \"labels\": \"sport\"}, {\"LF2\": 0.07650748442789565, \"LF1\": -0.019574184741327535, \"labels\": \"business\"}, {\"LF2\": 0.0656572502170666, \"LF1\": -0.03127687630465723, \"labels\": \"entertainment\"}, {\"LF2\": 0.12518740059402209, \"LF1\": -0.00738047240233169, \"labels\": \"business\"}, {\"LF2\": 0.08211579303919646, \"LF1\": -0.03615295876350104, \"labels\": \"tech\"}, {\"LF2\": 0.09520014314498763, \"LF1\": -0.027362298096015553, \"labels\": \"sport\"}, {\"LF2\": 0.0928451716065282, \"LF1\": -0.054683793045107225, \"labels\": \"sport\"}, {\"LF2\": 0.07777074196444311, \"LF1\": -0.051883790045746205, \"labels\": \"sport\"}, {\"LF2\": 0.07903446390835622, \"LF1\": -0.05013781308007931, \"labels\": \"sport\"}, {\"LF2\": 0.14673775537181433, \"LF1\": -0.11528483638593581, \"labels\": \"sport\"}, {\"LF2\": 0.13339649388709574, \"LF1\": -0.04520513596621169, \"labels\": \"business\"}, {\"LF2\": 0.12498319037603504, \"LF1\": -0.08276649085356096, \"labels\": \"sport\"}, {\"LF2\": 0.07980194405447268, \"LF1\": -0.03230585871282482, \"labels\": \"entertainment\"}, {\"LF2\": 0.11070590467788358, \"LF1\": 0.007095283540751974, \"labels\": \"business\"}, {\"LF2\": 0.21981708274162876, \"LF1\": 0.2532278373090405, \"labels\": \"politics\"}, {\"LF2\": 0.11178264856701864, \"LF1\": -0.07024991476441982, \"labels\": \"sport\"}, {\"LF2\": 0.0838053397529296, \"LF1\": -0.024071419534176894, \"labels\": \"business\"}, {\"LF2\": 0.11860845006860238, \"LF1\": 0.01632557346184199, \"labels\": \"politics\"}, {\"LF2\": 0.15512701437054158, \"LF1\": 0.009344316401257232, \"labels\": \"business\"}, {\"LF2\": 0.10697255174512643, \"LF1\": -0.05300510776512657, \"labels\": \"entertainment\"}, {\"LF2\": 0.06969694661453109, \"LF1\": -0.03523419589258131, \"labels\": \"sport\"}, {\"LF2\": 0.07964233050594163, \"LF1\": -0.04412020657571084, \"labels\": \"sport\"}, {\"LF2\": 0.11921936786012596, \"LF1\": -0.017289896099977605, \"labels\": \"business\"}, {\"LF2\": 0.17354255734843735, \"LF1\": -0.13658638893493205, \"labels\": \"tech\"}, {\"LF2\": 0.0661934153391946, \"LF1\": -0.0016517296223789017, \"labels\": \"business\"}, {\"LF2\": 0.12902874024429664, \"LF1\": -0.08198949562774095, \"labels\": \"tech\"}, {\"LF2\": 0.07638019181048528, \"LF1\": -0.0035315532252264766, \"labels\": \"politics\"}, {\"LF2\": 0.1442506301503107, \"LF1\": -0.008414084736216352, \"labels\": \"tech\"}, {\"LF2\": 0.12035459550445818, \"LF1\": -0.052327656769398795, \"labels\": \"tech\"}, {\"LF2\": 0.08246102466733721, \"LF1\": -0.02932266554799668, \"labels\": \"business\"}, {\"LF2\": 0.16436877557051538, \"LF1\": 0.2181500078172937, \"labels\": \"politics\"}, {\"LF2\": 0.11087570811909518, \"LF1\": -0.044820314615143596, \"labels\": \"sport\"}, {\"LF2\": 0.20665323785771217, \"LF1\": -0.05819048801119865, \"labels\": \"entertainment\"}, {\"LF2\": 0.14060318054217022, \"LF1\": -0.15226668451041442, \"labels\": \"entertainment\"}, {\"LF2\": 0.1568441050948425, \"LF1\": -0.04408210954805794, \"labels\": \"business\"}, {\"LF2\": 0.10836962351931173, \"LF1\": -0.04837890862739701, \"labels\": \"entertainment\"}, {\"LF2\": 0.1419956052665479, \"LF1\": -0.0506655566578024, \"labels\": \"tech\"}, {\"LF2\": 0.11151076075808569, \"LF1\": -0.048054674187425504, \"labels\": \"entertainment\"}, {\"LF2\": 0.09201106929926443, \"LF1\": -0.06944960157066124, \"labels\": \"entertainment\"}, {\"LF2\": 0.30058023675579193, \"LF1\": 0.39752463691525836, \"labels\": \"politics\"}, {\"LF2\": 0.2245304535647738, \"LF1\": -0.13569951123538454, \"labels\": \"tech\"}, {\"LF2\": 0.1218333706157467, \"LF1\": -0.07121907680325175, \"labels\": \"sport\"}, {\"LF2\": 0.12245600271890913, \"LF1\": -0.07521587017009641, \"labels\": \"sport\"}, {\"LF2\": 0.20111348477200583, \"LF1\": 0.06967061473643199, \"labels\": \"politics\"}, {\"LF2\": 0.117370163143567, \"LF1\": -0.0944818232452841, \"labels\": \"sport\"}, {\"LF2\": 0.12820259280012458, \"LF1\": -0.07746085150997507, \"labels\": \"tech\"}, {\"LF2\": 0.1347752812423753, \"LF1\": -0.0569250590833869, \"labels\": \"business\"}, {\"LF2\": 0.1950055407908709, \"LF1\": -0.13604832114713378, \"labels\": \"tech\"}, {\"LF2\": 0.08865728074071026, \"LF1\": -0.02084817985923152, \"labels\": \"business\"}, {\"LF2\": 0.136340547113193, \"LF1\": -0.04536195618130703, \"labels\": \"tech\"}, {\"LF2\": 0.08529219621870351, \"LF1\": -0.04078187968902887, \"labels\": \"entertainment\"}, {\"LF2\": 0.13246266016507585, \"LF1\": -0.0239449394943825, \"labels\": \"sport\"}, {\"LF2\": 0.08587549697581666, \"LF1\": -0.05598824734192937, \"labels\": \"sport\"}, {\"LF2\": 0.13910731848057636, \"LF1\": -0.08668836391947182, \"labels\": \"sport\"}, {\"LF2\": 0.16082357744962, \"LF1\": 0.08754666766881355, \"labels\": \"politics\"}, {\"LF2\": 0.34913692324196577, \"LF1\": 0.4390111842636001, \"labels\": \"politics\"}, {\"LF2\": 0.07394464266142753, \"LF1\": -0.03364258926332275, \"labels\": \"sport\"}, {\"LF2\": 0.04280745792156275, \"LF1\": -0.02917473444319436, \"labels\": \"sport\"}, {\"LF2\": 0.09106394471172403, \"LF1\": -0.047560754939013544, \"labels\": \"entertainment\"}, {\"LF2\": 0.14260774934337297, \"LF1\": -0.009632312912023249, \"labels\": \"business\"}, {\"LF2\": 0.20980785352200493, \"LF1\": -0.13623227793523396, \"labels\": \"tech\"}, {\"LF2\": 0.19600907369959186, \"LF1\": -0.15915489052412293, \"labels\": \"sport\"}, {\"LF2\": 0.08152177834283496, \"LF1\": 0.01114870161995196, \"labels\": \"politics\"}, {\"LF2\": 0.16998480586079248, \"LF1\": -0.07869391876296254, \"labels\": \"tech\"}, {\"LF2\": 0.08872069895333565, \"LF1\": 0.016435409559340974, \"labels\": \"politics\"}, {\"LF2\": 0.317477821248931, \"LF1\": 0.4195272275669085, \"labels\": \"politics\"}, {\"LF2\": 0.1440370801988879, \"LF1\": -0.1054275544388425, \"labels\": \"tech\"}, {\"LF2\": 0.10685540660186753, \"LF1\": -0.01927776440184224, \"labels\": \"tech\"}, {\"LF2\": 0.12031002046342038, \"LF1\": -0.022339647701704973, \"labels\": \"business\"}, {\"LF2\": 0.10613375865877317, \"LF1\": -0.07111161056962444, \"labels\": \"tech\"}, {\"LF2\": 0.07245211597079572, \"LF1\": -0.012021498264088222, \"labels\": \"business\"}, {\"LF2\": 0.10784325442012249, \"LF1\": -0.05695308480210982, \"labels\": \"sport\"}, {\"LF2\": 0.12906001276151235, \"LF1\": -0.06263769034648431, \"labels\": \"entertainment\"}, {\"LF2\": 0.1198848707548109, \"LF1\": -0.02038617999891931, \"labels\": \"business\"}, {\"LF2\": 0.12657026215192144, \"LF1\": -0.046657192113085943, \"labels\": \"sport\"}, {\"LF2\": 0.2254602399540885, \"LF1\": 0.19138863078855717, \"labels\": \"politics\"}, {\"LF2\": 0.15136868177976415, \"LF1\": -0.0798802651674356, \"labels\": \"entertainment\"}, {\"LF2\": 0.10685540660186753, \"LF1\": -0.01927776440184224, \"labels\": \"tech\"}, {\"LF2\": 0.23380263699115972, \"LF1\": 0.10884428021973035, \"labels\": \"politics\"}, {\"LF2\": 0.08816918894176572, \"LF1\": -0.03957668359300856, \"labels\": \"business\"}, {\"LF2\": 0.17609494398021497, \"LF1\": -0.1608015585452941, \"labels\": \"entertainment\"}, {\"LF2\": 0.060636960175968486, \"LF1\": -0.018234568001643872, \"labels\": \"business\"}, {\"LF2\": 0.08580090060600291, \"LF1\": -0.03695183895110453, \"labels\": \"tech\"}, {\"LF2\": 0.11329946994721644, \"LF1\": -0.042749409094621625, \"labels\": \"sport\"}, {\"LF2\": 0.10178913228034489, \"LF1\": -0.05094441248140526, \"labels\": \"tech\"}, {\"LF2\": 0.1307385204414306, \"LF1\": -0.11682136948015606, \"labels\": \"sport\"}, {\"LF2\": 0.0774285912476186, \"LF1\": -0.048383069378078236, \"labels\": \"sport\"}, {\"LF2\": 0.13052854123484886, \"LF1\": -0.08291915897692302, \"labels\": \"sport\"}, {\"LF2\": 0.1293623391534096, \"LF1\": 0.07803273612966026, \"labels\": \"politics\"}, {\"LF2\": 0.10019977781694107, \"LF1\": -0.020895415040601675, \"labels\": \"business\"}, {\"LF2\": 0.34977894342082166, \"LF1\": 0.4649032740180165, \"labels\": \"politics\"}, {\"LF2\": 0.0656178703750323, \"LF1\": -0.04393858421519756, \"labels\": \"entertainment\"}, {\"LF2\": 0.08487896004839901, \"LF1\": -0.06233042449746197, \"labels\": \"sport\"}, {\"LF2\": 0.07982858866074463, \"LF1\": -0.01419713825881686, \"labels\": \"entertainment\"}, {\"LF2\": 0.10358139796256399, \"LF1\": -0.03200424425155924, \"labels\": \"business\"}, {\"LF2\": 0.19632418349754457, \"LF1\": 0.17107215071303883, \"labels\": \"politics\"}, {\"LF2\": 0.07509774957723406, \"LF1\": -0.010640797183333307, \"labels\": \"business\"}, {\"LF2\": 0.08051221048734643, \"LF1\": -0.049512600826395387, \"labels\": \"sport\"}, {\"LF2\": 0.12179623485602308, \"LF1\": -0.049132689140908084, \"labels\": \"entertainment\"}, {\"LF2\": 0.06618941402689967, \"LF1\": -0.040790629396906884, \"labels\": \"sport\"}, {\"LF2\": 0.21314414502789442, \"LF1\": 0.0077113136195661805, \"labels\": \"business\"}, {\"LF2\": 0.08392720009669784, \"LF1\": -0.057422825748796195, \"labels\": \"entertainment\"}, {\"LF2\": 0.10311096408325124, \"LF1\": -0.0735554302200426, \"labels\": \"entertainment\"}, {\"LF2\": 0.05663780416474462, \"LF1\": -0.03945953468352598, \"labels\": \"sport\"}, {\"LF2\": 0.1222682495284201, \"LF1\": 0.0024962918191587186, \"labels\": \"politics\"}, {\"LF2\": 0.14596313848550033, \"LF1\": -0.0239582161813515, \"labels\": \"business\"}, {\"LF2\": 0.1890140912701852, \"LF1\": 0.05361086690967375, \"labels\": \"politics\"}, {\"LF2\": 0.087107573874542, \"LF1\": -0.01854239669674923, \"labels\": \"tech\"}, {\"LF2\": 0.1344014982551371, \"LF1\": -0.08839169241058009, \"labels\": \"entertainment\"}, {\"LF2\": 0.05317141622166579, \"LF1\": -0.040866926996883116, \"labels\": \"entertainment\"}, {\"LF2\": 0.16802394301283935, \"LF1\": -0.13116561881446445, \"labels\": \"entertainment\"}, {\"LF2\": 0.22285107293092238, \"LF1\": -0.1601273026975422, \"labels\": \"tech\"}, {\"LF2\": 0.08463167043863203, \"LF1\": -0.06117641856193363, \"labels\": \"sport\"}, {\"LF2\": 0.1398001480075741, \"LF1\": -0.04948788902414148, \"labels\": \"business\"}, {\"LF2\": 0.09826762690602421, \"LF1\": -0.07756634540814933, \"labels\": \"entertainment\"}, {\"LF2\": 0.08694710758011664, \"LF1\": -0.038740301887451985, \"labels\": \"entertainment\"}, {\"LF2\": 0.11857225062494423, \"LF1\": -0.06442766603584595, \"labels\": \"entertainment\"}, {\"LF2\": 0.1846450044909464, \"LF1\": 0.1685788405324941, \"labels\": \"politics\"}, {\"LF2\": 0.10924977400615687, \"LF1\": -0.0671654067036374, \"labels\": \"sport\"}, {\"LF2\": 0.17032361473036037, \"LF1\": 0.172635088621803, \"labels\": \"politics\"}, {\"LF2\": 0.16776925298371878, \"LF1\": 0.09982990293532491, \"labels\": \"politics\"}, {\"LF2\": 0.14063765605671635, \"LF1\": -0.08945523273271543, \"labels\": \"tech\"}, {\"LF2\": 0.17687449499280955, \"LF1\": 0.213829717858912, \"labels\": \"politics\"}, {\"LF2\": 0.049629535541716306, \"LF1\": -0.015384384035027725, \"labels\": \"business\"}, {\"LF2\": 0.12525441448922098, \"LF1\": 0.008626714345148764, \"labels\": \"politics\"}, {\"LF2\": 0.1983400568386374, \"LF1\": 0.005685335557326636, \"labels\": \"business\"}, {\"LF2\": 0.12640867050501733, \"LF1\": -0.10383228009679657, \"labels\": \"sport\"}, {\"LF2\": 0.11202845800208427, \"LF1\": -0.05613462376738558, \"labels\": \"entertainment\"}, {\"LF2\": 0.1710215888699684, \"LF1\": -0.021418658518547573, \"labels\": \"business\"}, {\"LF2\": 0.07933417879973566, \"LF1\": -0.01527747283769266, \"labels\": \"business\"}, {\"LF2\": 0.09707073481633959, \"LF1\": -0.02184885182425151, \"labels\": \"business\"}, {\"LF2\": 0.0894281700826758, \"LF1\": -0.03962489398281381, \"labels\": \"sport\"}, {\"LF2\": 0.17459733431713467, \"LF1\": -0.1040960463112637, \"labels\": \"sport\"}, {\"LF2\": 0.09920250746261354, \"LF1\": -0.009798377583702129, \"labels\": \"politics\"}, {\"LF2\": 0.29447300925160136, \"LF1\": 0.3753082472700539, \"labels\": \"politics\"}, {\"LF2\": 0.09757611444383327, \"LF1\": -0.05050384243957222, \"labels\": \"sport\"}, {\"LF2\": 0.09613355091559025, \"LF1\": -0.038568901913227586, \"labels\": \"tech\"}, {\"LF2\": 0.14737470922336482, \"LF1\": -0.14584235098852613, \"labels\": \"tech\"}, {\"LF2\": 0.17379712615690715, \"LF1\": -0.13268975062791347, \"labels\": \"sport\"}, {\"LF2\": 0.14996241007474465, \"LF1\": -0.08237313571918134, \"labels\": \"tech\"}, {\"LF2\": 0.17914688020207434, \"LF1\": -0.11534609172462505, \"labels\": \"entertainment\"}, {\"LF2\": 0.09023078551153997, \"LF1\": 0.004746496874780686, \"labels\": \"politics\"}, {\"LF2\": 0.14749390817265398, \"LF1\": 0.006191780167687211, \"labels\": \"tech\"}, {\"LF2\": 0.17159374897815283, \"LF1\": 0.23534527370566852, \"labels\": \"politics\"}, {\"LF2\": 0.1423923801624339, \"LF1\": -0.132684806788014, \"labels\": \"entertainment\"}, {\"LF2\": 0.13363634712492073, \"LF1\": -0.095261545570859, \"labels\": \"sport\"}, {\"LF2\": 0.13656722281040554, \"LF1\": -0.008493134629193606, \"labels\": \"business\"}, {\"LF2\": 0.11616892246096487, \"LF1\": -0.041903246588311995, \"labels\": \"tech\"}, {\"LF2\": 0.0880309918508174, \"LF1\": -0.06189323839303902, \"labels\": \"sport\"}, {\"LF2\": 0.09180897132930879, \"LF1\": -0.016325628460497534, \"labels\": \"business\"}, {\"LF2\": 0.15147731640927298, \"LF1\": 0.17472264004532814, \"labels\": \"politics\"}, {\"LF2\": 0.0843822306860706, \"LF1\": -0.04743896230829439, \"labels\": \"entertainment\"}, {\"LF2\": 0.09043121455319121, \"LF1\": -0.00380282919427648, \"labels\": \"politics\"}, {\"LF2\": 0.17745971858954435, \"LF1\": -0.13824929230166697, \"labels\": \"sport\"}, {\"LF2\": 0.06692991850047748, \"LF1\": -0.02226515044308709, \"labels\": \"tech\"}, {\"LF2\": 0.09343768158140672, \"LF1\": -0.03989302539227798, \"labels\": \"sport\"}, {\"LF2\": 0.10494249487236826, \"LF1\": -0.03434722632131623, \"labels\": \"business\"}, {\"LF2\": 0.13883833379422061, \"LF1\": -0.1013831210706805, \"labels\": \"sport\"}, {\"LF2\": 0.19645774698160712, \"LF1\": -0.16284805875110028, \"labels\": \"tech\"}, {\"LF2\": 0.18881313563612118, \"LF1\": 0.05679600718555457, \"labels\": \"business\"}, {\"LF2\": 0.20412850835307694, \"LF1\": 0.16403607310660792, \"labels\": \"politics\"}, {\"LF2\": 0.07096002189657157, \"LF1\": -0.021995564907332277, \"labels\": \"business\"}, {\"LF2\": 0.09836874827101202, \"LF1\": -0.04840013370907753, \"labels\": \"sport\"}, {\"LF2\": 0.10408455153624051, \"LF1\": -0.07298536458060184, \"labels\": \"sport\"}, {\"LF2\": 0.1889612013521684, \"LF1\": -0.015484142499566379, \"labels\": \"tech\"}, {\"LF2\": 0.11361501651186427, \"LF1\": -0.06672176470309264, \"labels\": \"tech\"}, {\"LF2\": 0.07721819142863412, \"LF1\": -0.032518096887150884, \"labels\": \"business\"}, {\"LF2\": 0.03756834582291764, \"LF1\": -0.01372966475904629, \"labels\": \"business\"}, {\"LF2\": 0.2132169470683175, \"LF1\": 0.16613207572519278, \"labels\": \"politics\"}, {\"LF2\": 0.23730442308089558, \"LF1\": 0.16869232568812062, \"labels\": \"politics\"}, {\"LF2\": 0.20650036548692527, \"LF1\": -0.007999310657679138, \"labels\": \"business\"}, {\"LF2\": 0.14668826569455262, \"LF1\": -0.12445989102484462, \"labels\": \"entertainment\"}, {\"LF2\": 0.18055562317769228, \"LF1\": 0.05268445039480464, \"labels\": \"business\"}, {\"LF2\": 0.10238769100134237, \"LF1\": -0.05046931153444201, \"labels\": \"entertainment\"}, {\"LF2\": 0.10799470417595129, \"LF1\": -0.08219842309077344, \"labels\": \"sport\"}, {\"LF2\": 0.12042581237389817, \"LF1\": -0.09320412364538738, \"labels\": \"sport\"}, {\"LF2\": 0.09004631136883645, \"LF1\": -0.06929226770960487, \"labels\": \"entertainment\"}, {\"LF2\": 0.11106046013816873, \"LF1\": -0.07730773027335829, \"labels\": \"entertainment\"}, {\"LF2\": 0.08175489176912802, \"LF1\": -0.000723302827788405, \"labels\": \"business\"}, {\"LF2\": 0.15042399286373978, \"LF1\": 0.09354727014745813, \"labels\": \"politics\"}, {\"LF2\": 0.07147881968317768, \"LF1\": -0.008218907602485215, \"labels\": \"business\"}, {\"LF2\": 0.07544686493263747, \"LF1\": -0.03801864036857699, \"labels\": \"entertainment\"}, {\"LF2\": 0.09571309655823483, \"LF1\": -0.059950022435104416, \"labels\": \"sport\"}, {\"LF2\": 0.10877877085451775, \"LF1\": -0.03043402896666294, \"labels\": \"tech\"}, {\"LF2\": 0.13817885097082125, \"LF1\": -0.07303361319811773, \"labels\": \"entertainment\"}, {\"LF2\": 0.1216560781418731, \"LF1\": -0.07343058541209732, \"labels\": \"tech\"}, {\"LF2\": 0.1010322432645283, \"LF1\": -0.07104260226025537, \"labels\": \"entertainment\"}, {\"LF2\": 0.07068458787592713, \"LF1\": -0.0003911478520800799, \"labels\": \"business\"}, {\"LF2\": 0.1352407490457306, \"LF1\": -0.0849145446849486, \"labels\": \"tech\"}, {\"LF2\": 0.11877932005301906, \"LF1\": -0.038492888905677466, \"labels\": \"entertainment\"}, {\"LF2\": 0.17032773977856203, \"LF1\": 0.044076986450069654, \"labels\": \"business\"}, {\"LF2\": 0.13987108676306115, \"LF1\": -0.03554135162952799, \"labels\": \"business\"}, {\"LF2\": 0.1283658935928464, \"LF1\": 0.005963776542980778, \"labels\": \"business\"}, {\"LF2\": 0.0676220108039897, \"LF1\": -0.018537156506388753, \"labels\": \"business\"}, {\"LF2\": 0.09222868022913475, \"LF1\": -0.05900667784847697, \"labels\": \"entertainment\"}, {\"LF2\": 0.16228325581880343, \"LF1\": -0.11494038152760773, \"labels\": \"tech\"}, {\"LF2\": 0.10099857629151068, \"LF1\": -0.053343156988599226, \"labels\": \"tech\"}, {\"LF2\": 0.19150727562904066, \"LF1\": -0.10327866142301811, \"labels\": \"tech\"}, {\"LF2\": 0.11623625619979247, \"LF1\": -0.07003062458291769, \"labels\": \"entertainment\"}, {\"LF2\": 0.20140425464169676, \"LF1\": -0.06788779704670965, \"labels\": \"tech\"}, {\"LF2\": 0.1480284636330734, \"LF1\": -0.09798177560195673, \"labels\": \"sport\"}, {\"LF2\": 0.09479253519044739, \"LF1\": -0.03191064890587686, \"labels\": \"entertainment\"}, {\"LF2\": 0.11046755173386943, \"LF1\": 0.020362834153987174, \"labels\": \"politics\"}, {\"LF2\": 0.175171655811181, \"LF1\": -0.11371149230552932, \"labels\": \"tech\"}, {\"LF2\": 0.08759095689041334, \"LF1\": -0.025731489697598402, \"labels\": \"business\"}, {\"LF2\": 0.10882547711291446, \"LF1\": -0.0440848062745283, \"labels\": \"sport\"}, {\"LF2\": 0.15222228927254605, \"LF1\": -0.060623871203984804, \"labels\": \"entertainment\"}, {\"LF2\": 0.09241402545591793, \"LF1\": -0.05446024706335405, \"labels\": \"sport\"}, {\"LF2\": 0.12395692850877522, \"LF1\": -0.08037858334761795, \"labels\": \"tech\"}, {\"LF2\": 0.08371058146906248, \"LF1\": -0.02256918363487281, \"labels\": \"tech\"}, {\"LF2\": 0.20554795398900005, \"LF1\": 0.012048674789328187, \"labels\": \"business\"}, {\"LF2\": 0.08253161872755296, \"LF1\": -0.04166663368957983, \"labels\": \"tech\"}, {\"LF2\": 0.10817188561125074, \"LF1\": -0.044201366396442815, \"labels\": \"sport\"}, {\"LF2\": 0.08169475804345122, \"LF1\": -0.04486899253943247, \"labels\": \"sport\"}, {\"LF2\": 0.07877161037242826, \"LF1\": -0.05758441049395837, \"labels\": \"sport\"}, {\"LF2\": 0.08321877060971111, \"LF1\": -0.07982529870204412, \"labels\": \"entertainment\"}, {\"LF2\": 0.10012974259223698, \"LF1\": -0.09612009881582315, \"labels\": \"entertainment\"}, {\"LF2\": 0.1540334801660012, \"LF1\": -0.045258257525948364, \"labels\": \"business\"}, {\"LF2\": 0.1069041726122388, \"LF1\": -0.022690763452191128, \"labels\": \"entertainment\"}, {\"LF2\": 0.20615685677156334, \"LF1\": -0.14161665404212656, \"labels\": \"tech\"}, {\"LF2\": 0.10741030084504748, \"LF1\": -0.03618447228850458, \"labels\": \"tech\"}, {\"LF2\": 0.11615898943239328, \"LF1\": -0.041080181228603206, \"labels\": \"sport\"}, {\"LF2\": 0.2031128042012061, \"LF1\": -0.11254723218554107, \"labels\": \"entertainment\"}, {\"LF2\": 0.12987724339818146, \"LF1\": -0.06247618686026146, \"labels\": \"tech\"}, {\"LF2\": 0.07474571085798083, \"LF1\": -0.019387343740928382, \"labels\": \"business\"}, {\"LF2\": 0.15089684042896653, \"LF1\": 0.1431579891003669, \"labels\": \"politics\"}, {\"LF2\": 0.15076949186585503, \"LF1\": -0.08980146676769944, \"labels\": \"entertainment\"}, {\"LF2\": 0.09913635572964552, \"LF1\": -0.0748030723645581, \"labels\": \"tech\"}, {\"LF2\": 0.3181657959602113, \"LF1\": 0.39394329354729485, \"labels\": \"politics\"}, {\"LF2\": 0.11649070357580844, \"LF1\": -0.05034060686362721, \"labels\": \"sport\"}, {\"LF2\": 0.14026080364632407, \"LF1\": -0.10314128574247189, \"labels\": \"sport\"}, {\"LF2\": 0.2177119573591485, \"LF1\": 0.21438347019745232, \"labels\": \"politics\"}, {\"LF2\": 0.09327537621720167, \"LF1\": 0.014658564515724956, \"labels\": \"politics\"}, {\"LF2\": 0.16673800793008417, \"LF1\": 0.04086334101484031, \"labels\": \"business\"}, {\"LF2\": 0.11094730799825023, \"LF1\": -0.0835866273281949, \"labels\": \"sport\"}, {\"LF2\": 0.09787973046271052, \"LF1\": -0.0675239525005487, \"labels\": \"sport\"}, {\"LF2\": 0.17365025178541113, \"LF1\": -0.004617122650470222, \"labels\": \"business\"}, {\"LF2\": 0.06320469864142438, \"LF1\": -0.026502743351861036, \"labels\": \"entertainment\"}, {\"LF2\": 0.12217352205701718, \"LF1\": -0.09533895213010884, \"labels\": \"entertainment\"}, {\"LF2\": 0.14216085974081133, \"LF1\": 0.10908000968900378, \"labels\": \"politics\"}, {\"LF2\": 0.09137282043279536, \"LF1\": -0.013299404266382752, \"labels\": \"business\"}, {\"LF2\": 0.11606901820604094, \"LF1\": -0.03005627977703351, \"labels\": \"business\"}, {\"LF2\": 0.1281031331098759, \"LF1\": 0.034758121731919306, \"labels\": \"business\"}, {\"LF2\": 0.09355967388260922, \"LF1\": -0.02480341190895129, \"labels\": \"business\"}, {\"LF2\": 0.1907157797724863, \"LF1\": -0.11798444943537698, \"labels\": \"sport\"}, {\"LF2\": 0.10900829346428133, \"LF1\": -0.014777416299343201, \"labels\": \"business\"}, {\"LF2\": 0.1224054890715343, \"LF1\": -0.015930070914448865, \"labels\": \"business\"}, {\"LF2\": 0.24969553179131895, \"LF1\": 0.3100547138478763, \"labels\": \"politics\"}, {\"LF2\": 0.14232008411418798, \"LF1\": 0.08027306232879564, \"labels\": \"politics\"}, {\"LF2\": 0.07494061396768906, \"LF1\": -0.03220839496386139, \"labels\": \"tech\"}, {\"LF2\": 0.0735797351983473, \"LF1\": -0.02472927650597611, \"labels\": \"entertainment\"}, {\"LF2\": 0.12314998473599992, \"LF1\": -0.005122137068791384, \"labels\": \"politics\"}, {\"LF2\": 0.07346119904588498, \"LF1\": -0.011607524354102413, \"labels\": \"business\"}, {\"LF2\": 0.16033377756343287, \"LF1\": -0.1086247082824384, \"labels\": \"tech\"}, {\"LF2\": 0.13134795457145226, \"LF1\": -0.060640771491477556, \"labels\": \"business\"}, {\"LF2\": 0.10774821361961417, \"LF1\": -0.042312838907813094, \"labels\": \"business\"}, {\"LF2\": 0.1481696012422258, \"LF1\": -0.09939477743307237, \"labels\": \"sport\"}, {\"LF2\": 0.12724856724915173, \"LF1\": -0.07543470778229104, \"labels\": \"tech\"}, {\"LF2\": 0.12280893943089442, \"LF1\": -0.07469508117129449, \"labels\": \"tech\"}, {\"LF2\": 0.16458307019820786, \"LF1\": -0.10081681557668186, \"labels\": \"sport\"}, {\"LF2\": 0.07249722698226861, \"LF1\": -0.013631860543440228, \"labels\": \"entertainment\"}, {\"LF2\": 0.12447964296947352, \"LF1\": -0.07461633033814292, \"labels\": \"tech\"}, {\"LF2\": 0.08504083139074865, \"LF1\": -0.044017871866509295, \"labels\": \"tech\"}, {\"LF2\": 0.09551894317626397, \"LF1\": -0.047501656291738435, \"labels\": \"tech\"}, {\"LF2\": 0.17266543189469682, \"LF1\": 0.08776688220323534, \"labels\": \"politics\"}, {\"LF2\": 0.1128100010530222, \"LF1\": -0.05317976761005576, \"labels\": \"tech\"}, {\"LF2\": 0.11364877422478933, \"LF1\": -0.05653516136190911, \"labels\": \"tech\"}, {\"LF2\": 0.09464007455027788, \"LF1\": -0.03852613666310931, \"labels\": \"tech\"}, {\"LF2\": 0.08604301898729863, \"LF1\": -0.012963566146173592, \"labels\": \"business\"}, {\"LF2\": 0.15627282279209995, \"LF1\": 0.020207685671848566, \"labels\": \"business\"}, {\"LF2\": 0.08295554419506547, \"LF1\": -0.002832215004567359, \"labels\": \"business\"}, {\"LF2\": 0.10099857629151068, \"LF1\": -0.053343156988599226, \"labels\": \"tech\"}, {\"LF2\": 0.0711702578030781, \"LF1\": -0.05004025328297976, \"labels\": \"sport\"}, {\"LF2\": 0.1834342723992124, \"LF1\": 0.11873579685646704, \"labels\": \"business\"}, {\"LF2\": 0.24736227573589498, \"LF1\": 0.27906069802042205, \"labels\": \"politics\"}, {\"LF2\": 0.14713914651123466, \"LF1\": -0.016953709447130746, \"labels\": \"politics\"}, {\"LF2\": 0.07306409570860721, \"LF1\": -0.05282868373878453, \"labels\": \"entertainment\"}, {\"LF2\": 0.09886689991087136, \"LF1\": -0.05639477224890171, \"labels\": \"tech\"}, {\"LF2\": 0.13215496848103325, \"LF1\": 0.04378150349579698, \"labels\": \"politics\"}, {\"LF2\": 0.11784323262567586, \"LF1\": -0.03682647306112759, \"labels\": \"entertainment\"}, {\"LF2\": 0.16564002475364611, \"LF1\": -0.15984802040490773, \"labels\": \"entertainment\"}, {\"LF2\": 0.1352783268047891, \"LF1\": -0.010208843851378985, \"labels\": \"business\"}, {\"LF2\": 0.13404453199030125, \"LF1\": 0.044791000441864216, \"labels\": \"politics\"}, {\"LF2\": 0.10543112672457035, \"LF1\": -0.04661386968651269, \"labels\": \"sport\"}, {\"LF2\": 0.14259530449123886, \"LF1\": -0.09544148712148286, \"labels\": \"sport\"}, {\"LF2\": 0.12834421896051607, \"LF1\": -0.09022147139208511, \"labels\": \"sport\"}, {\"LF2\": 0.08612463414165576, \"LF1\": -0.0460302170206678, \"labels\": \"sport\"}, {\"LF2\": 0.1333798680480287, \"LF1\": 0.06505109807316183, \"labels\": \"politics\"}, {\"LF2\": 0.1476003540469765, \"LF1\": -0.07869833863137723, \"labels\": \"entertainment\"}, {\"LF2\": 0.1962721528099528, \"LF1\": -0.013607969917748729, \"labels\": \"business\"}, {\"LF2\": 0.05900694931594956, \"LF1\": -0.023349027704426165, \"labels\": \"business\"}, {\"LF2\": 0.17358193217667614, \"LF1\": 0.02526812385638888, \"labels\": \"politics\"}, {\"LF2\": 0.1232019814838396, \"LF1\": -0.08351931371124931, \"labels\": \"sport\"}, {\"LF2\": 0.1844502560170205, \"LF1\": -0.11589932199972208, \"labels\": \"entertainment\"}, {\"LF2\": 0.0988634432971025, \"LF1\": -0.050660421481587864, \"labels\": \"entertainment\"}, {\"LF2\": 0.08079265868037211, \"LF1\": -0.0651320456809442, \"labels\": \"sport\"}, {\"LF2\": 0.09359245292431134, \"LF1\": -0.01702282363742789, \"labels\": \"business\"}, {\"LF2\": 0.17785134151768967, \"LF1\": 0.09729943905168384, \"labels\": \"politics\"}, {\"LF2\": 0.14095585983343684, \"LF1\": -0.1034243869233773, \"labels\": \"entertainment\"}, {\"LF2\": 0.09590050117026519, \"LF1\": -0.00995599134336152, \"labels\": \"business\"}, {\"LF2\": 0.10977156711898059, \"LF1\": -0.08147874320199094, \"labels\": \"sport\"}, {\"LF2\": 0.07310351134346886, \"LF1\": -0.054168603591876745, \"labels\": \"tech\"}, {\"LF2\": 0.08411673542066125, \"LF1\": -0.04598281389624542, \"labels\": \"sport\"}, {\"LF2\": 0.16075293112600844, \"LF1\": -0.11681273529968533, \"labels\": \"sport\"}, {\"LF2\": 0.06575525838214846, \"LF1\": -0.020568838289806372, \"labels\": \"business\"}, {\"LF2\": 0.13888243379536172, \"LF1\": -0.08544428634305862, \"labels\": \"tech\"}, {\"LF2\": 0.20396627281850085, \"LF1\": 0.21471860482956087, \"labels\": \"politics\"}, {\"LF2\": 0.14248973874729742, \"LF1\": -0.03718703019012973, \"labels\": \"business\"}, {\"LF2\": 0.08820831102515468, \"LF1\": -0.03628327655951216, \"labels\": \"tech\"}, {\"LF2\": 0.1890686403091061, \"LF1\": 0.17046490880173473, \"labels\": \"politics\"}, {\"LF2\": 0.15437093348064665, \"LF1\": -0.0008168426988556808, \"labels\": \"politics\"}, {\"LF2\": 0.15424188539999775, \"LF1\": 0.14265597624119994, \"labels\": \"politics\"}, {\"LF2\": 0.08488631726313377, \"LF1\": -0.059858615221602, \"labels\": \"sport\"}, {\"LF2\": 0.16176041474938674, \"LF1\": 0.026469408769662337, \"labels\": \"business\"}, {\"LF2\": 0.10323056352433821, \"LF1\": -0.0331124011390566, \"labels\": \"sport\"}, {\"LF2\": 0.12577385867534518, \"LF1\": -0.10722135693552093, \"labels\": \"entertainment\"}, {\"LF2\": 0.18158066648689694, \"LF1\": 0.23438563571390605, \"labels\": \"politics\"}, {\"LF2\": 0.08955033505031725, \"LF1\": -0.032629881270902494, \"labels\": \"tech\"}, {\"LF2\": 0.10799063042934445, \"LF1\": -0.048118976617069056, \"labels\": \"tech\"}, {\"LF2\": 0.14742051674033219, \"LF1\": -0.013699954545364334, \"labels\": \"business\"}, {\"LF2\": 0.16157723812101274, \"LF1\": -0.10013740918069887, \"labels\": \"tech\"}, {\"LF2\": 0.12907713616900662, \"LF1\": -0.016630757886689492, \"labels\": \"business\"}, {\"LF2\": 0.12956826201866933, \"LF1\": -0.10217661833921052, \"labels\": \"entertainment\"}, {\"LF2\": 0.08032088083434359, \"LF1\": -0.024990514928418663, \"labels\": \"entertainment\"}, {\"LF2\": 0.1332315477332528, \"LF1\": 0.05890889390261484, \"labels\": \"politics\"}, {\"LF2\": 0.14429174864288768, \"LF1\": -0.09209764308567626, \"labels\": \"business\"}, {\"LF2\": 0.226969999145712, \"LF1\": 0.20823086074227062, \"labels\": \"politics\"}, {\"LF2\": 0.1959037158867222, \"LF1\": 0.0936571446452483, \"labels\": \"business\"}, {\"LF2\": 0.1427459779022009, \"LF1\": -0.0925183178309099, \"labels\": \"entertainment\"}, {\"LF2\": 0.08877178239791056, \"LF1\": -0.045671203708250126, \"labels\": \"entertainment\"}, {\"LF2\": 0.11938989703455775, \"LF1\": -0.009505208201110421, \"labels\": \"business\"}, {\"LF2\": 0.17600125331352542, \"LF1\": 0.11401881529794543, \"labels\": \"politics\"}, {\"LF2\": 0.11607649254807341, \"LF1\": 0.010279516980636328, \"labels\": \"business\"}, {\"LF2\": 0.15687899500075303, \"LF1\": -0.11577755225363971, \"labels\": \"tech\"}, {\"LF2\": 0.06640298781341268, \"LF1\": -0.012672229477674381, \"labels\": \"business\"}, {\"LF2\": 0.08640662457393866, \"LF1\": -0.015218559346503782, \"labels\": \"business\"}, {\"LF2\": 0.13595540111058546, \"LF1\": -0.08306042395222094, \"labels\": \"tech\"}, {\"LF2\": 0.12575073785632104, \"LF1\": 0.09007787336564169, \"labels\": \"politics\"}, {\"LF2\": 0.11104568005611795, \"LF1\": -0.031882129879593234, \"labels\": \"business\"}, {\"LF2\": 0.118620387092243, \"LF1\": -0.04394422403275432, \"labels\": \"tech\"}, {\"LF2\": 0.08842101809138543, \"LF1\": -0.003959211744937952, \"labels\": \"business\"}, {\"LF2\": 0.13599373959224909, \"LF1\": 0.14341153452550912, \"labels\": \"politics\"}, {\"LF2\": 0.1205784153769558, \"LF1\": -0.08645658871844115, \"labels\": \"entertainment\"}, {\"LF2\": 0.11507438651840793, \"LF1\": -0.07021240691204002, \"labels\": \"sport\"}, {\"LF2\": 0.1002068639763337, \"LF1\": -0.07485837408576036, \"labels\": \"entertainment\"}, {\"LF2\": 0.12356360058539279, \"LF1\": -0.09051910751298456, \"labels\": \"sport\"}, {\"LF2\": 0.12441768751678782, \"LF1\": -0.055595375770851094, \"labels\": \"entertainment\"}, {\"LF2\": 0.09068816369933991, \"LF1\": -0.043601689898470644, \"labels\": \"sport\"}, {\"LF2\": 0.0959083004010093, \"LF1\": 0.010772383233594968, \"labels\": \"business\"}, {\"LF2\": 0.09821325275445662, \"LF1\": -0.08200682026826275, \"labels\": \"tech\"}, {\"LF2\": 0.10155491120614166, \"LF1\": -0.02740587781721302, \"labels\": \"tech\"}, {\"LF2\": 0.11208371431109625, \"LF1\": -0.08790567903900634, \"labels\": \"sport\"}, {\"LF2\": 0.15187362544248567, \"LF1\": -0.05992194347440519, \"labels\": \"sport\"}, {\"LF2\": 0.08879262663191673, \"LF1\": -0.02377894703914242, \"labels\": \"business\"}, {\"LF2\": 0.06048958094074088, \"LF1\": 0.003511536378832572, \"labels\": \"politics\"}, {\"LF2\": 0.12998872915933668, \"LF1\": -0.01694759699014556, \"labels\": \"tech\"}, {\"LF2\": 0.13912623378789354, \"LF1\": -0.09692910377755427, \"labels\": \"tech\"}, {\"LF2\": 0.09294888586861914, \"LF1\": -0.054080860291440415, \"labels\": \"tech\"}, {\"LF2\": 0.08431451579686741, \"LF1\": -0.012254389799031085, \"labels\": \"business\"}, {\"LF2\": 0.08036459854721381, \"LF1\": -0.07272909717371705, \"labels\": \"sport\"}, {\"LF2\": 0.09899253592591516, \"LF1\": -0.03741413480209181, \"labels\": \"business\"}, {\"LF2\": 0.08932944365239527, \"LF1\": -0.02752442386366094, \"labels\": \"business\"}, {\"LF2\": 0.08134518427703491, \"LF1\": -0.006387318436669228, \"labels\": \"business\"}, {\"LF2\": 0.10119335535609526, \"LF1\": -0.018675836576025402, \"labels\": \"business\"}, {\"LF2\": 0.20100233082891444, \"LF1\": 0.006985289835316524, \"labels\": \"business\"}, {\"LF2\": 0.10820607633985471, \"LF1\": -0.06912518920180372, \"labels\": \"entertainment\"}, {\"LF2\": 0.12841666006107452, \"LF1\": -0.056947445363071406, \"labels\": \"tech\"}, {\"LF2\": 0.18529421899441323, \"LF1\": -0.13245283345989986, \"labels\": \"sport\"}, {\"LF2\": 0.07134828223510074, \"LF1\": -0.042846373535699145, \"labels\": \"sport\"}, {\"LF2\": 0.3179040612858513, \"LF1\": 0.3299719924097962, \"labels\": \"politics\"}, {\"LF2\": 0.18673588408090502, \"LF1\": -0.1115157359253564, \"labels\": \"tech\"}, {\"LF2\": 0.10781561168634315, \"LF1\": -0.06614849012968531, \"labels\": \"tech\"}, {\"LF2\": 0.10781480358705794, \"LF1\": -0.006054298326487478, \"labels\": \"business\"}, {\"LF2\": 0.08865724185302805, \"LF1\": -0.0007915786950847889, \"labels\": \"tech\"}, {\"LF2\": 0.07782108774483508, \"LF1\": -0.008219025844392873, \"labels\": \"business\"}, {\"LF2\": 0.31398966880643786, \"LF1\": 0.40248860702261646, \"labels\": \"politics\"}, {\"LF2\": 0.09637451385974116, \"LF1\": -0.0519226819084674, \"labels\": \"entertainment\"}, {\"LF2\": 0.1437314736773196, \"LF1\": -0.05038816228908328, \"labels\": \"tech\"}, {\"LF2\": 0.17032210023293198, \"LF1\": -0.023270573227224048, \"labels\": \"business\"}, {\"LF2\": 0.16267111572385523, \"LF1\": 0.013878409818948589, \"labels\": \"business\"}, {\"LF2\": 0.129500977970781, \"LF1\": 0.10488608918272153, \"labels\": \"politics\"}, {\"LF2\": 0.10696685417833887, \"LF1\": -0.036319187169762394, \"labels\": \"tech\"}, {\"LF2\": 0.10706133339148882, \"LF1\": -0.09683783077146461, \"labels\": \"entertainment\"}, {\"LF2\": 0.08668011114542526, \"LF1\": -0.025373404089105392, \"labels\": \"business\"}, {\"LF2\": 0.09537412238513689, \"LF1\": -0.0545702096242663, \"labels\": \"tech\"}, {\"LF2\": 0.12610709951193116, \"LF1\": 0.02148269129604672, \"labels\": \"entertainment\"}, {\"LF2\": 0.06916720489259477, \"LF1\": -0.02224623028257113, \"labels\": \"entertainment\"}, {\"LF2\": 0.07190397785075923, \"LF1\": -0.05610346284137721, \"labels\": \"sport\"}, {\"LF2\": 0.18145933377147574, \"LF1\": 0.14599073955733866, \"labels\": \"politics\"}, {\"LF2\": 0.1614263308598002, \"LF1\": -0.12322170595940163, \"labels\": \"sport\"}, {\"LF2\": 0.10816078090543654, \"LF1\": -0.01828116929867528, \"labels\": \"business\"}, {\"LF2\": 0.09918587670516453, \"LF1\": -0.07772194696717495, \"labels\": \"entertainment\"}, {\"LF2\": 0.059231129860507645, \"LF1\": -0.02137523169669094, \"labels\": \"entertainment\"}, {\"LF2\": 0.13877626357173997, \"LF1\": 0.0341573320455719, \"labels\": \"business\"}, {\"LF2\": 0.16521109534638398, \"LF1\": 0.1765794742963741, \"labels\": \"politics\"}, {\"LF2\": 0.10410938857757292, \"LF1\": -0.023523855684582148, \"labels\": \"business\"}, {\"LF2\": 0.17589442164218091, \"LF1\": -0.10330556635449986, \"labels\": \"tech\"}, {\"LF2\": 0.136340547113193, \"LF1\": -0.04536195618130703, \"labels\": \"tech\"}, {\"LF2\": 0.1293084379726783, \"LF1\": -0.006379449973824183, \"labels\": \"business\"}, {\"LF2\": 0.10190930348769754, \"LF1\": -0.0515804809112302, \"labels\": \"entertainment\"}, {\"LF2\": 0.19180693093207968, \"LF1\": -0.1038097966374094, \"labels\": \"tech\"}, {\"LF2\": 0.13825583672314604, \"LF1\": -0.045406318397006463, \"labels\": \"tech\"}, {\"LF2\": 0.10648223125518348, \"LF1\": -0.08595878922630978, \"labels\": \"sport\"}, {\"LF2\": 0.13933234211383416, \"LF1\": -0.08635876363485648, \"labels\": \"sport\"}, {\"LF2\": 0.1423923801624339, \"LF1\": -0.132684806788014, \"labels\": \"entertainment\"}, {\"LF2\": 0.10799470417595129, \"LF1\": -0.08219842309077344, \"labels\": \"sport\"}, {\"LF2\": 0.10799902346488223, \"LF1\": -0.049773898962522295, \"labels\": \"entertainment\"}, {\"LF2\": 0.1493847640188079, \"LF1\": 0.10023476279349715, \"labels\": \"politics\"}, {\"LF2\": 0.05043512799875231, \"LF1\": -0.025680610910941287, \"labels\": \"entertainment\"}, {\"LF2\": 0.05924465955031289, \"LF1\": -0.016118001372975626, \"labels\": \"tech\"}, {\"LF2\": 0.04778182172858056, \"LF1\": -0.04404614391463953, \"labels\": \"entertainment\"}, {\"LF2\": 0.08853868938002946, \"LF1\": 0.012620762042362975, \"labels\": \"politics\"}, {\"LF2\": 0.1057127179954882, \"LF1\": 0.010887535320767375, \"labels\": \"politics\"}, {\"LF2\": 0.09244732305004301, \"LF1\": -0.017400050792858165, \"labels\": \"business\"}, {\"LF2\": 0.09805319073659242, \"LF1\": -0.02356297524874689, \"labels\": \"business\"}, {\"LF2\": 0.10445967024713446, \"LF1\": -0.0534866876809954, \"labels\": \"tech\"}, {\"LF2\": 0.11769226803000998, \"LF1\": -0.08043260326284357, \"labels\": \"sport\"}, {\"LF2\": 0.07604940144232364, \"LF1\": -0.051174524265277736, \"labels\": \"sport\"}, {\"LF2\": 0.0882071293829589, \"LF1\": -0.02216074953600422, \"labels\": \"business\"}, {\"LF2\": 0.11416142527658446, \"LF1\": -0.06732413854425416, \"labels\": \"tech\"}, {\"LF2\": 0.21737055788862816, \"LF1\": 0.1711839179647838, \"labels\": \"politics\"}, {\"LF2\": 0.08559317665307757, \"LF1\": 0.026095162632711586, \"labels\": \"politics\"}, {\"LF2\": 0.1796244396245191, \"LF1\": -0.010541551538170813, \"labels\": \"business\"}, {\"LF2\": 0.11142933469079741, \"LF1\": -0.06327112887837068, \"labels\": \"entertainment\"}, {\"LF2\": 0.09354435216208697, \"LF1\": -0.06828470518517746, \"labels\": \"sport\"}, {\"LF2\": 0.05407529317337208, \"LF1\": -0.019682410611515603, \"labels\": \"sport\"}, {\"LF2\": 0.29945319904783463, \"LF1\": 0.36003596051693265, \"labels\": \"politics\"}, {\"LF2\": 0.10186957773412486, \"LF1\": -0.039561227705975435, \"labels\": \"tech\"}, {\"LF2\": 0.11874967410421103, \"LF1\": -0.07766890632057602, \"labels\": \"sport\"}, {\"LF2\": 0.151432968266673, \"LF1\": -0.11298180510683406, \"labels\": \"sport\"}, {\"LF2\": 0.1439189166975405, \"LF1\": -0.0500003366979676, \"labels\": \"business\"}, {\"LF2\": 0.16464307119628654, \"LF1\": 0.11907373705861796, \"labels\": \"politics\"}, {\"LF2\": 0.09043471239564978, \"LF1\": -0.03188005290047807, \"labels\": \"business\"}, {\"LF2\": 0.0942183326622344, \"LF1\": -0.04700578317869866, \"labels\": \"entertainment\"}, {\"LF2\": 0.10802174704097206, \"LF1\": -0.03822433550074644, \"labels\": \"tech\"}, {\"LF2\": 0.07367832202924161, \"LF1\": -0.007682283754202443, \"labels\": \"politics\"}, {\"LF2\": 0.04682747937740902, \"LF1\": -0.04329527008048861, \"labels\": \"sport\"}, {\"LF2\": 0.03950974145232239, \"LF1\": -0.01788516175687136, \"labels\": \"sport\"}, {\"LF2\": 0.12933312905623737, \"LF1\": -0.05528015235383119, \"labels\": \"tech\"}, {\"LF2\": 0.12186551412287581, \"LF1\": 0.04635508107590247, \"labels\": \"politics\"}, {\"LF2\": 0.08937603041302106, \"LF1\": -0.014308024548902041, \"labels\": \"business\"}, {\"LF2\": 0.1474627586232716, \"LF1\": -0.07476056059592016, \"labels\": \"sport\"}, {\"LF2\": 0.11698561781965763, \"LF1\": 0.009757695396626952, \"labels\": \"politics\"}, {\"LF2\": 0.14522718465094417, \"LF1\": 0.045174108140139946, \"labels\": \"politics\"}, {\"LF2\": 0.06640459077853984, \"LF1\": -0.04038092955508447, \"labels\": \"sport\"}, {\"LF2\": 0.0792437757577144, \"LF1\": -0.0244527504852674, \"labels\": \"business\"}, {\"LF2\": 0.16451282442403242, \"LF1\": -0.11010080554896355, \"labels\": \"tech\"}, {\"LF2\": 0.21476079400104628, \"LF1\": 0.23545844935226068, \"labels\": \"politics\"}, {\"LF2\": 0.11404813132879998, \"LF1\": -0.01033072031075235, \"labels\": \"business\"}, {\"LF2\": 0.0831545695196353, \"LF1\": -0.025504448029053658, \"labels\": \"tech\"}, {\"LF2\": 0.100090075825202, \"LF1\": -0.060858854454930056, \"labels\": \"entertainment\"}, {\"LF2\": 0.08038604623592285, \"LF1\": 0.002327140746081737, \"labels\": \"business\"}, {\"LF2\": 0.07725736698620099, \"LF1\": -0.031224400481999877, \"labels\": \"tech\"}, {\"LF2\": 0.09895833875743384, \"LF1\": 0.013463044802855647, \"labels\": \"politics\"}, {\"LF2\": 0.09418614844991938, \"LF1\": -0.06918398611415451, \"labels\": \"tech\"}, {\"LF2\": 0.18176758587811928, \"LF1\": 0.14499147595931247, \"labels\": \"politics\"}, {\"LF2\": 0.120696675403431, \"LF1\": -0.08302441432623203, \"labels\": \"entertainment\"}, {\"LF2\": 0.13829537782565576, \"LF1\": -0.07860964528262737, \"labels\": \"sport\"}, {\"LF2\": 0.14170532809379963, \"LF1\": -0.06855618536395146, \"labels\": \"sport\"}, {\"LF2\": 0.11804010080040495, \"LF1\": 0.03497084502915541, \"labels\": \"business\"}, {\"LF2\": 0.09592494978190515, \"LF1\": -0.02165237003233222, \"labels\": \"business\"}, {\"LF2\": 0.1303472482051772, \"LF1\": -0.0633594451815496, \"labels\": \"tech\"}, {\"LF2\": 0.18380330398034297, \"LF1\": -0.08464742745048277, \"labels\": \"sport\"}, {\"LF2\": 0.1411077999921361, \"LF1\": -0.13956679562360053, \"labels\": \"entertainment\"}, {\"LF2\": 0.12956826201866933, \"LF1\": -0.10217661833921052, \"labels\": \"entertainment\"}, {\"LF2\": 0.12955856958002965, \"LF1\": -0.04858963460132676, \"labels\": \"tech\"}, {\"LF2\": 0.2101805225497844, \"LF1\": 0.1854392586439554, \"labels\": \"politics\"}, {\"LF2\": 0.11173137600755798, \"LF1\": -0.04789295359236503, \"labels\": \"entertainment\"}, {\"LF2\": 0.08808356004435977, \"LF1\": -0.02305296308798843, \"labels\": \"business\"}, {\"LF2\": 0.06330049045446279, \"LF1\": -0.03885718949852443, \"labels\": \"entertainment\"}, {\"LF2\": 0.12344611154711344, \"LF1\": -0.05742222075194031, \"labels\": \"tech\"}, {\"LF2\": 0.14941970405712848, \"LF1\": 0.018311675016305592, \"labels\": \"business\"}, {\"LF2\": 0.12176026707639222, \"LF1\": -0.07449413934826535, \"labels\": \"sport\"}, {\"LF2\": 0.11653535972421589, \"LF1\": -0.02988398774950462, \"labels\": \"business\"}, {\"LF2\": 0.19489465384645954, \"LF1\": 0.022660269955302303, \"labels\": \"business\"}, {\"LF2\": 0.11460747597492764, \"LF1\": 0.008247184556794738, \"labels\": \"business\"}, {\"LF2\": 0.10747881193115047, \"LF1\": -0.04271228793283733, \"labels\": \"sport\"}, {\"LF2\": 0.13965560922402703, \"LF1\": -0.09011344397353988, \"labels\": \"sport\"}, {\"LF2\": 0.07908629130380306, \"LF1\": 0.01745621013033123, \"labels\": \"tech\"}, {\"LF2\": 0.0965149554797826, \"LF1\": -0.01436778653291235, \"labels\": \"business\"}, {\"LF2\": 0.14887798418474257, \"LF1\": -0.11354078790260631, \"labels\": \"sport\"}, {\"LF2\": 0.10007530521941023, \"LF1\": -0.002229533000191814, \"labels\": \"politics\"}, {\"LF2\": 0.08935154035878583, \"LF1\": -0.061641318316771956, \"labels\": \"sport\"}, {\"LF2\": 0.14102940384000057, \"LF1\": -0.06767114623853317, \"labels\": \"entertainment\"}, {\"LF2\": 0.07557909316510762, \"LF1\": -0.030709455323266507, \"labels\": \"business\"}, {\"LF2\": 0.1739345281325038, \"LF1\": -0.1606644646680378, \"labels\": \"entertainment\"}, {\"LF2\": 0.08421941081131576, \"LF1\": -0.07439235725237059, \"labels\": \"entertainment\"}, {\"LF2\": 0.1599377756634873, \"LF1\": 0.15524038782692215, \"labels\": \"politics\"}, {\"LF2\": 0.13354805935698127, \"LF1\": -0.056996287839094, \"labels\": \"tech\"}, {\"LF2\": 0.14319517755416522, \"LF1\": -0.05650207658168268, \"labels\": \"tech\"}, {\"LF2\": 0.06359889561485926, \"LF1\": -0.036068472860045726, \"labels\": \"sport\"}, {\"LF2\": 0.07102854262843046, \"LF1\": -0.02188308851570929, \"labels\": \"business\"}, {\"LF2\": 0.09909146344474946, \"LF1\": -0.08711624452701941, \"labels\": \"sport\"}, {\"LF2\": 0.08752722019841906, \"LF1\": -0.04276300064013483, \"labels\": \"sport\"}, {\"LF2\": 0.08597579244858751, \"LF1\": -0.02454273917394162, \"labels\": \"tech\"}, {\"LF2\": 0.16993130362651648, \"LF1\": -0.08048960518017657, \"labels\": \"entertainment\"}, {\"LF2\": 0.13194856931865617, \"LF1\": -0.05220012513376934, \"labels\": \"business\"}, {\"LF2\": 0.06292515197296829, \"LF1\": -0.01873440752595526, \"labels\": \"business\"}, {\"LF2\": 0.11305644770962024, \"LF1\": -0.007208659168907512, \"labels\": \"business\"}, {\"LF2\": 0.22230672847780397, \"LF1\": 0.1947171693702455, \"labels\": \"politics\"}, {\"LF2\": 0.10721201225550979, \"LF1\": -0.06556999426226076, \"labels\": \"sport\"}, {\"LF2\": 0.10799063042934445, \"LF1\": -0.048118976617069056, \"labels\": \"tech\"}, {\"LF2\": 0.1743110012303494, \"LF1\": 0.05626317132052582, \"labels\": \"politics\"}, {\"LF2\": 0.10650929304255376, \"LF1\": -0.01685225813124714, \"labels\": \"business\"}, {\"LF2\": 0.10590083901447225, \"LF1\": -0.057195217887210416, \"labels\": \"tech\"}, {\"LF2\": 0.14823462030897738, \"LF1\": -0.10522795108328735, \"labels\": \"tech\"}, {\"LF2\": 0.12941440499227638, \"LF1\": -0.08466421213601595, \"labels\": \"sport\"}, {\"LF2\": 0.07223434043455314, \"LF1\": -0.020304220286381854, \"labels\": \"business\"}, {\"LF2\": 0.19190149134938056, \"LF1\": -0.11500660613870779, \"labels\": \"sport\"}, {\"LF2\": 0.14190002116537428, \"LF1\": -0.039081452722063786, \"labels\": \"entertainment\"}, {\"LF2\": 0.172259322416142, \"LF1\": -0.01025468579529124, \"labels\": \"business\"}, {\"LF2\": 0.13632583662250455, \"LF1\": -0.09132407392601796, \"labels\": \"sport\"}, {\"LF2\": 0.20980785352200493, \"LF1\": -0.13623227793523396, \"labels\": \"tech\"}, {\"LF2\": 0.1465762703895962, \"LF1\": -0.08879721248539711, \"labels\": \"tech\"}, {\"LF2\": 0.09776020888932634, \"LF1\": -0.07514386645574311, \"labels\": \"entertainment\"}, {\"LF2\": 0.09677656377616224, \"LF1\": -0.01670133727697728, \"labels\": \"business\"}, {\"LF2\": 0.06845328442388147, \"LF1\": -0.05407155328716767, \"labels\": \"sport\"}, {\"LF2\": 0.1273164714014212, \"LF1\": 0.06818390874574877, \"labels\": \"politics\"}, {\"LF2\": 0.11756235294803871, \"LF1\": -0.022818634090469598, \"labels\": \"tech\"}, {\"LF2\": 0.11655279924575523, \"LF1\": -0.07728283367356266, \"labels\": \"sport\"}, {\"LF2\": 0.11393345691292503, \"LF1\": -0.007391292334292993, \"labels\": \"business\"}, {\"LF2\": 0.10802138989315321, \"LF1\": 0.015226150359465314, \"labels\": \"business\"}, {\"LF2\": 0.10075888237260898, \"LF1\": -0.01529494420867644, \"labels\": \"business\"}, {\"LF2\": 0.15430817921628823, \"LF1\": 0.0321293327899051, \"labels\": \"politics\"}, {\"LF2\": 0.1312684272411466, \"LF1\": -0.10314024340160821, \"labels\": \"sport\"}, {\"LF2\": 0.13583660235656247, \"LF1\": -0.05570898242766464, \"labels\": \"tech\"}, {\"LF2\": 0.09070317284772761, \"LF1\": -0.041615904217886496, \"labels\": \"entertainment\"}, {\"LF2\": 0.1538404340659883, \"LF1\": -0.1090522136814494, \"labels\": \"tech\"}, {\"LF2\": 0.21124995027970037, \"LF1\": -0.14966106039477362, \"labels\": \"tech\"}, {\"LF2\": 0.09845645342254293, \"LF1\": -0.0048521107919298175, \"labels\": \"business\"}, {\"LF2\": 0.1286351353279005, \"LF1\": 0.0969536388790559, \"labels\": \"politics\"}, {\"LF2\": 0.07620707041986208, \"LF1\": -0.02154902306856416, \"labels\": \"business\"}, {\"LF2\": 0.12862977797672862, \"LF1\": -0.0922140335428666, \"labels\": \"entertainment\"}, {\"LF2\": 0.08464004238684324, \"LF1\": -0.058538559840639576, \"labels\": \"entertainment\"}, {\"LF2\": 0.12675280382908993, \"LF1\": 0.015299127021351054, \"labels\": \"politics\"}, {\"LF2\": 0.1532286109945231, \"LF1\": -0.1196775428113312, \"labels\": \"sport\"}, {\"LF2\": 0.1840576668847909, \"LF1\": 0.07388257434943142, \"labels\": \"politics\"}, {\"LF2\": 0.12677747164705108, \"LF1\": -0.008981960588191302, \"labels\": \"business\"}, {\"LF2\": 0.08962269279457005, \"LF1\": -0.06047110745226392, \"labels\": \"sport\"}, {\"LF2\": 0.15575417788358198, \"LF1\": 0.018431770248883986, \"labels\": \"business\"}, {\"LF2\": 0.16245394995093712, \"LF1\": 0.02341628179102914, \"labels\": \"politics\"}, {\"LF2\": 0.08551694452556469, \"LF1\": -0.08206094213508024, \"labels\": \"sport\"}, {\"LF2\": 0.15481595782088062, \"LF1\": 0.012701580849436423, \"labels\": \"tech\"}, {\"LF2\": 0.0774415464442931, \"LF1\": -0.03902813055341676, \"labels\": \"sport\"}, {\"LF2\": 0.14749390817265398, \"LF1\": 0.006191780167687211, \"labels\": \"tech\"}, {\"LF2\": 0.17474391039389764, \"LF1\": 0.17810146828283233, \"labels\": \"politics\"}, {\"LF2\": 0.2032266099474951, \"LF1\": -0.13748995142815215, \"labels\": \"sport\"}, {\"LF2\": 0.13936219609307796, \"LF1\": -0.09357111655532172, \"labels\": \"sport\"}, {\"LF2\": 0.10541009547631595, \"LF1\": -0.060675686624898015, \"labels\": \"tech\"}, {\"LF2\": 0.08403663460592546, \"LF1\": -0.053443339679038575, \"labels\": \"entertainment\"}, {\"LF2\": 0.14250428164494686, \"LF1\": -0.15505348125784943, \"labels\": \"entertainment\"}, {\"LF2\": 0.1159601645388294, \"LF1\": -0.044364074617844355, \"labels\": \"tech\"}, {\"LF2\": 0.08374353665271203, \"LF1\": -0.029467658191266108, \"labels\": \"entertainment\"}, {\"LF2\": 0.15822572928322778, \"LF1\": -0.10588266824193643, \"labels\": \"sport\"}, {\"LF2\": 0.09722713599122905, \"LF1\": -0.04373837624134786, \"labels\": \"sport\"}, {\"LF2\": 0.07795242293781132, \"LF1\": -0.036423573482338115, \"labels\": \"tech\"}, {\"LF2\": 0.11297187927798755, \"LF1\": -0.07758176857165905, \"labels\": \"entertainment\"}, {\"LF2\": 0.16689581451498128, \"LF1\": -0.09179281849361037, \"labels\": \"tech\"}, {\"LF2\": 0.09322046682398374, \"LF1\": -0.07270064907210488, \"labels\": \"entertainment\"}, {\"LF2\": 0.10954497321458834, \"LF1\": -0.07206163374400368, \"labels\": \"entertainment\"}, {\"LF2\": 0.0920443123101475, \"LF1\": -0.06345904608124137, \"labels\": \"sport\"}, {\"LF2\": 0.13231361763088892, \"LF1\": -0.06833586075700128, \"labels\": \"sport\"}, {\"LF2\": 0.11749323967770003, \"LF1\": -0.058608861670960154, \"labels\": \"sport\"}, {\"LF2\": 0.11230700863965046, \"LF1\": -0.08897778803832429, \"labels\": \"entertainment\"}, {\"LF2\": 0.13676803307754806, \"LF1\": -0.08484294486878428, \"labels\": \"entertainment\"}, {\"LF2\": 0.1314248710265973, \"LF1\": -0.06108502817546898, \"labels\": \"tech\"}, {\"LF2\": 0.10779284372802218, \"LF1\": -0.07250519946699747, \"labels\": \"sport\"}, {\"LF2\": 0.12032356322157373, \"LF1\": 3.923443567646406e-05, \"labels\": \"politics\"}, {\"LF2\": 0.1072122315795626, \"LF1\": -0.10163267080423956, \"labels\": \"entertainment\"}, {\"LF2\": 0.10292991451980293, \"LF1\": -0.04190890594297116, \"labels\": \"business\"}, {\"LF2\": 0.11639248733954842, \"LF1\": -0.0651237291353831, \"labels\": \"sport\"}, {\"LF2\": 0.10058770815805002, \"LF1\": 0.0036436436511993837, \"labels\": \"business\"}, {\"LF2\": 0.14049609363758395, \"LF1\": 0.026024853035338115, \"labels\": \"business\"}, {\"LF2\": 0.15014851213354513, \"LF1\": 0.12099868052927555, \"labels\": \"politics\"}, {\"LF2\": 0.11152838875857549, \"LF1\": 0.02456779364118231, \"labels\": \"politics\"}, {\"LF2\": 0.09653202403978073, \"LF1\": -0.0002181611839266036, \"labels\": \"business\"}, {\"LF2\": 0.3012785065551688, \"LF1\": 0.3165108019311866, \"labels\": \"politics\"}, {\"LF2\": 0.33644971108085686, \"LF1\": 0.394320462360009, \"labels\": \"politics\"}, {\"LF2\": 0.16832079403760045, \"LF1\": -0.09822039277713518, \"labels\": \"sport\"}, {\"LF2\": 0.12584698356780735, \"LF1\": 0.06487762204979006, \"labels\": \"politics\"}, {\"LF2\": 0.13150905919194952, \"LF1\": -0.09236793050073189, \"labels\": \"sport\"}, {\"LF2\": 0.1010620333011514, \"LF1\": -0.0599297028706486, \"labels\": \"sport\"}, {\"LF2\": 0.0962095168182485, \"LF1\": -0.023241955342506896, \"labels\": \"business\"}, {\"LF2\": 0.10481350506407017, \"LF1\": -0.06267428577394055, \"labels\": \"entertainment\"}, {\"LF2\": 0.12942738339576057, \"LF1\": -0.08188638994768598, \"labels\": \"sport\"}, {\"LF2\": 0.08068114032671178, \"LF1\": -0.03101837116534404, \"labels\": \"tech\"}, {\"LF2\": 0.10955597747029869, \"LF1\": -0.06426202135093122, \"labels\": \"sport\"}, {\"LF2\": 0.1312999751288364, \"LF1\": 0.010182452977292328, \"labels\": \"politics\"}, {\"LF2\": 0.10776327279017121, \"LF1\": -0.04891960508869328, \"labels\": \"entertainment\"}, {\"LF2\": 0.13583660235656247, \"LF1\": -0.05570898242766464, \"labels\": \"tech\"}, {\"LF2\": 0.11835945256172696, \"LF1\": -0.08747135778676306, \"labels\": \"sport\"}, {\"LF2\": 0.12256474074718271, \"LF1\": -0.08387100691255032, \"labels\": \"sport\"}, {\"LF2\": 0.10197069985587447, \"LF1\": 0.018035188923422166, \"labels\": \"business\"}, {\"LF2\": 0.1538404340659883, \"LF1\": -0.1090522136814494, \"labels\": \"tech\"}, {\"LF2\": 0.1808997940539542, \"LF1\": -0.12778783587422488, \"labels\": \"tech\"}, {\"LF2\": 0.07672279956181444, \"LF1\": -0.035362049404565776, \"labels\": \"entertainment\"}, {\"LF2\": 0.14198667836416173, \"LF1\": -0.15342937213036245, \"labels\": \"entertainment\"}, {\"LF2\": 0.1373706483578743, \"LF1\": -0.03996195494523321, \"labels\": \"tech\"}, {\"LF2\": 0.08862766653965042, \"LF1\": -0.05780712138507157, \"labels\": \"entertainment\"}, {\"LF2\": 0.0880863242751685, \"LF1\": 0.010248946190223783, \"labels\": \"politics\"}, {\"LF2\": 0.22571181615938107, \"LF1\": 0.2147773128080162, \"labels\": \"politics\"}, {\"LF2\": 0.10026555930152997, \"LF1\": -0.046014093760141456, \"labels\": \"sport\"}, {\"LF2\": 0.19500006504812603, \"LF1\": -0.0385849035104106, \"labels\": \"business\"}, {\"LF2\": 0.13234435605850536, \"LF1\": -0.018160396472435045, \"labels\": \"politics\"}, {\"LF2\": 0.25165881123102274, \"LF1\": 0.2889457105306306, \"labels\": \"politics\"}, {\"LF2\": 0.11623625619979247, \"LF1\": -0.07003062458291769, \"labels\": \"entertainment\"}, {\"LF2\": 0.2664283950116315, \"LF1\": 0.22731151736819513, \"labels\": \"politics\"}, {\"LF2\": 0.0895438345177325, \"LF1\": -0.0961044697342225, \"labels\": \"entertainment\"}, {\"LF2\": 0.2173986851035117, \"LF1\": -0.1771174879574851, \"labels\": \"tech\"}, {\"LF2\": 0.1335993517192183, \"LF1\": 0.0005804759891255831, \"labels\": \"politics\"}, {\"LF2\": 0.08450985492507447, \"LF1\": -0.033030671481934344, \"labels\": \"entertainment\"}, {\"LF2\": 0.18934122775679307, \"LF1\": 0.06117636331215241, \"labels\": \"politics\"}, {\"LF2\": 0.09339087704445724, \"LF1\": -0.0403642361311731, \"labels\": \"sport\"}, {\"LF2\": 0.1353234684802064, \"LF1\": -0.06113062011682689, \"labels\": \"sport\"}, {\"LF2\": 0.271618840518842, \"LF1\": 0.23894912110654992, \"labels\": \"politics\"}, {\"LF2\": 0.07079206152305219, \"LF1\": -0.022308404400875715, \"labels\": \"business\"}, {\"LF2\": 0.28506969904104357, \"LF1\": 0.38230162196647016, \"labels\": \"politics\"}, {\"LF2\": 0.15552914083455777, \"LF1\": -0.11696350509451797, \"labels\": \"tech\"}, {\"LF2\": 0.0957981208521738, \"LF1\": -0.012199373716716472, \"labels\": \"business\"}, {\"LF2\": 0.11219819849832832, \"LF1\": -0.036402274564669754, \"labels\": \"business\"}, {\"LF2\": 0.05437153826495598, \"LF1\": -0.021964114313758346, \"labels\": \"sport\"}, {\"LF2\": 0.10028767538253665, \"LF1\": -0.06325548432587959, \"labels\": \"sport\"}, {\"LF2\": 0.08246979092836973, \"LF1\": -0.0431005360471598, \"labels\": \"tech\"}, {\"LF2\": 0.16194835844055072, \"LF1\": 0.06901416919851283, \"labels\": \"politics\"}, {\"LF2\": 0.07817127586076596, \"LF1\": -0.040011664311146715, \"labels\": \"sport\"}, {\"LF2\": 0.09740468140159424, \"LF1\": -0.048117272815690094, \"labels\": \"sport\"}, {\"LF2\": 0.11919619406799156, \"LF1\": -0.055322629695801116, \"labels\": \"tech\"}, {\"LF2\": 0.1162780171610927, \"LF1\": -0.07020157181653376, \"labels\": \"sport\"}, {\"LF2\": 0.14437670212134604, \"LF1\": 0.07701719017001868, \"labels\": \"politics\"}, {\"LF2\": 0.10200181451015426, \"LF1\": -0.041171826090453514, \"labels\": \"tech\"}, {\"LF2\": 0.18498707265449366, \"LF1\": -0.16853514516513027, \"labels\": \"entertainment\"}, {\"LF2\": 0.16703176154018856, \"LF1\": -0.10412439832730294, \"labels\": \"tech\"}, {\"LF2\": 0.11735043535505675, \"LF1\": -0.03825062306962195, \"labels\": \"entertainment\"}, {\"LF2\": 0.1255228393085768, \"LF1\": -0.05107661531554633, \"labels\": \"sport\"}, {\"LF2\": 0.1301847081426666, \"LF1\": 0.07784250987255184, \"labels\": \"politics\"}, {\"LF2\": 0.10004483207466816, \"LF1\": -0.0508932730795207, \"labels\": \"sport\"}, {\"LF2\": 0.11101369970261396, \"LF1\": -0.06763799553032476, \"labels\": \"entertainment\"}, {\"LF2\": 0.12583381706679408, \"LF1\": -0.05047190021028261, \"labels\": \"tech\"}, {\"LF2\": 0.12440987305042253, \"LF1\": -0.10321328162310422, \"labels\": \"entertainment\"}, {\"LF2\": 0.12208203505997225, \"LF1\": -0.012162140395108425, \"labels\": \"business\"}, {\"LF2\": 0.16558228906698097, \"LF1\": -0.10334177800755431, \"labels\": \"entertainment\"}, {\"LF2\": 0.12365309262193985, \"LF1\": 0.0038733709364785463, \"labels\": \"tech\"}, {\"LF2\": 0.11847225888221094, \"LF1\": 0.023805644941105326, \"labels\": \"politics\"}, {\"LF2\": 0.1364744194315738, \"LF1\": -0.09582951650223305, \"labels\": \"sport\"}, {\"LF2\": 0.09416519585551517, \"LF1\": -0.018225131541872778, \"labels\": \"business\"}, {\"LF2\": 0.13485782769651297, \"LF1\": -0.09666716376362867, \"labels\": \"entertainment\"}, {\"LF2\": 0.08474057217522646, \"LF1\": -0.01866823861791097, \"labels\": \"business\"}, {\"LF2\": 0.10019977781694107, \"LF1\": -0.020895415040601675, \"labels\": \"business\"}, {\"LF2\": 0.11294523290688654, \"LF1\": -0.07087976808487227, \"labels\": \"entertainment\"}, {\"LF2\": 0.18954846342190212, \"LF1\": -0.1244057823271902, \"labels\": \"sport\"}, {\"LF2\": 0.12806904770257468, \"LF1\": -0.05918955460550987, \"labels\": \"sport\"}, {\"LF2\": 0.10284261028496211, \"LF1\": -0.05018474434207597, \"labels\": \"entertainment\"}, {\"LF2\": 0.10384638748504499, \"LF1\": -0.03694169408979991, \"labels\": \"politics\"}, {\"LF2\": 0.0938643409176316, \"LF1\": 0.015059735268692406, \"labels\": \"politics\"}, {\"LF2\": 0.06978582440122573, \"LF1\": -0.022160598310953232, \"labels\": \"business\"}, {\"LF2\": 0.11016422365557912, \"LF1\": -0.06432197859168841, \"labels\": \"entertainment\"}, {\"LF2\": 0.09850263752474943, \"LF1\": -0.054142118974888055, \"labels\": \"tech\"}, {\"LF2\": 0.10250963965949839, \"LF1\": -0.04423407377601461, \"labels\": \"business\"}, {\"LF2\": 0.20771156290015988, \"LF1\": 0.1715557274369871, \"labels\": \"politics\"}, {\"LF2\": 0.07597337090516817, \"LF1\": -0.01587623499692005, \"labels\": \"business\"}, {\"LF2\": 0.11499653292271657, \"LF1\": 0.01098358579340398, \"labels\": \"business\"}, {\"LF2\": 0.1731163857169592, \"LF1\": -0.15226372899496163, \"labels\": \"sport\"}, {\"LF2\": 0.08912443088697072, \"LF1\": 0.0038807949584300358, \"labels\": \"politics\"}, {\"LF2\": 0.1194193341279026, \"LF1\": -0.019643004732090862, \"labels\": \"business\"}, {\"LF2\": 0.1694314758049976, \"LF1\": -0.11916410027127514, \"labels\": \"sport\"}, {\"LF2\": 0.13235261906699367, \"LF1\": 0.09497785180072621, \"labels\": \"politics\"}, {\"LF2\": 0.1271116174096939, \"LF1\": -0.07506897364078892, \"labels\": \"tech\"}, {\"LF2\": 0.09584952495943656, \"LF1\": -0.040000464612647765, \"labels\": \"tech\"}, {\"LF2\": 0.14946822932163076, \"LF1\": -0.12978937551543374, \"labels\": \"entertainment\"}, {\"LF2\": 0.13038411137885572, \"LF1\": -0.05076435141446113, \"labels\": \"business\"}, {\"LF2\": 0.12508527929562874, \"LF1\": -0.15936972173388553, \"labels\": \"entertainment\"}, {\"LF2\": 0.18266107548102692, \"LF1\": 0.13979109129665881, \"labels\": \"politics\"}, {\"LF2\": 0.13379162657939317, \"LF1\": -0.10250139899063083, \"labels\": \"sport\"}, {\"LF2\": 0.10780114471815733, \"LF1\": 0.04075090783140585, \"labels\": \"politics\"}, {\"LF2\": 0.06744549072791015, \"LF1\": -0.041442925588805364, \"labels\": \"entertainment\"}, {\"LF2\": 0.3380031735221376, \"LF1\": 0.3574131152793925, \"labels\": \"politics\"}, {\"LF2\": 0.09771207740294616, \"LF1\": -0.06622173233192272, \"labels\": \"tech\"}, {\"LF2\": 0.09735065356203135, \"LF1\": -0.023590330004592937, \"labels\": \"business\"}, {\"LF2\": 0.09743693138782678, \"LF1\": -0.03751500350478317, \"labels\": \"tech\"}, {\"LF2\": 0.1320855880335715, \"LF1\": -0.015583378613040507, \"labels\": \"business\"}, {\"LF2\": 0.13279008772391737, \"LF1\": 0.03260739200501226, \"labels\": \"politics\"}, {\"LF2\": 0.19596340983536392, \"LF1\": 0.17672561098975662, \"labels\": \"politics\"}, {\"LF2\": 0.1061274319069655, \"LF1\": -0.05438488493062349, \"labels\": \"tech\"}, {\"LF2\": 0.06976762508035256, \"LF1\": -0.03503318090438962, \"labels\": \"entertainment\"}, {\"LF2\": 0.08763080854695077, \"LF1\": -0.04154692349774772, \"labels\": \"sport\"}, {\"LF2\": 0.20384515849252594, \"LF1\": 0.10765811315694379, \"labels\": \"politics\"}, {\"LF2\": 0.17433159076286833, \"LF1\": 0.1956460190729943, \"labels\": \"politics\"}, {\"LF2\": 0.14332914704565647, \"LF1\": 0.13358517244491183, \"labels\": \"politics\"}, {\"LF2\": 0.12886023394380539, \"LF1\": 0.015612861075810955, \"labels\": \"politics\"}, {\"LF2\": 0.12867742453408035, \"LF1\": 0.12625857752737554, \"labels\": \"politics\"}, {\"LF2\": 0.09807146742157669, \"LF1\": -0.06683232166242291, \"labels\": \"sport\"}, {\"LF2\": 0.1416605651151784, \"LF1\": -0.03119842679548759, \"labels\": \"business\"}, {\"LF2\": 0.08990112715707754, \"LF1\": -0.05176401297106601, \"labels\": \"sport\"}, {\"LF2\": 0.10455973162949687, \"LF1\": -0.04540518698537721, \"labels\": \"entertainment\"}, {\"LF2\": 0.07055124012439194, \"LF1\": -0.01511076061836057, \"labels\": \"business\"}, {\"LF2\": 0.09368000273037898, \"LF1\": -0.04964346717876113, \"labels\": \"tech\"}, {\"LF2\": 0.08338291767876096, \"LF1\": 0.011144681423909772, \"labels\": \"politics\"}, {\"LF2\": 0.094575689249661, \"LF1\": -0.050623363191513594, \"labels\": \"sport\"}, {\"LF2\": 0.09227780302838287, \"LF1\": -0.02992083672571381, \"labels\": \"business\"}, {\"LF2\": 0.13536898780702908, \"LF1\": -0.07103073951363634, \"labels\": \"sport\"}, {\"LF2\": 0.08318807117985559, \"LF1\": -0.03847887035350445, \"labels\": \"sport\"}, {\"LF2\": 0.15194573233584638, \"LF1\": 0.06984226901804864, \"labels\": \"politics\"}, {\"LF2\": 0.14167169507288832, \"LF1\": -0.048429724590812025, \"labels\": \"sport\"}, {\"LF2\": 0.073934437871918, \"LF1\": -0.034838081575620405, \"labels\": \"entertainment\"}, {\"LF2\": 0.09753305532069925, \"LF1\": -0.043430189080797016, \"labels\": \"business\"}, {\"LF2\": 0.08669142916729865, \"LF1\": -0.03472061226609303, \"labels\": \"entertainment\"}, {\"LF2\": 0.09687502392095902, \"LF1\": -0.08397030411892309, \"labels\": \"entertainment\"}, {\"LF2\": 0.1263787519266734, \"LF1\": -0.061115989745941735, \"labels\": \"tech\"}, {\"LF2\": 0.12172323205691947, \"LF1\": 0.05571238202782874, \"labels\": \"politics\"}, {\"LF2\": 0.04974241986865758, \"LF1\": -0.017729245122742373, \"labels\": \"entertainment\"}, {\"LF2\": 0.11209031290769272, \"LF1\": -0.06302850035021466, \"labels\": \"tech\"}, {\"LF2\": 0.10033498066592833, \"LF1\": -0.0491539515722877, \"labels\": \"sport\"}, {\"LF2\": 0.11762900656286152, \"LF1\": 0.015232567699486731, \"labels\": \"politics\"}, {\"LF2\": 0.1857977039744523, \"LF1\": 0.17692888922919936, \"labels\": \"politics\"}, {\"LF2\": 0.11844698801567025, \"LF1\": -0.025202130178300752, \"labels\": \"business\"}, {\"LF2\": 0.12286295180821152, \"LF1\": -0.09627081749492873, \"labels\": \"sport\"}, {\"LF2\": 0.11352738700113106, \"LF1\": 0.002801358098517437, \"labels\": \"business\"}, {\"LF2\": 0.11919619406799156, \"LF1\": -0.055322629695801116, \"labels\": \"tech\"}, {\"LF2\": 0.10645330915832985, \"LF1\": -0.08265709265816933, \"labels\": \"entertainment\"}, {\"LF2\": 0.10282325122344277, \"LF1\": -0.04099546539032085, \"labels\": \"entertainment\"}, {\"LF2\": 0.17429836081206532, \"LF1\": -0.14002128947859488, \"labels\": \"sport\"}, {\"LF2\": 0.19243297400072987, \"LF1\": 0.1111747661812524, \"labels\": \"politics\"}, {\"LF2\": 0.12025865735384372, \"LF1\": -0.10198389605647559, \"labels\": \"entertainment\"}, {\"LF2\": 0.13293527089707738, \"LF1\": -0.040494157534979945, \"labels\": \"entertainment\"}, {\"LF2\": 0.33073164457303417, \"LF1\": 0.3287197656964344, \"labels\": \"politics\"}, {\"LF2\": 0.17671706741455892, \"LF1\": 0.0019108356683805502, \"labels\": \"business\"}, {\"LF2\": 0.1491234657692786, \"LF1\": -0.07073507950960158, \"labels\": \"tech\"}, {\"LF2\": 0.11112227645816583, \"LF1\": -0.06423922204031415, \"labels\": \"entertainment\"}, {\"LF2\": 0.08353605613553693, \"LF1\": -0.0007893440134556189, \"labels\": \"business\"}, {\"LF2\": 0.12745514862377297, \"LF1\": -0.02993898596155143, \"labels\": \"business\"}, {\"LF2\": 0.047484860793481756, \"LF1\": -0.012297526561438428, \"labels\": \"politics\"}, {\"LF2\": 0.14827487864073027, \"LF1\": 0.08318269802377161, \"labels\": \"politics\"}, {\"LF2\": 0.0990000863932435, \"LF1\": -0.0632467734611859, \"labels\": \"entertainment\"}, {\"LF2\": 0.1099349960474421, \"LF1\": -0.07358003182793038, \"labels\": \"sport\"}, {\"LF2\": 0.12373873486244762, \"LF1\": 0.026044015617072484, \"labels\": \"politics\"}, {\"LF2\": 0.16033377756343287, \"LF1\": -0.1086247082824384, \"labels\": \"tech\"}, {\"LF2\": 0.1653927499269863, \"LF1\": -0.09159896006524203, \"labels\": \"entertainment\"}, {\"LF2\": 0.15241374697189722, \"LF1\": 0.06258820271781781, \"labels\": \"politics\"}, {\"LF2\": 0.0665832806975207, \"LF1\": -0.03733027993686297, \"labels\": \"sport\"}, {\"LF2\": 0.1163909932280435, \"LF1\": 0.018565882659820704, \"labels\": \"business\"}, {\"LF2\": 0.10414604887248669, \"LF1\": -0.05931025523508407, \"labels\": \"sport\"}, {\"LF2\": 0.2698702492344558, \"LF1\": 0.2778351482619976, \"labels\": \"politics\"}, {\"LF2\": 0.09602364326021517, \"LF1\": -0.06296553447406893, \"labels\": \"sport\"}, {\"LF2\": 0.06323809101281311, \"LF1\": 0.0011005793624436348, \"labels\": \"business\"}, {\"LF2\": 0.09735923132899285, \"LF1\": -0.08364716957511972, \"labels\": \"entertainment\"}, {\"LF2\": 0.1009308262269532, \"LF1\": -0.07707432743792632, \"labels\": \"tech\"}, {\"LF2\": 0.1455654779680183, \"LF1\": -0.10373783548064477, \"labels\": \"tech\"}, {\"LF2\": 0.18652260965434417, \"LF1\": -0.011144864135738064, \"labels\": \"business\"}, {\"LF2\": 0.10026555930152997, \"LF1\": -0.046014093760141456, \"labels\": \"sport\"}, {\"LF2\": 0.15470638685704635, \"LF1\": -0.029996453938971036, \"labels\": \"tech\"}, {\"LF2\": 0.13924722289305883, \"LF1\": 0.02900647114703976, \"labels\": \"politics\"}, {\"LF2\": 0.09582259892239861, \"LF1\": -0.07022586705059236, \"labels\": \"sport\"}, {\"LF2\": 0.24148577834016738, \"LF1\": 0.21279959261307366, \"labels\": \"politics\"}, {\"LF2\": 0.16926652999740047, \"LF1\": -0.0785996488398823, \"labels\": \"sport\"}, {\"LF2\": 0.15615815027739893, \"LF1\": -0.08684387734817642, \"labels\": \"sport\"}, {\"LF2\": 0.13554269230138527, \"LF1\": -0.08041299545360861, \"labels\": \"tech\"}, {\"LF2\": 0.22277527570408018, \"LF1\": 0.14325419573427187, \"labels\": \"politics\"}, {\"LF2\": 0.20988650883087134, \"LF1\": -0.0024208567729579623, \"labels\": \"business\"}, {\"LF2\": 0.13723492371748705, \"LF1\": -0.09256193506697999, \"labels\": \"tech\"}, {\"LF2\": 0.0989668133666954, \"LF1\": -0.006985841992380164, \"labels\": \"business\"}, {\"LF2\": 0.10697255174512643, \"LF1\": -0.05300510776512657, \"labels\": \"entertainment\"}, {\"LF2\": 0.28384236742039554, \"LF1\": 0.37908862729790227, \"labels\": \"politics\"}, {\"LF2\": 0.11718481434311376, \"LF1\": -0.08453776171278751, \"labels\": \"sport\"}, {\"LF2\": 0.10112221404861586, \"LF1\": -0.06397718783638077, \"labels\": \"sport\"}, {\"LF2\": 0.1773794725083461, \"LF1\": -0.02186660124980444, \"labels\": \"business\"}, {\"LF2\": 0.1832850698004773, \"LF1\": 0.03803861148269918, \"labels\": \"business\"}, {\"LF2\": 0.17576274434968375, \"LF1\": -0.12258025376090527, \"labels\": \"sport\"}, {\"LF2\": 0.13202245228206563, \"LF1\": -0.030526609817786706, \"labels\": \"business\"}, {\"LF2\": 0.08183153120736536, \"LF1\": -0.05038650531571143, \"labels\": \"sport\"}, {\"LF2\": 0.17067683443461096, \"LF1\": -0.12772940127987037, \"labels\": \"sport\"}, {\"LF2\": 0.10024034327509566, \"LF1\": -0.06976636531237282, \"labels\": \"entertainment\"}, {\"LF2\": 0.13963142833605177, \"LF1\": -0.07995471565716797, \"labels\": \"sport\"}, {\"LF2\": 0.120908137834371, \"LF1\": -0.07201468627313057, \"labels\": \"sport\"}, {\"LF2\": 0.12477803545580042, \"LF1\": 0.07345184765179566, \"labels\": \"politics\"}, {\"LF2\": 0.2101805225497844, \"LF1\": 0.1854392586439554, \"labels\": \"politics\"}, {\"LF2\": 0.06015252243528692, \"LF1\": -0.024777117288361118, \"labels\": \"tech\"}, {\"LF2\": 0.060536644728152345, \"LF1\": -0.01341531712289979, \"labels\": \"business\"}, {\"LF2\": 0.2870718226297489, \"LF1\": 0.3530339823977997, \"labels\": \"politics\"}, {\"LF2\": 0.06902924850944132, \"LF1\": -0.021892071143621416, \"labels\": \"tech\"}, {\"LF2\": 0.13103722356402597, \"LF1\": -0.11218354639113719, \"labels\": \"entertainment\"}, {\"LF2\": 0.07915297559881103, \"LF1\": -0.008513396935004715, \"labels\": \"business\"}, {\"LF2\": 0.16461658470082008, \"LF1\": 0.18290235451582917, \"labels\": \"politics\"}, {\"LF2\": 0.07865630834705971, \"LF1\": -0.03791340535577963, \"labels\": \"sport\"}, {\"LF2\": 0.10330370181621364, \"LF1\": -0.06807531279404777, \"labels\": \"sport\"}, {\"LF2\": 0.09876995464753531, \"LF1\": -0.0652610457822654, \"labels\": \"sport\"}, {\"LF2\": 0.14396214990101153, \"LF1\": -0.060121330427793836, \"labels\": \"entertainment\"}, {\"LF2\": 0.06840784871142153, \"LF1\": -0.013037704765633125, \"labels\": \"business\"}, {\"LF2\": 0.09323913575998986, \"LF1\": -0.07557608719636016, \"labels\": \"sport\"}, {\"LF2\": 0.10021242208670125, \"LF1\": -0.050502591295525874, \"labels\": \"sport\"}, {\"LF2\": 0.1544340685878387, \"LF1\": -0.022540287166350835, \"labels\": \"business\"}, {\"LF2\": 0.18605607455041503, \"LF1\": -0.0001474102239303836, \"labels\": \"business\"}, {\"LF2\": 0.11065899371098818, \"LF1\": -0.0015373913454278026, \"labels\": \"politics\"}, {\"LF2\": 0.08096509729113878, \"LF1\": -0.013440140114721543, \"labels\": \"business\"}, {\"LF2\": 0.09768485623020132, \"LF1\": -0.047145093498572425, \"labels\": \"sport\"}, {\"LF2\": 0.07674429435700753, \"LF1\": -0.0061787469382176986, \"labels\": \"business\"}, {\"LF2\": 0.10886746282081124, \"LF1\": -0.03641113218602862, \"labels\": \"tech\"}, {\"LF2\": 0.26511356929775964, \"LF1\": 0.2180207106197862, \"labels\": \"politics\"}, {\"LF2\": 0.11520558390099572, \"LF1\": 0.008998540810644315, \"labels\": \"business\"}, {\"LF2\": 0.11141347457554956, \"LF1\": -0.04390680911897929, \"labels\": \"sport\"}, {\"LF2\": 0.1046579236970328, \"LF1\": -0.032181487014000226, \"labels\": \"business\"}, {\"LF2\": 0.14366483500259675, \"LF1\": -0.11063315839395628, \"labels\": \"entertainment\"}, {\"LF2\": 0.08926006754150781, \"LF1\": -0.05851715047458658, \"labels\": \"sport\"}, {\"LF2\": 0.12832484461055388, \"LF1\": -0.12402539936999521, \"labels\": \"entertainment\"}, {\"LF2\": 0.09238017452741257, \"LF1\": -0.06396112381864816, \"labels\": \"entertainment\"}, {\"LF2\": 0.11962709181736159, \"LF1\": -0.0738723249434762, \"labels\": \"entertainment\"}, {\"LF2\": 0.08825231125487891, \"LF1\": -0.013069732129390927, \"labels\": \"business\"}, {\"LF2\": 0.21131476776120914, \"LF1\": 0.17936233835027515, \"labels\": \"politics\"}, {\"LF2\": 0.25302475658810686, \"LF1\": 0.2952499051220881, \"labels\": \"politics\"}, {\"LF2\": 0.08917517539526716, \"LF1\": -0.01529983786793444, \"labels\": \"business\"}, {\"LF2\": 0.12452571574549376, \"LF1\": -0.10163537037261787, \"labels\": \"tech\"}, {\"LF2\": 0.1162780171610927, \"LF1\": -0.07020157181653376, \"labels\": \"sport\"}, {\"LF2\": 0.07310351134346886, \"LF1\": -0.054168603591876745, \"labels\": \"tech\"}, {\"LF2\": 0.18797265104546215, \"LF1\": 0.1112918417415745, \"labels\": \"politics\"}, {\"LF2\": 0.09674449400422937, \"LF1\": -0.06197858835531078, \"labels\": \"sport\"}, {\"LF2\": 0.24643751804612332, \"LF1\": 0.36066372241351746, \"labels\": \"politics\"}, {\"LF2\": 0.09886689991087136, \"LF1\": -0.05639477224890171, \"labels\": \"tech\"}, {\"LF2\": 0.14690448805064, \"LF1\": 0.04345345482624792, \"labels\": \"politics\"}, {\"LF2\": 0.07301675308961245, \"LF1\": -0.02143458925200741, \"labels\": \"business\"}, {\"LF2\": 0.09862119718248132, \"LF1\": -0.0706031413216026, \"labels\": \"entertainment\"}, {\"LF2\": 0.08681779915085788, \"LF1\": -0.060904498975878796, \"labels\": \"entertainment\"}, {\"LF2\": 0.12969218309567887, \"LF1\": -0.06854212671556235, \"labels\": \"entertainment\"}, {\"LF2\": 0.18065776981729018, \"LF1\": 0.1285336538596295, \"labels\": \"politics\"}, {\"LF2\": 0.10476205976900613, \"LF1\": -0.10699645917007453, \"labels\": \"entertainment\"}, {\"LF2\": 0.09647541126325469, \"LF1\": -0.04089610475339027, \"labels\": \"sport\"}, {\"LF2\": 0.07802382956710484, \"LF1\": -0.02780633742849502, \"labels\": \"entertainment\"}, {\"LF2\": 0.20152104719423805, \"LF1\": 0.045041602689119505, \"labels\": \"politics\"}, {\"LF2\": 0.1343227875076642, \"LF1\": -0.10197302106816689, \"labels\": \"tech\"}, {\"LF2\": 0.16126610965818614, \"LF1\": -0.10696826113444258, \"labels\": \"tech\"}, {\"LF2\": 0.1229676635656056, \"LF1\": 0.010504065120450795, \"labels\": \"politics\"}, {\"LF2\": 0.12760804315048788, \"LF1\": 0.0007458579054882875, \"labels\": \"business\"}, {\"LF2\": 0.11142375449287642, \"LF1\": -0.06183671907138038, \"labels\": \"tech\"}, {\"LF2\": 0.08424853017612487, \"LF1\": 0.002002007441019112, \"labels\": \"business\"}, {\"LF2\": 0.13070188024428073, \"LF1\": -0.059201294742360654, \"labels\": \"tech\"}, {\"LF2\": 0.16048511010795982, \"LF1\": 0.01996150269459705, \"labels\": \"business\"}, {\"LF2\": 0.07948789580512045, \"LF1\": -0.04191954466298837, \"labels\": \"entertainment\"}, {\"LF2\": 0.09079637226453431, \"LF1\": -0.05829617279748724, \"labels\": \"entertainment\"}, {\"LF2\": 0.2444788815789102, \"LF1\": 0.24143654522031419, \"labels\": \"politics\"}, {\"LF2\": 0.13391619953588435, \"LF1\": -0.08020558742535634, \"labels\": \"sport\"}, {\"LF2\": 0.10481350506407017, \"LF1\": -0.06267428577394055, \"labels\": \"entertainment\"}, {\"LF2\": 0.14674237161005527, \"LF1\": -0.004397794864351601, \"labels\": \"entertainment\"}, {\"LF2\": 0.1039789742274797, \"LF1\": -0.040146594898371205, \"labels\": \"tech\"}, {\"LF2\": 0.10482309190559301, \"LF1\": -0.01762319668829442, \"labels\": \"tech\"}, {\"LF2\": 0.14672257601803368, \"LF1\": 0.00939113521580068, \"labels\": \"tech\"}, {\"LF2\": 0.15607888983085325, \"LF1\": -0.010908529702053155, \"labels\": \"business\"}, {\"LF2\": 0.10774422111365164, \"LF1\": -0.033337152269058305, \"labels\": \"tech\"}, {\"LF2\": 0.10947353255171634, \"LF1\": -0.04553256719027887, \"labels\": \"tech\"}, {\"LF2\": 0.11598611685482167, \"LF1\": -0.030228065756021417, \"labels\": \"business\"}, {\"LF2\": 0.15434163270513243, \"LF1\": -0.10698013775843902, \"labels\": \"sport\"}, {\"LF2\": 0.08100858777192098, \"LF1\": -0.0305398567938778, \"labels\": \"tech\"}, {\"LF2\": 0.09752789335652187, \"LF1\": 0.015278251620551606, \"labels\": \"politics\"}, {\"LF2\": 0.12218620219240398, \"LF1\": -0.04953121137995013, \"labels\": \"entertainment\"}, {\"LF2\": 0.1661784419198322, \"LF1\": 0.03325432459532136, \"labels\": \"business\"}, {\"LF2\": 0.10232292536186521, \"LF1\": -0.06666530216458053, \"labels\": \"sport\"}, {\"LF2\": 0.08954958655240827, \"LF1\": -0.01445062555934597, \"labels\": \"business\"}, {\"LF2\": 0.06360851609556473, \"LF1\": -0.04499834521873333, \"labels\": \"entertainment\"}, {\"LF2\": 0.1168794560137245, \"LF1\": -0.057471208751853235, \"labels\": \"sport\"}, {\"LF2\": 0.11562464176626616, \"LF1\": -0.05890922653963698, \"labels\": \"sport\"}, {\"LF2\": 0.11298077800501646, \"LF1\": -0.07619950404132886, \"labels\": \"sport\"}, {\"LF2\": 0.17931030217299354, \"LF1\": -0.0495572886620724, \"labels\": \"business\"}, {\"LF2\": 0.1463590667188169, \"LF1\": -0.12573176894460752, \"labels\": \"tech\"}, {\"LF2\": 0.3004622949614491, \"LF1\": 0.33780188173886416, \"labels\": \"politics\"}, {\"LF2\": 0.12152446950367703, \"LF1\": -0.00023032389638883121, \"labels\": \"business\"}, {\"LF2\": 0.18210603075522946, \"LF1\": 0.10647856470318116, \"labels\": \"politics\"}, {\"LF2\": 0.16689713531347128, \"LF1\": 0.12789139273511357, \"labels\": \"politics\"}, {\"LF2\": 0.08227576263170558, \"LF1\": 0.01964168449198496, \"labels\": \"politics\"}, {\"LF2\": 0.11826139331732827, \"LF1\": -0.048190848600075296, \"labels\": \"entertainment\"}, {\"LF2\": 0.12071524892272288, \"LF1\": -0.055049406522438935, \"labels\": \"sport\"}, {\"LF2\": 0.25548745956786184, \"LF1\": 0.2880731042776006, \"labels\": \"politics\"}, {\"LF2\": 0.1455368543577573, \"LF1\": -0.0010736290898040778, \"labels\": \"business\"}, {\"LF2\": 0.0948553301229516, \"LF1\": -0.07758846138581661, \"labels\": \"entertainment\"}, {\"LF2\": 0.13862705695344668, \"LF1\": -0.08789529634880942, \"labels\": \"entertainment\"}, {\"LF2\": 0.30143969558339256, \"LF1\": 0.39411996172160635, \"labels\": \"politics\"}, {\"LF2\": 0.1297960692356544, \"LF1\": 0.004501536164652561, \"labels\": \"tech\"}, {\"LF2\": 0.1740199748318814, \"LF1\": -0.06999661691776886, \"labels\": \"tech\"}, {\"LF2\": 0.1016934153013396, \"LF1\": -0.02399285996578435, \"labels\": \"business\"}, {\"LF2\": 0.16173242358859047, \"LF1\": -0.051396321469644506, \"labels\": \"tech\"}, {\"LF2\": 0.10491878250199277, \"LF1\": -0.08296920072437469, \"labels\": \"sport\"}, {\"LF2\": 0.07034795849585328, \"LF1\": -0.04066557955737657, \"labels\": \"sport\"}, {\"LF2\": 0.09406739727738969, \"LF1\": -0.05029260797402943, \"labels\": \"entertainment\"}, {\"LF2\": 0.12574030644493042, \"LF1\": -0.09355128737589927, \"labels\": \"sport\"}, {\"LF2\": 0.13690397966167256, \"LF1\": -0.09869136209603044, \"labels\": \"sport\"}, {\"LF2\": 0.14384186927649856, \"LF1\": -0.10355544607338517, \"labels\": \"sport\"}, {\"LF2\": 0.18600343865396232, \"LF1\": 0.12763203266192524, \"labels\": \"politics\"}, {\"LF2\": 0.1463590667188169, \"LF1\": -0.12573176894460752, \"labels\": \"tech\"}, {\"LF2\": 0.16482263263610297, \"LF1\": -0.10787490804592972, \"labels\": \"tech\"}, {\"LF2\": 0.1759665113499168, \"LF1\": 0.053286660948364505, \"labels\": \"politics\"}, {\"LF2\": 0.1752487490085394, \"LF1\": 0.11848652911388985, \"labels\": \"politics\"}, {\"LF2\": 0.17460244218832008, \"LF1\": 0.02686843777510022, \"labels\": \"business\"}, {\"LF2\": 0.10474765491186315, \"LF1\": -0.02820461039392606, \"labels\": \"business\"}, {\"LF2\": 0.11688286796659718, \"LF1\": -0.06025602099751714, \"labels\": \"sport\"}, {\"LF2\": 0.16520644686989927, \"LF1\": -0.09541449130965636, \"labels\": \"tech\"}, {\"LF2\": 0.14449776001812145, \"LF1\": -0.060753538316721804, \"labels\": \"tech\"}, {\"LF2\": 0.10168384792896741, \"LF1\": -0.05233949996731542, \"labels\": \"sport\"}, {\"LF2\": 0.08516533072192266, \"LF1\": -0.07401814585932578, \"labels\": \"entertainment\"}, {\"LF2\": 0.1058197263364872, \"LF1\": -0.04595026674153787, \"labels\": \"sport\"}, {\"LF2\": 0.1188131070580435, \"LF1\": -0.09018859344744237, \"labels\": \"entertainment\"}, {\"LF2\": 0.11542280253724592, \"LF1\": 0.038362651285850716, \"labels\": \"business\"}, {\"LF2\": 0.16673416607231054, \"LF1\": -0.07997833176101878, \"labels\": \"tech\"}, {\"LF2\": 0.2770353721989955, \"LF1\": 0.2973050840315155, \"labels\": \"politics\"}, {\"LF2\": 0.21124995027970037, \"LF1\": -0.14966106039477362, \"labels\": \"tech\"}, {\"LF2\": 0.12267521164885808, \"LF1\": -0.08808430835789442, \"labels\": \"sport\"}, {\"LF2\": 0.18864170479845926, \"LF1\": 0.04062201711745867, \"labels\": \"business\"}, {\"LF2\": 0.11153100764764413, \"LF1\": -0.04711090956248735, \"labels\": \"sport\"}, {\"LF2\": 0.07265381420830179, \"LF1\": -0.024076023474215003, \"labels\": \"business\"}, {\"LF2\": 0.09516790083173982, \"LF1\": -0.09274446836357522, \"labels\": \"entertainment\"}, {\"LF2\": 0.10178913228034489, \"LF1\": -0.05094441248140526, \"labels\": \"tech\"}, {\"LF2\": 0.16285338022063064, \"LF1\": -0.0350648199305024, \"labels\": \"business\"}, {\"LF2\": 0.09641067287375832, \"LF1\": -0.06888035862430372, \"labels\": \"sport\"}, {\"LF2\": 0.11058943195956625, \"LF1\": -0.02392713931026209, \"labels\": \"business\"}, {\"LF2\": 0.1154710183262796, \"LF1\": -0.06683553064283762, \"labels\": \"sport\"}, {\"LF2\": 0.10955483118073579, \"LF1\": -0.05232285951887326, \"labels\": \"tech\"}, {\"LF2\": 0.09445729473204412, \"LF1\": -0.016963322821217326, \"labels\": \"business\"}, {\"LF2\": 0.09699344414217871, \"LF1\": -0.018910259606940778, \"labels\": \"business\"}, {\"LF2\": 0.0703645246687983, \"LF1\": -0.010650410219790926, \"labels\": \"business\"}, {\"LF2\": 0.11885676744871516, \"LF1\": -0.08304979740761693, \"labels\": \"sport\"}, {\"LF2\": 0.06851717356614134, \"LF1\": -0.01385112121021603, \"labels\": \"business\"}, {\"LF2\": 0.0871575250213996, \"LF1\": -0.07152384388073085, \"labels\": \"sport\"}, {\"LF2\": 0.19784514573986525, \"LF1\": 0.24134801767818367, \"labels\": \"politics\"}, {\"LF2\": 0.13522525392590304, \"LF1\": -0.05126848705158058, \"labels\": \"business\"}, {\"LF2\": 0.09502661428366392, \"LF1\": -0.041217407552994474, \"labels\": \"sport\"}, {\"LF2\": 0.08564775762374555, \"LF1\": -0.007816337921428287, \"labels\": \"politics\"}, {\"LF2\": 0.16168823887433648, \"LF1\": -0.12856213800046004, \"labels\": \"entertainment\"}, {\"LF2\": 0.1277061800218486, \"LF1\": -0.02114299720046958, \"labels\": \"business\"}, {\"LF2\": 0.14169401270802448, \"LF1\": 0.02320317396645799, \"labels\": \"business\"}, {\"LF2\": 0.18565221599042944, \"LF1\": 0.11487760843603691, \"labels\": \"politics\"}, {\"LF2\": 0.08650825258834115, \"LF1\": -0.015592863370855498, \"labels\": \"business\"}, {\"LF2\": 0.1452123266503932, \"LF1\": -0.06466776617451832, \"labels\": \"tech\"}, {\"LF2\": 0.19021286817438823, \"LF1\": -0.12490251092613938, \"labels\": \"sport\"}, {\"LF2\": 0.11028322600168672, \"LF1\": -0.06766681416484802, \"labels\": \"entertainment\"}, {\"LF2\": 0.11857208651548143, \"LF1\": -0.07071442454354912, \"labels\": \"sport\"}, {\"LF2\": 0.07336125300361154, \"LF1\": -0.04240793864264298, \"labels\": \"entertainment\"}, {\"LF2\": 0.10041965307136141, \"LF1\": -0.0399481322099484, \"labels\": \"tech\"}, {\"LF2\": 0.12079500583335942, \"LF1\": -0.07872465484162551, \"labels\": \"sport\"}, {\"LF2\": 0.15735843514457615, \"LF1\": -0.11658156145530763, \"labels\": \"sport\"}, {\"LF2\": 0.17334500655372875, \"LF1\": -0.14133832148007056, \"labels\": \"sport\"}, {\"LF2\": 0.13951879710625797, \"LF1\": -0.15968136936418087, \"labels\": \"entertainment\"}, {\"LF2\": 0.17747525695509708, \"LF1\": 0.14301502760407908, \"labels\": \"politics\"}, {\"LF2\": 0.07729186416989076, \"LF1\": -0.021958172229139136, \"labels\": \"business\"}, {\"LF2\": 0.2725008290101429, \"LF1\": 0.3644082807265889, \"labels\": \"politics\"}, {\"LF2\": 0.14159612366318455, \"LF1\": 0.043285735360090845, \"labels\": \"politics\"}, {\"LF2\": 0.13594201826754843, \"LF1\": -0.11585004312093833, \"labels\": \"sport\"}, {\"LF2\": 0.06840878881067915, \"LF1\": -0.014231245727011928, \"labels\": \"entertainment\"}, {\"LF2\": 0.12183100938056436, \"LF1\": -0.09581558842766999, \"labels\": \"sport\"}, {\"LF2\": 0.09143221347304575, \"LF1\": -0.014436704689205297, \"labels\": \"business\"}, {\"LF2\": 0.1312170146168081, \"LF1\": -0.08397445262426244, \"labels\": \"sport\"}, {\"LF2\": 0.15192979122587663, \"LF1\": 0.10080405939130518, \"labels\": \"politics\"}, {\"LF2\": 0.10256688947846322, \"LF1\": -0.05193466423881987, \"labels\": \"entertainment\"}, {\"LF2\": 0.09953060769699848, \"LF1\": -0.02927664395393287, \"labels\": \"tech\"}, {\"LF2\": 0.1618919513357067, \"LF1\": 0.008644844819427788, \"labels\": \"business\"}, {\"LF2\": 0.08708419601263169, \"LF1\": -0.013998956112935732, \"labels\": \"business\"}, {\"LF2\": 0.09896216626988452, \"LF1\": -0.06424959038001708, \"labels\": \"sport\"}, {\"LF2\": 0.09114228891163648, \"LF1\": -0.03743693155995473, \"labels\": \"sport\"}, {\"LF2\": 0.0965463306459077, \"LF1\": -0.045498032772365304, \"labels\": \"sport\"}, {\"LF2\": 0.06810327201399068, \"LF1\": -0.04270351941994323, \"labels\": \"entertainment\"}, {\"LF2\": 0.1146701796813201, \"LF1\": -0.04990154242616642, \"labels\": \"sport\"}, {\"LF2\": 0.1644096766822417, \"LF1\": 0.1202305218983337, \"labels\": \"politics\"}, {\"LF2\": 0.1750836862976425, \"LF1\": 0.0570994961017372, \"labels\": \"politics\"}, {\"LF2\": 0.10457174340828072, \"LF1\": -0.06468447752109252, \"labels\": \"sport\"}, {\"LF2\": 0.12392327562560186, \"LF1\": -0.05347520823299594, \"labels\": \"tech\"}, {\"LF2\": 0.08985893149843878, \"LF1\": -0.0677261014047659, \"labels\": \"entertainment\"}, {\"LF2\": 0.04692824992339782, \"LF1\": -0.02948531834551163, \"labels\": \"entertainment\"}, {\"LF2\": 0.1455133838671553, \"LF1\": -0.17210752143667846, \"labels\": \"entertainment\"}, {\"LF2\": 0.10909980153395132, \"LF1\": 0.024946566108073383, \"labels\": \"politics\"}, {\"LF2\": 0.08778059527552373, \"LF1\": -0.00666743510373941, \"labels\": \"business\"}, {\"LF2\": 0.09664630586680822, \"LF1\": -0.04612657864730822, \"labels\": \"tech\"}, {\"LF2\": 0.13743133780221423, \"LF1\": -0.020898121561605736, \"labels\": \"business\"}, {\"LF2\": 0.16072080007931688, \"LF1\": -0.12785734284053182, \"labels\": \"entertainment\"}, {\"LF2\": 0.1492286244178523, \"LF1\": -0.1144447357409305, \"labels\": \"sport\"}, {\"LF2\": 0.12549282249453528, \"LF1\": -0.07840777786668088, \"labels\": \"sport\"}, {\"LF2\": 0.0744476157093141, \"LF1\": -0.05301156460858092, \"labels\": \"sport\"}, {\"LF2\": 0.14762868204481186, \"LF1\": -0.03387476564218149, \"labels\": \"business\"}, {\"LF2\": 0.15676001612270749, \"LF1\": -0.08014542702684176, \"labels\": \"tech\"}, {\"LF2\": 0.0590153732774599, \"LF1\": -0.02599401767122614, \"labels\": \"business\"}, {\"LF2\": 0.08706727257966278, \"LF1\": -0.04125277783105823, \"labels\": \"entertainment\"}, {\"LF2\": 0.11619909812389947, \"LF1\": -0.06245007586657228, \"labels\": \"tech\"}, {\"LF2\": 0.13235261906699367, \"LF1\": 0.09497785180072621, \"labels\": \"politics\"}, {\"LF2\": 0.13599773782103478, \"LF1\": -0.08232165408780479, \"labels\": \"sport\"}, {\"LF2\": 0.12683183524194222, \"LF1\": -0.0014650437229069089, \"labels\": \"politics\"}, {\"LF2\": 0.14077177382984013, \"LF1\": 0.03435718065200973, \"labels\": \"politics\"}, {\"LF2\": 0.19193251294850092, \"LF1\": -0.12531508649646567, \"labels\": \"tech\"}, {\"LF2\": 0.13568082334817433, \"LF1\": -0.15373911062935341, \"labels\": \"entertainment\"}, {\"LF2\": 0.07559054178659864, \"LF1\": -0.04882753116791798, \"labels\": \"sport\"}, {\"LF2\": 0.2989969207482173, \"LF1\": 0.3559731370277629, \"labels\": \"politics\"}, {\"LF2\": 0.2267622770164121, \"LF1\": 0.16337530056692962, \"labels\": \"politics\"}, {\"LF2\": 0.14944076689997765, \"LF1\": -0.15303705853780114, \"labels\": \"entertainment\"}, {\"LF2\": 0.16532380608428202, \"LF1\": -0.1212920549586215, \"labels\": \"sport\"}, {\"LF2\": 0.14144531640088845, \"LF1\": 0.11330240283229717, \"labels\": \"politics\"}, {\"LF2\": 0.08913571986818836, \"LF1\": -0.06611277069504454, \"labels\": \"entertainment\"}, {\"LF2\": 0.09974061136838767, \"LF1\": -0.06837623545197917, \"labels\": \"entertainment\"}, {\"LF2\": 0.11087570811909518, \"LF1\": -0.044820314615143596, \"labels\": \"sport\"}, {\"LF2\": 0.10811837741808616, \"LF1\": -0.07067081588143279, \"labels\": \"tech\"}, {\"LF2\": 0.11447874839815547, \"LF1\": -0.06727635744313222, \"labels\": \"sport\"}, {\"LF2\": 0.1348507142650685, \"LF1\": 0.01674283747912768, \"labels\": \"business\"}, {\"LF2\": 0.16454731726911598, \"LF1\": -0.020601604647716917, \"labels\": \"business\"}, {\"LF2\": 0.09954460456653287, \"LF1\": -0.036953032603448184, \"labels\": \"business\"}, {\"LF2\": 0.07373212613468832, \"LF1\": -0.04624599599071778, \"labels\": \"sport\"}, {\"LF2\": 0.13212835200981518, \"LF1\": -0.09850044849436625, \"labels\": \"entertainment\"}, {\"LF2\": 0.13136690347290034, \"LF1\": -0.10358594794514607, \"labels\": \"entertainment\"}, {\"LF2\": 0.12651601110385735, \"LF1\": -0.10829753972607035, \"labels\": \"entertainment\"}, {\"LF2\": 0.1586596457042959, \"LF1\": -0.07169153262988877, \"labels\": \"sport\"}, {\"LF2\": 0.0892941011513328, \"LF1\": -0.05284468015270542, \"labels\": \"tech\"}, {\"LF2\": 0.07600260319671173, \"LF1\": 0.01750380924170168, \"labels\": \"politics\"}, {\"LF2\": 0.09191052200971131, \"LF1\": -0.04955637103841947, \"labels\": \"entertainment\"}, {\"LF2\": 0.16779309270927062, \"LF1\": 0.11558728960216061, \"labels\": \"politics\"}, {\"LF2\": 0.15230355562198122, \"LF1\": -0.11646578911589953, \"labels\": \"entertainment\"}, {\"LF2\": 0.13573772594205236, \"LF1\": -0.1515613491092436, \"labels\": \"entertainment\"}, {\"LF2\": 0.12311943063953731, \"LF1\": -0.08741461542970241, \"labels\": \"sport\"}, {\"LF2\": 0.1807655701930688, \"LF1\": -0.13693909042699665, \"labels\": \"sport\"}, {\"LF2\": 0.10489320047922215, \"LF1\": -0.07360806708985826, \"labels\": \"sport\"}, {\"LF2\": 0.09083179625542318, \"LF1\": -0.08896095061872927, \"labels\": \"entertainment\"}, {\"LF2\": 0.3332084070333439, \"LF1\": 0.39199109779171903, \"labels\": \"politics\"}, {\"LF2\": 0.08094853676004896, \"LF1\": -0.021089151959545412, \"labels\": \"business\"}, {\"LF2\": 0.08498751931449994, \"LF1\": -0.04532891304257854, \"labels\": \"sport\"}, {\"LF2\": 0.15477689126079922, \"LF1\": -0.004845694683281533, \"labels\": \"business\"}, {\"LF2\": 0.08885396618225086, \"LF1\": -0.030319237756462978, \"labels\": \"sport\"}, {\"LF2\": 0.30824122924308783, \"LF1\": 0.4196685325018632, \"labels\": \"politics\"}, {\"LF2\": 0.10924351328663032, \"LF1\": 0.017923110269185118, \"labels\": \"business\"}, {\"LF2\": 0.12839232171198267, \"LF1\": -0.03280244459448051, \"labels\": \"business\"}, {\"LF2\": 0.0868930555699652, \"LF1\": 0.00317708786264416, \"labels\": \"business\"}, {\"LF2\": 0.09087478058459221, \"LF1\": -0.05639795481549387, \"labels\": \"sport\"}, {\"LF2\": 0.09008133088406146, \"LF1\": -0.059302253681266, \"labels\": \"sport\"}, {\"LF2\": 0.1974021270124632, \"LF1\": 0.2744276374828418, \"labels\": \"politics\"}, {\"LF2\": 0.0724837751053901, \"LF1\": -0.01253486299390449, \"labels\": \"business\"}, {\"LF2\": 0.09131046936503652, \"LF1\": -0.04955426954339291, \"labels\": \"entertainment\"}, {\"LF2\": 0.14711530162103256, \"LF1\": -0.014638819160386314, \"labels\": \"business\"}, {\"LF2\": 0.17698920192942907, \"LF1\": -0.027754539088567017, \"labels\": \"business\"}, {\"LF2\": 0.1895541382453178, \"LF1\": 0.10860972412450959, \"labels\": \"politics\"}, {\"LF2\": 0.1578964460423389, \"LF1\": -0.07948603980353082, \"labels\": \"politics\"}, {\"LF2\": 0.10732843034680255, \"LF1\": -0.01764417438337424, \"labels\": \"business\"}, {\"LF2\": 0.09370590272233385, \"LF1\": -0.05980995656807584, \"labels\": \"entertainment\"}, {\"LF2\": 0.13568947135225784, \"LF1\": 0.04297318104148779, \"labels\": \"politics\"}, {\"LF2\": 0.10026139193109736, \"LF1\": -0.057025190862295, \"labels\": \"sport\"}, {\"LF2\": 0.09756422016420513, \"LF1\": -0.004007565986144827, \"labels\": \"business\"}, {\"LF2\": 0.1363545112627485, \"LF1\": -0.05158494550630257, \"labels\": \"tech\"}, {\"LF2\": 0.08709630965277326, \"LF1\": -0.05023468322729878, \"labels\": \"sport\"}, {\"LF2\": 0.08559682909945812, \"LF1\": -0.06309974696038327, \"labels\": \"sport\"}, {\"LF2\": 0.16409514340190748, \"LF1\": -0.10516299947566073, \"labels\": \"tech\"}, {\"LF2\": 0.10175458781902982, \"LF1\": -0.022496860887995955, \"labels\": \"business\"}, {\"LF2\": 0.14618607732895583, \"LF1\": -0.09571600778582925, \"labels\": \"entertainment\"}, {\"LF2\": 0.12508527929562874, \"LF1\": -0.15936972173388553, \"labels\": \"entertainment\"}, {\"LF2\": 0.11840065594296363, \"LF1\": -0.015310633427708059, \"labels\": \"business\"}, {\"LF2\": 0.11084245400737593, \"LF1\": 0.012019878102983486, \"labels\": \"politics\"}, {\"LF2\": 0.08177466004186341, \"LF1\": 0.0052333820018032485, \"labels\": \"business\"}, {\"LF2\": 0.12407568143810259, \"LF1\": -0.04025165780926796, \"labels\": \"business\"}, {\"LF2\": 0.13706202440485418, \"LF1\": 0.00997120274873334, \"labels\": \"business\"}, {\"LF2\": 0.13151476360827075, \"LF1\": 0.035760679707197984, \"labels\": \"business\"}, {\"LF2\": 0.08482391443332488, \"LF1\": -0.04820202351597816, \"labels\": \"sport\"}, {\"LF2\": 0.07646130695073583, \"LF1\": -0.030722079212027454, \"labels\": \"tech\"}, {\"LF2\": 0.10933197938904798, \"LF1\": -0.06408021852639137, \"labels\": \"sport\"}, {\"LF2\": 0.14970747629045683, \"LF1\": 0.03976762691475618, \"labels\": \"politics\"}, {\"LF2\": 0.07950776839047391, \"LF1\": -0.013871351081617111, \"labels\": \"business\"}, {\"LF2\": 0.07494246559235905, \"LF1\": 0.01657549543478489, \"labels\": \"business\"}, {\"LF2\": 0.0789258602847844, \"LF1\": -0.03012746081526066, \"labels\": \"entertainment\"}, {\"LF2\": 0.13239900641023894, \"LF1\": 0.017336435389483686, \"labels\": \"politics\"}, {\"LF2\": 0.09237982786596817, \"LF1\": -0.06862023283808882, \"labels\": \"sport\"}, {\"LF2\": 0.13538257000719772, \"LF1\": -0.10991433316845564, \"labels\": \"tech\"}, {\"LF2\": 0.0740157551565175, \"LF1\": -0.011639033103170625, \"labels\": \"business\"}, {\"LF2\": 0.09723607490218482, \"LF1\": -0.06095570813974211, \"labels\": \"entertainment\"}, {\"LF2\": 0.08516111448346486, \"LF1\": 8.009532763956637e-05, \"labels\": \"business\"}, {\"LF2\": 0.15699085672471563, \"LF1\": -0.08675698032511177, \"labels\": \"tech\"}, {\"LF2\": 0.07080066509649195, \"LF1\": 0.0031800272853599832, \"labels\": \"entertainment\"}, {\"LF2\": 0.1508869222771986, \"LF1\": -0.11799462879663815, \"labels\": \"sport\"}, {\"LF2\": 0.16263535267155943, \"LF1\": -0.021355415972062784, \"labels\": \"business\"}, {\"LF2\": 0.13305724867272292, \"LF1\": -0.1031684412792396, \"labels\": \"entertainment\"}, {\"LF2\": 0.11416142527658446, \"LF1\": -0.06732413854425416, \"labels\": \"tech\"}, {\"LF2\": 0.10645737074428895, \"LF1\": -0.06156124692229503, \"labels\": \"entertainment\"}, {\"LF2\": 0.17886379542251007, \"LF1\": 0.09738036588331232, \"labels\": \"politics\"}, {\"LF2\": 0.13149358753860962, \"LF1\": -0.054970716885415695, \"labels\": \"business\"}, {\"LF2\": 0.09264882065417754, \"LF1\": -0.049218824408851884, \"labels\": \"sport\"}, {\"LF2\": 0.12302025386548972, \"LF1\": 0.07037421221086534, \"labels\": \"politics\"}, {\"LF2\": 0.087107573874542, \"LF1\": -0.01854239669674923, \"labels\": \"tech\"}, {\"LF2\": 0.1842092008583237, \"LF1\": -0.13480622380102436, \"labels\": \"sport\"}, {\"LF2\": 0.10808040338500163, \"LF1\": 0.0008470990856848721, \"labels\": \"politics\"}, {\"LF2\": 0.0994515777008595, \"LF1\": -0.054101309658742616, \"labels\": \"tech\"}, {\"LF2\": 0.13698599998839847, \"LF1\": -0.0061667771616994126, \"labels\": \"business\"}, {\"LF2\": 0.2741367048974599, \"LF1\": 0.3232754041376235, \"labels\": \"politics\"}, {\"LF2\": 0.12509420282995623, \"LF1\": -0.04369593680069046, \"labels\": \"tech\"}, {\"LF2\": 0.07833693211038935, \"LF1\": 0.019384075591513887, \"labels\": \"business\"}, {\"LF2\": 0.14066078479431357, \"LF1\": -0.10319018676801295, \"labels\": \"entertainment\"}, {\"LF2\": 0.15807914767748113, \"LF1\": -0.08694792612520905, \"labels\": \"tech\"}, {\"LF2\": 0.14880618079405836, \"LF1\": -0.0038857855809061146, \"labels\": \"business\"}, {\"LF2\": 0.10973514161121577, \"LF1\": -0.07424666146076128, \"labels\": \"sport\"}, {\"LF2\": 0.10243866594597544, \"LF1\": -0.038136215955224206, \"labels\": \"entertainment\"}, {\"LF2\": 0.13137503924875193, \"LF1\": -0.07780900738145122, \"labels\": \"sport\"}, {\"LF2\": 0.14523510235799691, \"LF1\": -0.03689612609117588, \"labels\": \"tech\"}, {\"LF2\": 0.08253161872755296, \"LF1\": -0.04166663368957983, \"labels\": \"tech\"}, {\"LF2\": 0.0945490102842509, \"LF1\": -0.060951751418163745, \"labels\": \"sport\"}, {\"LF2\": 0.1154915938282585, \"LF1\": -0.07897037136784002, \"labels\": \"tech\"}, {\"LF2\": 0.15653169041818138, \"LF1\": -0.09975347415545176, \"labels\": \"tech\"}, {\"LF2\": 0.26220280741686847, \"LF1\": 0.30649677625467836, \"labels\": \"politics\"}, {\"LF2\": 0.3242504335784743, \"LF1\": 0.4495326985747861, \"labels\": \"politics\"}, {\"LF2\": 0.08134514018988469, \"LF1\": -0.0607635569072779, \"labels\": \"sport\"}, {\"LF2\": 0.1407407411075447, \"LF1\": 0.035187919344848224, \"labels\": \"politics\"}, {\"LF2\": 0.18228756062484475, \"LF1\": -0.0676698446318521, \"labels\": \"entertainment\"}, {\"LF2\": 0.16385574723572963, \"LF1\": -0.026438502769840368, \"labels\": \"business\"}, {\"LF2\": 0.17706705180427068, \"LF1\": -0.15695587696467686, \"labels\": \"entertainment\"}, {\"LF2\": 0.12426481058486316, \"LF1\": 0.01657393423202099, \"labels\": \"politics\"}, {\"LF2\": 0.23925733220024792, \"LF1\": 0.3186602570917054, \"labels\": \"politics\"}, {\"LF2\": 0.06987556984240328, \"LF1\": -0.021137200421381123, \"labels\": \"sport\"}, {\"LF2\": 0.12776755531979603, \"LF1\": -0.08149738783707837, \"labels\": \"tech\"}, {\"LF2\": 0.06356494146007693, \"LF1\": -0.016186476535174858, \"labels\": \"business\"}, {\"LF2\": 0.12911972526178178, \"LF1\": -0.11938618986536384, \"labels\": \"entertainment\"}, {\"LF2\": 0.09135645378707447, \"LF1\": -0.01585025745195684, \"labels\": \"business\"}, {\"LF2\": 0.12974722420545148, \"LF1\": -0.0825202711306261, \"labels\": \"sport\"}, {\"LF2\": 0.11936792458545091, \"LF1\": -0.0796027367086436, \"labels\": \"entertainment\"}, {\"LF2\": 0.10611205584537443, \"LF1\": -0.01639574298852091, \"labels\": \"entertainment\"}, {\"LF2\": 0.22583447982250235, \"LF1\": 0.22704464078337205, \"labels\": \"politics\"}, {\"LF2\": 0.08076676321576635, \"LF1\": 0.025592281489352376, \"labels\": \"politics\"}, {\"LF2\": 0.09989096851974423, \"LF1\": -0.04690647453878622, \"labels\": \"entertainment\"}, {\"LF2\": 0.05133149592441446, \"LF1\": -0.0200186589696062, \"labels\": \"business\"}, {\"LF2\": 0.11150883793210702, \"LF1\": -0.09728090408247891, \"labels\": \"entertainment\"}, {\"LF2\": 0.09002396671917445, \"LF1\": -0.011338335665040007, \"labels\": \"sport\"}, {\"LF2\": 0.12351168656460243, \"LF1\": -0.10026581807036801, \"labels\": \"tech\"}, {\"LF2\": 0.05899926377421735, \"LF1\": -0.023225547865978455, \"labels\": \"tech\"}, {\"LF2\": 0.06245145644935361, \"LF1\": -0.01418913332118444, \"labels\": \"business\"}, {\"LF2\": 0.06602457350837165, \"LF1\": -0.0407418045863184, \"labels\": \"sport\"}, {\"LF2\": 0.10768217346389304, \"LF1\": -0.04831751233405328, \"labels\": \"sport\"}, {\"LF2\": 0.09780007329332274, \"LF1\": -0.05612523781616276, \"labels\": \"entertainment\"}, {\"LF2\": 0.13616097526055146, \"LF1\": -0.14105779582130512, \"labels\": \"entertainment\"}, {\"LF2\": 0.15759979329892165, \"LF1\": -0.02295973636063141, \"labels\": \"business\"}, {\"LF2\": 0.1272580190537783, \"LF1\": -0.046433021869408425, \"labels\": \"entertainment\"}, {\"LF2\": 0.08959929902198571, \"LF1\": -0.06442950123830414, \"labels\": \"entertainment\"}, {\"LF2\": 0.22285107293092238, \"LF1\": -0.1601273026975422, \"labels\": \"tech\"}, {\"LF2\": 0.14223578006055596, \"LF1\": -0.11755943168009159, \"labels\": \"sport\"}, {\"LF2\": 0.10515854015799662, \"LF1\": -0.0138194514156837, \"labels\": \"politics\"}, {\"LF2\": 0.17226492487694436, \"LF1\": 0.08818066715597189, \"labels\": \"politics\"}, {\"LF2\": 0.08115227256144722, \"LF1\": -0.08655186181738991, \"labels\": \"entertainment\"}, {\"LF2\": 0.06687557836160926, \"LF1\": -0.0428270893170247, \"labels\": \"sport\"}, {\"LF2\": 0.12175696907340255, \"LF1\": 0.05577979235985398, \"labels\": \"politics\"}, {\"LF2\": 0.08566406438255272, \"LF1\": -0.041628975065107994, \"labels\": \"sport\"}, {\"LF2\": 0.11930332471422511, \"LF1\": -0.07476283367647496, \"labels\": \"tech\"}, {\"LF2\": 0.15582895443897207, \"LF1\": -0.0776992332340491, \"labels\": \"tech\"}, {\"LF2\": 0.07478520610111526, \"LF1\": 0.013625215889204898, \"labels\": \"politics\"}, {\"LF2\": 0.11853230364312572, \"LF1\": 0.05355607599193802, \"labels\": \"politics\"}, {\"LF2\": 0.21796447076978248, \"LF1\": 0.004853219729547232, \"labels\": \"business\"}, {\"LF2\": 0.10541009547631595, \"LF1\": -0.060675686624898015, \"labels\": \"tech\"}, {\"LF2\": 0.1466175831601846, \"LF1\": -0.021742008849423247, \"labels\": \"business\"}, {\"LF2\": 0.10151937272819252, \"LF1\": -0.036357084720680395, \"labels\": \"business\"}, {\"LF2\": 0.12048595559301166, \"LF1\": -0.04166165001196948, \"labels\": \"tech\"}, {\"LF2\": 0.18590104621888545, \"LF1\": -0.08479509311457897, \"labels\": \"tech\"}, {\"LF2\": 0.11545826266337, \"LF1\": -0.07546520603181542, \"labels\": \"sport\"}, {\"LF2\": 0.08878655377271755, \"LF1\": -0.026417681399643556, \"labels\": \"business\"}, {\"LF2\": 0.05104471267929505, \"LF1\": -0.010940435936544613, \"labels\": \"business\"}, {\"LF2\": 0.10666899375729262, \"LF1\": -0.02554600272436009, \"labels\": \"entertainment\"}, {\"LF2\": 0.06272001914710619, \"LF1\": -0.011688389560052012, \"labels\": \"business\"}, {\"LF2\": 0.21508684018398422, \"LF1\": 0.11987076694605688, \"labels\": \"politics\"}, {\"LF2\": 0.07176412829836738, \"LF1\": -0.043377146379981274, \"labels\": \"sport\"}, {\"LF2\": 0.3111024060339686, \"LF1\": 0.34464405793408026, \"labels\": \"politics\"}, {\"LF2\": 0.18840591551695093, \"LF1\": 0.1663656458331421, \"labels\": \"politics\"}, {\"LF2\": 0.11198248000706641, \"LF1\": -0.0834421584623537, \"labels\": \"sport\"}, {\"LF2\": 0.12007956712516901, \"LF1\": -0.004366832352925664, \"labels\": \"business\"}, {\"LF2\": 0.14447951981641752, \"LF1\": -0.01923244291597697, \"labels\": \"business\"}, {\"LF2\": 0.13305172856027853, \"LF1\": -0.05770413697346133, \"labels\": \"business\"}, {\"LF2\": 0.15255803948411192, \"LF1\": -0.008142169385123084, \"labels\": \"business\"}, {\"LF2\": 0.1338197987491923, \"LF1\": -0.09251818912199558, \"labels\": \"sport\"}, {\"LF2\": 0.129500977970781, \"LF1\": 0.10488608918272153, \"labels\": \"politics\"}, {\"LF2\": 0.12743711930506108, \"LF1\": -0.03194306283474233, \"labels\": \"tech\"}, {\"LF2\": 0.0935616351532001, \"LF1\": -0.013044768765878177, \"labels\": \"business\"}, {\"LF2\": 0.09639474954663106, \"LF1\": -0.04487396813685729, \"labels\": \"entertainment\"}, {\"LF2\": 0.09718249283541266, \"LF1\": -0.072443725802675, \"labels\": \"entertainment\"}, {\"LF2\": 0.1800359044546361, \"LF1\": -0.12000712029026576, \"labels\": \"tech\"}, {\"LF2\": 0.08675262905677246, \"LF1\": -0.05776390766153482, \"labels\": \"entertainment\"}, {\"LF2\": 0.12111011625785499, \"LF1\": -0.09446625173265667, \"labels\": \"entertainment\"}, {\"LF2\": 0.07484693582268807, \"LF1\": -0.014234282888128679, \"labels\": \"business\"}, {\"LF2\": 0.12703847026471202, \"LF1\": -0.11009817169031474, \"labels\": \"sport\"}, {\"LF2\": 0.19193251294850092, \"LF1\": -0.12531508649646567, \"labels\": \"tech\"}, {\"LF2\": 0.10398927089583036, \"LF1\": -0.037570141403010834, \"labels\": \"business\"}, {\"LF2\": 0.06882012636048235, \"LF1\": -0.01709064006449756, \"labels\": \"business\"}, {\"LF2\": 0.10059804761526554, \"LF1\": 0.0019800123662213854, \"labels\": \"business\"}, {\"LF2\": 0.11279634344126735, \"LF1\": -0.023639331148181127, \"labels\": \"sport\"}, {\"LF2\": 0.13086048049229965, \"LF1\": -0.0943419909131253, \"labels\": \"entertainment\"}, {\"LF2\": 0.09024272163311692, \"LF1\": -0.06033919036773953, \"labels\": \"sport\"}, {\"LF2\": 0.10155953751784377, \"LF1\": 0.0015952613922403653, \"labels\": \"politics\"}, {\"LF2\": 0.12618563473187108, \"LF1\": 0.0764892804388693, \"labels\": \"politics\"}, {\"LF2\": 0.07807170796673164, \"LF1\": -0.03301050579141618, \"labels\": \"sport\"}, {\"LF2\": 0.16775076541864145, \"LF1\": -0.1818255381995288, \"labels\": \"entertainment\"}, {\"LF2\": 0.11760375965901647, \"LF1\": 0.010856417260135068, \"labels\": \"politics\"}, {\"LF2\": 0.09537412238513689, \"LF1\": -0.0545702096242663, \"labels\": \"tech\"}, {\"LF2\": 0.11260803636628326, \"LF1\": -0.08040878536834596, \"labels\": \"entertainment\"}, {\"LF2\": 0.20986600488212453, \"LF1\": 0.19661028839362557, \"labels\": \"politics\"}, {\"LF2\": 0.06476222524869438, \"LF1\": -0.03252774609283019, \"labels\": \"entertainment\"}, {\"LF2\": 0.09349836614835504, \"LF1\": -0.05891669561588297, \"labels\": \"sport\"}, {\"LF2\": 0.10310437433886072, \"LF1\": -0.045572476508738566, \"labels\": \"entertainment\"}, {\"LF2\": 0.08853868938002946, \"LF1\": 0.012620762042362975, \"labels\": \"politics\"}, {\"LF2\": 0.1853817539248605, \"LF1\": 0.121915445841236, \"labels\": \"politics\"}, {\"LF2\": 0.22449363768462124, \"LF1\": 0.061034600989117976, \"labels\": \"business\"}, {\"LF2\": 0.1255917333996097, \"LF1\": -0.07502381895479418, \"labels\": \"tech\"}, {\"LF2\": 0.11527510074469179, \"LF1\": -0.05040583302737017, \"labels\": \"entertainment\"}, {\"LF2\": 0.13599773782103478, \"LF1\": -0.08232165408780479, \"labels\": \"sport\"}, {\"LF2\": 0.11651232070749855, \"LF1\": -0.04198731575025841, \"labels\": \"entertainment\"}, {\"LF2\": 0.09850645908460388, \"LF1\": -0.030472762035157152, \"labels\": \"politics\"}, {\"LF2\": 0.2185695045169001, \"LF1\": 0.23689888774355722, \"labels\": \"politics\"}, {\"LF2\": 0.13136548347436164, \"LF1\": 0.030467792147137646, \"labels\": \"business\"}, {\"LF2\": 0.1356472859754801, \"LF1\": -0.16087636196906938, \"labels\": \"entertainment\"}, {\"LF2\": 0.1148623275522505, \"LF1\": 0.04715829104207546, \"labels\": \"politics\"}, {\"LF2\": 0.057545551468238816, \"LF1\": -0.016090211736537997, \"labels\": \"business\"}, {\"LF2\": 0.12553966326690677, \"LF1\": -0.05887094592312776, \"labels\": \"sport\"}, {\"LF2\": 0.14731912014350404, \"LF1\": 0.016684996751944285, \"labels\": \"politics\"}, {\"LF2\": 0.1411077999921361, \"LF1\": -0.13956679562360053, \"labels\": \"entertainment\"}, {\"LF2\": 0.11538642790607723, \"LF1\": -0.007806624671590667, \"labels\": \"business\"}, {\"LF2\": 0.2903547614606881, \"LF1\": 0.37897986782584886, \"labels\": \"politics\"}, {\"LF2\": 0.1344014982551371, \"LF1\": -0.08839169241058009, \"labels\": \"entertainment\"}, {\"LF2\": 0.08402454205282822, \"LF1\": -0.06282437043932272, \"labels\": \"sport\"}, {\"LF2\": 0.12777024155058223, \"LF1\": -0.07371171781899503, \"labels\": \"sport\"}, {\"LF2\": 0.17344571658532956, \"LF1\": 0.05587679935647847, \"labels\": \"politics\"}, {\"LF2\": 0.11263205868688812, \"LF1\": -0.08956103399292788, \"labels\": \"tech\"}, {\"LF2\": 0.10158101313803193, \"LF1\": -0.05049746092534065, \"labels\": \"tech\"}, {\"LF2\": 0.15460347358511134, \"LF1\": -0.11250641895130349, \"labels\": \"tech\"}, {\"LF2\": 0.15609171215695167, \"LF1\": -0.09791339352004468, \"labels\": \"sport\"}, {\"LF2\": 0.16854276651733188, \"LF1\": -0.12544662887164354, \"labels\": \"tech\"}, {\"LF2\": 0.11167232179539043, \"LF1\": -0.06486711290955481, \"labels\": \"entertainment\"}, {\"LF2\": 0.10331591747761365, \"LF1\": -0.03971929896238958, \"labels\": \"sport\"}, {\"LF2\": 0.08131127719361622, \"LF1\": -0.048872754524041793, \"labels\": \"entertainment\"}, {\"LF2\": 0.09032084418024072, \"LF1\": -0.004510932649279375, \"labels\": \"business\"}, {\"LF2\": 0.18266931378679657, \"LF1\": 0.10826995008850179, \"labels\": \"politics\"}, {\"LF2\": 0.09310230589276901, \"LF1\": -0.03048900664574907, \"labels\": \"business\"}, {\"LF2\": 0.10004518640507779, \"LF1\": -0.06234114237671526, \"labels\": \"sport\"}, {\"LF2\": 0.20723095064607197, \"LF1\": 0.11205921600385813, \"labels\": \"politics\"}, {\"LF2\": 0.08508377490647942, \"LF1\": -0.014802534534029467, \"labels\": \"business\"}, {\"LF2\": 0.07883062442463241, \"LF1\": -0.0324920381096061, \"labels\": \"sport\"}, {\"LF2\": 0.2622167656230387, \"LF1\": 0.31065802787664254, \"labels\": \"politics\"}, {\"LF2\": 0.07908967804328466, \"LF1\": -0.04543690447643644, \"labels\": \"entertainment\"}, {\"LF2\": 0.12155530426412754, \"LF1\": 0.007371474385347831, \"labels\": \"politics\"}, {\"LF2\": 0.14449776001812145, \"LF1\": -0.060753538316721804, \"labels\": \"tech\"}, {\"LF2\": 0.18556335308740338, \"LF1\": 0.08222641181782796, \"labels\": \"politics\"}, {\"LF2\": 0.12181540594040649, \"LF1\": -0.09748080728718894, \"labels\": \"entertainment\"}, {\"LF2\": 0.17032773977856203, \"LF1\": 0.044076986450069654, \"labels\": \"business\"}, {\"LF2\": 0.14678734061082344, \"LF1\": -0.06865289591185215, \"labels\": \"entertainment\"}, {\"LF2\": 0.1520761796593246, \"LF1\": -0.10134932129163463, \"labels\": \"entertainment\"}, {\"LF2\": 0.11255673574141313, \"LF1\": -0.047741340978012664, \"labels\": \"tech\"}, {\"LF2\": 0.1019441550429209, \"LF1\": -0.0013240520727064375, \"labels\": \"entertainment\"}, {\"LF2\": 0.11933543353544895, \"LF1\": 0.055336696896174944, \"labels\": \"politics\"}, {\"LF2\": 0.16187733371795757, \"LF1\": -0.09509776974667372, \"labels\": \"tech\"}, {\"LF2\": 0.08805854487960323, \"LF1\": -0.044535469681073844, \"labels\": \"tech\"}, {\"LF2\": 0.16370131497138748, \"LF1\": -0.039645158393436436, \"labels\": \"business\"}, {\"LF2\": 0.11951722259579839, \"LF1\": -0.08303887589260275, \"labels\": \"sport\"}, {\"LF2\": 0.192683244620621, \"LF1\": -0.1536991330507386, \"labels\": \"sport\"}, {\"LF2\": 0.10812431339619459, \"LF1\": -0.05457764965807086, \"labels\": \"tech\"}, {\"LF2\": 0.1718883064099605, \"LF1\": 0.04014062192250281, \"labels\": \"business\"}, {\"LF2\": 0.12642120818420108, \"LF1\": -0.07851003938796876, \"labels\": \"sport\"}, {\"LF2\": 0.14823009484469185, \"LF1\": 0.0249917353351387, \"labels\": \"politics\"}, {\"LF2\": 0.15298298881126984, \"LF1\": -0.09471607097281166, \"labels\": \"sport\"}, {\"LF2\": 0.1410311238123582, \"LF1\": -0.028849191391443076, \"labels\": \"business\"}, {\"LF2\": 0.23781681882714242, \"LF1\": 0.2378970555858351, \"labels\": \"politics\"}, {\"LF2\": 0.12747552283596292, \"LF1\": -0.08975108145682686, \"labels\": \"entertainment\"}, {\"LF2\": 0.1291633767727908, \"LF1\": -0.04069108376887858, \"labels\": \"tech\"}, {\"LF2\": 0.14696777965675797, \"LF1\": 0.013077014516457429, \"labels\": \"politics\"}, {\"LF2\": 0.10067235311501017, \"LF1\": -0.028006522053733572, \"labels\": \"business\"}, {\"LF2\": 0.11300563942225685, \"LF1\": -0.03663373247198058, \"labels\": \"business\"}, {\"LF2\": 0.15271659803043655, \"LF1\": -0.0744843269750931, \"labels\": \"sport\"}, {\"LF2\": 0.11587787315426712, \"LF1\": -0.04561887428958131, \"labels\": \"tech\"}, {\"LF2\": 0.06166512078339418, \"LF1\": -0.029843722551275226, \"labels\": \"entertainment\"}, {\"LF2\": 0.11917440405156723, \"LF1\": -0.03604139361635789, \"labels\": \"business\"}, {\"LF2\": 0.08540918505656288, \"LF1\": -0.03833663097262808, \"labels\": \"entertainment\"}, {\"LF2\": 0.15136365211116262, \"LF1\": -0.10005721808546242, \"labels\": \"entertainment\"}, {\"LF2\": 0.12696406977376062, \"LF1\": -0.027816994821406756, \"labels\": \"business\"}, {\"LF2\": 0.21144813485528097, \"LF1\": -0.16203870621930236, \"labels\": \"tech\"}, {\"LF2\": 0.09064811001543198, \"LF1\": -0.044594817691944795, \"labels\": \"tech\"}]}}, {\"mode\": \"vega-lite\"});\n",
       "</script>"
      ],
      "text/plain": [
       "alt.Chart(...)"
      ]
     },
     "execution_count": 131,
     "metadata": {},
     "output_type": "execute_result"
    }
   ],
   "source": [
    "reducedTD2 = TruncatedSVD(n_components = 2).fit_transform(trainData2)\n",
    "vis = pd.DataFrame(reducedTD2, columns = ['LF2','LF1'])\n",
    "vis.insert(2, \"labels\", train_labelVis, True)\n",
    "alt.Chart(vis).mark_point().encode(x='LF1',y='LF2', color='labels')"
   ]
  },
  {
   "cell_type": "markdown",
   "id": "6cdfd17a",
   "metadata": {},
   "source": [
    "I will skip some of the visualizations, this latent feature plot is just here to show that we are actually making a difference. "
   ]
  },
  {
   "cell_type": "code",
   "execution_count": 133,
   "id": "a925d7c0",
   "metadata": {},
   "outputs": [
    {
     "name": "stdout",
     "output_type": "stream",
     "text": [
      "Epoch 10 reached after 0.425 seconds, error: 390.381873\n",
      "Epoch 20 reached after 0.818 seconds, error: 388.973934\n",
      "Epoch 30 reached after 1.227 seconds, error: 388.629343\n",
      "Epoch 40 reached after 1.635 seconds, error: 388.475780\n",
      "Epoch 50 reached after 2.061 seconds, error: 388.370233\n",
      "Epoch 60 reached after 2.454 seconds, error: 388.322485\n",
      "Epoch 70 reached after 2.848 seconds, error: 388.257099\n",
      "Epoch 80 reached after 3.274 seconds, error: 388.235342\n",
      "Epoch 10 reached after 0.141 seconds, error: 317.244234\n",
      "Epoch 20 reached after 0.272 seconds, error: 317.203466\n",
      "Epoch 30 reached after 0.410 seconds, error: 317.200023\n",
      "Epoch 10 reached after 0.063 seconds, error: 223.885167\n",
      "Epoch 20 reached after 0.110 seconds, error: 223.854325\n",
      "Epoch 30 reached after 0.163 seconds, error: 223.851742\n"
     ]
    }
   ],
   "source": [
    "NMF3 = NMF(n_components = 5, solver = 'mu', beta_loss = 'kullback-leibler', verbose = 1).fit(combineTestTrain_data2)\n",
    "WTrain3 = NMF3.transform(trainData2)\n",
    "WTest3 = NMF3.transform(testData2)"
   ]
  },
  {
   "cell_type": "code",
   "execution_count": 134,
   "id": "63630853",
   "metadata": {},
   "outputs": [],
   "source": [
    "TrainingSetPrediction3 = NMFPrediction(WTrain3)\n",
    "TestingSetPrediction3 = NMFPrediction(WTest3)"
   ]
  },
  {
   "cell_type": "code",
   "execution_count": 135,
   "id": "619f9663",
   "metadata": {},
   "outputs": [],
   "source": [
    "Prediction_ruleNMF3, accuracy = label_permute_compare(train_labelVis, TrainingSetPrediction3)"
   ]
  },
  {
   "cell_type": "code",
   "execution_count": 136,
   "id": "2cfbae9b",
   "metadata": {},
   "outputs": [
    {
     "name": "stdout",
     "output_type": "stream",
     "text": [
      "('tech', 'politics', 'sport', 'entertainment', 'business') 0.9409395973154362\n"
     ]
    }
   ],
   "source": [
    "print(Prediction_ruleNMF3, accuracy)"
   ]
  },
  {
   "cell_type": "code",
   "execution_count": 137,
   "id": "cb5b4b4b",
   "metadata": {},
   "outputs": [],
   "source": [
    "trainsetPredictedLabels3 = applyPredictionRule(Prediction_ruleNMF3, TrainingSetPrediction3)"
   ]
  },
  {
   "cell_type": "code",
   "execution_count": 138,
   "id": "88b18592",
   "metadata": {},
   "outputs": [
    {
     "data": {
      "text/plain": [
       "array([[286,   0,   7,   1,  42],\n",
       "       [  1, 263,   0,   0,   9],\n",
       "       [  3,   3, 260,   1,   7],\n",
       "       [  1,   0,   0, 345,   0],\n",
       "       [  0,  13,   0,   0, 248]], dtype=int64)"
      ]
     },
     "execution_count": 138,
     "metadata": {},
     "output_type": "execute_result"
    }
   ],
   "source": [
    "confusion_matrix(train_labelVis, trainsetPredictedLabels3)"
   ]
  },
  {
   "cell_type": "code",
   "execution_count": 139,
   "id": "356f4bb5",
   "metadata": {},
   "outputs": [
    {
     "name": "stdout",
     "output_type": "stream",
     "text": [
      "accuracy score:  0.9409395973154362\n"
     ]
    }
   ],
   "source": [
    "print(\"accuracy score: \", accuracy_score(train_labelVis, trainsetPredictedLabels3))"
   ]
  },
  {
   "cell_type": "code",
   "execution_count": 140,
   "id": "94b02616",
   "metadata": {},
   "outputs": [],
   "source": [
    "testsetPredictedLabels3 = applyPredictionRule(Prediction_ruleNMF3, TestingSetPrediction3)\n",
    "export3 = pd.DataFrame(test_raw.ArticleId)\n",
    "export3.insert(1, \"Category\", testsetPredictedLabels3, True)\n",
    "export3.to_csv(\"exportNMF3.csv\", index=False)"
   ]
  },
  {
   "cell_type": "markdown",
   "id": "f968c50e",
   "metadata": {},
   "source": [
    "The score we got: 0.94557"
   ]
  },
  {
   "cell_type": "code",
   "execution_count": 602,
   "id": "fd16d74f-a90c-4ec4-8aaf-2b7e12ddc6db",
   "metadata": {},
   "outputs": [
    {
     "data": {
      "text/plain": [
       "Text(0.5, 1.0, 'Accuracy for different vectorizations')"
      ]
     },
     "execution_count": 602,
     "metadata": {},
     "output_type": "execute_result"
    },
    {
     "data": {
      "image/png": "[encoded data removed]",
      "text/plain": [
       "<Figure size 640x480 with 1 Axes>"
      ]
     },
     "metadata": {},
     "output_type": "display_data"
    }
   ],
   "source": [
    "fig, ax = plt.subplots()\n",
    "ax.bar([\"Full Vectorization\", \"Truncated Vectorization\"], [accuracy_score(train_labelVis, trainsetPredictedLabels1), accuracy_score(train_labelVis, trainsetPredictedLabels3)])\n",
    "ax.set_ylabel('Accuracy')\n",
    "ax.set_xlabel('Vectorization')\n",
    "ax.set_title('Accuracy for different vectorizations')"
   ]
  },
  {
   "cell_type": "markdown",
   "id": "781865b5",
   "metadata": {},
   "source": [
    "Well we tried, turns out removing words (even if frequent) from being vectorized makes the prediction less accurate. "
   ]
  },
  {
   "cell_type": "markdown",
   "id": "716d55dd",
   "metadata": {},
   "source": [
    "## Compare to supervised learning"
   ]
  },
  {
   "cell_type": "markdown",
   "id": "4192a6be",
   "metadata": {},
   "source": [
    "There are a few models that could work here. \n",
    "\n",
    "Without using dimentionality reduction, we could use a random forest model or a SVM model, both of these are good with high dimentional data.\n",
    "Here I will attempt the random forest:\n",
    "\n",
    "Random forest is actually not that vulnerable to overfitting, even if we make our number of estimators huge we still don't see a rise in prediction error from overfitting. \n",
    "\n",
    "Be ware though, these random forest model will have hyperparameter tuning, and so they may take a bit to run. My computer's fan started going real fast once I started the process. "
   ]
  },
  {
   "cell_type": "markdown",
   "id": "23812340-a1e0-49a5-b488-7b79698285d2",
   "metadata": {
    "jp-MarkdownHeadingCollapsed": true
   },
   "source": [
    "### Random forest model"
   ]
  },
  {
   "cell_type": "code",
   "execution_count": 146,
   "id": "0a1e35f4",
   "metadata": {},
   "outputs": [],
   "source": [
    "from sklearn.model_selection import GridSearchCV\n",
    "from sklearn.ensemble import RandomForestClassifier\n",
    "from sklearn.preprocessing import LabelEncoder\n",
    "from sklearn.model_selection import train_test_split"
   ]
  },
  {
   "cell_type": "code",
   "execution_count": 147,
   "id": "b72802ec",
   "metadata": {},
   "outputs": [],
   "source": [
    "Enc = LabelEncoder()\n",
    "Enc.fit(train_labelVis)\n",
    "train_labelEnc = Enc.transform(train_labelVis)"
   ]
  },
  {
   "cell_type": "markdown",
   "id": "255c3bf0",
   "metadata": {},
   "source": [
    "I will do some hyperparameter tuning here to try to optimize this. "
   ]
  },
  {
   "cell_type": "code",
   "execution_count": 149,
   "id": "13871453",
   "metadata": {},
   "outputs": [
    {
     "data": {
      "text/plain": [
       "{'ccp_alpha': 0.0, 'criterion': 'gini'}"
      ]
     },
     "execution_count": 149,
     "metadata": {},
     "output_type": "execute_result"
    }
   ],
   "source": [
    "ccp_alpha = list(range(0,5))\n",
    "ccp_alpha = [(x/100) for x in ccp_alpha]\n",
    "RFParamGrid = {'ccp_alpha': ccp_alpha, 'criterion' : ['gini', 'entropy', 'log_loss']}\n",
    "RFGrid = GridSearchCV(estimator = RandomForestClassifier(n_estimators=500), param_grid = RFParamGrid, scoring = 'accuracy',\n",
    "                       cv = 5).fit(trainData, train_labelEnc)\n",
    "RFGrid.best_params_"
   ]
  },
  {
   "cell_type": "code",
   "execution_count": 150,
   "id": "2d3dc407",
   "metadata": {},
   "outputs": [
    {
     "name": "stdout",
     "output_type": "stream",
     "text": [
      "Cross Validation best accuracy score:  0.9510067114093961\n"
     ]
    }
   ],
   "source": [
    "print(\"Cross Validation best accuracy score: \", RFGrid.best_score_)"
   ]
  },
  {
   "cell_type": "code",
   "execution_count": 151,
   "id": "f925808f",
   "metadata": {},
   "outputs": [],
   "source": [
    "RFModel = RFGrid.best_estimator_"
   ]
  },
  {
   "cell_type": "code",
   "execution_count": 152,
   "id": "47c03f65",
   "metadata": {},
   "outputs": [],
   "source": [
    "RFPrediction = RFModel.predict(testData)"
   ]
  },
  {
   "cell_type": "code",
   "execution_count": 153,
   "id": "6433d130",
   "metadata": {},
   "outputs": [],
   "source": [
    "RFPrediction = Enc.inverse_transform(RFPrediction)"
   ]
  },
  {
   "cell_type": "code",
   "execution_count": 221,
   "id": "e72441be",
   "metadata": {},
   "outputs": [],
   "source": [
    "testsetPredictedLabels4 = RFPrediction\n",
    "export4 = pd.DataFrame(test_raw.ArticleId)\n",
    "export4.insert(1, \"Category\", testsetPredictedLabels4, True)\n",
    "export4.to_csv(\"exportRF1.csv\", index=False)"
   ]
  },
  {
   "cell_type": "markdown",
   "id": "942eed6c",
   "metadata": {},
   "source": [
    "score we got for this using random forest: 0.96326"
   ]
  },
  {
   "cell_type": "markdown",
   "id": "edba30b9",
   "metadata": {},
   "source": [
    "This score is virtually identical to what we got using NMF with KL loss.  "
   ]
  },
  {
   "cell_type": "markdown",
   "id": "3113a6b2-63b3-4d56-b968-4023433324a6",
   "metadata": {
    "jp-MarkdownHeadingCollapsed": true
   },
   "source": [
    "### So for this step let's suppose that we only have 50% of our originally labeled data available. "
   ]
  },
  {
   "cell_type": "code",
   "execution_count": 342,
   "id": "e71a6e61-a2e6-4b5d-b22e-685068f97503",
   "metadata": {},
   "outputs": [],
   "source": [
    "X_train05, xVoidTest, y_train05, yVoidTest = train_test_split(trainData, train_labelVis, train_size = 0.5, test_size = 0.5, random_state = 31)"
   ]
  },
  {
   "cell_type": "markdown",
   "id": "ff8dab53-6319-445b-9094-19828b38deda",
   "metadata": {},
   "source": [
    "Let'e start with NMF:"
   ]
  },
  {
   "cell_type": "markdown",
   "id": "b5c718be-356b-4bd1-935f-c963f6b66fbd",
   "metadata": {},
   "source": [
    "For this one I will fit the unsupervised model with just 50% of the original data. But i will compare fits when it comes to the entire train and test sets as before so we have a fair comparison. "
   ]
  },
  {
   "cell_type": "code",
   "execution_count": 346,
   "id": "ddf26497-2280-427c-94ff-51772bc3625d",
   "metadata": {},
   "outputs": [
    {
     "name": "stdout",
     "output_type": "stream",
     "text": [
      "Epoch 10 reached after 0.291 seconds, error: 216.464689\n",
      "Epoch 20 reached after 0.653 seconds, error: 214.743460\n",
      "Epoch 30 reached after 0.978 seconds, error: 214.374855\n",
      "Epoch 40 reached after 1.328 seconds, error: 214.197760\n",
      "Epoch 50 reached after 1.703 seconds, error: 214.095399\n",
      "Epoch 60 reached after 2.054 seconds, error: 214.026047\n",
      "Epoch 70 reached after 2.416 seconds, error: 213.987551\n",
      "Epoch 80 reached after 2.779 seconds, error: 213.944579\n",
      "Epoch 90 reached after 3.151 seconds, error: 213.906550\n",
      "Epoch 100 reached after 3.513 seconds, error: 213.883745\n"
     ]
    }
   ],
   "source": [
    "NMF05 = NMF(n_components = 5, solver = 'mu', beta_loss = 'kullback-leibler', verbose = 1).fit(X_train05)"
   ]
  },
  {
   "cell_type": "code",
   "execution_count": 347,
   "id": "a61a3bcf-8a4c-42a4-b6f2-9f7ad44c4c8e",
   "metadata": {},
   "outputs": [
    {
     "name": "stdout",
     "output_type": "stream",
     "text": [
      "Epoch 10 reached after 0.372 seconds, error: 328.759571\n",
      "Epoch 20 reached after 0.723 seconds, error: 328.703585\n",
      "Epoch 30 reached after 1.061 seconds, error: 328.699046\n",
      "Epoch 10 reached after 0.204 seconds, error: 250.294103\n",
      "Epoch 20 reached after 0.349 seconds, error: 250.275422\n"
     ]
    }
   ],
   "source": [
    "WTrain05 = NMF05.transform(trainData)\n",
    "WTest05 = NMF05.transform(testData)"
   ]
  },
  {
   "cell_type": "code",
   "execution_count": 348,
   "id": "f417f862-bdde-4691-b6e2-3ebc655bb9b5",
   "metadata": {},
   "outputs": [],
   "source": [
    "TrainingSetPrediction05 = NMFPrediction(WTrain05)\n",
    "TestingSetPrediction05 = NMFPrediction(WTest05)"
   ]
  },
  {
   "cell_type": "code",
   "execution_count": 349,
   "id": "3730bc02-cbec-4a73-b1fa-25efd2b94a86",
   "metadata": {},
   "outputs": [],
   "source": [
    "Prediction_ruleNMF05, accuracy05 = label_permute_compare(train_labelVis, TrainingSetPrediction05)"
   ]
  },
  {
   "cell_type": "code",
   "execution_count": 350,
   "id": "547a144c-565f-4776-8b3d-24a430dbeca1",
   "metadata": {},
   "outputs": [],
   "source": [
    "trainsetPredictedLabels05 = applyPredictionRule(Prediction_ruleNMF05, TrainingSetPrediction05)"
   ]
  },
  {
   "cell_type": "code",
   "execution_count": 351,
   "id": "d150f773-138d-4a69-9fd4-f3e8d1961dbb",
   "metadata": {},
   "outputs": [
    {
     "name": "stdout",
     "output_type": "stream",
     "text": [
      "('business', 'politics', 'sport', 'entertainment', 'tech') 0.8825503355704698\n"
     ]
    }
   ],
   "source": [
    "print(Prediction_ruleNMF05, accuracy05)"
   ]
  },
  {
   "cell_type": "code",
   "execution_count": 352,
   "id": "9469b341-aa92-48c6-9539-274c69a78e10",
   "metadata": {},
   "outputs": [
    {
     "data": {
      "text/plain": [
       "array([[306,  15,  11,   0,   4],\n",
       "       [ 18, 202,   4,  11,  38],\n",
       "       [ 25,   2, 240,   1,   6],\n",
       "       [  5,   1,   0, 340,   0],\n",
       "       [ 30,   3,   1,   0, 227]], dtype=int64)"
      ]
     },
     "execution_count": 352,
     "metadata": {},
     "output_type": "execute_result"
    }
   ],
   "source": [
    "confusion_matrix(train_labelVis, trainsetPredictedLabels05)"
   ]
  },
  {
   "cell_type": "code",
   "execution_count": 353,
   "id": "dfd07789-829b-4217-ae38-26541f5df70c",
   "metadata": {},
   "outputs": [
    {
     "name": "stdout",
     "output_type": "stream",
     "text": [
      "accuracy score:  0.8825503355704698\n"
     ]
    }
   ],
   "source": [
    "print(\"accuracy score: \", accuracy_score(train_labelVis, trainsetPredictedLabels05))"
   ]
  },
  {
   "cell_type": "markdown",
   "id": "5e410105-e144-40bd-9339-e085aac00559",
   "metadata": {},
   "source": [
    "We can see a reduction in accuracy of this prediction, not surprising because our fitting dataset is smaller. "
   ]
  },
  {
   "cell_type": "code",
   "execution_count": 355,
   "id": "a8f5e92e-a28d-4ddc-9b3b-28d1c905040b",
   "metadata": {},
   "outputs": [],
   "source": [
    "testsetPredictedLabels05 = applyPredictionRule(Prediction_ruleNMF05, TestingSetPrediction05)\n",
    "exportNMF05 = pd.DataFrame(test_raw.ArticleId)\n",
    "exportNMF05.insert(1, \"Category\", testsetPredictedLabels05, True)\n",
    "exportNMF05.to_csv(\"exportNMF05.csv\", index=False)"
   ]
  },
  {
   "cell_type": "markdown",
   "id": "972e5d09-e76d-460b-88d0-fddc836f8ff5",
   "metadata": {},
   "source": [
    "Here we get the score of 0.91836, this is a big reduction of accuracy"
   ]
  },
  {
   "cell_type": "markdown",
   "id": "68cac086-4b92-4a6a-a388-42fd1f8aa15c",
   "metadata": {},
   "source": [
    "Let's try to use supervised learning to see if the accuracy stays good with a smaller dataset. "
   ]
  },
  {
   "cell_type": "code",
   "execution_count": 463,
   "id": "24e5d95f-0ace-478b-840c-7a9f48f2449a",
   "metadata": {},
   "outputs": [],
   "source": [
    "Enc05 = LabelEncoder()\n",
    "Enc05.fit(y_train05)\n",
    "train_labelEnc05 = Enc05.transform(y_train05)"
   ]
  },
  {
   "cell_type": "code",
   "execution_count": 465,
   "id": "a02f74bd-3df4-40ef-a366-b50825a890ac",
   "metadata": {},
   "outputs": [
    {
     "data": {
      "text/plain": [
       "{'ccp_alpha': 0.01, 'criterion': 'gini'}"
      ]
     },
     "execution_count": 465,
     "metadata": {},
     "output_type": "execute_result"
    }
   ],
   "source": [
    "\n",
    "ccp_alpha = list(range(0,5))\n",
    "ccp_alpha = [(x/100) for x in ccp_alpha]\n",
    "RFParamGrid = {'ccp_alpha': ccp_alpha, 'criterion' : ['gini', 'entropy', 'log_loss']}\n",
    "RFGrid05 = GridSearchCV(estimator = RandomForestClassifier(n_estimators=500), param_grid = RFParamGrid, scoring = 'accuracy',\n",
    "                       cv = 5).fit(X_train05, train_labelEnc05)\n",
    "RFGrid05.best_params_\n",
    "\n",
    "#RFModel05 = RandomForestClassifier(n_estimators=500, criterion = 'gini', ccp_alpha = 0).fit(X_train05, train_labelEnc05)"
   ]
  },
  {
   "cell_type": "code",
   "execution_count": 466,
   "id": "07aadb03-09d3-480f-95a3-9892d6872aa7",
   "metadata": {},
   "outputs": [
    {
     "name": "stdout",
     "output_type": "stream",
     "text": [
      "Cross Validation best accuracy score:  0.9422818791946307\n"
     ]
    }
   ],
   "source": [
    "print(\"Cross Validation best accuracy score: \", RFGrid05.best_score_)"
   ]
  },
  {
   "cell_type": "code",
   "execution_count": 467,
   "id": "08d66653-f6c5-4861-b89b-746c0a6f9354",
   "metadata": {},
   "outputs": [],
   "source": [
    "RFModel05 = RFGrid05.best_estimator_"
   ]
  },
  {
   "cell_type": "code",
   "execution_count": 468,
   "id": "a1f22e5a-526d-41b1-9202-3cbd69d8d5e0",
   "metadata": {},
   "outputs": [],
   "source": [
    "RFPrediction05 = RFModel05.predict(testData)"
   ]
  },
  {
   "cell_type": "code",
   "execution_count": 469,
   "id": "c661e0ee-4d8e-4064-a81b-8d334bb75777",
   "metadata": {},
   "outputs": [],
   "source": [
    "RFPrediction05 = Enc05.inverse_transform(RFPrediction05)"
   ]
  },
  {
   "cell_type": "code",
   "execution_count": 470,
   "id": "75b000ed-246b-4f30-a96c-dcb1fb526332",
   "metadata": {},
   "outputs": [],
   "source": [
    "testsetPredictedLabels05 = RFPrediction05\n",
    "exportRF05 = pd.DataFrame(test_raw.ArticleId)\n",
    "exportRF05.insert(1, \"Category\", testsetPredictedLabels05, True)\n",
    "exportRF05.to_csv(\"exportRF05.csv\", index=False)"
   ]
  },
  {
   "cell_type": "markdown",
   "id": "0d51cd7b-ebee-4303-99cb-c81d366fbc5f",
   "metadata": {},
   "source": [
    "Here we get the score of 0.95238, a slight drop, but not horrible. "
   ]
  },
  {
   "cell_type": "markdown",
   "id": "ba2fcaa2-0ddf-4042-a641-3a5db9604258",
   "metadata": {
    "jp-MarkdownHeadingCollapsed": true
   },
   "source": [
    "### Let's now try 20%"
   ]
  },
  {
   "cell_type": "code",
   "execution_count": 473,
   "id": "cf76d07f-6e20-459e-a925-379b2e148430",
   "metadata": {},
   "outputs": [],
   "source": [
    "X_train02, xVoidTest, y_train02, yVoidTest = train_test_split(trainData, train_labelVis, train_size = 0.2, test_size = 0.8, random_state = 29)"
   ]
  },
  {
   "cell_type": "code",
   "execution_count": 474,
   "id": "848fd80d-fb40-45cf-9eb8-3a93333bc3ad",
   "metadata": {},
   "outputs": [
    {
     "name": "stdout",
     "output_type": "stream",
     "text": [
      "Epoch 10 reached after 0.111 seconds, error: 129.246185\n",
      "Epoch 20 reached after 0.192 seconds, error: 128.713017\n",
      "Epoch 30 reached after 0.290 seconds, error: 128.625522\n",
      "Epoch 40 reached after 0.390 seconds, error: 128.589114\n",
      "Epoch 50 reached after 0.493 seconds, error: 128.569142\n",
      "Epoch 60 reached after 0.573 seconds, error: 128.559936\n"
     ]
    }
   ],
   "source": [
    "NMF02 = NMF(n_components = 5, solver = 'mu', beta_loss = 'kullback-leibler', verbose = 1).fit(X_train02)"
   ]
  },
  {
   "cell_type": "code",
   "execution_count": 475,
   "id": "0ead4b5c-3b62-4aa1-8787-c350a5fb148c",
   "metadata": {},
   "outputs": [
    {
     "name": "stdout",
     "output_type": "stream",
     "text": [
      "Epoch 10 reached after 0.382 seconds, error: 360.919581\n",
      "Epoch 20 reached after 0.734 seconds, error: 360.896533\n",
      "Epoch 10 reached after 0.190 seconds, error: 266.471812\n",
      "Epoch 20 reached after 0.371 seconds, error: 266.461133\n"
     ]
    }
   ],
   "source": [
    "WTrain02 = NMF02.transform(trainData)\n",
    "WTest02 = NMF02.transform(testData)"
   ]
  },
  {
   "cell_type": "code",
   "execution_count": 476,
   "id": "ae30e71b-dcb0-4809-8988-7d7d577a2e52",
   "metadata": {},
   "outputs": [],
   "source": [
    "TrainingSetPrediction02 = NMFPrediction(WTrain02)\n",
    "TestingSetPrediction02 = NMFPrediction(WTest02)"
   ]
  },
  {
   "cell_type": "code",
   "execution_count": 477,
   "id": "4e4ace00-27ea-4b96-a8b2-8b20a1a40ccd",
   "metadata": {},
   "outputs": [],
   "source": [
    "Prediction_ruleNMF02, accuracy02 = label_permute_compare(train_labelVis, TrainingSetPrediction02)"
   ]
  },
  {
   "cell_type": "code",
   "execution_count": 478,
   "id": "e423e7d3-23e5-4e1f-94b0-41223f5e54ab",
   "metadata": {},
   "outputs": [],
   "source": [
    "trainsetPredictedLabels02 = applyPredictionRule(Prediction_ruleNMF02, TrainingSetPrediction02)"
   ]
  },
  {
   "cell_type": "code",
   "execution_count": 479,
   "id": "b1ccac58-d55e-476c-90ba-178157fc4bb5",
   "metadata": {},
   "outputs": [
    {
     "name": "stdout",
     "output_type": "stream",
     "text": [
      "('politics', 'sport', 'business', 'tech', 'entertainment') 0.8684563758389262\n"
     ]
    }
   ],
   "source": [
    "print(Prediction_ruleNMF02, accuracy02)"
   ]
  },
  {
   "cell_type": "code",
   "execution_count": 480,
   "id": "4c92b783-18ef-45d9-ab43-69e55e781d53",
   "metadata": {},
   "outputs": [
    {
     "data": {
      "text/plain": [
       "array([[289,   0,  40,   0,   7],\n",
       "       [  1, 204,  35,  23,  10],\n",
       "       [  3,   1, 268,   0,   2],\n",
       "       [  0,   0,  51, 290,   5],\n",
       "       [  2,   1,  13,   2, 243]], dtype=int64)"
      ]
     },
     "execution_count": 480,
     "metadata": {},
     "output_type": "execute_result"
    }
   ],
   "source": [
    "confusion_matrix(train_labelVis, trainsetPredictedLabels02)"
   ]
  },
  {
   "cell_type": "code",
   "execution_count": 481,
   "id": "63755e1d-b771-4724-9fbe-f3b20951a209",
   "metadata": {},
   "outputs": [
    {
     "name": "stdout",
     "output_type": "stream",
     "text": [
      "accuracy score:  0.8684563758389262\n"
     ]
    }
   ],
   "source": [
    "print(\"accuracy score: \", accuracy_score(train_labelVis, trainsetPredictedLabels02))"
   ]
  },
  {
   "cell_type": "code",
   "execution_count": 482,
   "id": "936ba34f-a2d9-4030-a308-535766f1be0d",
   "metadata": {},
   "outputs": [],
   "source": [
    "testsetPredictedLabels02 = applyPredictionRule(Prediction_ruleNMF02, TestingSetPrediction02)\n",
    "export7 = pd.DataFrame(test_raw.ArticleId)\n",
    "export7.insert(1, \"Category\", testsetPredictedLabels02, True)\n",
    "export7.to_csv(\"exportNMF8.csv\", index=False)"
   ]
  },
  {
   "cell_type": "markdown",
   "id": "a4c53b78-6b59-440f-a1fe-35115e1a3d16",
   "metadata": {},
   "source": [
    "We get a score of 0.89659 here. Another drop in accuracy"
   ]
  },
  {
   "cell_type": "code",
   "execution_count": 446,
   "id": "557d2edd-1988-44ec-aa7d-aa3d4636175e",
   "metadata": {},
   "outputs": [],
   "source": [
    "Enc02 = LabelEncoder()\n",
    "Enc02.fit(y_train02)\n",
    "train_labelEnc02 = Enc02.transform(y_train02)"
   ]
  },
  {
   "cell_type": "code",
   "execution_count": 484,
   "id": "05c5d2fe-0666-46b8-8723-677f280a0e4e",
   "metadata": {},
   "outputs": [
    {
     "data": {
      "text/plain": [
       "{'ccp_alpha': 0.0, 'criterion': 'gini'}"
      ]
     },
     "execution_count": 484,
     "metadata": {},
     "output_type": "execute_result"
    }
   ],
   "source": [
    "\n",
    "ccp_alpha = list(range(0,5))\n",
    "ccp_alpha = [(x/100) for x in ccp_alpha]\n",
    "RFParamGrid = {'ccp_alpha': ccp_alpha, 'criterion' : ['gini', 'entropy', 'log_loss']}\n",
    "RFGrid02 = GridSearchCV(estimator = RandomForestClassifier(n_estimators=500), param_grid = RFParamGrid, scoring = 'accuracy',\n",
    "                       cv = 5).fit(X_train02, train_labelEnc02)\n",
    "RFGrid02.best_params_\n",
    "\n",
    "#RFModel02 = RandomForestClassifier(n_estimators=500, criterion = 'gini', ccp_alpha = 0).fit(X_train02, train_labelEnc02)"
   ]
  },
  {
   "cell_type": "code",
   "execution_count": 485,
   "id": "e3bde512-ba13-49a9-98c2-8e22bfe0abec",
   "metadata": {},
   "outputs": [
    {
     "name": "stdout",
     "output_type": "stream",
     "text": [
      "Cross Validation best accuracy score:  0.9196610169491526\n"
     ]
    }
   ],
   "source": [
    "print(\"Cross Validation best accuracy score: \", RFGrid02.best_score_)"
   ]
  },
  {
   "cell_type": "code",
   "execution_count": 486,
   "id": "9660210d-64eb-4053-ad4d-233f1517ce43",
   "metadata": {},
   "outputs": [],
   "source": [
    "RFModel02 = RFGrid02.best_estimator_"
   ]
  },
  {
   "cell_type": "code",
   "execution_count": 487,
   "id": "ed0e99de-ba36-4009-8263-5ef33ad69b97",
   "metadata": {},
   "outputs": [],
   "source": [
    "RFPrediction02 = RFModel02.predict(testData)"
   ]
  },
  {
   "cell_type": "code",
   "execution_count": 488,
   "id": "8136168d-8cdc-4e35-bafd-19374491f85d",
   "metadata": {},
   "outputs": [],
   "source": [
    "RFPrediction02 = Enc02.inverse_transform(RFPrediction02)"
   ]
  },
  {
   "cell_type": "code",
   "execution_count": 489,
   "id": "bfb974f8-1b6e-4865-a77b-5533c0bc50d5",
   "metadata": {},
   "outputs": [],
   "source": [
    "testsetPredictedLabels02 = RFPrediction02\n",
    "exportRF02 = pd.DataFrame(test_raw.ArticleId)\n",
    "exportRF02.insert(1, \"Category\", testsetPredictedLabels02, True)\n",
    "exportRF02.to_csv(\"exportRF02.csv\", index=False)"
   ]
  },
  {
   "cell_type": "markdown",
   "id": "9a0a8b11-04ee-4455-8d2c-73719b850e66",
   "metadata": {},
   "source": [
    "That gave us a score of 0.91428, worse scores, but still better than unsupervised"
   ]
  },
  {
   "cell_type": "markdown",
   "id": "23d38035-15c2-41e5-b4dc-b45da9fd0802",
   "metadata": {
    "jp-MarkdownHeadingCollapsed": true
   },
   "source": [
    "### Let's now try 10%"
   ]
  },
  {
   "cell_type": "code",
   "execution_count": 544,
   "id": "a57034fd-3c77-4432-b6da-f7151fa82730",
   "metadata": {},
   "outputs": [],
   "source": [
    "X_train01, xVoidTest, y_train01, yVoidTest = train_test_split(trainData, train_labelVis, train_size = 0.1, test_size = 0.9, random_state = 11)"
   ]
  },
  {
   "cell_type": "code",
   "execution_count": 546,
   "id": "4acb4875-0ec9-42d7-b09d-f05fa02a88c3",
   "metadata": {},
   "outputs": [
    {
     "name": "stdout",
     "output_type": "stream",
     "text": [
      "Epoch 10 reached after 0.063 seconds, error: 86.903255\n",
      "Epoch 20 reached after 0.126 seconds, error: 86.441083\n",
      "Epoch 30 reached after 0.205 seconds, error: 86.387914\n",
      "Epoch 40 reached after 0.267 seconds, error: 86.375074\n",
      "Epoch 50 reached after 0.315 seconds, error: 86.368498\n"
     ]
    }
   ],
   "source": [
    "NMF01 = NMF(n_components = 5, solver = 'mu', beta_loss = 'kullback-leibler', verbose = 1).fit(X_train01)"
   ]
  },
  {
   "cell_type": "code",
   "execution_count": 547,
   "id": "998bc000-d4d9-4128-bde2-39f176665e4a",
   "metadata": {},
   "outputs": [
    {
     "name": "stdout",
     "output_type": "stream",
     "text": [
      "Epoch 10 reached after 0.383 seconds, error: 390.313526\n",
      "Epoch 20 reached after 0.714 seconds, error: 390.303018\n",
      "Epoch 10 reached after 0.189 seconds, error: 283.377197\n",
      "Epoch 20 reached after 0.362 seconds, error: 283.371633\n"
     ]
    }
   ],
   "source": [
    "WTrain01 = NMF01.transform(trainData)\n",
    "WTest01 = NMF01.transform(testData)"
   ]
  },
  {
   "cell_type": "code",
   "execution_count": 549,
   "id": "15cfc8a6-42a9-4987-9fd0-9dbfbc47a20e",
   "metadata": {},
   "outputs": [],
   "source": [
    "TrainingSetPrediction01 = NMFPrediction(WTrain01)\n",
    "TestingSetPrediction01 = NMFPrediction(WTest01)"
   ]
  },
  {
   "cell_type": "code",
   "execution_count": 550,
   "id": "25b136c2-ae52-4f45-b68e-abea8cbbeb3d",
   "metadata": {},
   "outputs": [
    {
     "name": "stdout",
     "output_type": "stream",
     "text": [
      "('entertainment', 'sport', 'tech', 'politics', 'business') 0.7355704697986577\n"
     ]
    }
   ],
   "source": [
    "Prediction_ruleNMF01, accuracy01 = label_permute_compare(train_labelVis, TrainingSetPrediction01)\n",
    "trainsetPredictedLabels01 = applyPredictionRule(Prediction_ruleNMF01, TrainingSetPrediction01)\n",
    "print(Prediction_ruleNMF01, accuracy01)"
   ]
  },
  {
   "cell_type": "code",
   "execution_count": 551,
   "id": "e0a6fbd2-3480-4f00-bee8-9b281b9b4508",
   "metadata": {},
   "outputs": [
    {
     "data": {
      "text/plain": [
       "array([[289,   0,  40,   0,   7],\n",
       "       [  1, 204,  35,  23,  10],\n",
       "       [  3,   1, 268,   0,   2],\n",
       "       [  0,   0,  51, 290,   5],\n",
       "       [  2,   1,  13,   2, 243]], dtype=int64)"
      ]
     },
     "execution_count": 551,
     "metadata": {},
     "output_type": "execute_result"
    }
   ],
   "source": [
    "confusion_matrix(train_labelVis, trainsetPredictedLabels02)"
   ]
  },
  {
   "cell_type": "code",
   "execution_count": 552,
   "id": "fd895eb5-75df-4564-832a-25aeea213c1a",
   "metadata": {},
   "outputs": [
    {
     "name": "stdout",
     "output_type": "stream",
     "text": [
      "accuracy score:  0.7355704697986577\n"
     ]
    }
   ],
   "source": [
    "print(\"accuracy score: \", accuracy_score(train_labelVis, trainsetPredictedLabels01))"
   ]
  },
  {
   "cell_type": "code",
   "execution_count": 553,
   "id": "74bbe066-eaac-4bf0-a685-1b1a4ee74c60",
   "metadata": {},
   "outputs": [],
   "source": [
    "testsetPredictedLabels01 = applyPredictionRule(Prediction_ruleNMF01, TestingSetPrediction01)\n",
    "export01 = pd.DataFrame(test_raw.ArticleId)\n",
    "export01.insert(1, \"Category\", testsetPredictedLabels01, True)\n",
    "export01.to_csv(\"exportNMF01.csv\", index=False)"
   ]
  },
  {
   "cell_type": "markdown",
   "id": "fe9868f1-0b80-4310-86d1-1fd261ec1e66",
   "metadata": {},
   "source": [
    "That gave us a score of 0.74421, this is really starting to fall off"
   ]
  },
  {
   "cell_type": "code",
   "execution_count": 557,
   "id": "36930e83-cd4e-41aa-bfce-c523e40ee15a",
   "metadata": {},
   "outputs": [],
   "source": [
    "Enc01 = LabelEncoder()\n",
    "Enc01.fit(y_train01)\n",
    "train_labelEnc01 = Enc01.transform(y_train01)"
   ]
  },
  {
   "cell_type": "code",
   "execution_count": 563,
   "id": "dab23efe-bcde-4943-bd4c-229e26e3c6ca",
   "metadata": {},
   "outputs": [
    {
     "data": {
      "text/plain": [
       "{'ccp_alpha': 0.0, 'criterion': 'gini'}"
      ]
     },
     "execution_count": 563,
     "metadata": {},
     "output_type": "execute_result"
    }
   ],
   "source": [
    "ccp_alpha = list(range(0,5))\n",
    "ccp_alpha = [(x/100) for x in ccp_alpha]\n",
    "RFParamGrid = {'ccp_alpha': ccp_alpha, 'criterion' : ['gini', 'entropy', 'log_loss']}\n",
    "RFGrid01 = GridSearchCV(estimator = RandomForestClassifier(n_estimators=500), param_grid = RFParamGrid, scoring = 'accuracy',\n",
    "                       cv = 5).fit(X_train01, train_labelEnc01)\n",
    "RFGrid01.best_params_"
   ]
  },
  {
   "cell_type": "code",
   "execution_count": 564,
   "id": "f84658c5-a18d-4f83-85a4-f884c0f9df92",
   "metadata": {},
   "outputs": [
    {
     "name": "stdout",
     "output_type": "stream",
     "text": [
      "Cross Validation best accuracy score:  0.8595402298850574\n"
     ]
    }
   ],
   "source": [
    "print(\"Cross Validation best accuracy score: \", RFGrid01.best_score_)"
   ]
  },
  {
   "cell_type": "code",
   "execution_count": 565,
   "id": "9147dc13-bea9-4876-bd26-99b66e332860",
   "metadata": {},
   "outputs": [],
   "source": [
    "RFModel01 = RFGrid01.best_estimator_\n",
    "RFPrediction01 = RFModel01.predict(testData)\n",
    "RFPrediction01 = Enc01.inverse_transform(RFPrediction01)\n",
    "testsetPredictedLabels01 = RFPrediction01\n",
    "exportRF01 = pd.DataFrame(test_raw.ArticleId)\n",
    "exportRF01.insert(1, \"Category\", testsetPredictedLabels01, True)\n",
    "exportRF01.to_csv(\"exportRF01.csv\", index=False)"
   ]
  },
  {
   "cell_type": "markdown",
   "id": "c96cf538-ac5f-44e7-90c9-8a01b714373d",
   "metadata": {},
   "source": [
    "That gave us a kaggle score of 0.87210, still holding reasonably high. "
   ]
  },
  {
   "cell_type": "markdown",
   "id": "5da629a2-26bf-4d9c-b115-24a822e90cf4",
   "metadata": {},
   "source": [
    "### Visualize the result of comparing with supervised learning"
   ]
  },
  {
   "cell_type": "markdown",
   "id": "7e364339-587d-4ea9-86e8-28059b585eb5",
   "metadata": {},
   "source": [
    "#### Training set"
   ]
  },
  {
   "cell_type": "code",
   "execution_count": 617,
   "id": "9febde98-b517-4c8b-aeb1-7502589dd2fa",
   "metadata": {},
   "outputs": [],
   "source": [
    "plotDF = pd.DataFrame()\n",
    "plotDF.insert(0, 'data_size', [1,1,0.5,0.5,0.2,0.2,0.1,0.1], True)\n",
    "plotDF.insert(1, 'prediction_Accuracy', [0.9510067114093961,0.9523489932885906, 0.9422818791946307,0.8825503355704698, 0.9196610169491526,0.8684563758389262, 0.8595402298850574, 0.7355704697986577], True)\n",
    "plotDF.insert(2, 'type', ['RF', 'NMF', 'RF', 'NMF', 'RF', 'NMF', 'RF', 'NMF'], True)"
   ]
  },
  {
   "cell_type": "code",
   "execution_count": 619,
   "id": "54b63a7b-2b5d-43cc-a644-a53af9409fde",
   "metadata": {},
   "outputs": [
    {
     "name": "stderr",
     "output_type": "stream",
     "text": [
      "C:\\Users\\Johns\\AppData\\Local\\anaconda3\\Lib\\site-packages\\altair\\utils\\core.py:395: FutureWarning: the convert_dtype parameter is deprecated and will be removed in a future version.  Do ``ser.astype(object).apply()`` instead if you want ``convert_dtype=False``.\n",
      "  col = df[col_name].apply(to_list_if_array, convert_dtype=False)\n"
     ]
    },
    {
     "data": {
      "text/html": [
       "\n",
       "<style>\n",
       "  #altair-viz-72c31cc4893146e6b362b41215ce3b4a.vega-embed {\n",
       "    width: 100%;\n",
       "    display: flex;\n",
       "  }\n",
       "\n",
       "  #altair-viz-72c31cc4893146e6b362b41215ce3b4a.vega-embed details,\n",
       "  #altair-viz-72c31cc4893146e6b362b41215ce3b4a.vega-embed details summary {\n",
       "    position: relative;\n",
       "  }\n",
       "</style>\n",
       "<div id=\"altair-viz-72c31cc4893146e6b362b41215ce3b4a\"></div>\n",
       "<script type=\"text/javascript\">\n",
       "  var VEGA_DEBUG = (typeof VEGA_DEBUG == \"undefined\") ? {} : VEGA_DEBUG;\n",
       "  (function(spec, embedOpt){\n",
       "    let outputDiv = document.currentScript.previousElementSibling;\n",
       "    if (outputDiv.id !== \"altair-viz-72c31cc4893146e6b362b41215ce3b4a\") {\n",
       "      outputDiv = document.getElementById(\"altair-viz-72c31cc4893146e6b362b41215ce3b4a\");\n",
       "    }\n",
       "    const paths = {\n",
       "      \"vega\": \"https://cdn.jsdelivr.net/npm/vega@5?noext\",\n",
       "      \"vega-lib\": \"https://cdn.jsdelivr.net/npm/vega-lib?noext\",\n",
       "      \"vega-lite\": \"https://cdn.jsdelivr.net/npm/vega-lite@5.8.0?noext\",\n",
       "      \"vega-embed\": \"https://cdn.jsdelivr.net/npm/vega-embed@6?noext\",\n",
       "    };\n",
       "\n",
       "    function maybeLoadScript(lib, version) {\n",
       "      var key = `${lib.replace(\"-\", \"\")}_version`;\n",
       "      return (VEGA_DEBUG[key] == version) ?\n",
       "        Promise.resolve(paths[lib]) :\n",
       "        new Promise(function(resolve, reject) {\n",
       "          var s = document.createElement('script');\n",
       "          document.getElementsByTagName(\"head\")[0].appendChild(s);\n",
       "          s.async = true;\n",
       "          s.onload = () => {\n",
       "            VEGA_DEBUG[key] = version;\n",
       "            return resolve(paths[lib]);\n",
       "          };\n",
       "          s.onerror = () => reject(`Error loading script: ${paths[lib]}`);\n",
       "          s.src = paths[lib];\n",
       "        });\n",
       "    }\n",
       "\n",
       "    function showError(err) {\n",
       "      outputDiv.innerHTML = `<div class=\"error\" style=\"color:red;\">${err}</div>`;\n",
       "      throw err;\n",
       "    }\n",
       "\n",
       "    function displayChart(vegaEmbed) {\n",
       "      vegaEmbed(outputDiv, spec, embedOpt)\n",
       "        .catch(err => showError(`Javascript Error: ${err.message}<br>This usually means there's a typo in your chart specification. See the javascript console for the full traceback.`));\n",
       "    }\n",
       "\n",
       "    if(typeof define === \"function\" && define.amd) {\n",
       "      requirejs.config({paths});\n",
       "      require([\"vega-embed\"], displayChart, err => showError(`Error loading script: ${err.message}`));\n",
       "    } else {\n",
       "      maybeLoadScript(\"vega\", \"5\")\n",
       "        .then(() => maybeLoadScript(\"vega-lite\", \"5.8.0\"))\n",
       "        .then(() => maybeLoadScript(\"vega-embed\", \"6\"))\n",
       "        .catch(showError)\n",
       "        .then(() => displayChart(vegaEmbed));\n",
       "    }\n",
       "  })({\"config\": {\"view\": {\"continuousWidth\": 300, \"continuousHeight\": 300}}, \"data\": {\"name\": \"data-1b9b1e4f903d6506ac39465b83ac63b0\"}, \"mark\": {\"type\": \"line\"}, \"encoding\": {\"color\": {\"field\": \"type\", \"type\": \"nominal\"}, \"x\": {\"field\": \"data_size\", \"type\": \"quantitative\"}, \"y\": {\"field\": \"prediction_Accuracy\", \"type\": \"quantitative\"}}, \"$schema\": \"https://vega.github.io/schema/vega-lite/v5.8.0.json\", \"datasets\": {\"data-1b9b1e4f903d6506ac39465b83ac63b0\": [{\"data_size\": 1.0, \"prediction_Accuracy\": 0.9510067114093961, \"type\": \"RF\"}, {\"data_size\": 1.0, \"prediction_Accuracy\": 0.9523489932885906, \"type\": \"NMF\"}, {\"data_size\": 0.5, \"prediction_Accuracy\": 0.9422818791946307, \"type\": \"RF\"}, {\"data_size\": 0.5, \"prediction_Accuracy\": 0.8825503355704698, \"type\": \"NMF\"}, {\"data_size\": 0.2, \"prediction_Accuracy\": 0.9196610169491526, \"type\": \"RF\"}, {\"data_size\": 0.2, \"prediction_Accuracy\": 0.8684563758389262, \"type\": \"NMF\"}, {\"data_size\": 0.1, \"prediction_Accuracy\": 0.8595402298850574, \"type\": \"RF\"}, {\"data_size\": 0.1, \"prediction_Accuracy\": 0.7355704697986577, \"type\": \"NMF\"}]}}, {\"mode\": \"vega-lite\"});\n",
       "</script>"
      ],
      "text/plain": [
       "alt.Chart(...)"
      ]
     },
     "execution_count": 619,
     "metadata": {},
     "output_type": "execute_result"
    }
   ],
   "source": [
    "alt.Chart(plotDF).mark_line().encode(x='data_size',y='prediction_Accuracy', color='type')"
   ]
  },
  {
   "cell_type": "markdown",
   "id": "c3a3df25-2a6a-4702-b74e-8ad677c70449",
   "metadata": {},
   "source": [
    "This is the plot for the training set, let's see what about the testing set:"
   ]
  },
  {
   "cell_type": "markdown",
   "id": "50f0f9ac-1a19-4b4d-8797-344a1cfcc94f",
   "metadata": {},
   "source": [
    "#### Testing set"
   ]
  },
  {
   "cell_type": "code",
   "execution_count": 591,
   "id": "ed834cf5-8043-4c41-aa33-489502c4b410",
   "metadata": {},
   "outputs": [],
   "source": [
    "plotDF = pd.DataFrame()\n",
    "plotDF.insert(0, 'data_size', [1,1,0.5,0.5,0.2,0.2,0.1,0.1], True)\n",
    "plotDF.insert(1, 'prediction_Accuracy', [0.96326,0.96462, 0.95238,0.91836, 0.91428,0.89659, 0.87210, 0.74421], True)\n",
    "plotDF.insert(2, 'type', ['RF', 'NMF', 'RF', 'NMF', 'RF', 'NMF', 'RF', 'NMF'], True)"
   ]
  },
  {
   "cell_type": "code",
   "execution_count": 593,
   "id": "e4844682-33d7-4e96-8924-b20e0664a13b",
   "metadata": {},
   "outputs": [
    {
     "data": {
      "text/html": [
       "<div>\n",
       "<style scoped>\n",
       "    .dataframe tbody tr th:only-of-type {\n",
       "        vertical-align: middle;\n",
       "    }\n",
       "\n",
       "    .dataframe tbody tr th {\n",
       "        vertical-align: top;\n",
       "    }\n",
       "\n",
       "    .dataframe thead th {\n",
       "        text-align: right;\n",
       "    }\n",
       "</style>\n",
       "<table border=\"1\" class=\"dataframe\">\n",
       "  <thead>\n",
       "    <tr style=\"text-align: right;\">\n",
       "      <th></th>\n",
       "      <th>data_size</th>\n",
       "      <th>prediction_Accuracy</th>\n",
       "      <th>type</th>\n",
       "    </tr>\n",
       "  </thead>\n",
       "  <tbody>\n",
       "    <tr>\n",
       "      <th>0</th>\n",
       "      <td>1.0</td>\n",
       "      <td>0.96326</td>\n",
       "      <td>RF</td>\n",
       "    </tr>\n",
       "    <tr>\n",
       "      <th>1</th>\n",
       "      <td>1.0</td>\n",
       "      <td>0.96462</td>\n",
       "      <td>NMF</td>\n",
       "    </tr>\n",
       "    <tr>\n",
       "      <th>2</th>\n",
       "      <td>0.5</td>\n",
       "      <td>0.95238</td>\n",
       "      <td>RF</td>\n",
       "    </tr>\n",
       "    <tr>\n",
       "      <th>3</th>\n",
       "      <td>0.5</td>\n",
       "      <td>0.91836</td>\n",
       "      <td>NMF</td>\n",
       "    </tr>\n",
       "    <tr>\n",
       "      <th>4</th>\n",
       "      <td>0.2</td>\n",
       "      <td>0.91428</td>\n",
       "      <td>RF</td>\n",
       "    </tr>\n",
       "  </tbody>\n",
       "</table>\n",
       "</div>"
      ],
      "text/plain": [
       "   data_size  prediction_Accuracy type\n",
       "0        1.0              0.96326   RF\n",
       "1        1.0              0.96462  NMF\n",
       "2        0.5              0.95238   RF\n",
       "3        0.5              0.91836  NMF\n",
       "4        0.2              0.91428   RF"
      ]
     },
     "execution_count": 593,
     "metadata": {},
     "output_type": "execute_result"
    }
   ],
   "source": [
    "plotDF.head()"
   ]
  },
  {
   "cell_type": "code",
   "execution_count": 595,
   "id": "b97011ff-af5f-4639-a526-fef982ae79a2",
   "metadata": {},
   "outputs": [
    {
     "name": "stderr",
     "output_type": "stream",
     "text": [
      "C:\\Users\\Johns\\AppData\\Local\\anaconda3\\Lib\\site-packages\\altair\\utils\\core.py:395: FutureWarning: the convert_dtype parameter is deprecated and will be removed in a future version.  Do ``ser.astype(object).apply()`` instead if you want ``convert_dtype=False``.\n",
      "  col = df[col_name].apply(to_list_if_array, convert_dtype=False)\n"
     ]
    },
    {
     "data": {
      "text/html": [
       "\n",
       "<style>\n",
       "  #altair-viz-7d565326a64e4aa3a21028e731bd0ff9.vega-embed {\n",
       "    width: 100%;\n",
       "    display: flex;\n",
       "  }\n",
       "\n",
       "  #altair-viz-7d565326a64e4aa3a21028e731bd0ff9.vega-embed details,\n",
       "  #altair-viz-7d565326a64e4aa3a21028e731bd0ff9.vega-embed details summary {\n",
       "    position: relative;\n",
       "  }\n",
       "</style>\n",
       "<div id=\"altair-viz-7d565326a64e4aa3a21028e731bd0ff9\"></div>\n",
       "<script type=\"text/javascript\">\n",
       "  var VEGA_DEBUG = (typeof VEGA_DEBUG == \"undefined\") ? {} : VEGA_DEBUG;\n",
       "  (function(spec, embedOpt){\n",
       "    let outputDiv = document.currentScript.previousElementSibling;\n",
       "    if (outputDiv.id !== \"altair-viz-7d565326a64e4aa3a21028e731bd0ff9\") {\n",
       "      outputDiv = document.getElementById(\"altair-viz-7d565326a64e4aa3a21028e731bd0ff9\");\n",
       "    }\n",
       "    const paths = {\n",
       "      \"vega\": \"https://cdn.jsdelivr.net/npm/vega@5?noext\",\n",
       "      \"vega-lib\": \"https://cdn.jsdelivr.net/npm/vega-lib?noext\",\n",
       "      \"vega-lite\": \"https://cdn.jsdelivr.net/npm/vega-lite@5.8.0?noext\",\n",
       "      \"vega-embed\": \"https://cdn.jsdelivr.net/npm/vega-embed@6?noext\",\n",
       "    };\n",
       "\n",
       "    function maybeLoadScript(lib, version) {\n",
       "      var key = `${lib.replace(\"-\", \"\")}_version`;\n",
       "      return (VEGA_DEBUG[key] == version) ?\n",
       "        Promise.resolve(paths[lib]) :\n",
       "        new Promise(function(resolve, reject) {\n",
       "          var s = document.createElement('script');\n",
       "          document.getElementsByTagName(\"head\")[0].appendChild(s);\n",
       "          s.async = true;\n",
       "          s.onload = () => {\n",
       "            VEGA_DEBUG[key] = version;\n",
       "            return resolve(paths[lib]);\n",
       "          };\n",
       "          s.onerror = () => reject(`Error loading script: ${paths[lib]}`);\n",
       "          s.src = paths[lib];\n",
       "        });\n",
       "    }\n",
       "\n",
       "    function showError(err) {\n",
       "      outputDiv.innerHTML = `<div class=\"error\" style=\"color:red;\">${err}</div>`;\n",
       "      throw err;\n",
       "    }\n",
       "\n",
       "    function displayChart(vegaEmbed) {\n",
       "      vegaEmbed(outputDiv, spec, embedOpt)\n",
       "        .catch(err => showError(`Javascript Error: ${err.message}<br>This usually means there's a typo in your chart specification. See the javascript console for the full traceback.`));\n",
       "    }\n",
       "\n",
       "    if(typeof define === \"function\" && define.amd) {\n",
       "      requirejs.config({paths});\n",
       "      require([\"vega-embed\"], displayChart, err => showError(`Error loading script: ${err.message}`));\n",
       "    } else {\n",
       "      maybeLoadScript(\"vega\", \"5\")\n",
       "        .then(() => maybeLoadScript(\"vega-lite\", \"5.8.0\"))\n",
       "        .then(() => maybeLoadScript(\"vega-embed\", \"6\"))\n",
       "        .catch(showError)\n",
       "        .then(() => displayChart(vegaEmbed));\n",
       "    }\n",
       "  })({\"config\": {\"view\": {\"continuousWidth\": 300, \"continuousHeight\": 300}}, \"data\": {\"name\": \"data-a564fa99e25959120b102a1ca5d00f5e\"}, \"mark\": {\"type\": \"line\"}, \"encoding\": {\"color\": {\"field\": \"type\", \"type\": \"nominal\"}, \"x\": {\"field\": \"data_size\", \"type\": \"quantitative\"}, \"y\": {\"field\": \"prediction_Accuracy\", \"type\": \"quantitative\"}}, \"$schema\": \"https://vega.github.io/schema/vega-lite/v5.8.0.json\", \"datasets\": {\"data-a564fa99e25959120b102a1ca5d00f5e\": [{\"data_size\": 1.0, \"prediction_Accuracy\": 0.96326, \"type\": \"RF\"}, {\"data_size\": 1.0, \"prediction_Accuracy\": 0.96462, \"type\": \"NMF\"}, {\"data_size\": 0.5, \"prediction_Accuracy\": 0.95238, \"type\": \"RF\"}, {\"data_size\": 0.5, \"prediction_Accuracy\": 0.91836, \"type\": \"NMF\"}, {\"data_size\": 0.2, \"prediction_Accuracy\": 0.91428, \"type\": \"RF\"}, {\"data_size\": 0.2, \"prediction_Accuracy\": 0.89659, \"type\": \"NMF\"}, {\"data_size\": 0.1, \"prediction_Accuracy\": 0.8721, \"type\": \"RF\"}, {\"data_size\": 0.1, \"prediction_Accuracy\": 0.74421, \"type\": \"NMF\"}]}}, {\"mode\": \"vega-lite\"});\n",
       "</script>"
      ],
      "text/plain": [
       "alt.Chart(...)"
      ]
     },
     "execution_count": 595,
     "metadata": {},
     "output_type": "execute_result"
    }
   ],
   "source": [
    "alt.Chart(plotDF).mark_line().encode(x='data_size',y='prediction_Accuracy', color='type')"
   ]
  },
  {
   "cell_type": "markdown",
   "id": "9f7bef0d-ebcb-419d-a7b1-355d6a33bfe3",
   "metadata": {},
   "source": [
    "We can see that the prediction accuracy for both supervised and unsupervised models suffer when the training set size gets small. \n",
    "\n",
    "But we also notice that the unsupervised model suffers more from this problem, its accuracy degredation is worse as sample size gets smaller. \n",
    "\n",
    "As a result, we can say that the supervised model is more data efficient."
   ]
  },
  {
   "cell_type": "code",
   "execution_count": null,
   "id": "770ee22d-eb80-4811-b867-e4b790c9189a",
   "metadata": {},
   "outputs": [],
   "source": []
  }
 ],
 "metadata": {
  "kernelspec": {
   "display_name": "Python 3 (ipykernel)",
   "language": "python",
   "name": "python3"
  },
  "language_info": {
   "codemirror_mode": {
    "name": "ipython",
    "version": 3
   },
   "file_extension": ".py",
   "mimetype": "text/x-python",
   "name": "python",
   "nbconvert_exporter": "python",
   "pygments_lexer": "ipython3",
   "version": "3.11.7"
  }
 },
 "nbformat": 4,
 "nbformat_minor": 5
}
